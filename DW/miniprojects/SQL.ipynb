{
 "cells": [
  {
   "cell_type": "code",
   "execution_count": 2,
   "metadata": {
    "collapsed": true
   },
   "outputs": [],
   "source": [
    "%matplotlib inline\n",
    "import matplotlib\n",
    "import seaborn as sns\n",
    "matplotlib.rcParams['savefig.dpi'] = 144"
   ]
  },
  {
   "cell_type": "code",
   "execution_count": 3,
   "metadata": {
    "collapsed": false
   },
   "outputs": [],
   "source": [
    "import grader"
   ]
  },
  {
   "cell_type": "markdown",
   "metadata": {},
   "source": [
    "# SQL Miniproject\n",
    "\n",
    "## Introduction\n",
    "\n",
    "The city of New York does restaurant inspections and assigns a grade. Inspections data for the last 4 years are available on s3 [here](s3://dataincubator-course/coursedata/nyc_inspection_data.zip).\n",
    "\n",
    "The file `RI_Webextract_BigApps_Latest.xls` contains a description of each of the datafiles.  Take a look and then load the csv formatted `*.txt` files into\n",
    "a database as five tables:\n",
    "1. `actions`\n",
    "2. `cuisines`\n",
    "3. `violations`\n",
    "4. `grades` (from `WebExtract.txt`)\n",
    "5. `boroughs` (from `RI_Webextract_BigApps_Latest.xls`)"
   ]
  },
  {
   "cell_type": "markdown",
   "metadata": {},
   "source": [
    "## SQLite3\n",
    "\n",
    "It is recommended to use sqlite3 for this project.  You can use the sqlite command prompt by running this command in bash\n",
    "```bash\n",
    "sqlite3 cmd \"DROP TABLE IF EXISTS writer;\\\n",
    "CREATE TABLE IF NOT EXISTS writer (first_name, last_name, year);\\\n",
    "INSERT INTO writer VALUES ('William', 'Shakespeare', 1616);\\\n",
    "INSERT INTO writer VALUES ('Francis', 'Fitzgerald', 1896);\\\n",
    "\\\n",
    "SELECT * FROM writer;\\\n",
    "\"\n",
    "```\n",
    "Alternatively, you can run bash commands in a jupyter notebook by prepending the `!` in a code cell (notice that we conveniently get the output displayed"
   ]
  },
  {
   "cell_type": "code",
   "execution_count": 4,
   "metadata": {
    "collapsed": false
   },
   "outputs": [
    {
     "name": "stdout",
     "output_type": "stream",
     "text": [
      "William|Shakespeare|1616\r\n",
      "Francis|Fitzgerald|1896\r\n"
     ]
    }
   ],
   "source": [
    "!sqlite3 cmd \"\"\"\\\n",
    "DROP TABLE IF EXISTS writer;\\\n",
    "CREATE TABLE IF NOT EXISTS writer (first_name, last_name, year);\\\n",
    "INSERT INTO writer VALUES ('William', 'Shakespeare', 1616);\\\n",
    "INSERT INTO writer VALUES ('Francis', 'Fitzgerald', 1896);\\\n",
    "\\\n",
    "SELECT * FROM writer;\\\n",
    "\"\"\""
   ]
  },
  {
   "cell_type": "markdown",
   "metadata": {},
   "source": [
    "Finally, we use the [ipython-sql extension](https://github.com/catherinedevlin/ipython-sql#ipython-sql) by first loading the sql extension and then running our code with the \"magic\" command in the first line\n",
    "```python\n",
    "%%sql sqlite://\n",
    "```\n",
    "Notice that the output table is formatted nicely as a nice HTML table."
   ]
  },
  {
   "cell_type": "code",
   "execution_count": 5,
   "metadata": {
    "collapsed": false
   },
   "outputs": [
    {
     "name": "stderr",
     "output_type": "stream",
     "text": [
      "/opt/conda/lib/python2.7/site-packages/IPython/config.py:13: ShimWarning: The `IPython.config` package has been deprecated since IPython 4.0. You should import from traitlets.config instead.\n",
      "  \"You should import from traitlets.config instead.\", ShimWarning)\n",
      "/opt/conda/lib/python2.7/site-packages/IPython/utils/traitlets.py:5: UserWarning: IPython.utils.traitlets has moved to a top-level traitlets package.\n",
      "  warn(\"IPython.utils.traitlets has moved to a top-level traitlets package.\")\n"
     ]
    }
   ],
   "source": [
    "%load_ext sql"
   ]
  },
  {
   "cell_type": "code",
   "execution_count": 6,
   "metadata": {
    "collapsed": false
   },
   "outputs": [
    {
     "name": "stdout",
     "output_type": "stream",
     "text": [
      "Done.\n",
      "Done.\n",
      "1 rows affected.\n",
      "1 rows affected.\n",
      "Done.\n"
     ]
    },
    {
     "data": {
      "text/html": [
       "<table>\n",
       "    <tr>\n",
       "        <th>first_name</th>\n",
       "        <th>last_name</th>\n",
       "        <th>year</th>\n",
       "    </tr>\n",
       "    <tr>\n",
       "        <td>William</td>\n",
       "        <td>Shakespeare</td>\n",
       "        <td>1616</td>\n",
       "    </tr>\n",
       "    <tr>\n",
       "        <td>Francis</td>\n",
       "        <td>Fitzgerald</td>\n",
       "        <td>1896</td>\n",
       "    </tr>\n",
       "</table>"
      ],
      "text/plain": [
       "[(u'William', u'Shakespeare', 1616), (u'Francis', u'Fitzgerald', 1896)]"
      ]
     },
     "execution_count": 6,
     "metadata": {},
     "output_type": "execute_result"
    }
   ],
   "source": [
    "%%sql sqlite://\n",
    "DROP TABLE IF EXISTS writer;\n",
    "CREATE TABLE IF NOT EXISTS writer (first_name, last_name, year);\n",
    "INSERT INTO writer VALUES ('William', 'Shakespeare', 1616);\n",
    "INSERT INTO writer VALUES ('Francis', 'Fitzgerald', 1896);\n",
    "\n",
    "SELECT * FROM writer;"
   ]
  },
  {
   "cell_type": "markdown",
   "metadata": {
    "collapsed": true
   },
   "source": [
    "## Loading data\n",
    "\n",
    "\n",
    "The Sqlite3 has a convenient [`.import` function](https://sqlite.org/cli.html#csv_import) which can create tables from `.csv` files.\n",
    "\n",
    "```bash\n",
    "sqlite> .import sample.csv.nogit sample\n",
    "sqlite> SELECT * FROM sample;\n",
    "```\n",
    "\n",
    "The files may contain malformatted text.  Unfortunately, this is all too common.  As a stop gap, remember that [`iconv`](https://linux.die.net/man/1/iconv) is a unix utility that can convert files between different text encodings.\n",
    "\n",
    "Alternatively, you can also read csv files using pandas and convert that into SQL via some sql magic."
   ]
  },
  {
   "cell_type": "code",
   "execution_count": 7,
   "metadata": {
    "collapsed": false,
    "scrolled": true
   },
   "outputs": [],
   "source": [
    "!printf \"Name,Age\\nAlice,3\\nBob,10\" > sample.csv.nogit"
   ]
  },
  {
   "cell_type": "code",
   "execution_count": 8,
   "metadata": {
    "collapsed": false
   },
   "outputs": [
    {
     "name": "stdout",
     "output_type": "stream",
     "text": [
      "Done.\n",
      "Done.\n"
     ]
    },
    {
     "data": {
      "text/html": [
       "<table>\n",
       "    <tr>\n",
       "        <th>index</th>\n",
       "        <th>Name</th>\n",
       "        <th>Age</th>\n",
       "    </tr>\n",
       "    <tr>\n",
       "        <td>0</td>\n",
       "        <td>Alice</td>\n",
       "        <td>3</td>\n",
       "    </tr>\n",
       "    <tr>\n",
       "        <td>1</td>\n",
       "        <td>Bob</td>\n",
       "        <td>10</td>\n",
       "    </tr>\n",
       "</table>"
      ],
      "text/plain": [
       "[(0, u'Alice', 3), (1, u'Bob', 10)]"
      ]
     },
     "execution_count": 8,
     "metadata": {},
     "output_type": "execute_result"
    }
   ],
   "source": [
    "import pandas as pd\n",
    "sample = pd.read_csv('sample.csv.nogit')\n",
    "%sql DROP TABLE IF EXISTS sample\n",
    "%sql PERSIST sample\n",
    "%sql SELECT * FROM sample;"
   ]
  },
  {
   "cell_type": "markdown",
   "metadata": {},
   "source": [
    "## Question 1: score_by_zipcode\n",
    "\n",
    "Return a list of tuples of the form:\n",
    "\n",
    "    (zipcode, mean score, number of restaurants)\n",
    "\n",
    "for each of the 92 zipcodes in the city with over 100 restaurants. Use the score from the latest inspection date for each restaurant. Sort the list in ascending order by mean score.\n",
    "\n",
    "**Note:** There is an interesting discussion here about what the mean score *means* in this dataset. Think about what we're actually calculating - does it represent what we're trying to understand about these zipcodes?\n",
    "\n",
    "What if we use the average of a restaurant's inspections instead of the latest?\n",
    "\n",
    "**Checkpoints:**\n",
    "- Total unique restaurants: 25,232;\n",
    "- Total restaurants in valid zipcodes: 20,349"
   ]
  },
  {
   "cell_type": "markdown",
   "metadata": {},
   "source": [
    "## Read the data and convert str to dataframe"
   ]
  },
  {
   "cell_type": "code",
   "execution_count": 205,
   "metadata": {
    "collapsed": false
   },
   "outputs": [],
   "source": [
    "import zipfile\n",
    "import numpy as np\n",
    "zf = zipfile.ZipFile('nyc_inspection_data.zip')\n",
    "data = zf.read('WebExtract.txt')\n",
    "# type(data)\n",
    "import sys\n",
    "if sys.version_info[0] < 3: \n",
    "    from StringIO import StringIO\n",
    "else:\n",
    "    from io import StringIO\n",
    "\n",
    "import pandas as pd\n",
    "\n",
    "TESTDATA=StringIO(data)\n",
    "\n",
    "df = pd.read_csv(TESTDATA, sep=\",\")"
   ]
  },
  {
   "cell_type": "code",
   "execution_count": 142,
   "metadata": {
    "collapsed": false
   },
   "outputs": [
    {
     "data": {
      "text/html": [
       "<div>\n",
       "<table border=\"1\" class=\"dataframe\">\n",
       "  <thead>\n",
       "    <tr style=\"text-align: right;\">\n",
       "      <th></th>\n",
       "      <th>CAMIS</th>\n",
       "      <th>DBA</th>\n",
       "      <th>BORO</th>\n",
       "      <th>BUILDING</th>\n",
       "      <th>STREET</th>\n",
       "      <th>ZIPCODE</th>\n",
       "      <th>PHONE</th>\n",
       "      <th>CUISINECODE</th>\n",
       "      <th>INSPDATE</th>\n",
       "      <th>ACTION</th>\n",
       "      <th>VIOLCODE</th>\n",
       "      <th>SCORE</th>\n",
       "      <th>CURRENTGRADE</th>\n",
       "      <th>GRADEDATE</th>\n",
       "      <th>RECORDDATE</th>\n",
       "    </tr>\n",
       "  </thead>\n",
       "  <tbody>\n",
       "    <tr>\n",
       "      <th>0</th>\n",
       "      <td>30075445</td>\n",
       "      <td>MORRIS PARK BAKE SHOP</td>\n",
       "      <td>2</td>\n",
       "      <td>1007</td>\n",
       "      <td>MORRIS PARK AVE                               ...</td>\n",
       "      <td>10462.0</td>\n",
       "      <td>7188924968</td>\n",
       "      <td>8</td>\n",
       "      <td>2014-03-03 00:00:00</td>\n",
       "      <td>D</td>\n",
       "      <td>10F</td>\n",
       "      <td>2.0</td>\n",
       "      <td>A</td>\n",
       "      <td>2014-03-03 00:00:00</td>\n",
       "      <td>2014-09-04 06:01:28.403000000</td>\n",
       "    </tr>\n",
       "    <tr>\n",
       "      <th>1</th>\n",
       "      <td>30112340</td>\n",
       "      <td>WENDY'S</td>\n",
       "      <td>3</td>\n",
       "      <td>469</td>\n",
       "      <td>FLATBUSH AVENUE</td>\n",
       "      <td>11225.0</td>\n",
       "      <td>7182875005</td>\n",
       "      <td>39</td>\n",
       "      <td>2014-07-01 00:00:00</td>\n",
       "      <td>F</td>\n",
       "      <td>06A</td>\n",
       "      <td>23.0</td>\n",
       "      <td>B</td>\n",
       "      <td>2014-07-01 00:00:00</td>\n",
       "      <td>2014-09-04 06:01:28.403000000</td>\n",
       "    </tr>\n",
       "    <tr>\n",
       "      <th>2</th>\n",
       "      <td>30191841</td>\n",
       "      <td>DJ REYNOLDS PUB AND RESTAURANT</td>\n",
       "      <td>1</td>\n",
       "      <td>351</td>\n",
       "      <td>WEST 57 STREET</td>\n",
       "      <td>10019.0</td>\n",
       "      <td>2122452912</td>\n",
       "      <td>3</td>\n",
       "      <td>2013-07-22 00:00:00</td>\n",
       "      <td>D</td>\n",
       "      <td>10B</td>\n",
       "      <td>11.0</td>\n",
       "      <td>A</td>\n",
       "      <td>2013-07-22 00:00:00</td>\n",
       "      <td>2014-09-04 06:01:28.403000000</td>\n",
       "    </tr>\n",
       "    <tr>\n",
       "      <th>3</th>\n",
       "      <td>40356483</td>\n",
       "      <td>WILKEN'S FINE FOOD</td>\n",
       "      <td>3</td>\n",
       "      <td>7114</td>\n",
       "      <td>AVENUE U</td>\n",
       "      <td>11234.0</td>\n",
       "      <td>7184443838</td>\n",
       "      <td>27</td>\n",
       "      <td>2014-05-29 00:00:00</td>\n",
       "      <td>D</td>\n",
       "      <td>08C</td>\n",
       "      <td>10.0</td>\n",
       "      <td>A</td>\n",
       "      <td>2014-05-29 00:00:00</td>\n",
       "      <td>2014-09-04 06:01:28.403000000</td>\n",
       "    </tr>\n",
       "    <tr>\n",
       "      <th>6</th>\n",
       "      <td>40356018</td>\n",
       "      <td>RIVIERA CATERER</td>\n",
       "      <td>3</td>\n",
       "      <td>2780</td>\n",
       "      <td>STILLWELL AVENUE</td>\n",
       "      <td>11224.0</td>\n",
       "      <td>7183723031</td>\n",
       "      <td>3</td>\n",
       "      <td>2014-06-10 00:00:00</td>\n",
       "      <td>D</td>\n",
       "      <td>10F</td>\n",
       "      <td>5.0</td>\n",
       "      <td>A</td>\n",
       "      <td>2014-06-10 00:00:00</td>\n",
       "      <td>2014-09-04 06:01:28.403000000</td>\n",
       "    </tr>\n",
       "  </tbody>\n",
       "</table>\n",
       "</div>"
      ],
      "text/plain": [
       "      CAMIS                             DBA  BORO    BUILDING  \\\n",
       "0  30075445           MORRIS PARK BAKE SHOP     2  1007         \n",
       "1  30112340                         WENDY'S     3         469   \n",
       "2  30191841  DJ REYNOLDS PUB AND RESTAURANT     1         351   \n",
       "3  40356483              WILKEN'S FINE FOOD     3  7114         \n",
       "6  40356018                 RIVIERA CATERER     3        2780   \n",
       "\n",
       "                                              STREET  ZIPCODE       PHONE  \\\n",
       "0  MORRIS PARK AVE                               ...  10462.0  7188924968   \n",
       "1                                    FLATBUSH AVENUE  11225.0  7182875005   \n",
       "2                                     WEST 57 STREET  10019.0  2122452912   \n",
       "3                   AVENUE U                          11234.0  7184443838   \n",
       "6                                   STILLWELL AVENUE  11224.0  7183723031   \n",
       "\n",
       "   CUISINECODE             INSPDATE ACTION VIOLCODE  SCORE CURRENTGRADE  \\\n",
       "0            8  2014-03-03 00:00:00      D      10F    2.0            A   \n",
       "1           39  2014-07-01 00:00:00      F      06A   23.0            B   \n",
       "2            3  2013-07-22 00:00:00      D      10B   11.0            A   \n",
       "3           27  2014-05-29 00:00:00      D      08C   10.0            A   \n",
       "6            3  2014-06-10 00:00:00      D      10F    5.0            A   \n",
       "\n",
       "             GRADEDATE                     RECORDDATE  \n",
       "0  2014-03-03 00:00:00  2014-09-04 06:01:28.403000000  \n",
       "1  2014-07-01 00:00:00  2014-09-04 06:01:28.403000000  \n",
       "2  2013-07-22 00:00:00  2014-09-04 06:01:28.403000000  \n",
       "3  2014-05-29 00:00:00  2014-09-04 06:01:28.403000000  \n",
       "6  2014-06-10 00:00:00  2014-09-04 06:01:28.403000000  "
      ]
     },
     "execution_count": 142,
     "metadata": {},
     "output_type": "execute_result"
    }
   ],
   "source": [
    "# len(set(df['CAMIS']))\n",
    "df.head()\n",
    "# set(df['INSPDATE'])\n",
    "# len(df['ZIPCODE'].dropna())"
   ]
  },
  {
   "cell_type": "code",
   "execution_count": 167,
   "metadata": {
    "collapsed": false
   },
   "outputs": [
    {
     "name": "stderr",
     "output_type": "stream",
     "text": [
      "/opt/conda/lib/python2.7/site-packages/ipykernel/__main__.py:9: UserWarning: Boolean Series key will be reindexed to match DataFrame index.\n"
     ]
    }
   ],
   "source": [
    "# Get the unique CAMIS\n",
    "df_new = df.drop_duplicates(['CAMIS'])\n",
    "\n",
    "# Groupby\n",
    "count_table = df_new.groupby(['ZIPCODE']).count()\n",
    "major_zipcode = count_table[count_table['CAMIS']>100].index\n",
    "\n",
    "# Get average score\n",
    "major_table = df_new[df['ZIPCODE'].isin(major_zipcode)]\n",
    "avg_score = major_table.groupby(['ZIPCODE']).mean()\n",
    "l2 = list(avg_score['SCORE'])\n",
    "\n",
    "# Get resaurant count\n",
    "major_count = major_table.groupby(['ZIPCODE']).count()\n",
    "l3 = list(major_count['CAMIS'])\n",
    "\n",
    "# Joint table\n",
    "l1 = list(avg_score.index)\n",
    "l1_strings = [\"%.0f\" % number for number in l1]\n",
    "score_zipcode = zip(l1_strings,l2,l3)\n",
    "# type(score_zipcode)\n",
    "\n",
    "# Sort the order by mean score\n",
    "score_zipcode = sorted(score_zipcode,key=lambda x:x[1])\n"
   ]
  },
  {
   "cell_type": "code",
   "execution_count": 168,
   "metadata": {
    "collapsed": false
   },
   "outputs": [
    {
     "data": {
      "text/plain": [
       "[('10001', 8.7858585858585858, 509),\n",
       " ('10451', 8.9415584415584419, 157),\n",
       " ('11430', 9.4000000000000004, 148),\n",
       " ('11369', 9.6288659793814428, 104),\n",
       " ('10461', 9.724832214765101, 154),\n",
       " ('10462', 9.8137931034482762, 148),\n",
       " ('10452', 9.8586956521739122, 101),\n",
       " ('11237', 9.8914285714285715, 179),\n",
       " ('11217', 9.9715447154471537, 254),\n",
       " ('11236', 10.066037735849056, 111),\n",
       " ('11201', 10.066066066066066, 345),\n",
       " ('11231', 10.066225165562914, 159),\n",
       " ('10023', 10.067708333333334, 197),\n",
       " ('11234', 10.082758620689654, 152),\n",
       " ('10301', 10.13265306122449, 103),\n",
       " ('10468', 10.137254901960784, 107),\n",
       " ('10472', 10.140186915887851, 108),\n",
       " ('10463', 10.215999999999999, 128),\n",
       " ('11106', 10.279220779220779, 156),\n",
       " ('10036', 10.300000000000001, 593),\n",
       " ('10458', 10.303191489361701, 196),\n",
       " ('10019', 10.320987654320987, 660),\n",
       " ('11209', 10.33201581027668, 264),\n",
       " ('11215', 10.401114206128133, 372),\n",
       " ('11368', 10.417857142857143, 290),\n",
       " ('10022', 10.450317124735729, 488),\n",
       " ('10306', 10.495238095238095, 111),\n",
       " ('11361', 10.526785714285714, 119),\n",
       " ('11238', 10.572052401746724, 246),\n",
       " ('11206', 10.581560283687944, 154),\n",
       " ('10004', 10.590551181102363, 142),\n",
       " ('11229', 10.615942028985508, 142),\n",
       " ('11105', 10.635593220338983, 123),\n",
       " ('10467', 10.65, 169),\n",
       " ('11103', 10.676616915422885, 209),\n",
       " ('11222', 10.691891891891892, 193),\n",
       " ('10038', 10.703703703703704, 168),\n",
       " ('11218', 10.725352112676056, 147),\n",
       " ('10024', 10.726804123711339, 202),\n",
       " ('10065', 10.742514970059879, 173),\n",
       " ('11432', 10.745945945945946, 188),\n",
       " ('11226', 10.808080808080808, 201),\n",
       " ('10029', 10.816753926701571, 197),\n",
       " ('11211', 10.833333333333334, 365),\n",
       " ('11435', 10.873786407766991, 106),\n",
       " ('10027', 10.936708860759493, 163),\n",
       " ('11232', 10.971153846153847, 106),\n",
       " ('10007', 10.976923076923077, 139),\n",
       " ('10017', 10.983516483516484, 376),\n",
       " ('10010', 11.01673640167364, 246),\n",
       " ('10014', 11.020050125313283, 408),\n",
       " ('11101', 11.026086956521739, 250),\n",
       " ('10011', 11.034013605442176, 463),\n",
       " ('11385', 11.037037037037036, 252),\n",
       " ('11223', 11.107344632768362, 185),\n",
       " ('10018', 11.147692307692308, 333),\n",
       " ('11375', 11.157894736842104, 196),\n",
       " ('11208', 11.159292035398231, 116),\n",
       " ('10012', 11.17766497461929, 402),\n",
       " ('11249', 11.178082191780822, 155),\n",
       " ('11358', 11.204379562043796, 143),\n",
       " ('10009', 11.260726072607261, 312),\n",
       " ('10032', 11.269565217391305, 117),\n",
       " ('11225', 11.270833333333334, 101),\n",
       " ('11204', 11.294117647058824, 123),\n",
       " ('10016', 11.298507462686567, 414),\n",
       " ('10028', 11.341232227488153, 214),\n",
       " ('10128', 11.363057324840764, 159),\n",
       " ('11205', 11.391608391608392, 145),\n",
       " ('11221', 11.4, 111),\n",
       " ('11203', 11.425373134328359, 141),\n",
       " ('10002', 11.428256070640177, 474),\n",
       " ('11230', 11.445544554455445, 102),\n",
       " ('11216', 11.459119496855346, 166),\n",
       " ('11373', 11.461187214611872, 225),\n",
       " ('10003', 11.49390243902439, 675),\n",
       " ('10013', 11.52915766738661, 480),\n",
       " ('10025', 11.532751091703057, 237),\n",
       " ('11207', 11.5859375, 136),\n",
       " ('10034', 11.6, 106),\n",
       " ('10021', 11.617449664429531, 152),\n",
       " ('11219', 11.811881188118813, 105),\n",
       " ('11235', 11.86046511627907, 176),\n",
       " ('11214', 11.914285714285715, 180),\n",
       " ('10314', 11.94475138121547, 185),\n",
       " ('11372', 11.990291262135923, 319),\n",
       " ('10033', 12.0, 120),\n",
       " ('11377', 12.014634146341463, 214),\n",
       " ('11220', 12.766447368421053, 317),\n",
       " ('11354', 13.0, 361),\n",
       " ('11104', 13.054545454545455, 114),\n",
       " ('11355', 13.556149732620321, 197)]"
      ]
     },
     "execution_count": 168,
     "metadata": {},
     "output_type": "execute_result"
    }
   ],
   "source": [
    "score_zipcode"
   ]
  },
  {
   "cell_type": "code",
   "execution_count": 169,
   "metadata": {
    "collapsed": false,
    "scrolled": true
   },
   "outputs": [
    {
     "name": "stdout",
     "output_type": "stream",
     "text": [
      "==================\n",
      "Your score:  0.869565217391\n",
      "==================\n"
     ]
    }
   ],
   "source": [
    "def score_by_zipcode():\n",
    "    return score_zipcode\n",
    "\n",
    "grader.score('sql__score_by_zipcode', score_by_zipcode)"
   ]
  },
  {
   "cell_type": "markdown",
   "metadata": {},
   "source": [
    "## Question 2: score_by_map\n",
    "\n",
    "The above are not terribly enlightening.  Use [CartoDB](http://cartodb.com/) to produce a map of average scores by zip code.  You can sign up for a free trial.\n",
    "\n",
    "You will have to use their wizard to plot the data by [zipcode](https://carto.com/learn/guides/analysis/georeference). You will need to specify \"USA\" in the countryfield.  Then use the \"share\" button to return a link of the form [https://x.cartodb.com/](https://x.cartodb.com/).\n",
    "\n",
    "**For fun:** How do JFK, Brighton Beach, Liberty Island (home of the Statue of Liberty), Financial District, Chinatown, and Coney Island fare?"
   ]
  },
  {
   "cell_type": "code",
   "execution_count": 92,
   "metadata": {
    "collapsed": false
   },
   "outputs": [],
   "source": [
    "x = pd.DataFrame(score_zipcode, columns=['ZIPCODE', 'Avg_Score', 'Count'])\n",
    "x.to_csv('test.csv')"
   ]
  },
  {
   "cell_type": "code",
   "execution_count": 93,
   "metadata": {
    "collapsed": false
   },
   "outputs": [
    {
     "name": "stdout",
     "output_type": "stream",
     "text": [
      "==================\n",
      "Your score:  1.0\n",
      "==================\n"
     ]
    }
   ],
   "source": [
    "def score_by_map():\n",
    "    # must be url of the form https://x.cartodb.com/...\n",
    "    return \"https://fzn0728.carto.com/builder/c1a67e0a-173c-11e7-8e35-0e3ebc282e83/embed\"\n",
    "\n",
    "grader.score('sql__score_by_map', score_by_map)"
   ]
  },
  {
   "cell_type": "markdown",
   "metadata": {},
   "source": [
    "## Question 3: score_by_borough\n",
    "Return a list of tuples of the form:\n",
    "\n",
    "    (borough, mean score, number of restaurants)\n",
    "\n",
    "for each of the city's five boroughs. Sort the list in ascending order by grade.\n",
    "\n",
    "**Hint:** You will have to perform a join with the `boroughs` table. The borough names should be reported in ALL CAPS.\n",
    "\n",
    "**Checkpoint:**\n",
    "- Total restaurants in valid boroughs: 25,220"
   ]
  },
  {
   "cell_type": "code",
   "execution_count": 157,
   "metadata": {
    "collapsed": false
   },
   "outputs": [
    {
     "data": {
      "text/plain": [
       "[('MANHATTAN', 10.863070539419088, 10201),\n",
       " ('THE BRONX', 10.258347978910368, 2365),\n",
       " ('BROOKLYN', 10.925818057221175, 6072),\n",
       " ('QUEENS', 11.257068933653668, 5625),\n",
       " ('STATEN ISLAND', 11.447252747252747, 957)]"
      ]
     },
     "execution_count": 157,
     "metadata": {},
     "output_type": "execute_result"
    }
   ],
   "source": [
    "# Groupby\n",
    "mean_score = df[['SCORE','BORO']].groupby(['BORO']).mean()\n",
    "number_restaurant = df[['CAMIS','BORO']].groupby(['BORO']).count()\n",
    "borough = list(('x','MANHATTAN','THE BRONX','BROOKLYN','QUEENS','STATEN ISLAND'))\n",
    "output = zip(borough,list(mean_score['SCORE']),list(number_restaurant['CAMIS']))\n",
    "output[1:6]\n"
   ]
  },
  {
   "cell_type": "code",
   "execution_count": 158,
   "metadata": {
    "collapsed": false
   },
   "outputs": [
    {
     "name": "stdout",
     "output_type": "stream",
     "text": [
      "==================\n",
      "Your score:  0.9\n",
      "==================\n"
     ]
    }
   ],
   "source": [
    "def score_by_borough():\n",
    "    return output[1:6]\n",
    "\n",
    "grader.score('sql__score_by_borough', score_by_borough)"
   ]
  },
  {
   "cell_type": "markdown",
   "metadata": {},
   "source": [
    "## Question 4: score_by_cuisine\n",
    "\n",
    "Return a list of the 75 tuples of the form\n",
    "\n",
    "    (cuisine, mean score, number of reports)\n",
    "\n",
    "for each of the 75 cuisine types with at least 100 violation reports. Sort the list in ascending order by score. Are the least sanitary and most sanitary\n",
    "cuisine types surprising?\n",
    "\n",
    "**Note:** It's interesting to think again about what this analysis is trying to say and how it differs from the analysis by zipcode. How should this\n",
    "affect the calculation in your opinion?\n",
    "\n",
    "**Checkpoint:**\n",
    "- Total entries from valid cuisines: 531,529"
   ]
  },
  {
   "cell_type": "code",
   "execution_count": 207,
   "metadata": {
    "collapsed": false
   },
   "outputs": [
    {
     "data": {
      "text/html": [
       "<div>\n",
       "<table border=\"1\" class=\"dataframe\">\n",
       "  <thead>\n",
       "    <tr style=\"text-align: right;\">\n",
       "      <th></th>\n",
       "      <th>CUISINECODE</th>\n",
       "      <th>CODEDESC</th>\n",
       "    </tr>\n",
       "  </thead>\n",
       "  <tbody>\n",
       "    <tr>\n",
       "      <th>0</th>\n",
       "      <td>2</td>\n",
       "      <td>African</td>\n",
       "    </tr>\n",
       "    <tr>\n",
       "      <th>1</th>\n",
       "      <td>3</td>\n",
       "      <td>American</td>\n",
       "    </tr>\n",
       "    <tr>\n",
       "      <th>2</th>\n",
       "      <td>5</td>\n",
       "      <td>Asian</td>\n",
       "    </tr>\n",
       "    <tr>\n",
       "      <th>3</th>\n",
       "      <td>15</td>\n",
       "      <td>Cajun</td>\n",
       "    </tr>\n",
       "    <tr>\n",
       "      <th>4</th>\n",
       "      <td>17</td>\n",
       "      <td>Caribbean</td>\n",
       "    </tr>\n",
       "  </tbody>\n",
       "</table>\n",
       "</div>"
      ],
      "text/plain": [
       "   CUISINECODE   CODEDESC\n",
       "0            2    African\n",
       "1            3  American \n",
       "2            5      Asian\n",
       "3           15      Cajun\n",
       "4           17  Caribbean"
      ]
     },
     "execution_count": 207,
     "metadata": {},
     "output_type": "execute_result"
    }
   ],
   "source": [
    "# Read Cuisine data\n",
    "cuisine_data = zf.read('Cuisine.txt')\n",
    "import sys\n",
    "if sys.version_info[0] < 3: \n",
    "    from StringIO import StringIO\n",
    "else:\n",
    "    from io import StringIO\n",
    "\n",
    "import pandas as pd\n",
    "\n",
    "CUISINEDATA=StringIO(cuisine_data)\n",
    "\n",
    "CUISINE = pd.read_csv(CUISINEDATA, sep=\",\")\n",
    "CUISINE.head()"
   ]
  },
  {
   "cell_type": "code",
   "execution_count": 210,
   "metadata": {
    "collapsed": false,
    "scrolled": true
   },
   "outputs": [
    {
     "data": {
      "text/plain": [
       "[('Chinese/Cuban', 14.51923076923077, 145),\n",
       " ('Seafood', 14.961199294532628, 576),\n",
       " ('Bakery', 15.346153846153847, 297),\n",
       " ('Afghan', 15.536336731338375, 6303),\n",
       " ('Chicken', 15.5413870246085, 433),\n",
       " ('Chinese/Japanese', 15.943380040034315, 3670),\n",
       " ('Portuguese', 16.438442211055275, 6510),\n",
       " ('English', 16.8989898989899, 2638),\n",
       " ('Italian', 17.125518307681496, 14860),\n",
       " ('Salads', 17.19119623655914, 3057),\n",
       " ('Japanese', 17.214285714285715, 179),\n",
       " ('Caribbean', 17.233449477351915, 632),\n",
       " ('Not Listed/Not Applicable', 17.392756083757781, 1881),\n",
       " ('Caf\\xe9/Coffee/Tea', 17.512352309344791, 7663),\n",
       " ('Indian', 17.851214574898787, 1021),\n",
       " ('Australian', 18.541935483870969, 348),\n",
       " ('Bagels/Pretzels', 18.644654088050313, 334),\n",
       " ('Soul Food', 19.211340206185568, 203),\n",
       " ('Korean', 19.317600227466592, 7442),\n",
       " ('Sandwiches', 20.083333333333332, 149),\n",
       " ('Polish', 20.160220994475139, 552),\n",
       " ('Hotdogs/Pretzels', 20.265353805073431, 3313),\n",
       " ('Bottled beverages, including water, sodas, juices, etc.',\n",
       "  20.570351758793969,\n",
       "  855),\n",
       " ('Brazilian', 20.713699753896638, 2555),\n",
       " ('Southwestern', 20.739495798319329, 127),\n",
       " ('Czech', 20.830139578897562, 4422),\n",
       " ('Greek', 20.859354838709677, 799),\n",
       " ('Vegetarian', 20.871646501841138, 1958),\n",
       " ('Tapas', 20.915805022156572, 2836),\n",
       " ('Juice, Smoothies, Fruit Salads', 21.005050505050505, 410),\n",
       " ('Ice Cream, Gelato, Yogurt, Ices', 21.041825095057035, 284),\n",
       " ('Egyptian', 21.06962921030286, 3657),\n",
       " ('Peruvian', 21.252186588921283, 722),\n",
       " ('Cajun', 21.354490696464826, 125458),\n",
       " ('Pakistani', 21.370334227860454, 25687),\n",
       " ('Hamburgers', 21.586496815286623, 4169),\n",
       " ('Spanish', 21.696084161309177, 1797),\n",
       " ('Bangladeshi', 21.809963099630995, 567),\n",
       " ('Middle Eastern', 21.908607863974495, 983),\n",
       " ('Creole', 21.966666666666665, 213),\n",
       " ('Barbecue', 21.998288159771754, 7409),\n",
       " ('American ', 22.079710144927535, 300),\n",
       " ('Steak', 22.09375, 614),\n",
       " ('Delicatessen', 22.179524063951337, 25637),\n",
       " ('Pancakes/Waffles', 22.192953184807145, 10645),\n",
       " ('Eastern European', 22.257510729613735, 248),\n",
       " ('African', 22.262711864406779, 131),\n",
       " ('Turkish', 22.670074982958418, 1533),\n",
       " ('Donuts', 22.67563486616335, 7532),\n",
       " ('Indonesian', 22.822503961965136, 670),\n",
       " ('Sandwiches/Salads/Mixed Buffet', 22.887154471544715, 3245),\n",
       " ('Armenian', 23.06451612903226, 1507),\n",
       " ('French', 23.06542899503642, 16100),\n",
       " ('Jewish/Kosher', 23.092596184933722, 16100),\n",
       " ('Hotdogs', 23.266426282051281, 18419),\n",
       " ('Soups & Sandwiches', 23.448595887671015, 13090),\n",
       " ('Scandinavian', 23.487309644670052, 1025),\n",
       " ('Pizza/Italian', 23.52547770700637, 2023),\n",
       " ('Tex-Mex', 23.557530120481928, 6843),\n",
       " ('Vietnamese/Cambodian/Malaysia', 23.808591318127796, 18374),\n",
       " ('Other', 24.449999999999999, 1829),\n",
       " ('Filipino', 24.499556272690601, 26063),\n",
       " ('Thai', 24.519510080208107, 9590),\n",
       " ('Ethiopian', 24.533453615997594, 6957),\n",
       " ('Moroccan', 24.865490628445425, 1886),\n",
       " ('Latin (Cuban, Dominican, Puerto Rican, South & Central American)',\n",
       "  24.917614307406783,\n",
       "  60880),\n",
       " ('Continental', 25.093488725614392, 8170),\n",
       " ('Irish', 25.592121982210926, 811),\n",
       " ('Mexican', 26.032232704402517, 1303),\n",
       " ('Chinese', 26.057228505245945, 7654),\n",
       " ('German', 26.586649550706035, 803),\n",
       " ('Asian', 26.658836689038033, 1843),\n",
       " ('Pizza', 26.685714285714287, 269),\n",
       " ('Mediterranean', 27.424528301886792, 438),\n",
       " ('Russian', 30.145454545454545, 679)]"
      ]
     },
     "execution_count": 210,
     "metadata": {},
     "output_type": "execute_result"
    }
   ],
   "source": [
    "# mean_score = df[['SCORE','CUISINECODE']].groupby(['CUISINECODE']).mean()\n",
    "# df = df.drop_duplicates(['CAMIS'])\n",
    "count_table_cuisine = df.groupby(['CUISINECODE']).count()\n",
    "cuisine_viol = count_table_cuisine[count_table_cuisine['VIOLCODE']>=100].index\n",
    "cuisine_table = df[df['CUISINECODE'].isin(cuisine_viol)]\n",
    "\n",
    "\n",
    "number_restaurant_cuisine = cuisine_table[['VIOLCODE','CUISINECODE']].groupby(['CUISINECODE']).count()\n",
    "mean_score_cuisine = cuisine_table[['SCORE','CUISINECODE']].groupby(['CUISINECODE']).mean()\n",
    "\n",
    "cuisine_name = CUISINE[CUISINE['CUISINECODE'].isin(mean_score_cuisine.index)]['CODEDESC']\n",
    "\n",
    "output_cuisine = zip(list(cuisine_name),list(mean_score_cuisine['SCORE']),list(number_restaurant_cuisine['VIOLCODE']))\n",
    "\n",
    "# Sort\n",
    "output_cuisine = sorted(output_cuisine,key=lambda x:x[1])\n",
    "\n",
    "output_cuisine\n",
    "# output[1:6]\n",
    "# mean_score_cuisine\n",
    "\n",
    "# rpt[rpt['STK_ID'].isin(stk_list)]\n",
    "# Get average score\n",
    "# major_table = df_new[df['ZIPCODE'].isin(major_zipcode)]_"
   ]
  },
  {
   "cell_type": "code",
   "execution_count": 209,
   "metadata": {
    "collapsed": false
   },
   "outputs": [
    {
     "name": "stdout",
     "output_type": "stream",
     "text": [
      "==================\n",
      "Your score:  0.0666666666667\n",
      "==================\n"
     ]
    }
   ],
   "source": [
    "def score_by_cuisine():\n",
    "    return output_cuisine\n",
    "\n",
    "grader.score('sql__score_by_cuisine', score_by_cuisine)"
   ]
  },
  {
   "cell_type": "markdown",
   "metadata": {},
   "source": [
    "## Question 5: violation_by_cuisine\n",
    "Which cuisines tend to have a disproportionate number of what which violations? Answering this question isn't easy becuase you have to think carefully about normalizations.\n",
    "\n",
    "1. More popular cuisine categories will tend to have more violations just becuase they represent more restaurants.\n",
    "2. Similarly, some violations are more common.  For example, knowing that \"Equipment not easily movable or sealed to floor\" is a common violation for Chinese restuarants is not particularly helpful when it is a common violation for all restaurants.\n",
    "\n",
    "The right quantity is to look at is the conditional probability of a specific type of violation given a specific cuisine type and divide it by the unconditional probability of the violation for the entire population. Taking this ratio gives the right answer.  Return the 20 highest ratios of the form:\n",
    "\n",
    "    ((cuisine, violation), ratio, count)\n",
    "\n",
    "**Hint:**\n",
    "1. You might want to check out this [Stackoverflow post](http://stackoverflow.com/questions/972877/calculate-frequency-using-sql).\n",
    "2. The definition of a violation changes with time.  For example, 10A can mean two different things \"Toilet facility not maintained ...\" or \"Vermin or other live animal present ...\" when things were prior to 2003. To deal with this, you should limit your analysis to violation codes with end date after Jan 1, 2014. (This end date refers to the validity time ranges in Violation.txt).\n",
    "3. The ratios don't mean much when the number of violations of a given type and for a specific category are not large (why not?).  Be sure to filter these out.  We chose 100 as our cutoff.\n",
    "\n",
    "**Checkpoint:**\n",
    "- Top 20 ratios mean: 2.37009216349859"
   ]
  },
  {
   "cell_type": "code",
   "execution_count": null,
   "metadata": {
    "collapsed": false
   },
   "outputs": [],
   "source": [
    "def violation_by_cuisine():\n",
    "    return [((\"Café/Coffee/Tea\",\n",
    "              \"Toilet facility not maintained and provided with toilet paper; \"\n",
    "              \"waste receptacle and self-closing door.\"),\n",
    "             1.87684775827172, 315)] * 20\n",
    "\n",
    "grader.score('sql__violation_by_cuisine', violation_by_cuisine)"
   ]
  },
  {
   "cell_type": "markdown",
   "metadata": {},
   "source": [
    "*Copyright &copy; 2016 The Data Incubator.  All rights reserved.*"
   ]
  }
 ],
 "metadata": {
  "kernelspec": {
   "display_name": "Python 2",
   "language": "python",
   "name": "python2"
  },
  "language_info": {
   "codemirror_mode": {
    "name": "ipython",
    "version": 2
   },
   "file_extension": ".py",
   "mimetype": "text/x-python",
   "name": "python",
   "nbconvert_exporter": "python",
   "pygments_lexer": "ipython2",
   "version": "2.7.13"
  }
 },
 "nbformat": 4,
 "nbformat_minor": 0
}
