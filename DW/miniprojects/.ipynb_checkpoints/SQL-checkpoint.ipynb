{
 "cells": [
  {
   "cell_type": "code",
   "execution_count": 2,
   "metadata": {
    "collapsed": true
   },
   "outputs": [],
   "source": [
    "%matplotlib inline\n",
    "import matplotlib\n",
    "import seaborn as sns\n",
    "matplotlib.rcParams['savefig.dpi'] = 144"
   ]
  },
  {
   "cell_type": "code",
   "execution_count": 3,
   "metadata": {
    "collapsed": false
   },
   "outputs": [],
   "source": [
    "import grader"
   ]
  },
  {
   "cell_type": "markdown",
   "metadata": {},
   "source": [
    "# SQL Miniproject\n",
    "\n",
    "## Introduction\n",
    "\n",
    "The city of New York does restaurant inspections and assigns a grade. Inspections data for the last 4 years are available on s3 [here](s3://dataincubator-course/coursedata/nyc_inspection_data.zip).\n",
    "\n",
    "The file `RI_Webextract_BigApps_Latest.xls` contains a description of each of the datafiles.  Take a look and then load the csv formatted `*.txt` files into\n",
    "a database as five tables:\n",
    "1. `actions`\n",
    "2. `cuisines`\n",
    "3. `violations`\n",
    "4. `grades` (from `WebExtract.txt`)\n",
    "5. `boroughs` (from `RI_Webextract_BigApps_Latest.xls`)"
   ]
  },
  {
   "cell_type": "markdown",
   "metadata": {},
   "source": [
    "## SQLite3\n",
    "\n",
    "It is recommended to use sqlite3 for this project.  You can use the sqlite command prompt by running this command in bash\n",
    "```bash\n",
    "sqlite3 cmd \"DROP TABLE IF EXISTS writer;\\\n",
    "CREATE TABLE IF NOT EXISTS writer (first_name, last_name, year);\\\n",
    "INSERT INTO writer VALUES ('William', 'Shakespeare', 1616);\\\n",
    "INSERT INTO writer VALUES ('Francis', 'Fitzgerald', 1896);\\\n",
    "\\\n",
    "SELECT * FROM writer;\\\n",
    "\"\n",
    "```\n",
    "Alternatively, you can run bash commands in a jupyter notebook by prepending the `!` in a code cell (notice that we conveniently get the output displayed"
   ]
  },
  {
   "cell_type": "code",
   "execution_count": 4,
   "metadata": {
    "collapsed": false
   },
   "outputs": [
    {
     "name": "stdout",
     "output_type": "stream",
     "text": [
      "William|Shakespeare|1616\r\n",
      "Francis|Fitzgerald|1896\r\n"
     ]
    }
   ],
   "source": [
    "!sqlite3 cmd \"\"\"\\\n",
    "DROP TABLE IF EXISTS writer;\\\n",
    "CREATE TABLE IF NOT EXISTS writer (first_name, last_name, year);\\\n",
    "INSERT INTO writer VALUES ('William', 'Shakespeare', 1616);\\\n",
    "INSERT INTO writer VALUES ('Francis', 'Fitzgerald', 1896);\\\n",
    "\\\n",
    "SELECT * FROM writer;\\\n",
    "\"\"\""
   ]
  },
  {
   "cell_type": "markdown",
   "metadata": {},
   "source": [
    "Finally, we use the [ipython-sql extension](https://github.com/catherinedevlin/ipython-sql#ipython-sql) by first loading the sql extension and then running our code with the \"magic\" command in the first line\n",
    "```python\n",
    "%%sql sqlite://\n",
    "```\n",
    "Notice that the output table is formatted nicely as a nice HTML table."
   ]
  },
  {
   "cell_type": "code",
   "execution_count": 5,
   "metadata": {
    "collapsed": false
   },
   "outputs": [
    {
     "name": "stderr",
     "output_type": "stream",
     "text": [
      "/opt/conda/lib/python2.7/site-packages/IPython/config.py:13: ShimWarning: The `IPython.config` package has been deprecated since IPython 4.0. You should import from traitlets.config instead.\n",
      "  \"You should import from traitlets.config instead.\", ShimWarning)\n",
      "/opt/conda/lib/python2.7/site-packages/IPython/utils/traitlets.py:5: UserWarning: IPython.utils.traitlets has moved to a top-level traitlets package.\n",
      "  warn(\"IPython.utils.traitlets has moved to a top-level traitlets package.\")\n"
     ]
    }
   ],
   "source": [
    "%load_ext sql"
   ]
  },
  {
   "cell_type": "code",
   "execution_count": 6,
   "metadata": {
    "collapsed": false
   },
   "outputs": [
    {
     "name": "stdout",
     "output_type": "stream",
     "text": [
      "Done.\n",
      "Done.\n",
      "1 rows affected.\n",
      "1 rows affected.\n",
      "Done.\n"
     ]
    },
    {
     "data": {
      "text/html": [
       "<table>\n",
       "    <tr>\n",
       "        <th>first_name</th>\n",
       "        <th>last_name</th>\n",
       "        <th>year</th>\n",
       "    </tr>\n",
       "    <tr>\n",
       "        <td>William</td>\n",
       "        <td>Shakespeare</td>\n",
       "        <td>1616</td>\n",
       "    </tr>\n",
       "    <tr>\n",
       "        <td>Francis</td>\n",
       "        <td>Fitzgerald</td>\n",
       "        <td>1896</td>\n",
       "    </tr>\n",
       "</table>"
      ],
      "text/plain": [
       "[(u'William', u'Shakespeare', 1616), (u'Francis', u'Fitzgerald', 1896)]"
      ]
     },
     "execution_count": 6,
     "metadata": {},
     "output_type": "execute_result"
    }
   ],
   "source": [
    "%%sql sqlite://\n",
    "DROP TABLE IF EXISTS writer;\n",
    "CREATE TABLE IF NOT EXISTS writer (first_name, last_name, year);\n",
    "INSERT INTO writer VALUES ('William', 'Shakespeare', 1616);\n",
    "INSERT INTO writer VALUES ('Francis', 'Fitzgerald', 1896);\n",
    "\n",
    "SELECT * FROM writer;"
   ]
  },
  {
   "cell_type": "markdown",
   "metadata": {
    "collapsed": true
   },
   "source": [
    "## Loading data\n",
    "\n",
    "\n",
    "The Sqlite3 has a convenient [`.import` function](https://sqlite.org/cli.html#csv_import) which can create tables from `.csv` files.\n",
    "\n",
    "```bash\n",
    "sqlite> .import sample.csv.nogit sample\n",
    "sqlite> SELECT * FROM sample;\n",
    "```\n",
    "\n",
    "The files may contain malformatted text.  Unfortunately, this is all too common.  As a stop gap, remember that [`iconv`](https://linux.die.net/man/1/iconv) is a unix utility that can convert files between different text encodings.\n",
    "\n",
    "Alternatively, you can also read csv files using pandas and convert that into SQL via some sql magic."
   ]
  },
  {
   "cell_type": "code",
   "execution_count": 7,
   "metadata": {
    "collapsed": false,
    "scrolled": true
   },
   "outputs": [],
   "source": [
    "!printf \"Name,Age\\nAlice,3\\nBob,10\" > sample.csv.nogit"
   ]
  },
  {
   "cell_type": "code",
   "execution_count": 8,
   "metadata": {
    "collapsed": false
   },
   "outputs": [
    {
     "name": "stdout",
     "output_type": "stream",
     "text": [
      "Done.\n",
      "Done.\n"
     ]
    },
    {
     "data": {
      "text/html": [
       "<table>\n",
       "    <tr>\n",
       "        <th>index</th>\n",
       "        <th>Name</th>\n",
       "        <th>Age</th>\n",
       "    </tr>\n",
       "    <tr>\n",
       "        <td>0</td>\n",
       "        <td>Alice</td>\n",
       "        <td>3</td>\n",
       "    </tr>\n",
       "    <tr>\n",
       "        <td>1</td>\n",
       "        <td>Bob</td>\n",
       "        <td>10</td>\n",
       "    </tr>\n",
       "</table>"
      ],
      "text/plain": [
       "[(0, u'Alice', 3), (1, u'Bob', 10)]"
      ]
     },
     "execution_count": 8,
     "metadata": {},
     "output_type": "execute_result"
    }
   ],
   "source": [
    "import pandas as pd\n",
    "sample = pd.read_csv('sample.csv.nogit')\n",
    "%sql DROP TABLE IF EXISTS sample\n",
    "%sql PERSIST sample\n",
    "%sql SELECT * FROM sample;"
   ]
  },
  {
   "cell_type": "markdown",
   "metadata": {},
   "source": [
    "## Question 1: score_by_zipcode\n",
    "\n",
    "Return a list of tuples of the form:\n",
    "\n",
    "    (zipcode, mean score, number of restaurants)\n",
    "\n",
    "for each of the 92 zipcodes in the city with over 100 restaurants. Use the score from the latest inspection date for each restaurant. Sort the list in ascending order by mean score.\n",
    "\n",
    "**Note:** There is an interesting discussion here about what the mean score *means* in this dataset. Think about what we're actually calculating - does it represent what we're trying to understand about these zipcodes?\n",
    "\n",
    "What if we use the average of a restaurant's inspections instead of the latest?\n",
    "\n",
    "**Checkpoints:**\n",
    "- Total unique restaurants: 25,232;\n",
    "- Total restaurants in valid zipcodes: 20,349"
   ]
  },
  {
   "cell_type": "markdown",
   "metadata": {},
   "source": [
    "## Read the data and convert str to dataframe"
   ]
  },
  {
   "cell_type": "code",
   "execution_count": 44,
   "metadata": {
    "collapsed": false
   },
   "outputs": [],
   "source": [
    "import zipfile\n",
    "import numpy as np\n",
    "zf = zipfile.ZipFile('nyc_inspection_data.zip')\n",
    "data = zf.read('WebExtract.txt')\n",
    "# type(data)\n",
    "import sys\n",
    "if sys.version_info[0] < 3: \n",
    "    from StringIO import StringIO\n",
    "else:\n",
    "    from io import StringIO\n",
    "\n",
    "import pandas as pd\n",
    "\n",
    "TESTDATA=StringIO(data)\n",
    "\n",
    "df = pd.read_csv(TESTDATA, sep=\",\")"
   ]
  },
  {
   "cell_type": "code",
   "execution_count": 98,
   "metadata": {
    "collapsed": false
   },
   "outputs": [
    {
     "data": {
      "text/html": [
       "<div>\n",
       "<table border=\"1\" class=\"dataframe\">\n",
       "  <thead>\n",
       "    <tr style=\"text-align: right;\">\n",
       "      <th></th>\n",
       "      <th>CAMIS</th>\n",
       "      <th>DBA</th>\n",
       "      <th>BORO</th>\n",
       "      <th>BUILDING</th>\n",
       "      <th>STREET</th>\n",
       "      <th>ZIPCODE</th>\n",
       "      <th>PHONE</th>\n",
       "      <th>CUISINECODE</th>\n",
       "      <th>INSPDATE</th>\n",
       "      <th>ACTION</th>\n",
       "      <th>VIOLCODE</th>\n",
       "      <th>SCORE</th>\n",
       "      <th>CURRENTGRADE</th>\n",
       "      <th>GRADEDATE</th>\n",
       "      <th>RECORDDATE</th>\n",
       "    </tr>\n",
       "  </thead>\n",
       "  <tbody>\n",
       "    <tr>\n",
       "      <th>0</th>\n",
       "      <td>30075445</td>\n",
       "      <td>MORRIS PARK BAKE SHOP</td>\n",
       "      <td>2</td>\n",
       "      <td>1007</td>\n",
       "      <td>MORRIS PARK AVE                               ...</td>\n",
       "      <td>10462.0</td>\n",
       "      <td>7188924968</td>\n",
       "      <td>8</td>\n",
       "      <td>2014-03-03 00:00:00</td>\n",
       "      <td>D</td>\n",
       "      <td>10F</td>\n",
       "      <td>2.0</td>\n",
       "      <td>A</td>\n",
       "      <td>2014-03-03 00:00:00</td>\n",
       "      <td>2014-09-04 06:01:28.403000000</td>\n",
       "    </tr>\n",
       "    <tr>\n",
       "      <th>1</th>\n",
       "      <td>30112340</td>\n",
       "      <td>WENDY'S</td>\n",
       "      <td>3</td>\n",
       "      <td>469</td>\n",
       "      <td>FLATBUSH AVENUE</td>\n",
       "      <td>11225.0</td>\n",
       "      <td>7182875005</td>\n",
       "      <td>39</td>\n",
       "      <td>2014-07-01 00:00:00</td>\n",
       "      <td>F</td>\n",
       "      <td>06A</td>\n",
       "      <td>23.0</td>\n",
       "      <td>B</td>\n",
       "      <td>2014-07-01 00:00:00</td>\n",
       "      <td>2014-09-04 06:01:28.403000000</td>\n",
       "    </tr>\n",
       "    <tr>\n",
       "      <th>2</th>\n",
       "      <td>30191841</td>\n",
       "      <td>DJ REYNOLDS PUB AND RESTAURANT</td>\n",
       "      <td>1</td>\n",
       "      <td>351</td>\n",
       "      <td>WEST 57 STREET</td>\n",
       "      <td>10019.0</td>\n",
       "      <td>2122452912</td>\n",
       "      <td>3</td>\n",
       "      <td>2013-07-22 00:00:00</td>\n",
       "      <td>D</td>\n",
       "      <td>10B</td>\n",
       "      <td>11.0</td>\n",
       "      <td>A</td>\n",
       "      <td>2013-07-22 00:00:00</td>\n",
       "      <td>2014-09-04 06:01:28.403000000</td>\n",
       "    </tr>\n",
       "    <tr>\n",
       "      <th>3</th>\n",
       "      <td>40356483</td>\n",
       "      <td>WILKEN'S FINE FOOD</td>\n",
       "      <td>3</td>\n",
       "      <td>7114</td>\n",
       "      <td>AVENUE U</td>\n",
       "      <td>11234.0</td>\n",
       "      <td>7184443838</td>\n",
       "      <td>27</td>\n",
       "      <td>2014-05-29 00:00:00</td>\n",
       "      <td>D</td>\n",
       "      <td>08C</td>\n",
       "      <td>10.0</td>\n",
       "      <td>A</td>\n",
       "      <td>2014-05-29 00:00:00</td>\n",
       "      <td>2014-09-04 06:01:28.403000000</td>\n",
       "    </tr>\n",
       "    <tr>\n",
       "      <th>4</th>\n",
       "      <td>30191841</td>\n",
       "      <td>DJ REYNOLDS PUB AND RESTAURANT</td>\n",
       "      <td>1</td>\n",
       "      <td>351</td>\n",
       "      <td>WEST 57 STREET</td>\n",
       "      <td>10019.0</td>\n",
       "      <td>2122452912</td>\n",
       "      <td>3</td>\n",
       "      <td>2013-07-22 00:00:00</td>\n",
       "      <td>D</td>\n",
       "      <td>02G</td>\n",
       "      <td>11.0</td>\n",
       "      <td>A</td>\n",
       "      <td>2013-07-22 00:00:00</td>\n",
       "      <td>2014-09-04 06:01:28.403000000</td>\n",
       "    </tr>\n",
       "  </tbody>\n",
       "</table>\n",
       "</div>"
      ],
      "text/plain": [
       "      CAMIS                             DBA  BORO    BUILDING  \\\n",
       "0  30075445           MORRIS PARK BAKE SHOP     2  1007         \n",
       "1  30112340                         WENDY'S     3         469   \n",
       "2  30191841  DJ REYNOLDS PUB AND RESTAURANT     1         351   \n",
       "3  40356483              WILKEN'S FINE FOOD     3  7114         \n",
       "4  30191841  DJ REYNOLDS PUB AND RESTAURANT     1         351   \n",
       "\n",
       "                                              STREET  ZIPCODE       PHONE  \\\n",
       "0  MORRIS PARK AVE                               ...  10462.0  7188924968   \n",
       "1                                    FLATBUSH AVENUE  11225.0  7182875005   \n",
       "2                                     WEST 57 STREET  10019.0  2122452912   \n",
       "3                   AVENUE U                          11234.0  7184443838   \n",
       "4                                     WEST 57 STREET  10019.0  2122452912   \n",
       "\n",
       "   CUISINECODE             INSPDATE ACTION VIOLCODE  SCORE CURRENTGRADE  \\\n",
       "0            8  2014-03-03 00:00:00      D      10F    2.0            A   \n",
       "1           39  2014-07-01 00:00:00      F      06A   23.0            B   \n",
       "2            3  2013-07-22 00:00:00      D      10B   11.0            A   \n",
       "3           27  2014-05-29 00:00:00      D      08C   10.0            A   \n",
       "4            3  2013-07-22 00:00:00      D      02G   11.0            A   \n",
       "\n",
       "             GRADEDATE                     RECORDDATE  \n",
       "0  2014-03-03 00:00:00  2014-09-04 06:01:28.403000000  \n",
       "1  2014-07-01 00:00:00  2014-09-04 06:01:28.403000000  \n",
       "2  2013-07-22 00:00:00  2014-09-04 06:01:28.403000000  \n",
       "3  2014-05-29 00:00:00  2014-09-04 06:01:28.403000000  \n",
       "4  2013-07-22 00:00:00  2014-09-04 06:01:28.403000000  "
      ]
     },
     "execution_count": 98,
     "metadata": {},
     "output_type": "execute_result"
    }
   ],
   "source": [
    "len(set(df['CAMIS']))\n",
    "df.head()"
   ]
  },
  {
   "cell_type": "code",
   "execution_count": 123,
   "metadata": {
    "collapsed": false
   },
   "outputs": [
    {
     "data": {
      "text/plain": [
       "92"
      ]
     },
     "execution_count": 123,
     "metadata": {},
     "output_type": "execute_result"
    }
   ],
   "source": [
    "# Get the unique CAMIS\n",
    "df = df.drop_duplicates(['CAMIS'])\n",
    "\n",
    "# Groupby\n",
    "count_table = df.groupby(['ZIPCODE']).count()\n",
    "major_zipcode = count_table[count_table['CAMIS']>100].index\n",
    "\n",
    "# Get average score\n",
    "major_table = df[df['ZIPCODE'].isin(major_zipcode)]\n",
    "avg_score = major_table.groupby(['ZIPCODE']).mean()\n",
    "l2 = list(avg_score['SCORE'])\n",
    "\n",
    "# Get resaurant count\n",
    "major_count = major_table.groupby(['ZIPCODE']).count()\n",
    "l3 = list(major_count['CAMIS'])\n",
    "\n",
    "# Joint table\n",
    "l1 = list(avg_score.index)\n",
    "l1_strings = [\"%.0f\" % number for number in l1]\n",
    "score_zipcode = zip(l1_strings,l2,l3)\n",
    "score_zipcode\n",
    "# type(l1_strings[1])\n",
    "\n"
   ]
  },
  {
   "cell_type": "code",
   "execution_count": 88,
   "metadata": {
    "collapsed": false,
    "scrolled": true
   },
   "outputs": [
    {
     "name": "stdout",
     "output_type": "stream",
     "text": [
      "[('10001', 20.861558050700314, 9125), ('10002', 24.277107190756215, 10422), ('10003', 22.491749174917491, 14896), ('10004', 20.437789962041332, 2511), ('10005', 21.377374071015691, 1255), ('10006', 22.255632582322356, 1211), ('10007', 21.559110417479516, 2746), ('10009', 21.99778891509434, 7379), ('10010', 22.672749391727493, 5226), ('10011', 21.360410525166504, 9820), ('10012', 21.120305306518052, 8863), ('10013', 23.894068167878736, 12055), ('10014', 21.526370455856895, 9296), ('10016', 22.781260167010085, 9734), ('10017', 22.425101214574898, 8059), ('10018', 22.9769000427777, 7414), ('10019', 21.433634808115375, 13014), ('10020', 17.607703281027103, 733), ('10021', 22.658478839893458, 3559), ('10022', 21.987890505749466, 10397), ('10023', 21.917737789203084, 4152), ('10024', 22.281985551153578, 4569), ('10025', 23.335292964922594, 5400), ('10026', 24.323741007194243, 1508), ('10027', 22.778005464480874, 3117), ('10028', 21.348417350527551, 4588), ('10029', 23.620480337820005, 4032), ('10030', 21.376910016977927, 651), ('10031', 22.552121529596647, 2060), ('10032', 23.731099656357387, 2449), ('10033', 22.113469387755103, 2638), ('10034', 22.320117474302496, 2260), ('10035', 21.239716312056739, 1491), ('10036', 22.423251351822781, 12184), ('10037', 22.024316109422493, 700), ('10038', 21.898205546492658, 3204), ('10039', 19.261363636363637, 549), ('10040', 22.257045260461144, 1246), ('10044', 19.16030534351145, 136), ('10065', 20.401324868893184, 3817), ('10075', 21.989367088607594, 2081), ('10103', 23.362745098039216, 106), ('10112', 15.268421052631579, 196), ('10119', 22.280701754385966, 404), ('10121', 16.16, 103), ('10128', 23.185957696827263, 3607), ('10280', 24.067307692307693, 222), ('10281', 21.305732484076433, 159), ('10282', 18.094972067039105, 189), ('10301', 20.581283743251351, 1831), ('10302', 20.121052631578948, 1242), ('10303', 23.309554140127389, 841), ('10304', 22.154054054054054, 1213), ('10305', 21.034017971758665, 1685), ('10306', 19.015512465373963, 1934), ('10307', 18.150990099009903, 440), ('10308', 22.194029850746269, 1023), ('10309', 20.816639741518578, 1341), ('10310', 22.173281703775412, 1117), ('10312', 20.631578947368421, 1325), ('10314', 21.104534005037785, 3379), ('10451', 22.392642377078175, 2973), ('10452', 21.666361136571954, 2329), ('10453', 22.252642174131857, 2122), ('10454', 21.208333333333332, 1751), ('10455', 22.753080082135522, 2067), ('10456', 22.331319234642496, 2095), ('10457', 20.87321063394683, 1545), ('10458', 22.013929815162069, 3998), ('10459', 20.781407035175878, 1706), ('10460', 19.908910891089111, 1088), ('10461', 21.027596223674657, 2996), ('10462', 21.021255060728745, 3154), ('10463', 21.242828282828281, 2633), ('10464', 22.85034013605442, 822), ('10465', 21.199588477366255, 1556), ('10466', 21.619599578503689, 2013), ('10467', 21.025978191148173, 3314), ('10468', 22.104070305272895, 2310), ('10469', 21.581564245810057, 1915), ('10470', 21.524861878453038, 973), ('10471', 19.674418604651162, 769), ('10472', 20.658988482724087, 2134), ('10473', 25.976100628930819, 824), ('10474', 20.018309859154929, 752), ('10475', 21.556462585034012, 787), ('11004', 22.757774140752865, 654), ('11040', 23.276967930029155, 369), ('11101', 21.856084867894314, 5419), ('11102', 22.105046948356808, 1816), ('11103', 21.559838750314942, 4377), ('11104', 22.714285714285715, 2632), ('11105', 21.687824351297404, 2709), ('11106', 22.398936170212767, 3498), ('11201', 21.906092871931381, 7270), ('11203', 21.713423295454547, 2986), ('11204', 22.407027240426373, 2677), ('11205', 21.702141680395385, 3237), ('11206', 21.617133576938691, 2620), ('11207', 20.471054718477397, 2710), ('11208', 22.868733256792957, 2781), ('11209', 20.643796802266749, 5328), ('11210', 21.690582959641254, 1652), ('11211', 21.099701046337817, 7284), ('11212', 20.901006711409394, 1901), ('11213', 22.959720730397422, 1957), ('11214', 23.739612188365651, 3822), ('11215', 21.415857605177994, 7943), ('11216', 23.236073471845831, 3563), ('11217', 20.602597402597404, 4959), ('11218', 23.80806502031885, 3390), ('11219', 22.128552097428958, 2354), ('11220', 25.863225468361065, 8037), ('11221', 22.510136986301369, 1963), ('11222', 22.337138084632517, 3883), ('11223', 21.928736295441432, 3759), ('11224', 18.931506849315067, 1039), ('11225', 21.174666006927264, 2111), ('11226', 24.339778354161755, 4463), ('11228', 19.983505154639175, 1043), ('11229', 22.286210489753387, 3047), ('11230', 24.021691973969631, 2504), ('11231', 21.352941176470587, 3076), ('11232', 22.130981150314163, 2212), ('11233', 21.573146292585172, 1066), ('11234', 18.945891783567134, 2676), ('11235', 23.254340542187023, 3576), ('11236', 22.383215369059656, 2089), ('11237', 21.287352758834469, 3431), ('11238', 21.771921531552824, 4651), ('11239', 23.017857142857142, 182), ('11249', 20.428416877028489, 3081), ('11354', 26.462010098581391, 8764), ('11355', 24.814897413024084, 4689), ('11356', 20.334826427771556, 970), ('11357', 19.508326724821572, 1339), ('11358', 21.962829303500541, 2987), ('11360', 20.226305609284331, 557), ('11361', 19.9583532790809, 2254), ('11362', 25.336223506743739, 1121), ('11363', 21.549206349206351, 362), ('11364', 21.27355901189387, 1158), ('11365', 20.224598930481282, 999), ('11366', 21.861713106295149, 1022), ('11367', 21.672060409924487, 984), ('11368', 23.540504867183632, 6427), ('11369', 20.591995221027478, 1778), ('11370', 24.05709624796085, 659), ('11371', 21.321428571428573, 232), ('11372', 24.170565045992117, 8101), ('11373', 24.466032608695652, 5430), ('11374', 21.059183673469388, 2050), ('11375', 20.778710792788342, 4310), ('11377', 22.060877555708707, 4660), ('11378', 21.01042873696408, 1808), ('11379', 19.696938775510205, 1045), ('11385', 21.996373161394317, 5331), ('11411', 25.977358490566036, 571), ('11412', 20.795580110497237, 786), ('11413', 22.726153846153846, 693), ('11414', 22.318267419962336, 1127), ('11415', 22.148793565683647, 802), ('11416', 23.294911734164071, 1017), ('11417', 21.113981762917934, 1434), ('11418', 22.668074834037416, 1778), ('11419', 24.146455223880597, 2265), ('11420', 22.581786542923435, 1826), ('11421', 21.372155287817939, 1591), ('11422', 22.754901960784313, 867), ('11423', 22.848821081830792, 791), ('11426', 20.653781512605043, 638), ('11427', 20.649595687331537, 388), ('11428', 25.256768558951965, 1201), ('11429', 19.926640926640928, 554), ('11430', 19.585847504114099, 1907), ('11432', 22.372652737371066, 3965), ('11433', 18.104201680672269, 633), ('11434', 22.213095921883976, 1859), ('11435', 21.604319478402608, 2620), ('11436', 23.350174216027874, 621), ('11691', 24.753635585970915, 1257), ('11692', 19.396946564885496, 140), ('11693', 23.781857451403887, 521), ('11694', 22.871915393654525, 910)] is too long\n",
      "\n",
      "Failed validating 'maxItems' in schema:\n",
      "    {'items': {'items': [{'type': 'string'},\n",
      "                         {'type': 'number'},\n",
      "                         {'minimum': 0, 'type': 'integer'}],\n",
      "               'maxItems': 3,\n",
      "               'minItems': 3,\n",
      "               'type': 'array'},\n",
      "     'maxItems': 92,\n",
      "     'minItems': 92,\n",
      "     'type': 'array'}\n",
      "\n",
      "On instance:\n",
      "    [('10001', 20.861558050700314, 9125),\n",
      "     ('10002', 24.277107190756215, 10422),\n",
      "     ('10003', 22.491749174917491, 14896),\n",
      "     ('10004', 20.437789962041332, 2511),\n",
      "     ('10005', 21.377374071015691, 1255),\n",
      "     ('10006', 22.255632582322356, 1211),\n",
      "     ('10007', 21.559110417479516, 2746),\n",
      "     ('10009', 21.99778891509434, 7379),\n",
      "     ('10010', 22.672749391727493, 5226),\n",
      "     ('10011', 21.360410525166504, 9820),\n",
      "     ('10012', 21.120305306518052, 8863),\n",
      "     ('10013', 23.894068167878736, 12055),\n",
      "     ('10014', 21.526370455856895, 9296),\n",
      "     ('10016', 22.781260167010085, 9734),\n",
      "     ('10017', 22.425101214574898, 8059),\n",
      "     ('10018', 22.9769000427777, 7414),\n",
      "     ('10019', 21.433634808115375, 13014),\n",
      "     ('10020', 17.607703281027103, 733),\n",
      "     ('10021', 22.658478839893458, 3559),\n",
      "     ('10022', 21.987890505749466, 10397),\n",
      "     ('10023', 21.917737789203084, 4152),\n",
      "     ('10024', 22.281985551153578, 4569),\n",
      "     ('10025', 23.335292964922594, 5400),\n",
      "     ('10026', 24.323741007194243, 1508),\n",
      "     ('10027', 22.778005464480874, 3117),\n",
      "     ('10028', 21.348417350527551, 4588),\n",
      "     ('10029', 23.620480337820005, 4032),\n",
      "     ('10030', 21.376910016977927, 651),\n",
      "     ('10031', 22.552121529596647, 2060),\n",
      "     ('10032', 23.731099656357387, 2449),\n",
      "     ('10033', 22.113469387755103, 2638),\n",
      "     ('10034', 22.320117474302496, 2260),\n",
      "     ('10035', 21.239716312056739, 1491),\n",
      "     ('10036', 22.423251351822781, 12184),\n",
      "     ('10037', 22.024316109422493, 700),\n",
      "     ('10038', 21.898205546492658, 3204),\n",
      "     ('10039', 19.261363636363637, 549),\n",
      "     ('10040', 22.257045260461144, 1246),\n",
      "     ('10044', 19.16030534351145, 136),\n",
      "     ('10065', 20.401324868893184, 3817),\n",
      "     ('10075', 21.989367088607594, 2081),\n",
      "     ('10103', 23.362745098039216, 106),\n",
      "     ('10112', 15.268421052631579, 196),\n",
      "     ('10119', 22.280701754385966, 404),\n",
      "     ('10121', 16.16, 103),\n",
      "     ('10128', 23.185957696827263, 3607),\n",
      "     ('10280', 24.067307692307693, 222),\n",
      "     ('10281', 21.305732484076433, 159),\n",
      "     ('10282', 18.094972067039105, 189),\n",
      "     ('10301', 20.581283743251351, 1831),\n",
      "     ('10302', 20.121052631578948, 1242),\n",
      "     ('10303', 23.309554140127389, 841),\n",
      "     ('10304', 22.154054054054054, 1213),\n",
      "     ('10305', 21.034017971758665, 1685),\n",
      "     ('10306', 19.015512465373963, 1934),\n",
      "     ('10307', 18.150990099009903, 440),\n",
      "     ('10308', 22.194029850746269, 1023),\n",
      "     ('10309', 20.816639741518578, 1341),\n",
      "     ('10310', 22.173281703775412, 1117),\n",
      "     ('10312', 20.631578947368421, 1325),\n",
      "     ('10314', 21.104534005037785, 3379),\n",
      "     ('10451', 22.392642377078175, 2973),\n",
      "     ('10452', 21.666361136571954, 2329),\n",
      "     ('10453', 22.252642174131857, 2122),\n",
      "     ('10454', 21.208333333333332, 1751),\n",
      "     ('10455', 22.753080082135522, 2067),\n",
      "     ('10456', 22.331319234642496, 2095),\n",
      "     ('10457', 20.87321063394683, 1545),\n",
      "     ('10458', 22.013929815162069, 3998),\n",
      "     ('10459', 20.781407035175878, 1706),\n",
      "     ('10460', 19.908910891089111, 1088),\n",
      "     ('10461', 21.027596223674657, 2996),\n",
      "     ('10462', 21.021255060728745, 3154),\n",
      "     ('10463', 21.242828282828281, 2633),\n",
      "     ('10464', 22.85034013605442, 822),\n",
      "     ('10465', 21.199588477366255, 1556),\n",
      "     ('10466', 21.619599578503689, 2013),\n",
      "     ('10467', 21.025978191148173, 3314),\n",
      "     ('10468', 22.104070305272895, 2310),\n",
      "     ('10469', 21.581564245810057, 1915),\n",
      "     ('10470', 21.524861878453038, 973),\n",
      "     ('10471', 19.674418604651162, 769),\n",
      "     ('10472', 20.658988482724087, 2134),\n",
      "     ('10473', 25.976100628930819, 824),\n",
      "     ('10474', 20.018309859154929, 752),\n",
      "     ('10475', 21.556462585034012, 787),\n",
      "     ('11004', 22.757774140752865, 654),\n",
      "     ('11040', 23.276967930029155, 369),\n",
      "     ('11101', 21.856084867894314, 5419),\n",
      "     ('11102', 22.105046948356808, 1816),\n",
      "     ('11103', 21.559838750314942, 4377),\n",
      "     ('11104', 22.714285714285715, 2632),\n",
      "     ('11105', 21.687824351297404, 2709),\n",
      "     ('11106', 22.398936170212767, 3498),\n",
      "     ('11201', 21.906092871931381, 7270),\n",
      "     ('11203', 21.713423295454547, 2986),\n",
      "     ('11204', 22.407027240426373, 2677),\n",
      "     ('11205', 21.702141680395385, 3237),\n",
      "     ('11206', 21.617133576938691, 2620),\n",
      "     ('11207', 20.471054718477397, 2710),\n",
      "     ('11208', 22.868733256792957, 2781),\n",
      "     ('11209', 20.643796802266749, 5328),\n",
      "     ('11210', 21.690582959641254, 1652),\n",
      "     ('11211', 21.099701046337817, 7284),\n",
      "     ('11212', 20.901006711409394, 1901),\n",
      "     ('11213', 22.959720730397422, 1957),\n",
      "     ('11214', 23.739612188365651, 3822),\n",
      "     ('11215', 21.415857605177994, 7943),\n",
      "     ('11216', 23.236073471845831, 3563),\n",
      "     ('11217', 20.602597402597404, 4959),\n",
      "     ('11218', 23.80806502031885, 3390),\n",
      "     ('11219', 22.128552097428958, 2354),\n",
      "     ('11220', 25.863225468361065, 8037),\n",
      "     ('11221', 22.510136986301369, 1963),\n",
      "     ('11222', 22.337138084632517, 3883),\n",
      "     ('11223', 21.928736295441432, 3759),\n",
      "     ('11224', 18.931506849315067, 1039),\n",
      "     ('11225', 21.174666006927264, 2111),\n",
      "     ('11226', 24.339778354161755, 4463),\n",
      "     ('11228', 19.983505154639175, 1043),\n",
      "     ('11229', 22.286210489753387, 3047),\n",
      "     ('11230', 24.021691973969631, 2504),\n",
      "     ('11231', 21.352941176470587, 3076),\n",
      "     ('11232', 22.130981150314163, 2212),\n",
      "     ('11233', 21.573146292585172, 1066),\n",
      "     ('11234', 18.945891783567134, 2676),\n",
      "     ('11235', 23.254340542187023, 3576),\n",
      "     ('11236', 22.383215369059656, 2089),\n",
      "     ('11237', 21.287352758834469, 3431),\n",
      "     ('11238', 21.771921531552824, 4651),\n",
      "     ('11239', 23.017857142857142, 182),\n",
      "     ('11249', 20.428416877028489, 3081),\n",
      "     ('11354', 26.462010098581391, 8764),\n",
      "     ('11355', 24.814897413024084, 4689),\n",
      "     ('11356', 20.334826427771556, 970),\n",
      "     ('11357', 19.508326724821572, 1339),\n",
      "     ('11358', 21.962829303500541, 2987),\n",
      "     ('11360', 20.226305609284331, 557),\n",
      "     ('11361', 19.9583532790809, 2254),\n",
      "     ('11362', 25.336223506743739, 1121),\n",
      "     ('11363', 21.549206349206351, 362),\n",
      "     ('11364', 21.27355901189387, 1158),\n",
      "     ('11365', 20.224598930481282, 999),\n",
      "     ('11366', 21.861713106295149, 1022),\n",
      "     ('11367', 21.672060409924487, 984),\n",
      "     ('11368', 23.540504867183632, 6427),\n",
      "     ('11369', 20.591995221027478, 1778),\n",
      "     ('11370', 24.05709624796085, 659),\n",
      "     ('11371', 21.321428571428573, 232),\n",
      "     ('11372', 24.170565045992117, 8101),\n",
      "     ('11373', 24.466032608695652, 5430),\n",
      "     ('11374', 21.059183673469388, 2050),\n",
      "     ('11375', 20.778710792788342, 4310),\n",
      "     ('11377', 22.060877555708707, 4660),\n",
      "     ('11378', 21.01042873696408, 1808),\n",
      "     ('11379', 19.696938775510205, 1045),\n",
      "     ('11385', 21.996373161394317, 5331),\n",
      "     ('11411', 25.977358490566036, 571),\n",
      "     ('11412', 20.795580110497237, 786),\n",
      "     ('11413', 22.726153846153846, 693),\n",
      "     ('11414', 22.318267419962336, 1127),\n",
      "     ('11415', 22.148793565683647, 802),\n",
      "     ('11416', 23.294911734164071, 1017),\n",
      "     ('11417', 21.113981762917934, 1434),\n",
      "     ('11418', 22.668074834037416, 1778),\n",
      "     ('11419', 24.146455223880597, 2265),\n",
      "     ('11420', 22.581786542923435, 1826),\n",
      "     ('11421', 21.372155287817939, 1591),\n",
      "     ('11422', 22.754901960784313, 867),\n",
      "     ('11423', 22.848821081830792, 791),\n",
      "     ('11426', 20.653781512605043, 638),\n",
      "     ('11427', 20.649595687331537, 388),\n",
      "     ('11428', 25.256768558951965, 1201),\n",
      "     ('11429', 19.926640926640928, 554),\n",
      "     ('11430', 19.585847504114099, 1907),\n",
      "     ('11432', 22.372652737371066, 3965),\n",
      "     ('11433', 18.104201680672269, 633),\n",
      "     ('11434', 22.213095921883976, 1859),\n",
      "     ('11435', 21.604319478402608, 2620),\n",
      "     ('11436', 23.350174216027874, 621),\n",
      "     ('11691', 24.753635585970915, 1257),\n",
      "     ('11692', 19.396946564885496, 140),\n",
      "     ('11693', 23.781857451403887, 521),\n",
      "     ('11694', 22.871915393654525, 910)]\n"
     ]
    }
   ],
   "source": [
    "def score_by_zipcode():\n",
    "    return score_zipcode\n",
    "\n",
    "grader.score('sql__score_by_zipcode', score_by_zipcode)"
   ]
  },
  {
   "cell_type": "markdown",
   "metadata": {},
   "source": [
    "## Question 2: score_by_map\n",
    "\n",
    "The above are not terribly enlightening.  Use [CartoDB](http://cartodb.com/) to produce a map of average scores by zip code.  You can sign up for a free trial.\n",
    "\n",
    "You will have to use their wizard to plot the data by [zipcode](https://carto.com/learn/guides/analysis/georeference). You will need to specify \"USA\" in the countryfield.  Then use the \"share\" button to return a link of the form [https://x.cartodb.com/](https://x.cartodb.com/).\n",
    "\n",
    "**For fun:** How do JFK, Brighton Beach, Liberty Island (home of the Statue of Liberty), Financial District, Chinatown, and Coney Island fare?"
   ]
  },
  {
   "cell_type": "code",
   "execution_count": 92,
   "metadata": {
    "collapsed": false
   },
   "outputs": [],
   "source": [
    "x = pd.DataFrame(score_zipcode, columns=['ZIPCODE', 'Avg_Score', 'Count'])\n",
    "x.to_csv('test.csv')"
   ]
  },
  {
   "cell_type": "code",
   "execution_count": 93,
   "metadata": {
    "collapsed": false
   },
   "outputs": [
    {
     "name": "stdout",
     "output_type": "stream",
     "text": [
      "==================\n",
      "Your score:  1.0\n",
      "==================\n"
     ]
    }
   ],
   "source": [
    "def score_by_map():\n",
    "    # must be url of the form https://x.cartodb.com/...\n",
    "    return \"https://fzn0728.carto.com/builder/c1a67e0a-173c-11e7-8e35-0e3ebc282e83/embed\"\n",
    "\n",
    "grader.score('sql__score_by_map', score_by_map)"
   ]
  },
  {
   "cell_type": "markdown",
   "metadata": {},
   "source": [
    "## Question 3: score_by_borough\n",
    "Return a list of tuples of the form:\n",
    "\n",
    "    (borough, mean score, number of restaurants)\n",
    "\n",
    "for each of the city's five boroughs. Sort the list in ascending order by grade.\n",
    "\n",
    "**Hint:** You will have to perform a join with the `boroughs` table. The borough names should be reported in ALL CAPS.\n",
    "\n",
    "**Checkpoint:**\n",
    "- Total restaurants in valid boroughs: 25,220"
   ]
  },
  {
   "cell_type": "code",
   "execution_count": null,
   "metadata": {
    "collapsed": false
   },
   "outputs": [],
   "source": [
    "def score_by_borough():\n",
    "    return [(\"MANHATTAN\", 10.7269875502402, 10201)] * 5\n",
    "\n",
    "grader.score('sql__score_by_borough', score_by_borough)"
   ]
  },
  {
   "cell_type": "markdown",
   "metadata": {},
   "source": [
    "## Question 4: score_by_cuisine\n",
    "\n",
    "Return a list of the 75 tuples of the form\n",
    "\n",
    "    (cuisine, mean score, number of reports)\n",
    "\n",
    "for each of the 75 cuisine types with at least 100 violation reports. Sort the list in ascending order by score. Are the least sanitary and most sanitary\n",
    "cuisine types surprising?\n",
    "\n",
    "**Note:** It's interesting to think again about what this analysis is trying to say and how it differs from the analysis by zipcode. How should this\n",
    "affect the calculation in your opinion?\n",
    "\n",
    "**Checkpoint:**\n",
    "- Total entries from valid cuisines: 531,529"
   ]
  },
  {
   "cell_type": "code",
   "execution_count": null,
   "metadata": {
    "collapsed": false
   },
   "outputs": [],
   "source": [
    "def score_by_cuisine():\n",
    "    return [(\"French\", 20.3550686378036, 7576)] * 75\n",
    "\n",
    "grader.score('sql__score_by_cuisine', score_by_cuisine)"
   ]
  },
  {
   "cell_type": "markdown",
   "metadata": {},
   "source": [
    "## Question 5: violation_by_cuisine\n",
    "Which cuisines tend to have a disproportionate number of what which violations? Answering this question isn't easy becuase you have to think carefully about normalizations.\n",
    "\n",
    "1. More popular cuisine categories will tend to have more violations just becuase they represent more restaurants.\n",
    "2. Similarly, some violations are more common.  For example, knowing that \"Equipment not easily movable or sealed to floor\" is a common violation for Chinese restuarants is not particularly helpful when it is a common violation for all restaurants.\n",
    "\n",
    "The right quantity is to look at is the conditional probability of a specific type of violation given a specific cuisine type and divide it by the unconditional probability of the violation for the entire population. Taking this ratio gives the right answer.  Return the 20 highest ratios of the form:\n",
    "\n",
    "    ((cuisine, violation), ratio, count)\n",
    "\n",
    "**Hint:**\n",
    "1. You might want to check out this [Stackoverflow post](http://stackoverflow.com/questions/972877/calculate-frequency-using-sql).\n",
    "2. The definition of a violation changes with time.  For example, 10A can mean two different things \"Toilet facility not maintained ...\" or \"Vermin or other live animal present ...\" when things were prior to 2003. To deal with this, you should limit your analysis to violation codes with end date after Jan 1, 2014. (This end date refers to the validity time ranges in Violation.txt).\n",
    "3. The ratios don't mean much when the number of violations of a given type and for a specific category are not large (why not?).  Be sure to filter these out.  We chose 100 as our cutoff.\n",
    "\n",
    "**Checkpoint:**\n",
    "- Top 20 ratios mean: 2.37009216349859"
   ]
  },
  {
   "cell_type": "code",
   "execution_count": null,
   "metadata": {
    "collapsed": false
   },
   "outputs": [],
   "source": [
    "def violation_by_cuisine():\n",
    "    return [((\"Café/Coffee/Tea\",\n",
    "              \"Toilet facility not maintained and provided with toilet paper; \"\n",
    "              \"waste receptacle and self-closing door.\"),\n",
    "             1.87684775827172, 315)] * 20\n",
    "\n",
    "grader.score('sql__violation_by_cuisine', violation_by_cuisine)"
   ]
  },
  {
   "cell_type": "markdown",
   "metadata": {},
   "source": [
    "*Copyright &copy; 2016 The Data Incubator.  All rights reserved.*"
   ]
  }
 ],
 "metadata": {
  "kernelspec": {
   "display_name": "Python 2",
   "language": "python",
   "name": "python2"
  },
  "language_info": {
   "codemirror_mode": {
    "name": "ipython",
    "version": 2
   },
   "file_extension": ".py",
   "mimetype": "text/x-python",
   "name": "python",
   "nbconvert_exporter": "python",
   "pygments_lexer": "ipython2",
   "version": "2.7.13"
  }
 },
 "nbformat": 4,
 "nbformat_minor": 0
}
