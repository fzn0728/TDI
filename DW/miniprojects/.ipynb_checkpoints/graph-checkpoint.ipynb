{
 "cells": [
  {
   "cell_type": "code",
   "execution_count": 3,
   "metadata": {
    "collapsed": true
   },
   "outputs": [],
   "source": [
    "%matplotlib inline\n",
    "import matplotlib\n",
    "import seaborn as sns\n",
    "matplotlib.rcParams['savefig.dpi'] = 144"
   ]
  },
  {
   "cell_type": "code",
   "execution_count": 4,
   "metadata": {
    "collapsed": false
   },
   "outputs": [],
   "source": [
    "import grader"
   ]
  },
  {
   "cell_type": "markdown",
   "metadata": {},
   "source": [
    "# The New York Social Graph\n",
    "\n",
    "[New York Social Diary](http://www.newyorksocialdiary.com/) provides a\n",
    "fascinating lens onto New York's socially well-to-do.  The data forms a natural social graph for New York's social elite.  Take a look at this page of a recent [run-of-the-mill holiday party](http://www.newyorksocialdiary.com/party-pictures/2014/holiday-dinners-and-doers).\n",
    "\n",
    "Besides the brand-name celebrities, you will notice the photos have carefully annotated captions labeling those that appear in the photos.  We can think of this as implicitly implying a social graph: there is a connection between two individuals if they appear in a picture together.\n",
    "\n",
    "For this project, we will assemble the social graph from photo captions for parties dated December 1, 2014, and before.  Using this graph, we can make guesses at the most popular socialites, the most influential people, and the most tightly coupled pairs.\n",
    "\n",
    "We will attack the project in three phases:\n",
    "1. Get a list of all the photo pages to be analyzed.\n",
    "2. Parse all of the captions on a sample page.\n",
    "3. Parse all of the captions on all pages, and assemble the graph."
   ]
  },
  {
   "cell_type": "markdown",
   "metadata": {},
   "source": [
    "## Phase One\n",
    "\n",
    "The first step is to crawl the data.  We want photos from parties on or before December 1st, 2014.  Go to the [Party Pictures Archive](http://www.newyorksocialdiary.com/party-pictures) to see a list of (party) pages.  We want to get the url for each party page, along with its date.\n",
    "\n",
    "Here are some packagest that you may find useful.  You are welcome to use others, if you prefer."
   ]
  },
  {
   "cell_type": "markdown",
   "metadata": {},
   "source": [
    "We recommend using Python [Requests](http://docs.python-requests.org/en/master/) to download the HTML pages, and [BeautifulSoup](https://www.crummy.com/software/BeautifulSoup/) to process the HTML.  Let's start by getting the [first page](http://www.newyorksocialdiary.com/party-pictures)."
   ]
  },
  {
   "cell_type": "code",
   "execution_count": null,
   "metadata": {
    "collapsed": true
   },
   "outputs": [],
   "source": [
    "page = ... # Use requests.get to download the page."
   ]
  },
  {
   "cell_type": "markdown",
   "metadata": {},
   "source": [
    "Now, we process the text of the page with BeautifulSoup."
   ]
  },
  {
   "cell_type": "code",
   "execution_count": null,
   "metadata": {
    "collapsed": false
   },
   "outputs": [],
   "source": [
    "soup = BeautifulSoup(page.text, \"lxml\")"
   ]
  },
  {
   "cell_type": "markdown",
   "metadata": {},
   "source": [
    "This page has links to 50 party pages. Look at the structure of the page and determine how to isolate those links.  Your browser's developer tools (usually `Cmd`-`Option`-`I` on Mac, `Ctrl`-`Shift`-`I` on others) offer helpful tools to explore the structure of the HTML page.\n",
    "\n",
    "Once you have found a patter, use BeautifulSoup's [select](https://www.crummy.com/software/BeautifulSoup/bs4/doc/#css-selectors) or [find_all](https://www.crummy.com/software/BeautifulSoup/bs4/doc/#find) methods to get those elements."
   ]
  },
  {
   "cell_type": "code",
   "execution_count": null,
   "metadata": {
    "collapsed": false
   },
   "outputs": [],
   "source": [
    "links = ..."
   ]
  },
  {
   "cell_type": "markdown",
   "metadata": {},
   "source": [
    "There should be 50 per page."
   ]
  },
  {
   "cell_type": "code",
   "execution_count": null,
   "metadata": {
    "collapsed": true
   },
   "outputs": [],
   "source": [
    "assert len(links) == 50"
   ]
  },
  {
   "cell_type": "markdown",
   "metadata": {},
   "source": [
    "Let's take a look at that first link.  Figure out how to extract the URL of the link, as well as the date.  You probably want to use `datetime.strptime`.  See the [format codes for dates](https://docs.python.org/2/library/datetime.html#strftime-and-strptime-behavior) for reference."
   ]
  },
  {
   "cell_type": "code",
   "execution_count": null,
   "metadata": {
    "collapsed": true
   },
   "outputs": [],
   "source": [
    "link = links[0]\n",
    "# Check that the title and date match what you see visually."
   ]
  },
  {
   "cell_type": "markdown",
   "metadata": {},
   "source": [
    "For purposes of code reuse, let's put that logic into a function.  It should take the link element and return the URL and date parsed from it."
   ]
  },
  {
   "cell_type": "code",
   "execution_count": null,
   "metadata": {
    "collapsed": false
   },
   "outputs": [],
   "source": [
    "def get_link_date(el):\n",
    "    ...\n",
    "    return url, date"
   ]
  },
  {
   "cell_type": "markdown",
   "metadata": {},
   "source": [
    "You may want to check that it works as you expected.\n",
    "\n",
    "Once that's working, let's write another function to parse all of the links on a page.  Thinking ahead, we can make it take a Requests [Response](http://docs.python-requests.org/en/master/api/#requests.Response) object and do the BeautifulSoup parsing within it."
   ]
  },
  {
   "cell_type": "code",
   "execution_count": null,
   "metadata": {
    "collapsed": true
   },
   "outputs": [],
   "source": [
    "def get_links(response):\n",
    "    return ... # A list of URL, date pairs"
   ]
  },
  {
   "cell_type": "markdown",
   "metadata": {},
   "source": [
    "If we run this on the previous response, we should get 50 pairs."
   ]
  },
  {
   "cell_type": "code",
   "execution_count": null,
   "metadata": {
    "collapsed": false
   },
   "outputs": [],
   "source": [
    "assert len(get_links(page)) == 50"
   ]
  },
  {
   "cell_type": "markdown",
   "metadata": {},
   "source": [
    "But we only want parties with dates on or before the first of December, 2014.  Let's write a function to filter our list of dates to those at or before a cutoff.  Using a keyword argument, we can put in a default cutoff, but allow us to test with others."
   ]
  },
  {
   "cell_type": "code",
   "execution_count": null,
   "metadata": {
    "collapsed": false
   },
   "outputs": [],
   "source": [
    "def filter_by_date(links, cutoff=datetime(2014, 12, 1)):\n",
    "    # Return only the elements with date <= cutoff"
   ]
  },
  {
   "cell_type": "markdown",
   "metadata": {},
   "source": [
    "With the default cutoff, there should be no valid parties on the first page.  Adjust the cutoff date to check that it is actually working."
   ]
  },
  {
   "cell_type": "code",
   "execution_count": null,
   "metadata": {
    "collapsed": false
   },
   "outputs": [],
   "source": [
    "assert len(filter_by_date(get_links(page))) == 0"
   ]
  },
  {
   "cell_type": "markdown",
   "metadata": {},
   "source": [
    "Now we should be ready to get all of the party URLs.  Click through a few of the index pages to determine how the URL changes.  Figure out a strategy to visit all of them.\n",
    "\n",
    "HTTP requests are generally IO-bound.  This means that most of the time is spent waiting for the remote server to respond.  If you use `requests` directly, you can only wait on one response at a time.  [requests-futures](https://github.com/ross/requests-futures) lets you wait for multiple requests at a time.  You may wish to use this to speed up the downloading process."
   ]
  },
  {
   "cell_type": "code",
   "execution_count": null,
   "metadata": {
    "collapsed": true
   },
   "outputs": [],
   "source": [
    "from requests_futures.sessions import FuturesSession\n",
    "\n",
    "link_list = []\n",
    "# You can use link_list.extend(others) to add the elements of others\n",
    "# to link_list."
   ]
  },
  {
   "cell_type": "markdown",
   "metadata": {},
   "source": [
    "In the end, you should have 1193 parties."
   ]
  },
  {
   "cell_type": "code",
   "execution_count": null,
   "metadata": {
    "collapsed": false,
    "scrolled": true
   },
   "outputs": [],
   "source": [
    "assert len(link_list) == 1193"
   ]
  },
  {
   "cell_type": "markdown",
   "metadata": {},
   "source": [
    "In case we need to restart the notebook, we should save this information to a file.  There are many ways you could do this; here's one using `dill`."
   ]
  },
  {
   "cell_type": "code",
   "execution_count": null,
   "metadata": {
    "collapsed": false
   },
   "outputs": [],
   "source": [
    "dill.dump(link_list, open('nysd-links.pkd', 'w'))"
   ]
  },
  {
   "cell_type": "markdown",
   "metadata": {},
   "source": [
    "To restore the list, we can just load it from the file.  When the notebook is restarted, you can skip the code above and just run this command."
   ]
  },
  {
   "cell_type": "code",
   "execution_count": null,
   "metadata": {
    "collapsed": true
   },
   "outputs": [],
   "source": [
    "link_list = dill.load(open('nysd-links.pkd', 'r'))"
   ]
  },
  {
   "cell_type": "markdown",
   "metadata": {},
   "source": [
    "## Question 1: histogram\n",
    "\n",
    "Get the number of party pages for the 95 months (that is, month-year pair) in the data.  Notice that while the party codes might be written as \"FRIDAY, FEBRUARY 28, 2014\", in this output, you would have to represent the month-year code as \"Feb-2014\".  This can all be done with `strfime` and the [format codes for dates](https://docs.python.org/2/library/datetime.html#strftime-and-strptime-behavior).\n",
    "\n",
    "Plot the histogram for yourself.  Do you see any trends?"
   ]
  },
  {
   "cell_type": "code",
   "execution_count": 6,
   "metadata": {
    "collapsed": true
   },
   "outputs": [],
   "source": [
    "### Solution\n",
    "import requests\n",
    "import dill\n",
    "from bs4 import BeautifulSoup\n",
    "from datetime import datetime\n",
    "from itertools import compress\n",
    "import pandas as pd\n",
    "import numpy as np\n",
    "def get_links():\n",
    "    result = pd.DataFrame(np.random.randn(1416,2), columns = ['website','date'])\n",
    "    for j in range(29):\n",
    "        page = requests.get('http://www.newyorksocialdiary.com/party-pictures?page=%s' % (j), auth=('user', 'pass'))\n",
    "        soup = BeautifulSoup(page.text, \"lxml\")\n",
    "        for i,section in enumerate(soup.findAll(\"span\",{\"class\":\"field-content\"})):\n",
    "            # link = section.find_all(\"a\",text=\"party-pictures\")\n",
    "            # tt = list(link)\n",
    "            # test = section['href']\n",
    "            temp_str = str(section)\n",
    "            index = (100*j+i)/2\n",
    "            if i%2 == 0:\n",
    "                sep = \"\\\">\"\n",
    "                result.iloc[index,0] = temp_str[37:-11].split(sep,1)[0]\n",
    "                # result.iloc[index,0] = temp_str[36:-11]\n",
    "            else:\n",
    "                result.iloc[index,1] = temp_str[28:-7]\n",
    "    return result\n",
    "\n",
    "def histogram():\n",
    "    url_date = get_links()\n",
    "    url_date['month_date'] = pd.to_datetime(url_date.loc[:,'date']).dt.strftime('%b-%Y')\n",
    "    count = url_date.loc[219:,'month_date'].value_counts(sort=False)\n",
    "    l_1 = [x.encode('utf-8') for x in count.index]\n",
    "    l_2 = count.tolist()\n",
    "    test = zip(l_1,l_2)\n",
    "    return test\n"
   ]
  },
  {
   "cell_type": "code",
   "execution_count": 7,
   "metadata": {
    "collapsed": false
   },
   "outputs": [],
   "source": [
    "### Implement: Get the link date pair and date frequency\n",
    "url_date = get_links()\n",
    "count = histogram()"
   ]
  },
  {
   "cell_type": "code",
   "execution_count": 10,
   "metadata": {
    "collapsed": false
   },
   "outputs": [
    {
     "data": {
      "text/plain": [
       "<matplotlib.axes._subplots.AxesSubplot at 0x7fde567b5d90>"
      ]
     },
     "execution_count": 10,
     "metadata": {},
     "output_type": "execute_result"
    },
    {
     "data": {
      "image/png": "[encoded data removed]",
      "text/plain": [
       "<matplotlib.figure.Figure at 0x7fde5696bd90>"
      ]
     },
     "metadata": {},
     "output_type": "display_data"
    }
   ],
   "source": [
    "# Sanity check\n",
    "pd.DataFrame(count).plot()"
   ]
  },
  {
   "cell_type": "code",
   "execution_count": null,
   "metadata": {
    "collapsed": false
   },
   "outputs": [],
   "source": [
    "### Grade\n",
    "'''\n",
    "def histogram():\n",
    "    return [(\"Dec-2014\", 1)] * 95  # Replace with the correct list\n",
    "\n",
    "'''\n",
    "\n",
    "grader.score(question_name='graph__histogram', func=histogram)"
   ]
  },
  {
   "cell_type": "markdown",
   "metadata": {},
   "source": [
    "## Phase Two\n",
    "\n",
    "In this phase, we we concentrate on getting the names out of captions for a given page.  We'll start with [the benefit cocktails and dinner](http://www.newyorksocialdiary.com/party-pictures/2015/celebrating-the-neighborhood) for [Lenox Hill Neighborhood House](http://www.lenoxhill.org/), a neighborhood organization for the East Side.\n",
    "\n",
    "Take a look at that page.  Note that some of the text on the page is captions, but others are descriptions of the event.  Determine how to select only the captions."
   ]
  },
  {
   "cell_type": "code",
   "execution_count": null,
   "metadata": {
    "collapsed": false
   },
   "outputs": [],
   "source": [
    "captions = ..."
   ]
  },
  {
   "cell_type": "markdown",
   "metadata": {},
   "source": [
    "By our count, there are about 110.  But if you're off by a couple, you're probably okay."
   ]
  },
  {
   "cell_type": "code",
   "execution_count": null,
   "metadata": {
    "collapsed": false
   },
   "outputs": [],
   "source": [
    "assert abs(len(captions) - 110) < 5"
   ]
  },
  {
   "cell_type": "markdown",
   "metadata": {},
   "source": [
    "Let's encapsulate this in a function.  As with the links pages, we want to avoid downloading a given page the next time we need to run the notebook.  While we could save the files by hand, as we did before, a checkpointing library like [ediblepickle](https://pypi.python.org/pypi/ediblepickle/1.1.3) can handle this for you.  (Note, though, that you may not want to enable this until you are sure that your function is working.)\n",
    "\n",
    "You should also keep in mind that HTTP requests fail occasionally, for transient reasons.  You should plan how to detect and react to these failures.   The [retrying module](https://pypi.python.org/pypi/retrying) is one way to deal with this."
   ]
  },
  {
   "cell_type": "code",
   "execution_count": null,
   "metadata": {
    "collapsed": false
   },
   "outputs": [],
   "source": [
    "def get_captions(path):\n",
    "    ..."
   ]
  },
  {
   "cell_type": "markdown",
   "metadata": {},
   "source": [
    "This should get the same captions as before."
   ]
  },
  {
   "cell_type": "code",
   "execution_count": null,
   "metadata": {
    "collapsed": false
   },
   "outputs": [],
   "source": [
    "assert captions == get_captions(\"/party-pictures/2015/celebrating-the-neighborhood\")"
   ]
  },
  {
   "cell_type": "markdown",
   "metadata": {},
   "source": [
    "Now that we have some sample captions, let's start parsing names out of those captions.  There are many ways of going about this, and we leave the details up to you.  Some issues to consider:\n",
    "\n",
    "  1. Some captions are not useful: they contain long narrative texts that explain the event.  Try to find some heuristic rules to separate captions that are a list of names from those that are not.  A few heuristics include:\n",
    "    - look for sentences (which have verbs) and as opposed to lists of nouns. For example, [nltk does part of speech tagging](http://www.nltk.org/book/ch05.html) but it is a little slow. There may also be heuristics that accomplish the same thing.\n",
    "    - Similarly, spaCy's [entity recognition](https://spacy.io/docs/usage/entity-recognition) couble be useful here.\n",
    "    - Look for commonly repeated threads (e.g. you might end up picking up the photo credits or people such as \"a friend\").\n",
    "    - Long captions are often not lists of people.  The cutoff is subjective, but for grading purposes, *set that cutoff at 250 characters*.\n",
    "  2. You will want to separate the captions based on various forms of punctuation.  Try using `re.split`, which is more sophisticated than `string.split`. **Note**: The reference solution uses regex exclusively for name parsing.\n",
    "  3. You might find a person named \"ra Lebenthal\".  There is no one by this name.  Can anyone spot what's happening here?\n",
    "  4. This site is pretty formal and likes to say things like \"Mayor Michael Bloomberg\" after his election but \"Michael Bloomberg\" before his election.  Can you find other ('optional') titles that are being used?  They should probably be filtered out because they ultimately refer to the same person: \"Michael Bloomberg.\"\n",
    "  5. There is a special case you might find where couples are written as eg. \"John and Mary Smith\". You will need to write some extra logic to make sure this properly parses to two names: \"John Smith\" and \"Mary Smith\".\n",
    "  6. When parsing names from captions, it can help to look at your output frequently and address the problems that you see coming up, iterating until you have a list that looks reasonable. This is the approach used in the reference solution. Because we can only asymptotically approach perfect identification and entity matching, we have to stop somewhere.\n",
    "  \n",
    "**Questions worth considering:**\n",
    "  1. Who is Patrick McMullan and should he be included in the results? How would you address this?\n",
    "  2. What else could you do to improve the quality of the graph's information?"
   ]
  },
  {
   "cell_type": "markdown",
   "metadata": {},
   "source": [
    "## Question 2: sample_names\n",
    "\n",
    "Once you feel that your algorithm is working well on these captions, parse all of the captions and extract all the names mentioned.  Sort them alphabetically, by first name, and return the first hundred."
   ]
  },
  {
   "cell_type": "code",
   "execution_count": 7,
   "metadata": {
    "collapsed": false
   },
   "outputs": [],
   "source": [
    "### Solution general version\n",
    "import spacy\n",
    "\n",
    "def names(soup):\n",
    "    name_list = []\n",
    "    temp_name = []\n",
    "    for section in soup.findAll(\"div\",{\"class\":\"photocaption\"}):\n",
    "        name = str(section)[41:-6].decode('utf-8').strip()\n",
    "        name_list.append(name)\n",
    "    # print(name_list)\n",
    "    nlp = spacy.load('en')\n",
    "    for i in range(len(name_list)):\n",
    "        doc = nlp(name_list[i])\n",
    "        for ent in doc.ents:\n",
    "            if len(ent.text.split())!=1 and len(ent.text.split())<=3: # this is used to deal with John and Mary Smith problem: don't include the single first name one\n",
    "                # Also, in order to get rid of other meaningful short words such as: the city museum of art, we limit the length to be no more than 3\n",
    "                temp_name.append(''.join(ent.text.split('<',1)))\n",
    "    final_name_list = [i.encode('utf-8') for i in temp_name]\n",
    "    final_name_list = list(set(final_name_list))\n",
    "    final_name_list.sort()\n",
    "    return final_name_list[1:101]"
   ]
  },
  {
   "cell_type": "code",
   "execution_count": 7,
   "metadata": {
    "collapsed": true
   },
   "outputs": [],
   "source": [
    "### Solution faster version, decrease the number of for loop and inner for loop\n",
    "def names_fast(soup):\n",
    "    name_list = []\n",
    "    temp_name = []\n",
    "    nlp = spacy.load('en')\n",
    "    for section in soup.findAll(\"div\",{\"class\":\"photocaption\"}):\n",
    "        name = str(section)[41:-6].decode('utf-8').strip()\n",
    "        doc = nlp(name)\n",
    "        for ent in doc.ents:\n",
    "            if len(ent.text.split())!=1 and len(ent.text.split())<=3: # this is used to deal with ohn and Mary Smith problem: don't include the single first name one\n",
    "                # Also, in order to get rid of other meaningful short words such as: the city museum of art, we limit the length to be no more than 3\n",
    "                temp_name.append(''.join(ent.text.split('<',1)).encode('utf-8'))\n",
    "    final_name_list = list(set(temp_name))\n",
    "    final_name_list.sort()\n",
    "    return final_name_list[1:101]"
   ]
  },
  {
   "cell_type": "code",
   "execution_count": 142,
   "metadata": {
    "collapsed": false
   },
   "outputs": [
    {
     "name": "stdout",
     "output_type": "stream",
     "text": [
      "CPU times: user 9.23 s, sys: 448 ms, total: 9.68 s\n",
      "Wall time: 10 s\n"
     ]
    }
   ],
   "source": [
    "%%time\n",
    "### Time for faster version\n",
    "page = requests.get('http://www.newyorksocialdiary.com/party-pictures/2015/celebrating-the-neighborhood', auth=('user', 'pass'))\n",
    "soup = BeautifulSoup(page.text, \"lxml\")\n",
    "name_output_fast = names_fast(soup)\n",
    "# print(page)\n",
    "# print soup.prettify()\n",
    "name_output_fast[0:5]\n"
   ]
  },
  {
   "cell_type": "code",
   "execution_count": 126,
   "metadata": {
    "collapsed": false
   },
   "outputs": [
    {
     "name": "stdout",
     "output_type": "stream",
     "text": [
      "CPU times: user 9.8 s, sys: 428 ms, total: 10.2 s\n",
      "Wall time: 10.5 s\n"
     ]
    }
   ],
   "source": [
    "### Time for general version\n",
    "%%time\n",
    "### Sanity Check\n",
    "page = requests.get('http://www.newyorksocialdiary.com/party-pictures/2015/celebrating-the-neighborhood', auth=('user', 'pass'))\n",
    "soup = BeautifulSoup(page.text, \"lxml\")\n",
    "name_output = names(soup)\n",
    "# print(page)\n",
    "# print soup.prettify()\n",
    "name_output[0:5]\n"
   ]
  },
  {
   "cell_type": "code",
   "execution_count": 143,
   "metadata": {
    "collapsed": false,
    "scrolled": true
   },
   "outputs": [
    {
     "name": "stdout",
     "output_type": "stream",
     "text": [
      "==================\n",
      "Your score:  1.0\n",
      "==================\n"
     ]
    }
   ],
   "source": [
    "### Grade\n",
    "\n",
    "def sample_names():\n",
    "    return name_output_fast\n",
    "\n",
    "grader.score(question_name='graph__sample_names', func=sample_names)"
   ]
  },
  {
   "cell_type": "markdown",
   "metadata": {},
   "source": [
    "Now, run this sort of test on a few other pages.  You will probably find that other pages have a slightly different HTML structure, as well as new captions that trip up your caption parser.  But don't worry if the parser isn't perfect -- just try to get the easy cases."
   ]
  },
  {
   "cell_type": "code",
   "execution_count": 119,
   "metadata": {
    "collapsed": false
   },
   "outputs": [
    {
     "name": "stdout",
     "output_type": "stream",
     "text": [
      "CPU times: user 11 s, sys: 380 ms, total: 11.4 s\n",
      "Wall time: 11.7 s\n"
     ]
    }
   ],
   "source": [
    "%%time\n",
    "### Test on other pages, robustness check\n",
    "page_test = requests.get('http://www.newyorksocialdiary.com/party-pictures/2015/in-the-crowd', auth=('user', 'pass'))\n",
    "soup_test = BeautifulSoup(page_test.text, \"lxml\")\n",
    "name_output_test = names(soup_test)\n",
    "name_output_test[0:5]\n",
    "\n",
    "# soup_test.prettify()"
   ]
  },
  {
   "cell_type": "markdown",
   "metadata": {},
   "source": [
    "## Phase Three\n",
    "\n",
    "Once you are satisfied that your caption scraper and parser are working, run this for all of the pages.  If you haven't implemented some caching of the captions, you probably want to do this first."
   ]
  },
  {
   "cell_type": "code",
   "execution_count": 8,
   "metadata": {
    "collapsed": false
   },
   "outputs": [
    {
     "data": {
      "text/plain": [
       "1193"
      ]
     },
     "execution_count": 8,
     "metadata": {},
     "output_type": "execute_result"
    }
   ],
   "source": [
    "### Get the links for all websites\n",
    "target_url = url_date[223:]\n",
    "target_url[0:5]\n",
    "len(target_url)"
   ]
  },
  {
   "cell_type": "code",
   "execution_count": 11,
   "metadata": {
    "collapsed": false
   },
   "outputs": [],
   "source": [
    "# Scraping all of the pages could take 10 minutes or so.\n",
    "import itertools\n",
    "from itertools import chain\n",
    "### Solution faster version, give the full name pair rather than the top 100\n",
    "def names_pair(soup):\n",
    "    temp_name = []\n",
    "    name_pair = []\n",
    "    nlp = spacy.load('en')\n",
    "    for section in soup.findAll(\"div\",{\"class\":\"photocaption\"}):\n",
    "        name = str(section)[41:-6].decode('utf-8').strip()\n",
    "        doc = nlp(name)\n",
    "        for ent in doc.ents:\n",
    "            if len(ent.text.split())!=1 and len(ent.text.split())<=3: # this is used to deal with ohn and Mary Smith problem: don't include the single first name one\n",
    "                # Also, in order to get rid of other meaningful short words such as: the city museum of art, we limit the length to be no more than 3\n",
    "                temp_name.append(''.join(ent.text.split('<',1)[0]).encode('utf-8'))        \n",
    "        pairs = list(itertools.combinations(tuple(temp_name), 2)) # make inside is string\n",
    "        name_pair.append(pairs)\n",
    "    return sum(name_pair,[]) # unlist"
   ]
  },
  {
   "cell_type": "code",
   "execution_count": 78,
   "metadata": {
    "collapsed": false
   },
   "outputs": [],
   "source": [
    "# Test\n",
    "page = requests.get('http://www.newyorksocialdiary.com/party-pictures/2015/celebrating-the-neighborhood', auth=('user', 'pass'))\n",
    "soup = BeautifulSoup(page.text, \"lxml\")\n",
    "temp_name = []\n",
    "name_pair = []\n",
    "nlp = spacy.load('en')\n",
    "xx = soup.findAll(\"div\",{\"class\":\"photocaption\"})\n",
    "name = str(xx)[41:-6].decode('utf-8').strip()\n",
    "doc = nlp(name)\n",
    "\n",
    "for ent in doc.ents:\n",
    "    if len(ent.text.split())!=1 and len(ent.text.split())<=3: # this is used to deal with ohn and Mary Smith problem: don't include the single first name one\n",
    "        # Also, in order to get rid of other meaningful short words such as: the city museum of art, we limit the length to be no more than 3\n",
    "        temp_name.append(''.join(ent.text.split('<',1)[0]).encode('utf-8'))\n",
    "        "
   ]
  },
  {
   "cell_type": "code",
   "execution_count": 14,
   "metadata": {
    "collapsed": false
   },
   "outputs": [
    {
     "name": "stdout",
     "output_type": "stream",
     "text": [
      "[('Glenn Adamson', 'Simon Doonan'), ('Glenn Adamson', 'Craig Leavitt'), ('Glenn Adamson', 'Jerome Chazen'), ('Glenn Adamson', 'Andi Potamkin'), ('Glenn Adamson', 'Ralph Pucci'), ('Glenn Adamson', 'Kirsten Bailey'), ('Glenn Adamson', 'Edwin Hathaway'), ('Glenn Adamson', 'Dennis Freedman'), ('Simon Doonan', 'Craig Leavitt'), ('Simon Doonan', 'Jerome Chazen')]\n"
     ]
    }
   ],
   "source": [
    "# %%time\n",
    "### Test our fast unsorted name algo is working\n",
    "page = requests.get('http://www.newyorksocialdiary.com/party-pictures/2015/celebrating-the-neighborhood', auth=('user', 'pass'))\n",
    "soup = BeautifulSoup(page.text, \"lxml\")\n",
    "name_pair_list = names_pair(soup)\n",
    "print(name_pair_list[0:10])"
   ]
  },
  {
   "cell_type": "code",
   "execution_count": 9,
   "metadata": {
    "collapsed": false
   },
   "outputs": [
    {
     "name": "stdout",
     "output_type": "stream",
     "text": [
      "CPU times: user 0 ns, sys: 0 ns, total: 0 ns\n",
      "Wall time: 11 µs\n"
     ]
    }
   ],
   "source": [
    "%%time\n",
    "### Try to pull name from over 1193 website\n",
    "def get_full_name_list(a):\n",
    "    full_name_list = []\n",
    "    for i in target_url['website'][a[0]:a[1]]:\n",
    "        print('http://www.newyorksocialdiary.com%s' %i)\n",
    "        page = requests.get('http://www.newyorksocialdiary.com%s' %i)\n",
    "        soup = BeautifulSoup(page.text, \"lxml\")\n",
    "        name_list = names_pair(soup)\n",
    "        full_name_list.append(name_list)\n",
    "    return sum(full_name_list,[])"
   ]
  },
  {
   "cell_type": "code",
   "execution_count": 16,
   "metadata": {
    "collapsed": false
   },
   "outputs": [
    {
     "name": "stdout",
     "output_type": "stream",
     "text": [
      "http://www.newyorksocialdiary.com/party-pictures/2014/the-thanksgiving-day-parade-from-the-ground-up\n",
      "http://www.newyorksocialdiary.com/party-pictures/2014/gala-guests\n",
      "CPU times: user 20.4 s, sys: 912 ms, total: 21.3 s\n",
      "Wall time: 21.5 s\n"
     ]
    }
   ],
   "source": [
    "%%time\n",
    "full_name_list_part1 = get_full_name_list((0,2))"
   ]
  },
  {
   "cell_type": "code",
   "execution_count": 17,
   "metadata": {
    "collapsed": false
   },
   "outputs": [
    {
     "data": {
      "text/plain": [
       "[('Les Lieberman', 'Barri Lieberman'),\n",
       " ('Les Lieberman', 'Isabel Kallman'),\n",
       " ('Les Lieberman', 'Trish Iervolino'),\n",
       " ('Les Lieberman', 'Ron Iervolino'),\n",
       " ('Barri Lieberman', 'Isabel Kallman'),\n",
       " ('Barri Lieberman', 'Trish Iervolino'),\n",
       " ('Barri Lieberman', 'Ron Iervolino'),\n",
       " ('Isabel Kallman', 'Trish Iervolino'),\n",
       " ('Isabel Kallman', 'Ron Iervolino'),\n",
       " ('Trish Iervolino', 'Ron Iervolino'),\n",
       " ('Les Lieberman', 'Barri Lieberman'),\n",
       " ('Les Lieberman', 'Isabel Kallman'),\n",
       " ('Les Lieberman', 'Trish Iervolino'),\n",
       " ('Les Lieberman', 'Ron Iervolino'),\n",
       " ('Les Lieberman', 'Chuck Grodin'),\n",
       " ('Barri Lieberman', 'Isabel Kallman'),\n",
       " ('Barri Lieberman', 'Trish Iervolino'),\n",
       " ('Barri Lieberman', 'Ron Iervolino'),\n",
       " ('Barri Lieberman', 'Chuck Grodin'),\n",
       " ('Isabel Kallman', 'Trish Iervolino'),\n",
       " ('Isabel Kallman', 'Ron Iervolino'),\n",
       " ('Isabel Kallman', 'Chuck Grodin'),\n",
       " ('Trish Iervolino', 'Ron Iervolino'),\n",
       " ('Trish Iervolino', 'Chuck Grodin'),\n",
       " ('Ron Iervolino', 'Chuck Grodin'),\n",
       " ('Les Lieberman', 'Barri Lieberman'),\n",
       " ('Les Lieberman', 'Isabel Kallman'),\n",
       " ('Les Lieberman', 'Trish Iervolino'),\n",
       " ('Les Lieberman', 'Ron Iervolino'),\n",
       " ('Les Lieberman', 'Chuck Grodin'),\n",
       " ('Les Lieberman', 'Diana Rosario'),\n",
       " ('Les Lieberman', 'Ali Sussman'),\n",
       " ('Les Lieberman', 'Sarah Boll'),\n",
       " ('Les Lieberman', 'Jen Zaleski'),\n",
       " ('Les Lieberman', 'Alysse Brennan'),\n",
       " ('Les Lieberman', 'Lindsay Macbeth'),\n",
       " ('Barri Lieberman', 'Isabel Kallman'),\n",
       " ('Barri Lieberman', 'Trish Iervolino'),\n",
       " ('Barri Lieberman', 'Ron Iervolino'),\n",
       " ('Barri Lieberman', 'Chuck Grodin'),\n",
       " ('Barri Lieberman', 'Diana Rosario'),\n",
       " ('Barri Lieberman', 'Ali Sussman'),\n",
       " ('Barri Lieberman', 'Sarah Boll'),\n",
       " ('Barri Lieberman', 'Jen Zaleski'),\n",
       " ('Barri Lieberman', 'Alysse Brennan'),\n",
       " ('Barri Lieberman', 'Lindsay Macbeth'),\n",
       " ('Isabel Kallman', 'Trish Iervolino'),\n",
       " ('Isabel Kallman', 'Ron Iervolino'),\n",
       " ('Isabel Kallman', 'Chuck Grodin'),\n",
       " ('Isabel Kallman', 'Diana Rosario'),\n",
       " ('Isabel Kallman', 'Ali Sussman'),\n",
       " ('Isabel Kallman', 'Sarah Boll'),\n",
       " ('Isabel Kallman', 'Jen Zaleski'),\n",
       " ('Isabel Kallman', 'Alysse Brennan'),\n",
       " ('Isabel Kallman', 'Lindsay Macbeth'),\n",
       " ('Trish Iervolino', 'Ron Iervolino'),\n",
       " ('Trish Iervolino', 'Chuck Grodin'),\n",
       " ('Trish Iervolino', 'Diana Rosario'),\n",
       " ('Trish Iervolino', 'Ali Sussman'),\n",
       " ('Trish Iervolino', 'Sarah Boll'),\n",
       " ('Trish Iervolino', 'Jen Zaleski'),\n",
       " ('Trish Iervolino', 'Alysse Brennan'),\n",
       " ('Trish Iervolino', 'Lindsay Macbeth'),\n",
       " ('Ron Iervolino', 'Chuck Grodin'),\n",
       " ('Ron Iervolino', 'Diana Rosario'),\n",
       " ('Ron Iervolino', 'Ali Sussman'),\n",
       " ('Ron Iervolino', 'Sarah Boll'),\n",
       " ('Ron Iervolino', 'Jen Zaleski'),\n",
       " ('Ron Iervolino', 'Alysse Brennan'),\n",
       " ('Ron Iervolino', 'Lindsay Macbeth'),\n",
       " ('Chuck Grodin', 'Diana Rosario'),\n",
       " ('Chuck Grodin', 'Ali Sussman'),\n",
       " ('Chuck Grodin', 'Sarah Boll'),\n",
       " ('Chuck Grodin', 'Jen Zaleski'),\n",
       " ('Chuck Grodin', 'Alysse Brennan'),\n",
       " ('Chuck Grodin', 'Lindsay Macbeth'),\n",
       " ('Diana Rosario', 'Ali Sussman'),\n",
       " ('Diana Rosario', 'Sarah Boll'),\n",
       " ('Diana Rosario', 'Jen Zaleski'),\n",
       " ('Diana Rosario', 'Alysse Brennan'),\n",
       " ('Diana Rosario', 'Lindsay Macbeth'),\n",
       " ('Ali Sussman', 'Sarah Boll'),\n",
       " ('Ali Sussman', 'Jen Zaleski'),\n",
       " ('Ali Sussman', 'Alysse Brennan'),\n",
       " ('Ali Sussman', 'Lindsay Macbeth'),\n",
       " ('Sarah Boll', 'Jen Zaleski'),\n",
       " ('Sarah Boll', 'Alysse Brennan'),\n",
       " ('Sarah Boll', 'Lindsay Macbeth'),\n",
       " ('Jen Zaleski', 'Alysse Brennan'),\n",
       " ('Jen Zaleski', 'Lindsay Macbeth'),\n",
       " ('Alysse Brennan', 'Lindsay Macbeth'),\n",
       " ('Les Lieberman', 'Barri Lieberman'),\n",
       " ('Les Lieberman', 'Isabel Kallman'),\n",
       " ('Les Lieberman', 'Trish Iervolino'),\n",
       " ('Les Lieberman', 'Ron Iervolino'),\n",
       " ('Les Lieberman', 'Chuck Grodin'),\n",
       " ('Les Lieberman', 'Diana Rosario'),\n",
       " ('Les Lieberman', 'Ali Sussman'),\n",
       " ('Les Lieberman', 'Sarah Boll'),\n",
       " ('Les Lieberman', 'Jen Zaleski'),\n",
       " ('Les Lieberman', 'Alysse Brennan'),\n",
       " ('Les Lieberman', 'Lindsay Macbeth'),\n",
       " ('Les Lieberman', 'Tom Murro'),\n",
       " ('Barri Lieberman', 'Isabel Kallman'),\n",
       " ('Barri Lieberman', 'Trish Iervolino'),\n",
       " ('Barri Lieberman', 'Ron Iervolino'),\n",
       " ('Barri Lieberman', 'Chuck Grodin'),\n",
       " ('Barri Lieberman', 'Diana Rosario'),\n",
       " ('Barri Lieberman', 'Ali Sussman'),\n",
       " ('Barri Lieberman', 'Sarah Boll'),\n",
       " ('Barri Lieberman', 'Jen Zaleski'),\n",
       " ('Barri Lieberman', 'Alysse Brennan'),\n",
       " ('Barri Lieberman', 'Lindsay Macbeth'),\n",
       " ('Barri Lieberman', 'Tom Murro'),\n",
       " ('Isabel Kallman', 'Trish Iervolino'),\n",
       " ('Isabel Kallman', 'Ron Iervolino'),\n",
       " ('Isabel Kallman', 'Chuck Grodin'),\n",
       " ('Isabel Kallman', 'Diana Rosario'),\n",
       " ('Isabel Kallman', 'Ali Sussman'),\n",
       " ('Isabel Kallman', 'Sarah Boll'),\n",
       " ('Isabel Kallman', 'Jen Zaleski'),\n",
       " ('Isabel Kallman', 'Alysse Brennan'),\n",
       " ('Isabel Kallman', 'Lindsay Macbeth'),\n",
       " ('Isabel Kallman', 'Tom Murro'),\n",
       " ('Trish Iervolino', 'Ron Iervolino'),\n",
       " ('Trish Iervolino', 'Chuck Grodin'),\n",
       " ('Trish Iervolino', 'Diana Rosario'),\n",
       " ('Trish Iervolino', 'Ali Sussman'),\n",
       " ('Trish Iervolino', 'Sarah Boll'),\n",
       " ('Trish Iervolino', 'Jen Zaleski'),\n",
       " ('Trish Iervolino', 'Alysse Brennan'),\n",
       " ('Trish Iervolino', 'Lindsay Macbeth'),\n",
       " ('Trish Iervolino', 'Tom Murro'),\n",
       " ('Ron Iervolino', 'Chuck Grodin'),\n",
       " ('Ron Iervolino', 'Diana Rosario'),\n",
       " ('Ron Iervolino', 'Ali Sussman'),\n",
       " ('Ron Iervolino', 'Sarah Boll'),\n",
       " ('Ron Iervolino', 'Jen Zaleski'),\n",
       " ('Ron Iervolino', 'Alysse Brennan'),\n",
       " ('Ron Iervolino', 'Lindsay Macbeth'),\n",
       " ('Ron Iervolino', 'Tom Murro'),\n",
       " ('Chuck Grodin', 'Diana Rosario'),\n",
       " ('Chuck Grodin', 'Ali Sussman'),\n",
       " ('Chuck Grodin', 'Sarah Boll'),\n",
       " ('Chuck Grodin', 'Jen Zaleski'),\n",
       " ('Chuck Grodin', 'Alysse Brennan'),\n",
       " ('Chuck Grodin', 'Lindsay Macbeth'),\n",
       " ('Chuck Grodin', 'Tom Murro'),\n",
       " ('Diana Rosario', 'Ali Sussman'),\n",
       " ('Diana Rosario', 'Sarah Boll'),\n",
       " ('Diana Rosario', 'Jen Zaleski'),\n",
       " ('Diana Rosario', 'Alysse Brennan'),\n",
       " ('Diana Rosario', 'Lindsay Macbeth'),\n",
       " ('Diana Rosario', 'Tom Murro'),\n",
       " ('Ali Sussman', 'Sarah Boll'),\n",
       " ('Ali Sussman', 'Jen Zaleski'),\n",
       " ('Ali Sussman', 'Alysse Brennan'),\n",
       " ('Ali Sussman', 'Lindsay Macbeth'),\n",
       " ('Ali Sussman', 'Tom Murro'),\n",
       " ('Sarah Boll', 'Jen Zaleski'),\n",
       " ('Sarah Boll', 'Alysse Brennan'),\n",
       " ('Sarah Boll', 'Lindsay Macbeth'),\n",
       " ('Sarah Boll', 'Tom Murro'),\n",
       " ('Jen Zaleski', 'Alysse Brennan'),\n",
       " ('Jen Zaleski', 'Lindsay Macbeth'),\n",
       " ('Jen Zaleski', 'Tom Murro'),\n",
       " ('Alysse Brennan', 'Lindsay Macbeth'),\n",
       " ('Alysse Brennan', 'Tom Murro'),\n",
       " ('Lindsay Macbeth', 'Tom Murro'),\n",
       " ('Les Lieberman', 'Barri Lieberman'),\n",
       " ('Les Lieberman', 'Isabel Kallman'),\n",
       " ('Les Lieberman', 'Trish Iervolino'),\n",
       " ('Les Lieberman', 'Ron Iervolino'),\n",
       " ('Les Lieberman', 'Chuck Grodin'),\n",
       " ('Les Lieberman', 'Diana Rosario'),\n",
       " ('Les Lieberman', 'Ali Sussman'),\n",
       " ('Les Lieberman', 'Sarah Boll'),\n",
       " ('Les Lieberman', 'Jen Zaleski'),\n",
       " ('Les Lieberman', 'Alysse Brennan'),\n",
       " ('Les Lieberman', 'Lindsay Macbeth'),\n",
       " ('Les Lieberman', 'Tom Murro'),\n",
       " ('Les Lieberman', 'Udo Spreitzenbarth'),\n",
       " ('Barri Lieberman', 'Isabel Kallman'),\n",
       " ('Barri Lieberman', 'Trish Iervolino'),\n",
       " ('Barri Lieberman', 'Ron Iervolino'),\n",
       " ('Barri Lieberman', 'Chuck Grodin'),\n",
       " ('Barri Lieberman', 'Diana Rosario'),\n",
       " ('Barri Lieberman', 'Ali Sussman'),\n",
       " ('Barri Lieberman', 'Sarah Boll'),\n",
       " ('Barri Lieberman', 'Jen Zaleski'),\n",
       " ('Barri Lieberman', 'Alysse Brennan'),\n",
       " ('Barri Lieberman', 'Lindsay Macbeth'),\n",
       " ('Barri Lieberman', 'Tom Murro'),\n",
       " ('Barri Lieberman', 'Udo Spreitzenbarth'),\n",
       " ('Isabel Kallman', 'Trish Iervolino'),\n",
       " ('Isabel Kallman', 'Ron Iervolino'),\n",
       " ('Isabel Kallman', 'Chuck Grodin'),\n",
       " ('Isabel Kallman', 'Diana Rosario'),\n",
       " ('Isabel Kallman', 'Ali Sussman'),\n",
       " ('Isabel Kallman', 'Sarah Boll'),\n",
       " ('Isabel Kallman', 'Jen Zaleski'),\n",
       " ('Isabel Kallman', 'Alysse Brennan'),\n",
       " ('Isabel Kallman', 'Lindsay Macbeth'),\n",
       " ('Isabel Kallman', 'Tom Murro'),\n",
       " ('Isabel Kallman', 'Udo Spreitzenbarth'),\n",
       " ('Trish Iervolino', 'Ron Iervolino'),\n",
       " ('Trish Iervolino', 'Chuck Grodin'),\n",
       " ('Trish Iervolino', 'Diana Rosario'),\n",
       " ('Trish Iervolino', 'Ali Sussman'),\n",
       " ('Trish Iervolino', 'Sarah Boll'),\n",
       " ('Trish Iervolino', 'Jen Zaleski'),\n",
       " ('Trish Iervolino', 'Alysse Brennan'),\n",
       " ('Trish Iervolino', 'Lindsay Macbeth'),\n",
       " ('Trish Iervolino', 'Tom Murro'),\n",
       " ('Trish Iervolino', 'Udo Spreitzenbarth'),\n",
       " ('Ron Iervolino', 'Chuck Grodin'),\n",
       " ('Ron Iervolino', 'Diana Rosario'),\n",
       " ('Ron Iervolino', 'Ali Sussman'),\n",
       " ('Ron Iervolino', 'Sarah Boll'),\n",
       " ('Ron Iervolino', 'Jen Zaleski'),\n",
       " ('Ron Iervolino', 'Alysse Brennan'),\n",
       " ('Ron Iervolino', 'Lindsay Macbeth'),\n",
       " ('Ron Iervolino', 'Tom Murro'),\n",
       " ('Ron Iervolino', 'Udo Spreitzenbarth'),\n",
       " ('Chuck Grodin', 'Diana Rosario'),\n",
       " ('Chuck Grodin', 'Ali Sussman'),\n",
       " ('Chuck Grodin', 'Sarah Boll'),\n",
       " ('Chuck Grodin', 'Jen Zaleski'),\n",
       " ('Chuck Grodin', 'Alysse Brennan'),\n",
       " ('Chuck Grodin', 'Lindsay Macbeth'),\n",
       " ('Chuck Grodin', 'Tom Murro'),\n",
       " ('Chuck Grodin', 'Udo Spreitzenbarth'),\n",
       " ('Diana Rosario', 'Ali Sussman'),\n",
       " ('Diana Rosario', 'Sarah Boll'),\n",
       " ('Diana Rosario', 'Jen Zaleski'),\n",
       " ('Diana Rosario', 'Alysse Brennan'),\n",
       " ('Diana Rosario', 'Lindsay Macbeth'),\n",
       " ('Diana Rosario', 'Tom Murro'),\n",
       " ('Diana Rosario', 'Udo Spreitzenbarth'),\n",
       " ('Ali Sussman', 'Sarah Boll'),\n",
       " ('Ali Sussman', 'Jen Zaleski'),\n",
       " ('Ali Sussman', 'Alysse Brennan'),\n",
       " ('Ali Sussman', 'Lindsay Macbeth'),\n",
       " ('Ali Sussman', 'Tom Murro'),\n",
       " ('Ali Sussman', 'Udo Spreitzenbarth'),\n",
       " ('Sarah Boll', 'Jen Zaleski'),\n",
       " ('Sarah Boll', 'Alysse Brennan'),\n",
       " ('Sarah Boll', 'Lindsay Macbeth'),\n",
       " ('Sarah Boll', 'Tom Murro'),\n",
       " ('Sarah Boll', 'Udo Spreitzenbarth'),\n",
       " ('Jen Zaleski', 'Alysse Brennan'),\n",
       " ('Jen Zaleski', 'Lindsay Macbeth'),\n",
       " ('Jen Zaleski', 'Tom Murro'),\n",
       " ('Jen Zaleski', 'Udo Spreitzenbarth'),\n",
       " ('Alysse Brennan', 'Lindsay Macbeth'),\n",
       " ('Alysse Brennan', 'Tom Murro'),\n",
       " ('Alysse Brennan', 'Udo Spreitzenbarth'),\n",
       " ('Lindsay Macbeth', 'Tom Murro'),\n",
       " ('Lindsay Macbeth', 'Udo Spreitzenbarth'),\n",
       " ('Tom Murro', 'Udo Spreitzenbarth'),\n",
       " ('Les Lieberman', 'Barri Lieberman'),\n",
       " ('Les Lieberman', 'Isabel Kallman'),\n",
       " ('Les Lieberman', 'Trish Iervolino'),\n",
       " ('Les Lieberman', 'Ron Iervolino'),\n",
       " ('Les Lieberman', 'Chuck Grodin'),\n",
       " ('Les Lieberman', 'Diana Rosario'),\n",
       " ('Les Lieberman', 'Ali Sussman'),\n",
       " ('Les Lieberman', 'Sarah Boll'),\n",
       " ('Les Lieberman', 'Jen Zaleski'),\n",
       " ('Les Lieberman', 'Alysse Brennan'),\n",
       " ('Les Lieberman', 'Lindsay Macbeth'),\n",
       " ('Les Lieberman', 'Tom Murro'),\n",
       " ('Les Lieberman', 'Udo Spreitzenbarth'),\n",
       " ('Les Lieberman', 'Ron Iervolino'),\n",
       " ('Les Lieberman', 'Trish Iervolino'),\n",
       " ('Les Lieberman', 'Russ Middleton'),\n",
       " ('Les Lieberman', 'Lisa Middleton'),\n",
       " ('Barri Lieberman', 'Isabel Kallman'),\n",
       " ('Barri Lieberman', 'Trish Iervolino'),\n",
       " ('Barri Lieberman', 'Ron Iervolino'),\n",
       " ('Barri Lieberman', 'Chuck Grodin'),\n",
       " ('Barri Lieberman', 'Diana Rosario'),\n",
       " ('Barri Lieberman', 'Ali Sussman'),\n",
       " ('Barri Lieberman', 'Sarah Boll'),\n",
       " ('Barri Lieberman', 'Jen Zaleski'),\n",
       " ('Barri Lieberman', 'Alysse Brennan'),\n",
       " ('Barri Lieberman', 'Lindsay Macbeth'),\n",
       " ('Barri Lieberman', 'Tom Murro'),\n",
       " ('Barri Lieberman', 'Udo Spreitzenbarth'),\n",
       " ('Barri Lieberman', 'Ron Iervolino'),\n",
       " ('Barri Lieberman', 'Trish Iervolino'),\n",
       " ('Barri Lieberman', 'Russ Middleton'),\n",
       " ('Barri Lieberman', 'Lisa Middleton'),\n",
       " ('Isabel Kallman', 'Trish Iervolino'),\n",
       " ('Isabel Kallman', 'Ron Iervolino'),\n",
       " ('Isabel Kallman', 'Chuck Grodin'),\n",
       " ('Isabel Kallman', 'Diana Rosario'),\n",
       " ('Isabel Kallman', 'Ali Sussman'),\n",
       " ('Isabel Kallman', 'Sarah Boll'),\n",
       " ('Isabel Kallman', 'Jen Zaleski'),\n",
       " ('Isabel Kallman', 'Alysse Brennan'),\n",
       " ('Isabel Kallman', 'Lindsay Macbeth'),\n",
       " ('Isabel Kallman', 'Tom Murro'),\n",
       " ('Isabel Kallman', 'Udo Spreitzenbarth'),\n",
       " ('Isabel Kallman', 'Ron Iervolino'),\n",
       " ('Isabel Kallman', 'Trish Iervolino'),\n",
       " ('Isabel Kallman', 'Russ Middleton'),\n",
       " ('Isabel Kallman', 'Lisa Middleton'),\n",
       " ('Trish Iervolino', 'Ron Iervolino'),\n",
       " ('Trish Iervolino', 'Chuck Grodin'),\n",
       " ('Trish Iervolino', 'Diana Rosario'),\n",
       " ('Trish Iervolino', 'Ali Sussman'),\n",
       " ('Trish Iervolino', 'Sarah Boll'),\n",
       " ('Trish Iervolino', 'Jen Zaleski'),\n",
       " ('Trish Iervolino', 'Alysse Brennan'),\n",
       " ('Trish Iervolino', 'Lindsay Macbeth'),\n",
       " ('Trish Iervolino', 'Tom Murro'),\n",
       " ('Trish Iervolino', 'Udo Spreitzenbarth'),\n",
       " ('Trish Iervolino', 'Ron Iervolino'),\n",
       " ('Trish Iervolino', 'Trish Iervolino'),\n",
       " ('Trish Iervolino', 'Russ Middleton'),\n",
       " ('Trish Iervolino', 'Lisa Middleton'),\n",
       " ('Ron Iervolino', 'Chuck Grodin'),\n",
       " ('Ron Iervolino', 'Diana Rosario'),\n",
       " ('Ron Iervolino', 'Ali Sussman'),\n",
       " ('Ron Iervolino', 'Sarah Boll'),\n",
       " ('Ron Iervolino', 'Jen Zaleski'),\n",
       " ('Ron Iervolino', 'Alysse Brennan'),\n",
       " ('Ron Iervolino', 'Lindsay Macbeth'),\n",
       " ('Ron Iervolino', 'Tom Murro'),\n",
       " ('Ron Iervolino', 'Udo Spreitzenbarth'),\n",
       " ('Ron Iervolino', 'Ron Iervolino'),\n",
       " ('Ron Iervolino', 'Trish Iervolino'),\n",
       " ('Ron Iervolino', 'Russ Middleton'),\n",
       " ('Ron Iervolino', 'Lisa Middleton'),\n",
       " ('Chuck Grodin', 'Diana Rosario'),\n",
       " ('Chuck Grodin', 'Ali Sussman'),\n",
       " ('Chuck Grodin', 'Sarah Boll'),\n",
       " ('Chuck Grodin', 'Jen Zaleski'),\n",
       " ('Chuck Grodin', 'Alysse Brennan'),\n",
       " ('Chuck Grodin', 'Lindsay Macbeth'),\n",
       " ('Chuck Grodin', 'Tom Murro'),\n",
       " ('Chuck Grodin', 'Udo Spreitzenbarth'),\n",
       " ('Chuck Grodin', 'Ron Iervolino'),\n",
       " ('Chuck Grodin', 'Trish Iervolino'),\n",
       " ('Chuck Grodin', 'Russ Middleton'),\n",
       " ('Chuck Grodin', 'Lisa Middleton'),\n",
       " ('Diana Rosario', 'Ali Sussman'),\n",
       " ('Diana Rosario', 'Sarah Boll'),\n",
       " ('Diana Rosario', 'Jen Zaleski'),\n",
       " ('Diana Rosario', 'Alysse Brennan'),\n",
       " ('Diana Rosario', 'Lindsay Macbeth'),\n",
       " ('Diana Rosario', 'Tom Murro'),\n",
       " ('Diana Rosario', 'Udo Spreitzenbarth'),\n",
       " ('Diana Rosario', 'Ron Iervolino'),\n",
       " ('Diana Rosario', 'Trish Iervolino'),\n",
       " ('Diana Rosario', 'Russ Middleton'),\n",
       " ('Diana Rosario', 'Lisa Middleton'),\n",
       " ('Ali Sussman', 'Sarah Boll'),\n",
       " ('Ali Sussman', 'Jen Zaleski'),\n",
       " ('Ali Sussman', 'Alysse Brennan'),\n",
       " ('Ali Sussman', 'Lindsay Macbeth'),\n",
       " ('Ali Sussman', 'Tom Murro'),\n",
       " ('Ali Sussman', 'Udo Spreitzenbarth'),\n",
       " ('Ali Sussman', 'Ron Iervolino'),\n",
       " ('Ali Sussman', 'Trish Iervolino'),\n",
       " ('Ali Sussman', 'Russ Middleton'),\n",
       " ('Ali Sussman', 'Lisa Middleton'),\n",
       " ('Sarah Boll', 'Jen Zaleski'),\n",
       " ('Sarah Boll', 'Alysse Brennan'),\n",
       " ('Sarah Boll', 'Lindsay Macbeth'),\n",
       " ('Sarah Boll', 'Tom Murro'),\n",
       " ('Sarah Boll', 'Udo Spreitzenbarth'),\n",
       " ('Sarah Boll', 'Ron Iervolino'),\n",
       " ('Sarah Boll', 'Trish Iervolino'),\n",
       " ('Sarah Boll', 'Russ Middleton'),\n",
       " ('Sarah Boll', 'Lisa Middleton'),\n",
       " ('Jen Zaleski', 'Alysse Brennan'),\n",
       " ('Jen Zaleski', 'Lindsay Macbeth'),\n",
       " ('Jen Zaleski', 'Tom Murro'),\n",
       " ('Jen Zaleski', 'Udo Spreitzenbarth'),\n",
       " ('Jen Zaleski', 'Ron Iervolino'),\n",
       " ('Jen Zaleski', 'Trish Iervolino'),\n",
       " ('Jen Zaleski', 'Russ Middleton'),\n",
       " ('Jen Zaleski', 'Lisa Middleton'),\n",
       " ('Alysse Brennan', 'Lindsay Macbeth'),\n",
       " ('Alysse Brennan', 'Tom Murro'),\n",
       " ('Alysse Brennan', 'Udo Spreitzenbarth'),\n",
       " ('Alysse Brennan', 'Ron Iervolino'),\n",
       " ('Alysse Brennan', 'Trish Iervolino'),\n",
       " ('Alysse Brennan', 'Russ Middleton'),\n",
       " ('Alysse Brennan', 'Lisa Middleton'),\n",
       " ('Lindsay Macbeth', 'Tom Murro'),\n",
       " ('Lindsay Macbeth', 'Udo Spreitzenbarth'),\n",
       " ('Lindsay Macbeth', 'Ron Iervolino'),\n",
       " ('Lindsay Macbeth', 'Trish Iervolino'),\n",
       " ('Lindsay Macbeth', 'Russ Middleton'),\n",
       " ('Lindsay Macbeth', 'Lisa Middleton'),\n",
       " ('Tom Murro', 'Udo Spreitzenbarth'),\n",
       " ('Tom Murro', 'Ron Iervolino'),\n",
       " ('Tom Murro', 'Trish Iervolino'),\n",
       " ('Tom Murro', 'Russ Middleton'),\n",
       " ('Tom Murro', 'Lisa Middleton'),\n",
       " ('Udo Spreitzenbarth', 'Ron Iervolino'),\n",
       " ('Udo Spreitzenbarth', 'Trish Iervolino'),\n",
       " ('Udo Spreitzenbarth', 'Russ Middleton'),\n",
       " ('Udo Spreitzenbarth', 'Lisa Middleton'),\n",
       " ('Ron Iervolino', 'Trish Iervolino'),\n",
       " ('Ron Iervolino', 'Russ Middleton'),\n",
       " ('Ron Iervolino', 'Lisa Middleton'),\n",
       " ('Trish Iervolino', 'Russ Middleton'),\n",
       " ('Trish Iervolino', 'Lisa Middleton'),\n",
       " ('Russ Middleton', 'Lisa Middleton'),\n",
       " ('Les Lieberman', 'Barri Lieberman'),\n",
       " ('Les Lieberman', 'Isabel Kallman'),\n",
       " ('Les Lieberman', 'Trish Iervolino'),\n",
       " ('Les Lieberman', 'Ron Iervolino'),\n",
       " ('Les Lieberman', 'Chuck Grodin'),\n",
       " ('Les Lieberman', 'Diana Rosario'),\n",
       " ('Les Lieberman', 'Ali Sussman'),\n",
       " ('Les Lieberman', 'Sarah Boll'),\n",
       " ('Les Lieberman', 'Jen Zaleski'),\n",
       " ('Les Lieberman', 'Alysse Brennan'),\n",
       " ('Les Lieberman', 'Lindsay Macbeth'),\n",
       " ('Les Lieberman', 'Tom Murro'),\n",
       " ('Les Lieberman', 'Udo Spreitzenbarth'),\n",
       " ('Les Lieberman', 'Ron Iervolino'),\n",
       " ('Les Lieberman', 'Trish Iervolino'),\n",
       " ('Les Lieberman', 'Russ Middleton'),\n",
       " ('Les Lieberman', 'Lisa Middleton'),\n",
       " ('Les Lieberman', 'Barbara Loughlin'),\n",
       " ('Les Lieberman', 'Gerald Loughlin'),\n",
       " ('Les Lieberman', 'Debbie Gelston'),\n",
       " ('Barri Lieberman', 'Isabel Kallman'),\n",
       " ('Barri Lieberman', 'Trish Iervolino'),\n",
       " ('Barri Lieberman', 'Ron Iervolino'),\n",
       " ('Barri Lieberman', 'Chuck Grodin'),\n",
       " ('Barri Lieberman', 'Diana Rosario'),\n",
       " ('Barri Lieberman', 'Ali Sussman'),\n",
       " ('Barri Lieberman', 'Sarah Boll'),\n",
       " ('Barri Lieberman', 'Jen Zaleski'),\n",
       " ('Barri Lieberman', 'Alysse Brennan'),\n",
       " ('Barri Lieberman', 'Lindsay Macbeth'),\n",
       " ('Barri Lieberman', 'Tom Murro'),\n",
       " ('Barri Lieberman', 'Udo Spreitzenbarth'),\n",
       " ('Barri Lieberman', 'Ron Iervolino'),\n",
       " ('Barri Lieberman', 'Trish Iervolino'),\n",
       " ('Barri Lieberman', 'Russ Middleton'),\n",
       " ('Barri Lieberman', 'Lisa Middleton'),\n",
       " ('Barri Lieberman', 'Barbara Loughlin'),\n",
       " ('Barri Lieberman', 'Gerald Loughlin'),\n",
       " ('Barri Lieberman', 'Debbie Gelston'),\n",
       " ('Isabel Kallman', 'Trish Iervolino'),\n",
       " ('Isabel Kallman', 'Ron Iervolino'),\n",
       " ('Isabel Kallman', 'Chuck Grodin'),\n",
       " ('Isabel Kallman', 'Diana Rosario'),\n",
       " ('Isabel Kallman', 'Ali Sussman'),\n",
       " ('Isabel Kallman', 'Sarah Boll'),\n",
       " ('Isabel Kallman', 'Jen Zaleski'),\n",
       " ('Isabel Kallman', 'Alysse Brennan'),\n",
       " ('Isabel Kallman', 'Lindsay Macbeth'),\n",
       " ('Isabel Kallman', 'Tom Murro'),\n",
       " ('Isabel Kallman', 'Udo Spreitzenbarth'),\n",
       " ('Isabel Kallman', 'Ron Iervolino'),\n",
       " ('Isabel Kallman', 'Trish Iervolino'),\n",
       " ('Isabel Kallman', 'Russ Middleton'),\n",
       " ('Isabel Kallman', 'Lisa Middleton'),\n",
       " ('Isabel Kallman', 'Barbara Loughlin'),\n",
       " ('Isabel Kallman', 'Gerald Loughlin'),\n",
       " ('Isabel Kallman', 'Debbie Gelston'),\n",
       " ('Trish Iervolino', 'Ron Iervolino'),\n",
       " ('Trish Iervolino', 'Chuck Grodin'),\n",
       " ('Trish Iervolino', 'Diana Rosario'),\n",
       " ('Trish Iervolino', 'Ali Sussman'),\n",
       " ('Trish Iervolino', 'Sarah Boll'),\n",
       " ('Trish Iervolino', 'Jen Zaleski'),\n",
       " ('Trish Iervolino', 'Alysse Brennan'),\n",
       " ('Trish Iervolino', 'Lindsay Macbeth'),\n",
       " ('Trish Iervolino', 'Tom Murro'),\n",
       " ('Trish Iervolino', 'Udo Spreitzenbarth'),\n",
       " ('Trish Iervolino', 'Ron Iervolino'),\n",
       " ('Trish Iervolino', 'Trish Iervolino'),\n",
       " ('Trish Iervolino', 'Russ Middleton'),\n",
       " ('Trish Iervolino', 'Lisa Middleton'),\n",
       " ('Trish Iervolino', 'Barbara Loughlin'),\n",
       " ('Trish Iervolino', 'Gerald Loughlin'),\n",
       " ('Trish Iervolino', 'Debbie Gelston'),\n",
       " ('Ron Iervolino', 'Chuck Grodin'),\n",
       " ('Ron Iervolino', 'Diana Rosario'),\n",
       " ('Ron Iervolino', 'Ali Sussman'),\n",
       " ('Ron Iervolino', 'Sarah Boll'),\n",
       " ('Ron Iervolino', 'Jen Zaleski'),\n",
       " ('Ron Iervolino', 'Alysse Brennan'),\n",
       " ('Ron Iervolino', 'Lindsay Macbeth'),\n",
       " ('Ron Iervolino', 'Tom Murro'),\n",
       " ('Ron Iervolino', 'Udo Spreitzenbarth'),\n",
       " ('Ron Iervolino', 'Ron Iervolino'),\n",
       " ('Ron Iervolino', 'Trish Iervolino'),\n",
       " ('Ron Iervolino', 'Russ Middleton'),\n",
       " ('Ron Iervolino', 'Lisa Middleton'),\n",
       " ('Ron Iervolino', 'Barbara Loughlin'),\n",
       " ('Ron Iervolino', 'Gerald Loughlin'),\n",
       " ('Ron Iervolino', 'Debbie Gelston'),\n",
       " ('Chuck Grodin', 'Diana Rosario'),\n",
       " ('Chuck Grodin', 'Ali Sussman'),\n",
       " ('Chuck Grodin', 'Sarah Boll'),\n",
       " ('Chuck Grodin', 'Jen Zaleski'),\n",
       " ('Chuck Grodin', 'Alysse Brennan'),\n",
       " ('Chuck Grodin', 'Lindsay Macbeth'),\n",
       " ('Chuck Grodin', 'Tom Murro'),\n",
       " ('Chuck Grodin', 'Udo Spreitzenbarth'),\n",
       " ('Chuck Grodin', 'Ron Iervolino'),\n",
       " ('Chuck Grodin', 'Trish Iervolino'),\n",
       " ('Chuck Grodin', 'Russ Middleton'),\n",
       " ('Chuck Grodin', 'Lisa Middleton'),\n",
       " ('Chuck Grodin', 'Barbara Loughlin'),\n",
       " ('Chuck Grodin', 'Gerald Loughlin'),\n",
       " ('Chuck Grodin', 'Debbie Gelston'),\n",
       " ('Diana Rosario', 'Ali Sussman'),\n",
       " ('Diana Rosario', 'Sarah Boll'),\n",
       " ('Diana Rosario', 'Jen Zaleski'),\n",
       " ('Diana Rosario', 'Alysse Brennan'),\n",
       " ('Diana Rosario', 'Lindsay Macbeth'),\n",
       " ('Diana Rosario', 'Tom Murro'),\n",
       " ('Diana Rosario', 'Udo Spreitzenbarth'),\n",
       " ('Diana Rosario', 'Ron Iervolino'),\n",
       " ('Diana Rosario', 'Trish Iervolino'),\n",
       " ('Diana Rosario', 'Russ Middleton'),\n",
       " ('Diana Rosario', 'Lisa Middleton'),\n",
       " ('Diana Rosario', 'Barbara Loughlin'),\n",
       " ('Diana Rosario', 'Gerald Loughlin'),\n",
       " ('Diana Rosario', 'Debbie Gelston'),\n",
       " ('Ali Sussman', 'Sarah Boll'),\n",
       " ('Ali Sussman', 'Jen Zaleski'),\n",
       " ('Ali Sussman', 'Alysse Brennan'),\n",
       " ('Ali Sussman', 'Lindsay Macbeth'),\n",
       " ('Ali Sussman', 'Tom Murro'),\n",
       " ('Ali Sussman', 'Udo Spreitzenbarth'),\n",
       " ('Ali Sussman', 'Ron Iervolino'),\n",
       " ('Ali Sussman', 'Trish Iervolino'),\n",
       " ('Ali Sussman', 'Russ Middleton'),\n",
       " ('Ali Sussman', 'Lisa Middleton'),\n",
       " ('Ali Sussman', 'Barbara Loughlin'),\n",
       " ('Ali Sussman', 'Gerald Loughlin'),\n",
       " ('Ali Sussman', 'Debbie Gelston'),\n",
       " ('Sarah Boll', 'Jen Zaleski'),\n",
       " ('Sarah Boll', 'Alysse Brennan'),\n",
       " ('Sarah Boll', 'Lindsay Macbeth'),\n",
       " ('Sarah Boll', 'Tom Murro'),\n",
       " ('Sarah Boll', 'Udo Spreitzenbarth'),\n",
       " ('Sarah Boll', 'Ron Iervolino'),\n",
       " ('Sarah Boll', 'Trish Iervolino'),\n",
       " ('Sarah Boll', 'Russ Middleton'),\n",
       " ('Sarah Boll', 'Lisa Middleton'),\n",
       " ('Sarah Boll', 'Barbara Loughlin'),\n",
       " ('Sarah Boll', 'Gerald Loughlin'),\n",
       " ('Sarah Boll', 'Debbie Gelston'),\n",
       " ('Jen Zaleski', 'Alysse Brennan'),\n",
       " ('Jen Zaleski', 'Lindsay Macbeth'),\n",
       " ('Jen Zaleski', 'Tom Murro'),\n",
       " ('Jen Zaleski', 'Udo Spreitzenbarth'),\n",
       " ('Jen Zaleski', 'Ron Iervolino'),\n",
       " ('Jen Zaleski', 'Trish Iervolino'),\n",
       " ('Jen Zaleski', 'Russ Middleton'),\n",
       " ('Jen Zaleski', 'Lisa Middleton'),\n",
       " ('Jen Zaleski', 'Barbara Loughlin'),\n",
       " ('Jen Zaleski', 'Gerald Loughlin'),\n",
       " ('Jen Zaleski', 'Debbie Gelston'),\n",
       " ('Alysse Brennan', 'Lindsay Macbeth'),\n",
       " ('Alysse Brennan', 'Tom Murro'),\n",
       " ('Alysse Brennan', 'Udo Spreitzenbarth'),\n",
       " ('Alysse Brennan', 'Ron Iervolino'),\n",
       " ('Alysse Brennan', 'Trish Iervolino'),\n",
       " ('Alysse Brennan', 'Russ Middleton'),\n",
       " ('Alysse Brennan', 'Lisa Middleton'),\n",
       " ('Alysse Brennan', 'Barbara Loughlin'),\n",
       " ('Alysse Brennan', 'Gerald Loughlin'),\n",
       " ('Alysse Brennan', 'Debbie Gelston'),\n",
       " ('Lindsay Macbeth', 'Tom Murro'),\n",
       " ('Lindsay Macbeth', 'Udo Spreitzenbarth'),\n",
       " ('Lindsay Macbeth', 'Ron Iervolino'),\n",
       " ('Lindsay Macbeth', 'Trish Iervolino'),\n",
       " ('Lindsay Macbeth', 'Russ Middleton'),\n",
       " ('Lindsay Macbeth', 'Lisa Middleton'),\n",
       " ('Lindsay Macbeth', 'Barbara Loughlin'),\n",
       " ('Lindsay Macbeth', 'Gerald Loughlin'),\n",
       " ('Lindsay Macbeth', 'Debbie Gelston'),\n",
       " ('Tom Murro', 'Udo Spreitzenbarth'),\n",
       " ('Tom Murro', 'Ron Iervolino'),\n",
       " ('Tom Murro', 'Trish Iervolino'),\n",
       " ('Tom Murro', 'Russ Middleton'),\n",
       " ('Tom Murro', 'Lisa Middleton'),\n",
       " ('Tom Murro', 'Barbara Loughlin'),\n",
       " ('Tom Murro', 'Gerald Loughlin'),\n",
       " ('Tom Murro', 'Debbie Gelston'),\n",
       " ('Udo Spreitzenbarth', 'Ron Iervolino'),\n",
       " ('Udo Spreitzenbarth', 'Trish Iervolino'),\n",
       " ('Udo Spreitzenbarth', 'Russ Middleton'),\n",
       " ('Udo Spreitzenbarth', 'Lisa Middleton'),\n",
       " ('Udo Spreitzenbarth', 'Barbara Loughlin'),\n",
       " ('Udo Spreitzenbarth', 'Gerald Loughlin'),\n",
       " ('Udo Spreitzenbarth', 'Debbie Gelston'),\n",
       " ('Ron Iervolino', 'Trish Iervolino'),\n",
       " ('Ron Iervolino', 'Russ Middleton'),\n",
       " ('Ron Iervolino', 'Lisa Middleton'),\n",
       " ('Ron Iervolino', 'Barbara Loughlin'),\n",
       " ('Ron Iervolino', 'Gerald Loughlin'),\n",
       " ('Ron Iervolino', 'Debbie Gelston'),\n",
       " ('Trish Iervolino', 'Russ Middleton'),\n",
       " ('Trish Iervolino', 'Lisa Middleton'),\n",
       " ('Trish Iervolino', 'Barbara Loughlin'),\n",
       " ('Trish Iervolino', 'Gerald Loughlin'),\n",
       " ('Trish Iervolino', 'Debbie Gelston'),\n",
       " ('Russ Middleton', 'Lisa Middleton'),\n",
       " ('Russ Middleton', 'Barbara Loughlin'),\n",
       " ('Russ Middleton', 'Gerald Loughlin'),\n",
       " ('Russ Middleton', 'Debbie Gelston'),\n",
       " ('Lisa Middleton', 'Barbara Loughlin'),\n",
       " ('Lisa Middleton', 'Gerald Loughlin'),\n",
       " ('Lisa Middleton', 'Debbie Gelston'),\n",
       " ('Barbara Loughlin', 'Gerald Loughlin'),\n",
       " ('Barbara Loughlin', 'Debbie Gelston'),\n",
       " ('Gerald Loughlin', 'Debbie Gelston'),\n",
       " ('Les Lieberman', 'Barri Lieberman'),\n",
       " ('Les Lieberman', 'Isabel Kallman'),\n",
       " ('Les Lieberman', 'Trish Iervolino'),\n",
       " ('Les Lieberman', 'Ron Iervolino'),\n",
       " ('Les Lieberman', 'Chuck Grodin'),\n",
       " ('Les Lieberman', 'Diana Rosario'),\n",
       " ('Les Lieberman', 'Ali Sussman'),\n",
       " ('Les Lieberman', 'Sarah Boll'),\n",
       " ('Les Lieberman', 'Jen Zaleski'),\n",
       " ('Les Lieberman', 'Alysse Brennan'),\n",
       " ('Les Lieberman', 'Lindsay Macbeth'),\n",
       " ('Les Lieberman', 'Tom Murro'),\n",
       " ('Les Lieberman', 'Udo Spreitzenbarth'),\n",
       " ('Les Lieberman', 'Ron Iervolino'),\n",
       " ('Les Lieberman', 'Trish Iervolino'),\n",
       " ('Les Lieberman', 'Russ Middleton'),\n",
       " ('Les Lieberman', 'Lisa Middleton'),\n",
       " ('Les Lieberman', 'Barbara Loughlin'),\n",
       " ('Les Lieberman', 'Gerald Loughlin'),\n",
       " ('Les Lieberman', 'Debbie Gelston'),\n",
       " ('Les Lieberman', 'Julianne Michelle'),\n",
       " ('Barri Lieberman', 'Isabel Kallman'),\n",
       " ('Barri Lieberman', 'Trish Iervolino'),\n",
       " ('Barri Lieberman', 'Ron Iervolino'),\n",
       " ('Barri Lieberman', 'Chuck Grodin'),\n",
       " ('Barri Lieberman', 'Diana Rosario'),\n",
       " ('Barri Lieberman', 'Ali Sussman'),\n",
       " ('Barri Lieberman', 'Sarah Boll'),\n",
       " ('Barri Lieberman', 'Jen Zaleski'),\n",
       " ('Barri Lieberman', 'Alysse Brennan'),\n",
       " ('Barri Lieberman', 'Lindsay Macbeth'),\n",
       " ('Barri Lieberman', 'Tom Murro'),\n",
       " ('Barri Lieberman', 'Udo Spreitzenbarth'),\n",
       " ('Barri Lieberman', 'Ron Iervolino'),\n",
       " ('Barri Lieberman', 'Trish Iervolino'),\n",
       " ('Barri Lieberman', 'Russ Middleton'),\n",
       " ('Barri Lieberman', 'Lisa Middleton'),\n",
       " ('Barri Lieberman', 'Barbara Loughlin'),\n",
       " ('Barri Lieberman', 'Gerald Loughlin'),\n",
       " ('Barri Lieberman', 'Debbie Gelston'),\n",
       " ('Barri Lieberman', 'Julianne Michelle'),\n",
       " ('Isabel Kallman', 'Trish Iervolino'),\n",
       " ('Isabel Kallman', 'Ron Iervolino'),\n",
       " ('Isabel Kallman', 'Chuck Grodin'),\n",
       " ('Isabel Kallman', 'Diana Rosario'),\n",
       " ('Isabel Kallman', 'Ali Sussman'),\n",
       " ('Isabel Kallman', 'Sarah Boll'),\n",
       " ('Isabel Kallman', 'Jen Zaleski'),\n",
       " ('Isabel Kallman', 'Alysse Brennan'),\n",
       " ('Isabel Kallman', 'Lindsay Macbeth'),\n",
       " ('Isabel Kallman', 'Tom Murro'),\n",
       " ('Isabel Kallman', 'Udo Spreitzenbarth'),\n",
       " ('Isabel Kallman', 'Ron Iervolino'),\n",
       " ('Isabel Kallman', 'Trish Iervolino'),\n",
       " ('Isabel Kallman', 'Russ Middleton'),\n",
       " ('Isabel Kallman', 'Lisa Middleton'),\n",
       " ('Isabel Kallman', 'Barbara Loughlin'),\n",
       " ('Isabel Kallman', 'Gerald Loughlin'),\n",
       " ('Isabel Kallman', 'Debbie Gelston'),\n",
       " ('Isabel Kallman', 'Julianne Michelle'),\n",
       " ('Trish Iervolino', 'Ron Iervolino'),\n",
       " ('Trish Iervolino', 'Chuck Grodin'),\n",
       " ('Trish Iervolino', 'Diana Rosario'),\n",
       " ('Trish Iervolino', 'Ali Sussman'),\n",
       " ('Trish Iervolino', 'Sarah Boll'),\n",
       " ('Trish Iervolino', 'Jen Zaleski'),\n",
       " ('Trish Iervolino', 'Alysse Brennan'),\n",
       " ('Trish Iervolino', 'Lindsay Macbeth'),\n",
       " ('Trish Iervolino', 'Tom Murro'),\n",
       " ('Trish Iervolino', 'Udo Spreitzenbarth'),\n",
       " ('Trish Iervolino', 'Ron Iervolino'),\n",
       " ('Trish Iervolino', 'Trish Iervolino'),\n",
       " ('Trish Iervolino', 'Russ Middleton'),\n",
       " ('Trish Iervolino', 'Lisa Middleton'),\n",
       " ('Trish Iervolino', 'Barbara Loughlin'),\n",
       " ('Trish Iervolino', 'Gerald Loughlin'),\n",
       " ('Trish Iervolino', 'Debbie Gelston'),\n",
       " ('Trish Iervolino', 'Julianne Michelle'),\n",
       " ('Ron Iervolino', 'Chuck Grodin'),\n",
       " ('Ron Iervolino', 'Diana Rosario'),\n",
       " ('Ron Iervolino', 'Ali Sussman'),\n",
       " ('Ron Iervolino', 'Sarah Boll'),\n",
       " ('Ron Iervolino', 'Jen Zaleski'),\n",
       " ('Ron Iervolino', 'Alysse Brennan'),\n",
       " ('Ron Iervolino', 'Lindsay Macbeth'),\n",
       " ('Ron Iervolino', 'Tom Murro'),\n",
       " ('Ron Iervolino', 'Udo Spreitzenbarth'),\n",
       " ('Ron Iervolino', 'Ron Iervolino'),\n",
       " ('Ron Iervolino', 'Trish Iervolino'),\n",
       " ('Ron Iervolino', 'Russ Middleton'),\n",
       " ('Ron Iervolino', 'Lisa Middleton'),\n",
       " ('Ron Iervolino', 'Barbara Loughlin'),\n",
       " ('Ron Iervolino', 'Gerald Loughlin'),\n",
       " ('Ron Iervolino', 'Debbie Gelston'),\n",
       " ('Ron Iervolino', 'Julianne Michelle'),\n",
       " ('Chuck Grodin', 'Diana Rosario'),\n",
       " ('Chuck Grodin', 'Ali Sussman'),\n",
       " ('Chuck Grodin', 'Sarah Boll'),\n",
       " ('Chuck Grodin', 'Jen Zaleski'),\n",
       " ('Chuck Grodin', 'Alysse Brennan'),\n",
       " ('Chuck Grodin', 'Lindsay Macbeth'),\n",
       " ('Chuck Grodin', 'Tom Murro'),\n",
       " ('Chuck Grodin', 'Udo Spreitzenbarth'),\n",
       " ('Chuck Grodin', 'Ron Iervolino'),\n",
       " ('Chuck Grodin', 'Trish Iervolino'),\n",
       " ('Chuck Grodin', 'Russ Middleton'),\n",
       " ('Chuck Grodin', 'Lisa Middleton'),\n",
       " ('Chuck Grodin', 'Barbara Loughlin'),\n",
       " ('Chuck Grodin', 'Gerald Loughlin'),\n",
       " ('Chuck Grodin', 'Debbie Gelston'),\n",
       " ('Chuck Grodin', 'Julianne Michelle'),\n",
       " ('Diana Rosario', 'Ali Sussman'),\n",
       " ('Diana Rosario', 'Sarah Boll'),\n",
       " ('Diana Rosario', 'Jen Zaleski'),\n",
       " ('Diana Rosario', 'Alysse Brennan'),\n",
       " ('Diana Rosario', 'Lindsay Macbeth'),\n",
       " ('Diana Rosario', 'Tom Murro'),\n",
       " ('Diana Rosario', 'Udo Spreitzenbarth'),\n",
       " ('Diana Rosario', 'Ron Iervolino'),\n",
       " ('Diana Rosario', 'Trish Iervolino'),\n",
       " ('Diana Rosario', 'Russ Middleton'),\n",
       " ('Diana Rosario', 'Lisa Middleton'),\n",
       " ('Diana Rosario', 'Barbara Loughlin'),\n",
       " ('Diana Rosario', 'Gerald Loughlin'),\n",
       " ('Diana Rosario', 'Debbie Gelston'),\n",
       " ('Diana Rosario', 'Julianne Michelle'),\n",
       " ('Ali Sussman', 'Sarah Boll'),\n",
       " ('Ali Sussman', 'Jen Zaleski'),\n",
       " ('Ali Sussman', 'Alysse Brennan'),\n",
       " ('Ali Sussman', 'Lindsay Macbeth'),\n",
       " ('Ali Sussman', 'Tom Murro'),\n",
       " ('Ali Sussman', 'Udo Spreitzenbarth'),\n",
       " ('Ali Sussman', 'Ron Iervolino'),\n",
       " ('Ali Sussman', 'Trish Iervolino'),\n",
       " ('Ali Sussman', 'Russ Middleton'),\n",
       " ('Ali Sussman', 'Lisa Middleton'),\n",
       " ('Ali Sussman', 'Barbara Loughlin'),\n",
       " ('Ali Sussman', 'Gerald Loughlin'),\n",
       " ('Ali Sussman', 'Debbie Gelston'),\n",
       " ('Ali Sussman', 'Julianne Michelle'),\n",
       " ('Sarah Boll', 'Jen Zaleski'),\n",
       " ('Sarah Boll', 'Alysse Brennan'),\n",
       " ('Sarah Boll', 'Lindsay Macbeth'),\n",
       " ('Sarah Boll', 'Tom Murro'),\n",
       " ('Sarah Boll', 'Udo Spreitzenbarth'),\n",
       " ('Sarah Boll', 'Ron Iervolino'),\n",
       " ('Sarah Boll', 'Trish Iervolino'),\n",
       " ('Sarah Boll', 'Russ Middleton'),\n",
       " ('Sarah Boll', 'Lisa Middleton'),\n",
       " ('Sarah Boll', 'Barbara Loughlin'),\n",
       " ('Sarah Boll', 'Gerald Loughlin'),\n",
       " ('Sarah Boll', 'Debbie Gelston'),\n",
       " ('Sarah Boll', 'Julianne Michelle'),\n",
       " ('Jen Zaleski', 'Alysse Brennan'),\n",
       " ('Jen Zaleski', 'Lindsay Macbeth'),\n",
       " ('Jen Zaleski', 'Tom Murro'),\n",
       " ('Jen Zaleski', 'Udo Spreitzenbarth'),\n",
       " ('Jen Zaleski', 'Ron Iervolino'),\n",
       " ('Jen Zaleski', 'Trish Iervolino'),\n",
       " ('Jen Zaleski', 'Russ Middleton'),\n",
       " ('Jen Zaleski', 'Lisa Middleton'),\n",
       " ('Jen Zaleski', 'Barbara Loughlin'),\n",
       " ('Jen Zaleski', 'Gerald Loughlin'),\n",
       " ('Jen Zaleski', 'Debbie Gelston'),\n",
       " ('Jen Zaleski', 'Julianne Michelle'),\n",
       " ('Alysse Brennan', 'Lindsay Macbeth'),\n",
       " ('Alysse Brennan', 'Tom Murro'),\n",
       " ('Alysse Brennan', 'Udo Spreitzenbarth'),\n",
       " ('Alysse Brennan', 'Ron Iervolino'),\n",
       " ('Alysse Brennan', 'Trish Iervolino'),\n",
       " ('Alysse Brennan', 'Russ Middleton'),\n",
       " ('Alysse Brennan', 'Lisa Middleton'),\n",
       " ('Alysse Brennan', 'Barbara Loughlin'),\n",
       " ('Alysse Brennan', 'Gerald Loughlin'),\n",
       " ('Alysse Brennan', 'Debbie Gelston'),\n",
       " ('Alysse Brennan', 'Julianne Michelle'),\n",
       " ('Lindsay Macbeth', 'Tom Murro'),\n",
       " ('Lindsay Macbeth', 'Udo Spreitzenbarth'),\n",
       " ('Lindsay Macbeth', 'Ron Iervolino'),\n",
       " ('Lindsay Macbeth', 'Trish Iervolino'),\n",
       " ('Lindsay Macbeth', 'Russ Middleton'),\n",
       " ('Lindsay Macbeth', 'Lisa Middleton'),\n",
       " ('Lindsay Macbeth', 'Barbara Loughlin'),\n",
       " ('Lindsay Macbeth', 'Gerald Loughlin'),\n",
       " ('Lindsay Macbeth', 'Debbie Gelston'),\n",
       " ('Lindsay Macbeth', 'Julianne Michelle'),\n",
       " ('Tom Murro', 'Udo Spreitzenbarth'),\n",
       " ('Tom Murro', 'Ron Iervolino'),\n",
       " ('Tom Murro', 'Trish Iervolino'),\n",
       " ('Tom Murro', 'Russ Middleton'),\n",
       " ('Tom Murro', 'Lisa Middleton'),\n",
       " ('Tom Murro', 'Barbara Loughlin'),\n",
       " ('Tom Murro', 'Gerald Loughlin'),\n",
       " ('Tom Murro', 'Debbie Gelston'),\n",
       " ('Tom Murro', 'Julianne Michelle'),\n",
       " ('Udo Spreitzenbarth', 'Ron Iervolino'),\n",
       " ('Udo Spreitzenbarth', 'Trish Iervolino'),\n",
       " ('Udo Spreitzenbarth', 'Russ Middleton'),\n",
       " ('Udo Spreitzenbarth', 'Lisa Middleton'),\n",
       " ('Udo Spreitzenbarth', 'Barbara Loughlin'),\n",
       " ('Udo Spreitzenbarth', 'Gerald Loughlin'),\n",
       " ('Udo Spreitzenbarth', 'Debbie Gelston'),\n",
       " ('Udo Spreitzenbarth', 'Julianne Michelle'),\n",
       " ('Ron Iervolino', 'Trish Iervolino'),\n",
       " ('Ron Iervolino', 'Russ Middleton'),\n",
       " ('Ron Iervolino', 'Lisa Middleton'),\n",
       " ('Ron Iervolino', 'Barbara Loughlin'),\n",
       " ('Ron Iervolino', 'Gerald Loughlin'),\n",
       " ('Ron Iervolino', 'Debbie Gelston'),\n",
       " ('Ron Iervolino', 'Julianne Michelle'),\n",
       " ('Trish Iervolino', 'Russ Middleton'),\n",
       " ('Trish Iervolino', 'Lisa Middleton'),\n",
       " ('Trish Iervolino', 'Barbara Loughlin'),\n",
       " ('Trish Iervolino', 'Gerald Loughlin'),\n",
       " ('Trish Iervolino', 'Debbie Gelston'),\n",
       " ('Trish Iervolino', 'Julianne Michelle'),\n",
       " ('Russ Middleton', 'Lisa Middleton'),\n",
       " ('Russ Middleton', 'Barbara Loughlin'),\n",
       " ('Russ Middleton', 'Gerald Loughlin'),\n",
       " ('Russ Middleton', 'Debbie Gelston'),\n",
       " ('Russ Middleton', 'Julianne Michelle'),\n",
       " ('Lisa Middleton', 'Barbara Loughlin'),\n",
       " ('Lisa Middleton', 'Gerald Loughlin'),\n",
       " ('Lisa Middleton', 'Debbie Gelston'),\n",
       " ('Lisa Middleton', 'Julianne Michelle'),\n",
       " ('Barbara Loughlin', 'Gerald Loughlin'),\n",
       " ('Barbara Loughlin', 'Debbie Gelston'),\n",
       " ('Barbara Loughlin', 'Julianne Michelle'),\n",
       " ('Gerald Loughlin', 'Debbie Gelston'),\n",
       " ('Gerald Loughlin', 'Julianne Michelle'),\n",
       " ('Debbie Gelston', 'Julianne Michelle'),\n",
       " ('Les Lieberman', 'Barri Lieberman'),\n",
       " ('Les Lieberman', 'Isabel Kallman'),\n",
       " ('Les Lieberman', 'Trish Iervolino'),\n",
       " ('Les Lieberman', 'Ron Iervolino'),\n",
       " ('Les Lieberman', 'Chuck Grodin'),\n",
       " ('Les Lieberman', 'Diana Rosario'),\n",
       " ('Les Lieberman', 'Ali Sussman'),\n",
       " ('Les Lieberman', 'Sarah Boll'),\n",
       " ('Les Lieberman', 'Jen Zaleski'),\n",
       " ('Les Lieberman', 'Alysse Brennan'),\n",
       " ('Les Lieberman', 'Lindsay Macbeth'),\n",
       " ('Les Lieberman', 'Tom Murro'),\n",
       " ('Les Lieberman', 'Udo Spreitzenbarth'),\n",
       " ('Les Lieberman', 'Ron Iervolino'),\n",
       " ('Les Lieberman', 'Trish Iervolino'),\n",
       " ('Les Lieberman', 'Russ Middleton'),\n",
       " ('Les Lieberman', 'Lisa Middleton'),\n",
       " ('Les Lieberman', 'Barbara Loughlin'),\n",
       " ('Les Lieberman', 'Gerald Loughlin'),\n",
       " ('Les Lieberman', 'Debbie Gelston'),\n",
       " ('Les Lieberman', 'Julianne Michelle'),\n",
       " ('Les Lieberman', 'Heather Robinson'),\n",
       " ('Les Lieberman', 'Kiwan Nichols'),\n",
       " ('Les Lieberman', 'Jimmy Nichols'),\n",
       " ('Les Lieberman', 'Melanie Carbone'),\n",
       " ('Les Lieberman', 'Nancy Brown'),\n",
       " ('Barri Lieberman', 'Isabel Kallman'),\n",
       " ('Barri Lieberman', 'Trish Iervolino'),\n",
       " ('Barri Lieberman', 'Ron Iervolino'),\n",
       " ('Barri Lieberman', 'Chuck Grodin'),\n",
       " ('Barri Lieberman', 'Diana Rosario'),\n",
       " ('Barri Lieberman', 'Ali Sussman'),\n",
       " ('Barri Lieberman', 'Sarah Boll'),\n",
       " ('Barri Lieberman', 'Jen Zaleski'),\n",
       " ('Barri Lieberman', 'Alysse Brennan'),\n",
       " ('Barri Lieberman', 'Lindsay Macbeth'),\n",
       " ('Barri Lieberman', 'Tom Murro'),\n",
       " ('Barri Lieberman', 'Udo Spreitzenbarth'),\n",
       " ('Barri Lieberman', 'Ron Iervolino'),\n",
       " ('Barri Lieberman', 'Trish Iervolino'),\n",
       " ('Barri Lieberman', 'Russ Middleton'),\n",
       " ('Barri Lieberman', 'Lisa Middleton'),\n",
       " ('Barri Lieberman', 'Barbara Loughlin'),\n",
       " ('Barri Lieberman', 'Gerald Loughlin'),\n",
       " ('Barri Lieberman', 'Debbie Gelston'),\n",
       " ('Barri Lieberman', 'Julianne Michelle'),\n",
       " ('Barri Lieberman', 'Heather Robinson'),\n",
       " ('Barri Lieberman', 'Kiwan Nichols'),\n",
       " ('Barri Lieberman', 'Jimmy Nichols'),\n",
       " ('Barri Lieberman', 'Melanie Carbone'),\n",
       " ('Barri Lieberman', 'Nancy Brown'),\n",
       " ('Isabel Kallman', 'Trish Iervolino'),\n",
       " ('Isabel Kallman', 'Ron Iervolino'),\n",
       " ('Isabel Kallman', 'Chuck Grodin'),\n",
       " ('Isabel Kallman', 'Diana Rosario'),\n",
       " ('Isabel Kallman', 'Ali Sussman'),\n",
       " ('Isabel Kallman', 'Sarah Boll'),\n",
       " ('Isabel Kallman', 'Jen Zaleski'),\n",
       " ('Isabel Kallman', 'Alysse Brennan'),\n",
       " ('Isabel Kallman', 'Lindsay Macbeth'),\n",
       " ('Isabel Kallman', 'Tom Murro'),\n",
       " ('Isabel Kallman', 'Udo Spreitzenbarth'),\n",
       " ('Isabel Kallman', 'Ron Iervolino'),\n",
       " ('Isabel Kallman', 'Trish Iervolino'),\n",
       " ('Isabel Kallman', 'Russ Middleton'),\n",
       " ('Isabel Kallman', 'Lisa Middleton'),\n",
       " ('Isabel Kallman', 'Barbara Loughlin'),\n",
       " ('Isabel Kallman', 'Gerald Loughlin'),\n",
       " ('Isabel Kallman', 'Debbie Gelston'),\n",
       " ('Isabel Kallman', 'Julianne Michelle'),\n",
       " ('Isabel Kallman', 'Heather Robinson'),\n",
       " ('Isabel Kallman', 'Kiwan Nichols'),\n",
       " ('Isabel Kallman', 'Jimmy Nichols'),\n",
       " ('Isabel Kallman', 'Melanie Carbone'),\n",
       " ('Isabel Kallman', 'Nancy Brown'),\n",
       " ('Trish Iervolino', 'Ron Iervolino'),\n",
       " ('Trish Iervolino', 'Chuck Grodin'),\n",
       " ('Trish Iervolino', 'Diana Rosario'),\n",
       " ('Trish Iervolino', 'Ali Sussman'),\n",
       " ('Trish Iervolino', 'Sarah Boll'),\n",
       " ('Trish Iervolino', 'Jen Zaleski'),\n",
       " ('Trish Iervolino', 'Alysse Brennan'),\n",
       " ('Trish Iervolino', 'Lindsay Macbeth'),\n",
       " ('Trish Iervolino', 'Tom Murro'),\n",
       " ('Trish Iervolino', 'Udo Spreitzenbarth'),\n",
       " ('Trish Iervolino', 'Ron Iervolino'),\n",
       " ('Trish Iervolino', 'Trish Iervolino'),\n",
       " ('Trish Iervolino', 'Russ Middleton'),\n",
       " ('Trish Iervolino', 'Lisa Middleton'),\n",
       " ('Trish Iervolino', 'Barbara Loughlin'),\n",
       " ('Trish Iervolino', 'Gerald Loughlin'),\n",
       " ('Trish Iervolino', 'Debbie Gelston'),\n",
       " ('Trish Iervolino', 'Julianne Michelle'),\n",
       " ('Trish Iervolino', 'Heather Robinson'),\n",
       " ('Trish Iervolino', 'Kiwan Nichols'),\n",
       " ('Trish Iervolino', 'Jimmy Nichols'),\n",
       " ('Trish Iervolino', 'Melanie Carbone'),\n",
       " ('Trish Iervolino', 'Nancy Brown'),\n",
       " ('Ron Iervolino', 'Chuck Grodin'),\n",
       " ('Ron Iervolino', 'Diana Rosario'),\n",
       " ('Ron Iervolino', 'Ali Sussman'),\n",
       " ('Ron Iervolino', 'Sarah Boll'),\n",
       " ('Ron Iervolino', 'Jen Zaleski'),\n",
       " ('Ron Iervolino', 'Alysse Brennan'),\n",
       " ('Ron Iervolino', 'Lindsay Macbeth'),\n",
       " ('Ron Iervolino', 'Tom Murro'),\n",
       " ('Ron Iervolino', 'Udo Spreitzenbarth'),\n",
       " ('Ron Iervolino', 'Ron Iervolino'),\n",
       " ('Ron Iervolino', 'Trish Iervolino'),\n",
       " ('Ron Iervolino', 'Russ Middleton'),\n",
       " ('Ron Iervolino', 'Lisa Middleton'),\n",
       " ('Ron Iervolino', 'Barbara Loughlin'),\n",
       " ('Ron Iervolino', 'Gerald Loughlin'),\n",
       " ('Ron Iervolino', 'Debbie Gelston'),\n",
       " ('Ron Iervolino', 'Julianne Michelle'),\n",
       " ('Ron Iervolino', 'Heather Robinson'),\n",
       " ('Ron Iervolino', 'Kiwan Nichols'),\n",
       " ('Ron Iervolino', 'Jimmy Nichols'),\n",
       " ('Ron Iervolino', 'Melanie Carbone'),\n",
       " ('Ron Iervolino', 'Nancy Brown'),\n",
       " ('Chuck Grodin', 'Diana Rosario'),\n",
       " ('Chuck Grodin', 'Ali Sussman'),\n",
       " ('Chuck Grodin', 'Sarah Boll'),\n",
       " ('Chuck Grodin', 'Jen Zaleski'),\n",
       " ('Chuck Grodin', 'Alysse Brennan'),\n",
       " ('Chuck Grodin', 'Lindsay Macbeth'),\n",
       " ('Chuck Grodin', 'Tom Murro'),\n",
       " ('Chuck Grodin', 'Udo Spreitzenbarth'),\n",
       " ('Chuck Grodin', 'Ron Iervolino'),\n",
       " ('Chuck Grodin', 'Trish Iervolino'),\n",
       " ('Chuck Grodin', 'Russ Middleton'),\n",
       " ('Chuck Grodin', 'Lisa Middleton'),\n",
       " ('Chuck Grodin', 'Barbara Loughlin'),\n",
       " ('Chuck Grodin', 'Gerald Loughlin'),\n",
       " ('Chuck Grodin', 'Debbie Gelston'),\n",
       " ('Chuck Grodin', 'Julianne Michelle'),\n",
       " ('Chuck Grodin', 'Heather Robinson'),\n",
       " ('Chuck Grodin', 'Kiwan Nichols'),\n",
       " ('Chuck Grodin', 'Jimmy Nichols'),\n",
       " ('Chuck Grodin', 'Melanie Carbone'),\n",
       " ('Chuck Grodin', 'Nancy Brown'),\n",
       " ('Diana Rosario', 'Ali Sussman'),\n",
       " ('Diana Rosario', 'Sarah Boll'),\n",
       " ('Diana Rosario', 'Jen Zaleski'),\n",
       " ('Diana Rosario', 'Alysse Brennan'),\n",
       " ('Diana Rosario', 'Lindsay Macbeth'),\n",
       " ...]"
      ]
     },
     "execution_count": 17,
     "metadata": {},
     "output_type": "execute_result"
    }
   ],
   "source": [
    "full_name_list_part1"
   ]
  },
  {
   "cell_type": "code",
   "execution_count": 12,
   "metadata": {
    "collapsed": false
   },
   "outputs": [
    {
     "name": "stdout",
     "output_type": "stream",
     "text": [
      "http://www.newyorksocialdiary.com/party-pictures/2014/the-thanksgiving-day-parade-from-the-ground-up\n",
      "http://www.newyorksocialdiary.com/party-pictures/2013/in-the-heart-of-the-hudson-valley\n",
      "http://www.newyorksocialdiary.com/party-pictures/2012/simple-pleasures\n",
      "http://www.newyorksocialdiary.com/party-pictures/2011/sunny-dayshttp://www.newyorksocialdiary.com/party-pictures/2009/new-yorkers-for-childrens-10th-annual-fall-gala\n",
      "\n",
      "http://www.newyorksocialdiary.com/party-pictures/2010/scenes-from-the-hamptons-to-the-cape\n",
      "http://www.newyorksocialdiary.com/party-pictures/2008/initiatives\n"
     ]
    },
    {
     "ename": "NameError",
     "evalue": "global name 'spacy' is not defined",
     "output_type": "error",
     "traceback": [
      "\u001b[0;31m---------------------------------------------------------------------------\u001b[0m",
      "\u001b[0;31mNameError\u001b[0m                                 Traceback (most recent call last)",
      "\u001b[0;32m<ipython-input-12-b5e95e07c6b7>\u001b[0m in \u001b[0;36m<module>\u001b[0;34m()\u001b[0m\n\u001b[0;32m----> 1\u001b[0;31m \u001b[0mget_ipython\u001b[0m\u001b[0;34m(\u001b[0m\u001b[0;34m)\u001b[0m\u001b[0;34m.\u001b[0m\u001b[0mrun_cell_magic\u001b[0m\u001b[0;34m(\u001b[0m\u001b[0;34mu'time'\u001b[0m\u001b[0;34m,\u001b[0m \u001b[0;34mu''\u001b[0m\u001b[0;34m,\u001b[0m \u001b[0;34mu'from multiprocessing.pool import ThreadPool\\npool = ThreadPool(processes=7)\\nrange_ = list(range(2))\\nresult = pool.map(get_full_name_list,[(0,150),(150,300),(300,450),(450,600),(600,750),(750,1000),(1000,1193)])'\u001b[0m\u001b[0;34m)\u001b[0m\u001b[0;34m\u001b[0m\u001b[0m\n\u001b[0m",
      "\u001b[0;32m/opt/conda/lib/python2.7/site-packages/IPython/core/interactiveshell.pyc\u001b[0m in \u001b[0;36mrun_cell_magic\u001b[0;34m(self, magic_name, line, cell)\u001b[0m\n\u001b[1;32m   2113\u001b[0m             \u001b[0mmagic_arg_s\u001b[0m \u001b[0;34m=\u001b[0m \u001b[0mself\u001b[0m\u001b[0;34m.\u001b[0m\u001b[0mvar_expand\u001b[0m\u001b[0;34m(\u001b[0m\u001b[0mline\u001b[0m\u001b[0;34m,\u001b[0m \u001b[0mstack_depth\u001b[0m\u001b[0;34m)\u001b[0m\u001b[0;34m\u001b[0m\u001b[0m\n\u001b[1;32m   2114\u001b[0m             \u001b[0;32mwith\u001b[0m \u001b[0mself\u001b[0m\u001b[0;34m.\u001b[0m\u001b[0mbuiltin_trap\u001b[0m\u001b[0;34m:\u001b[0m\u001b[0;34m\u001b[0m\u001b[0m\n\u001b[0;32m-> 2115\u001b[0;31m                 \u001b[0mresult\u001b[0m \u001b[0;34m=\u001b[0m \u001b[0mfn\u001b[0m\u001b[0;34m(\u001b[0m\u001b[0mmagic_arg_s\u001b[0m\u001b[0;34m,\u001b[0m \u001b[0mcell\u001b[0m\u001b[0;34m)\u001b[0m\u001b[0;34m\u001b[0m\u001b[0m\n\u001b[0m\u001b[1;32m   2116\u001b[0m             \u001b[0;32mreturn\u001b[0m \u001b[0mresult\u001b[0m\u001b[0;34m\u001b[0m\u001b[0m\n\u001b[1;32m   2117\u001b[0m \u001b[0;34m\u001b[0m\u001b[0m\n",
      "\u001b[0;32m<decorator-gen-59>\u001b[0m in \u001b[0;36mtime\u001b[0;34m(self, line, cell, local_ns)\u001b[0m\n",
      "\u001b[0;32m/opt/conda/lib/python2.7/site-packages/IPython/core/magic.pyc\u001b[0m in \u001b[0;36m<lambda>\u001b[0;34m(f, *a, **k)\u001b[0m\n\u001b[1;32m    186\u001b[0m     \u001b[0;31m# but it's overkill for just that one bit of state.\u001b[0m\u001b[0;34m\u001b[0m\u001b[0;34m\u001b[0m\u001b[0m\n\u001b[1;32m    187\u001b[0m     \u001b[0;32mdef\u001b[0m \u001b[0mmagic_deco\u001b[0m\u001b[0;34m(\u001b[0m\u001b[0marg\u001b[0m\u001b[0;34m)\u001b[0m\u001b[0;34m:\u001b[0m\u001b[0;34m\u001b[0m\u001b[0m\n\u001b[0;32m--> 188\u001b[0;31m         \u001b[0mcall\u001b[0m \u001b[0;34m=\u001b[0m \u001b[0;32mlambda\u001b[0m \u001b[0mf\u001b[0m\u001b[0;34m,\u001b[0m \u001b[0;34m*\u001b[0m\u001b[0ma\u001b[0m\u001b[0;34m,\u001b[0m \u001b[0;34m**\u001b[0m\u001b[0mk\u001b[0m\u001b[0;34m:\u001b[0m \u001b[0mf\u001b[0m\u001b[0;34m(\u001b[0m\u001b[0;34m*\u001b[0m\u001b[0ma\u001b[0m\u001b[0;34m,\u001b[0m \u001b[0;34m**\u001b[0m\u001b[0mk\u001b[0m\u001b[0;34m)\u001b[0m\u001b[0;34m\u001b[0m\u001b[0m\n\u001b[0m\u001b[1;32m    189\u001b[0m \u001b[0;34m\u001b[0m\u001b[0m\n\u001b[1;32m    190\u001b[0m         \u001b[0;32mif\u001b[0m \u001b[0mcallable\u001b[0m\u001b[0;34m(\u001b[0m\u001b[0marg\u001b[0m\u001b[0;34m)\u001b[0m\u001b[0;34m:\u001b[0m\u001b[0;34m\u001b[0m\u001b[0m\n",
      "\u001b[0;32m/opt/conda/lib/python2.7/site-packages/IPython/core/magics/execution.pyc\u001b[0m in \u001b[0;36mtime\u001b[0;34m(self, line, cell, local_ns)\u001b[0m\n\u001b[1;32m   1183\u001b[0m         \u001b[0;32melse\u001b[0m\u001b[0;34m:\u001b[0m\u001b[0;34m\u001b[0m\u001b[0m\n\u001b[1;32m   1184\u001b[0m             \u001b[0mst\u001b[0m \u001b[0;34m=\u001b[0m \u001b[0mclock2\u001b[0m\u001b[0;34m(\u001b[0m\u001b[0;34m)\u001b[0m\u001b[0;34m\u001b[0m\u001b[0m\n\u001b[0;32m-> 1185\u001b[0;31m             \u001b[0;32mexec\u001b[0m\u001b[0;34m(\u001b[0m\u001b[0mcode\u001b[0m\u001b[0;34m,\u001b[0m \u001b[0mglob\u001b[0m\u001b[0;34m,\u001b[0m \u001b[0mlocal_ns\u001b[0m\u001b[0;34m)\u001b[0m\u001b[0;34m\u001b[0m\u001b[0m\n\u001b[0m\u001b[1;32m   1186\u001b[0m             \u001b[0mend\u001b[0m \u001b[0;34m=\u001b[0m \u001b[0mclock2\u001b[0m\u001b[0;34m(\u001b[0m\u001b[0;34m)\u001b[0m\u001b[0;34m\u001b[0m\u001b[0m\n\u001b[1;32m   1187\u001b[0m             \u001b[0mout\u001b[0m \u001b[0;34m=\u001b[0m \u001b[0mNone\u001b[0m\u001b[0;34m\u001b[0m\u001b[0m\n",
      "\u001b[0;32m<timed exec>\u001b[0m in \u001b[0;36m<module>\u001b[0;34m()\u001b[0m\n",
      "\u001b[0;32m/opt/conda/lib/python2.7/multiprocessing/pool.pyc\u001b[0m in \u001b[0;36mmap\u001b[0;34m(self, func, iterable, chunksize)\u001b[0m\n\u001b[1;32m    249\u001b[0m         '''\n\u001b[1;32m    250\u001b[0m         \u001b[0;32massert\u001b[0m \u001b[0mself\u001b[0m\u001b[0;34m.\u001b[0m\u001b[0m_state\u001b[0m \u001b[0;34m==\u001b[0m \u001b[0mRUN\u001b[0m\u001b[0;34m\u001b[0m\u001b[0m\n\u001b[0;32m--> 251\u001b[0;31m         \u001b[0;32mreturn\u001b[0m \u001b[0mself\u001b[0m\u001b[0;34m.\u001b[0m\u001b[0mmap_async\u001b[0m\u001b[0;34m(\u001b[0m\u001b[0mfunc\u001b[0m\u001b[0;34m,\u001b[0m \u001b[0miterable\u001b[0m\u001b[0;34m,\u001b[0m \u001b[0mchunksize\u001b[0m\u001b[0;34m)\u001b[0m\u001b[0;34m.\u001b[0m\u001b[0mget\u001b[0m\u001b[0;34m(\u001b[0m\u001b[0;34m)\u001b[0m\u001b[0;34m\u001b[0m\u001b[0m\n\u001b[0m\u001b[1;32m    252\u001b[0m \u001b[0;34m\u001b[0m\u001b[0m\n\u001b[1;32m    253\u001b[0m     \u001b[0;32mdef\u001b[0m \u001b[0mimap\u001b[0m\u001b[0;34m(\u001b[0m\u001b[0mself\u001b[0m\u001b[0;34m,\u001b[0m \u001b[0mfunc\u001b[0m\u001b[0;34m,\u001b[0m \u001b[0miterable\u001b[0m\u001b[0;34m,\u001b[0m \u001b[0mchunksize\u001b[0m\u001b[0;34m=\u001b[0m\u001b[0;36m1\u001b[0m\u001b[0;34m)\u001b[0m\u001b[0;34m:\u001b[0m\u001b[0;34m\u001b[0m\u001b[0m\n",
      "\u001b[0;32m/opt/conda/lib/python2.7/multiprocessing/pool.pyc\u001b[0m in \u001b[0;36mget\u001b[0;34m(self, timeout)\u001b[0m\n\u001b[1;32m    565\u001b[0m             \u001b[0;32mreturn\u001b[0m \u001b[0mself\u001b[0m\u001b[0;34m.\u001b[0m\u001b[0m_value\u001b[0m\u001b[0;34m\u001b[0m\u001b[0m\n\u001b[1;32m    566\u001b[0m         \u001b[0;32melse\u001b[0m\u001b[0;34m:\u001b[0m\u001b[0;34m\u001b[0m\u001b[0m\n\u001b[0;32m--> 567\u001b[0;31m             \u001b[0;32mraise\u001b[0m \u001b[0mself\u001b[0m\u001b[0;34m.\u001b[0m\u001b[0m_value\u001b[0m\u001b[0;34m\u001b[0m\u001b[0m\n\u001b[0m\u001b[1;32m    568\u001b[0m \u001b[0;34m\u001b[0m\u001b[0m\n\u001b[1;32m    569\u001b[0m     \u001b[0;32mdef\u001b[0m \u001b[0m_set\u001b[0m\u001b[0;34m(\u001b[0m\u001b[0mself\u001b[0m\u001b[0;34m,\u001b[0m \u001b[0mi\u001b[0m\u001b[0;34m,\u001b[0m \u001b[0mobj\u001b[0m\u001b[0;34m)\u001b[0m\u001b[0;34m:\u001b[0m\u001b[0;34m\u001b[0m\u001b[0m\n",
      "\u001b[0;31mNameError\u001b[0m: global name 'spacy' is not defined"
     ]
    }
   ],
   "source": [
    "%%time\n",
    "from multiprocessing.pool import ThreadPool\n",
    "pool = ThreadPool(processes=7)\n",
    "range_ = list(range(2))\n",
    "result = pool.map(get_full_name_list,[(0,150),(150,300),(300,450),(450,600),(600,750),(750,1000),(1000,1193)])"
   ]
  },
  {
   "cell_type": "code",
   "execution_count": 13,
   "metadata": {
    "collapsed": false
   },
   "outputs": [
    {
     "ename": "NameError",
     "evalue": "name 'result' is not defined",
     "output_type": "error",
     "traceback": [
      "\u001b[0;31m---------------------------------------------------------------------------\u001b[0m",
      "\u001b[0;31mNameError\u001b[0m                                 Traceback (most recent call last)",
      "\u001b[0;32m<ipython-input-13-60346d6d8b70>\u001b[0m in \u001b[0;36m<module>\u001b[0;34m()\u001b[0m\n\u001b[1;32m      1\u001b[0m \u001b[0;31m### update result, unlist them\u001b[0m\u001b[0;34m\u001b[0m\u001b[0;34m\u001b[0m\u001b[0m\n\u001b[0;32m----> 2\u001b[0;31m \u001b[0mresult_new\u001b[0m \u001b[0;34m=\u001b[0m \u001b[0msum\u001b[0m\u001b[0;34m(\u001b[0m\u001b[0mresult\u001b[0m\u001b[0;34m,\u001b[0m\u001b[0;34m[\u001b[0m\u001b[0;34m]\u001b[0m\u001b[0;34m)\u001b[0m\u001b[0;34m\u001b[0m\u001b[0m\n\u001b[0m",
      "\u001b[0;31mNameError\u001b[0m: name 'result' is not defined"
     ]
    }
   ],
   "source": [
    "### update result, unlist them\n",
    "result_new = sum(result,[])"
   ]
  },
  {
   "cell_type": "code",
   "execution_count": 17,
   "metadata": {
    "collapsed": false
   },
   "outputs": [
    {
     "data": {
      "text/plain": [
       "173032"
      ]
     },
     "execution_count": 17,
     "metadata": {},
     "output_type": "execute_result"
    }
   ],
   "source": [
    "len(result_new)"
   ]
  },
  {
   "cell_type": "markdown",
   "metadata": {},
   "source": [
    "For the remaining analysis, we think of the problem in terms of a\n",
    "[network](http://en.wikipedia.org/wiki/Computer_network) or a\n",
    "[graph](https://en.wikipedia.org/wiki/Graph_%28discrete_mathematics%29).  Any time a pair of people appear in a photo together, that is considered a link.  What we have described is more appropriately called an (undirected)\n",
    "[multigraph](http://en.wikipedia.org/wiki/Multigraph) with no self-loops but this has an obvious analog in terms of an undirected [weighted graph](http://en.wikipedia.org/wiki/Graph_%28mathematics%29#Weighted_graph).  In this problem, we will analyze the social graph of the new york social elite.  We recommend using python's [networkx](https://networkx.github.io/) library."
   ]
  },
  {
   "cell_type": "code",
   "execution_count": 288,
   "metadata": {
    "collapsed": false
   },
   "outputs": [],
   "source": [
    "import itertools  # itertools.combinations may be useful\n",
    "import networkx as nx\n"
   ]
  },
  {
   "cell_type": "code",
   "execution_count": 52,
   "metadata": {
    "collapsed": false
   },
   "outputs": [],
   "source": [
    "### Use networkx\n",
    "import networkx as nx\n",
    "import matplotlib.pyplot as plt\n",
    "G=nx.Graph()\n",
    "G.add_edges_from(result_new, weight=2) # Only accept two edges\n",
    "# nx.draw(G)"
   ]
  },
  {
   "cell_type": "code",
   "execution_count": 56,
   "metadata": {
    "collapsed": false
   },
   "outputs": [],
   "source": [
    "import operator\n",
    "degree = G.degree(weight='weight')\n",
    "sorted_degree = sorted(degree.items(), key=operator.itemgetter(1),reverse=True)"
   ]
  },
  {
   "cell_type": "code",
   "execution_count": 57,
   "metadata": {
    "collapsed": false
   },
   "outputs": [],
   "source": [
    "### modify the weight and get rid of meaningless word\n",
    "updated_result = []\n",
    "for i in range(len(sorted_degree)):\n",
    "    if len(sorted_degree[i][0].split())>1:\n",
    "        updated_result.append(sorted_degree[i])"
   ]
  },
  {
   "cell_type": "code",
   "execution_count": 61,
   "metadata": {
    "collapsed": false
   },
   "outputs": [
    {
     "data": {
      "text/plain": [
       "[('Jean Shafiroff', 618),\n",
       " ('New York', 548),\n",
       " ('Mark Gilbertson', 546),\n",
       " ('Alexandra Lebenthal', 436),\n",
       " ('Gillian Miniter', 374),\n",
       " ('Geoffrey Bradfield', 336),\n",
       " ('New York City', 322),\n",
       " ('Alina Cho', 302),\n",
       " ('Kamie Lightburn', 300),\n",
       " ('Lydia Fenet', 282),\n",
       " ('Patrick McMullan', 282),\n",
       " ('Allison Aston', 282),\n",
       " ('Somers Farkas', 278),\n",
       " ('Karen LeFrak', 276),\n",
       " ('Mario Buatta', 276),\n",
       " ('Yaz Hernandez', 272),\n",
       " ('Board Member', 266),\n",
       " ('Lucia Hwong Gordon', 262),\n",
       " ('Sharon Bush', 258),\n",
       " ('Andrew Saffir', 256),\n",
       " ('Eleanora Kennedy', 256),\n",
       " ('Debbie Bancroft', 254),\n",
       " ('Deborah Norville', 252),\n",
       " ('Ellen V. Futter', 238),\n",
       " ('Steering Committee', 228),\n",
       " ('Bettina Zilkha', 228),\n",
       " ('Jamee Gregory', 224),\n",
       " ('Kipton Cronkite', 224),\n",
       " ('Martha Stewart', 224),\n",
       " ('Liz Peek', 218),\n",
       " ('Barbara Tober', 218),\n",
       " ('Jennifer Creel', 216),\n",
       " ('Leonard Lauder', 216),\n",
       " ('Audrey Gruss', 212),\n",
       " ('Karen Klopp', 212),\n",
       " ('Michael Bloomberg', 210),\n",
       " ('Rosanna Scotto', 210),\n",
       " ('Gala Co-Chair', 208),\n",
       " ('Alec Baldwin', 204),\n",
       " ('Martha Glass', 204),\n",
       " ('Nathalie Kaplan', 202),\n",
       " ('Paula Zahn', 196),\n",
       " ('Alexandra Lind Rose', 194),\n",
       " ('Grace Meigher', 192),\n",
       " ('Lisa Anastos', 192),\n",
       " ('Margaret Russell', 188),\n",
       " ('Wendy Carduner', 188),\n",
       " ('Clare McKeon', 186),\n",
       " ('Amy Fine Collins', 186),\n",
       " ('Nicole Miller', 186),\n",
       " ('OSL Board', 184),\n",
       " ('Adelina Wong Ettelson', 184),\n",
       " ('Deborah Roberts', 184),\n",
       " ('Donna Karan', 184),\n",
       " ('Fern Mallis', 182),\n",
       " ('Diana DiMenna', 180),\n",
       " ('Hospital for Special Surgery', 176),\n",
       " ('Michele Gerber Klein', 172),\n",
       " ('Alexia Hamm Ryan', 168),\n",
       " ('Diana Taylor', 166),\n",
       " ('Allison Mignone', 166),\n",
       " ('Peter Martins', 164),\n",
       " ('Margo Langenberg', 164),\n",
       " ('Russell Simmons', 164),\n",
       " ('Michele Herbert', 164),\n",
       " ('Susan Shin', 164),\n",
       " ('Georgina Schaeffer', 164),\n",
       " ('Pamela Fiori', 162),\n",
       " ('Fernanda Kellogg', 162),\n",
       " ('Muffie Potter Aston', 160),\n",
       " ('Melanie Holland', 160),\n",
       " ('Bonnie Comley', 158),\n",
       " ('Elizabeth Stribling', 158),\n",
       " ('Dennis Basso', 156),\n",
       " ('Christopher Hyland', 154),\n",
       " ('Olivia Chantecaille', 154),\n",
       " ('Suzanne Cochran', 154),\n",
       " ('Felicia Taylor', 154),\n",
       " ('Janna Bullock', 154),\n",
       " ('Charlotte Moss', 154),\n",
       " ('Steven Stolman', 152),\n",
       " ('Barbara Regna', 148),\n",
       " ('Peter Lyden', 146),\n",
       " ('Evelyn Lauder', 146),\n",
       " ('Chris Meigher', 146),\n",
       " ('Bette Midler', 146),\n",
       " ('Stephanie Winston Wolkoff', 146),\n",
       " ('Dawne Marie Grannum', 146),\n",
       " ('David Koch', 146),\n",
       " ('Julia Koch', 144),\n",
       " ('Kelly Rutherford', 144),\n",
       " ('Carmen Dubroc', 144),\n",
       " ('Carol Mack', 142),\n",
       " ('CeCe Black', 142),\n",
       " ('Ellis Island', 142),\n",
       " ('Daniel Boulud', 142),\n",
       " ('Dayssi Olarte de Kanavos', 142),\n",
       " ('Annette Rickel', 142),\n",
       " ('Herbert Pardes', 142),\n",
       " ('Mary Davidson', 140)]"
      ]
     },
     "execution_count": 61,
     "metadata": {},
     "output_type": "execute_result"
    }
   ],
   "source": [
    "updated_result[0:100]"
   ]
  },
  {
   "cell_type": "markdown",
   "metadata": {},
   "source": [
    "All in all, you should end up with over 100,000 captions and more than 110,000 names, connected in about 200,000 pairs."
   ]
  },
  {
   "cell_type": "markdown",
   "metadata": {},
   "source": [
    "## Question 3: degree\n",
    "\n",
    "The simplest question to ask is \"who is the most popular\"?  The easiest way to answer this question is to look at how many connections everyone has.  Return the top 100 people and their degree.  Remember that if an edge of the graph has weight 2, it counts for 2 in the degree.\n",
    "\n",
    "**Checkpoint:** Some aggregate stats on the solution\n",
    "\n",
    "    \"count\": 100.0\n",
    "    \"mean\": 189.92\n",
    "    \"std\": 87.8053034454\n",
    "    \"min\": 124.0\n",
    "    \"25%\": 138.0\n",
    "    \"50%\": 157.0\n",
    "    \"75%\": 195.0\n",
    "    \"max\": 666.0"
   ]
  },
  {
   "cell_type": "code",
   "execution_count": 59,
   "metadata": {
    "collapsed": false,
    "scrolled": false
   },
   "outputs": [
    {
     "name": "stdout",
     "output_type": "stream",
     "text": [
      "==================\n",
      "Your score:  0.8\n",
      "==================\n"
     ]
    }
   ],
   "source": [
    "import heapq  # Heaps are efficient structures for tracking the largest\n",
    "              # elements in a collection.  Use introspection to find the\n",
    "              # function you need.\n",
    "import grader\n",
    "'''\n",
    "def degree():\n",
    "    return [('Alec Baldwin', 144)] * 100\n",
    "'''\n",
    "def degree():\n",
    "    return updated_result[0:100]\n",
    "grader.score(question_name='graph__degree', func=degree)"
   ]
  },
  {
   "cell_type": "markdown",
   "metadata": {},
   "source": [
    "## Question 4: pagerank\n",
    "\n",
    "A similar way to determine popularity is to look at their\n",
    "[pagerank](http://en.wikipedia.org/wiki/PageRank).  Pagerank is used for web ranking and was originally\n",
    "[patented](http://patft.uspto.gov/netacgi/nph-Parser?patentnumber=6285999) by Google and is essentially the stationary distribution of a [markov\n",
    "chain](http://en.wikipedia.org/wiki/Markov_chain) implied by the social graph.\n",
    "\n",
    "Use 0.85 as the damping parameter so that there is a 15% chance of jumping to another vertex at random.\n",
    "\n",
    "**Checkpoint:** Some aggregate stats on the solution\n",
    "\n",
    "    \"count\": 100.0\n",
    "    \"mean\": 0.0001841088\n",
    "    \"std\": 0.0000758068\n",
    "    \"min\": 0.0001238355\n",
    "    \"25%\": 0.0001415028\n",
    "    \"50%\": 0.0001616183\n",
    "    \"75%\": 0.0001972663\n",
    "    \"max\": 0.0006085816"
   ]
  },
  {
   "cell_type": "code",
   "execution_count": null,
   "metadata": {
    "collapsed": false
   },
   "outputs": [],
   "source": [
    "def pagerank():\n",
    "    return [('Martha Stewart', 0.00019312108706213307)] * 100\n",
    "\n",
    "grader.score(question_name='graph__pagerank', func=pagerank)"
   ]
  },
  {
   "cell_type": "markdown",
   "metadata": {},
   "source": [
    "## Question 5: best_friends\n",
    "\n",
    "Another interesting question is who tend to co-occur with each other.  Give us the 100 edges with the highest weights.\n",
    "\n",
    "Google these people and see what their connection is.  Can we use this to detect instances of infidelity?\n",
    "\n",
    "**Checkpoint:** Some aggregate stats on the solution\n",
    "\n",
    "    \"count\": 100.0\n",
    "    \"mean\": 25.84\n",
    "    \"std\": 16.0395470855\n",
    "    \"min\": 14.0\n",
    "    \"25%\": 16.0\n",
    "    \"50%\": 19.0\n",
    "    \"75%\": 29.25\n",
    "    \"max\": 109.0"
   ]
  },
  {
   "cell_type": "code",
   "execution_count": null,
   "metadata": {
    "collapsed": false
   },
   "outputs": [],
   "source": [
    "def best_friends():\n",
    "    return [(('Michael Kennedy', 'Eleanora Kennedy'), 41)] * 100\n",
    "\n",
    "grader.score(question_name='graph__best_friends', func=best_friends)"
   ]
  },
  {
   "cell_type": "markdown",
   "metadata": {},
   "source": [
    "*Copyright &copy; 2016 The Data Incubator.  All rights reserved.*"
   ]
  }
 ],
 "metadata": {
  "kernelspec": {
   "display_name": "Python 2",
   "language": "python",
   "name": "python2"
  },
  "language_info": {
   "codemirror_mode": {
    "name": "ipython",
    "version": 2
   },
   "file_extension": ".py",
   "mimetype": "text/x-python",
   "name": "python",
   "nbconvert_exporter": "python",
   "pygments_lexer": "ipython2",
   "version": "2.7.13"
  }
 },
 "nbformat": 4,
 "nbformat_minor": 0
}
