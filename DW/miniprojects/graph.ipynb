{
 "cells": [
  {
   "cell_type": "code",
   "execution_count": 3,
   "metadata": {
    "collapsed": true
   },
   "outputs": [],
   "source": [
    "%matplotlib inline\n",
    "import matplotlib\n",
    "import seaborn as sns\n",
    "matplotlib.rcParams['savefig.dpi'] = 144"
   ]
  },
  {
   "cell_type": "code",
   "execution_count": 4,
   "metadata": {
    "collapsed": false
   },
   "outputs": [],
   "source": [
    "import grader"
   ]
  },
  {
   "cell_type": "markdown",
   "metadata": {},
   "source": [
    "# The New York Social Graph\n",
    "\n",
    "[New York Social Diary](http://www.newyorksocialdiary.com/) provides a\n",
    "fascinating lens onto New York's socially well-to-do.  The data forms a natural social graph for New York's social elite.  Take a look at this page of a recent [run-of-the-mill holiday party](http://www.newyorksocialdiary.com/party-pictures/2014/holiday-dinners-and-doers).\n",
    "\n",
    "Besides the brand-name celebrities, you will notice the photos have carefully annotated captions labeling those that appear in the photos.  We can think of this as implicitly implying a social graph: there is a connection between two individuals if they appear in a picture together.\n",
    "\n",
    "For this project, we will assemble the social graph from photo captions for parties dated December 1, 2014, and before.  Using this graph, we can make guesses at the most popular socialites, the most influential people, and the most tightly coupled pairs.\n",
    "\n",
    "We will attack the project in three phases:\n",
    "1. Get a list of all the photo pages to be analyzed.\n",
    "2. Parse all of the captions on a sample page.\n",
    "3. Parse all of the captions on all pages, and assemble the graph."
   ]
  },
  {
   "cell_type": "markdown",
   "metadata": {},
   "source": [
    "## Phase One\n",
    "\n",
    "The first step is to crawl the data.  We want photos from parties on or before December 1st, 2014.  Go to the [Party Pictures Archive](http://www.newyorksocialdiary.com/party-pictures) to see a list of (party) pages.  We want to get the url for each party page, along with its date.\n",
    "\n",
    "Here are some packagest that you may find useful.  You are welcome to use others, if you prefer."
   ]
  },
  {
   "cell_type": "markdown",
   "metadata": {},
   "source": [
    "We recommend using Python [Requests](http://docs.python-requests.org/en/master/) to download the HTML pages, and [BeautifulSoup](https://www.crummy.com/software/BeautifulSoup/) to process the HTML.  Let's start by getting the [first page](http://www.newyorksocialdiary.com/party-pictures)."
   ]
  },
  {
   "cell_type": "code",
   "execution_count": null,
   "metadata": {
    "collapsed": true
   },
   "outputs": [],
   "source": [
    "page = ... # Use requests.get to download the page."
   ]
  },
  {
   "cell_type": "markdown",
   "metadata": {},
   "source": [
    "Now, we process the text of the page with BeautifulSoup."
   ]
  },
  {
   "cell_type": "code",
   "execution_count": null,
   "metadata": {
    "collapsed": false
   },
   "outputs": [],
   "source": [
    "soup = BeautifulSoup(page.text, \"lxml\")"
   ]
  },
  {
   "cell_type": "markdown",
   "metadata": {},
   "source": [
    "This page has links to 50 party pages. Look at the structure of the page and determine how to isolate those links.  Your browser's developer tools (usually `Cmd`-`Option`-`I` on Mac, `Ctrl`-`Shift`-`I` on others) offer helpful tools to explore the structure of the HTML page.\n",
    "\n",
    "Once you have found a patter, use BeautifulSoup's [select](https://www.crummy.com/software/BeautifulSoup/bs4/doc/#css-selectors) or [find_all](https://www.crummy.com/software/BeautifulSoup/bs4/doc/#find) methods to get those elements."
   ]
  },
  {
   "cell_type": "code",
   "execution_count": null,
   "metadata": {
    "collapsed": false
   },
   "outputs": [],
   "source": [
    "links = ..."
   ]
  },
  {
   "cell_type": "markdown",
   "metadata": {},
   "source": [
    "There should be 50 per page."
   ]
  },
  {
   "cell_type": "code",
   "execution_count": null,
   "metadata": {
    "collapsed": true
   },
   "outputs": [],
   "source": [
    "assert len(links) == 50"
   ]
  },
  {
   "cell_type": "markdown",
   "metadata": {},
   "source": [
    "Let's take a look at that first link.  Figure out how to extract the URL of the link, as well as the date.  You probably want to use `datetime.strptime`.  See the [format codes for dates](https://docs.python.org/2/library/datetime.html#strftime-and-strptime-behavior) for reference."
   ]
  },
  {
   "cell_type": "code",
   "execution_count": null,
   "metadata": {
    "collapsed": true
   },
   "outputs": [],
   "source": [
    "link = links[0]\n",
    "# Check that the title and date match what you see visually."
   ]
  },
  {
   "cell_type": "markdown",
   "metadata": {},
   "source": [
    "For purposes of code reuse, let's put that logic into a function.  It should take the link element and return the URL and date parsed from it."
   ]
  },
  {
   "cell_type": "code",
   "execution_count": null,
   "metadata": {
    "collapsed": false
   },
   "outputs": [],
   "source": [
    "def get_link_date(el):\n",
    "    ...\n",
    "    return url, date"
   ]
  },
  {
   "cell_type": "markdown",
   "metadata": {},
   "source": [
    "You may want to check that it works as you expected.\n",
    "\n",
    "Once that's working, let's write another function to parse all of the links on a page.  Thinking ahead, we can make it take a Requests [Response](http://docs.python-requests.org/en/master/api/#requests.Response) object and do the BeautifulSoup parsing within it."
   ]
  },
  {
   "cell_type": "code",
   "execution_count": null,
   "metadata": {
    "collapsed": true
   },
   "outputs": [],
   "source": [
    "def get_links(response):\n",
    "    return ... # A list of URL, date pairs"
   ]
  },
  {
   "cell_type": "markdown",
   "metadata": {},
   "source": [
    "If we run this on the previous response, we should get 50 pairs."
   ]
  },
  {
   "cell_type": "code",
   "execution_count": null,
   "metadata": {
    "collapsed": false
   },
   "outputs": [],
   "source": [
    "assert len(get_links(page)) == 50"
   ]
  },
  {
   "cell_type": "markdown",
   "metadata": {},
   "source": [
    "But we only want parties with dates on or before the first of December, 2014.  Let's write a function to filter our list of dates to those at or before a cutoff.  Using a keyword argument, we can put in a default cutoff, but allow us to test with others."
   ]
  },
  {
   "cell_type": "code",
   "execution_count": null,
   "metadata": {
    "collapsed": false
   },
   "outputs": [],
   "source": [
    "def filter_by_date(links, cutoff=datetime(2014, 12, 1)):\n",
    "    # Return only the elements with date <= cutoff"
   ]
  },
  {
   "cell_type": "markdown",
   "metadata": {},
   "source": [
    "With the default cutoff, there should be no valid parties on the first page.  Adjust the cutoff date to check that it is actually working."
   ]
  },
  {
   "cell_type": "code",
   "execution_count": null,
   "metadata": {
    "collapsed": false
   },
   "outputs": [],
   "source": [
    "assert len(filter_by_date(get_links(page))) == 0"
   ]
  },
  {
   "cell_type": "markdown",
   "metadata": {},
   "source": [
    "Now we should be ready to get all of the party URLs.  Click through a few of the index pages to determine how the URL changes.  Figure out a strategy to visit all of them.\n",
    "\n",
    "HTTP requests are generally IO-bound.  This means that most of the time is spent waiting for the remote server to respond.  If you use `requests` directly, you can only wait on one response at a time.  [requests-futures](https://github.com/ross/requests-futures) lets you wait for multiple requests at a time.  You may wish to use this to speed up the downloading process."
   ]
  },
  {
   "cell_type": "code",
   "execution_count": null,
   "metadata": {
    "collapsed": true
   },
   "outputs": [],
   "source": [
    "from requests_futures.sessions import FuturesSession\n",
    "\n",
    "link_list = []\n",
    "# You can use link_list.extend(others) to add the elements of others\n",
    "# to link_list."
   ]
  },
  {
   "cell_type": "markdown",
   "metadata": {},
   "source": [
    "In the end, you should have 1193 parties."
   ]
  },
  {
   "cell_type": "code",
   "execution_count": null,
   "metadata": {
    "collapsed": false,
    "scrolled": true
   },
   "outputs": [],
   "source": [
    "assert len(link_list) == 1193"
   ]
  },
  {
   "cell_type": "markdown",
   "metadata": {},
   "source": [
    "In case we need to restart the notebook, we should save this information to a file.  There are many ways you could do this; here's one using `dill`."
   ]
  },
  {
   "cell_type": "code",
   "execution_count": null,
   "metadata": {
    "collapsed": false
   },
   "outputs": [],
   "source": [
    "dill.dump(link_list, open('nysd-links.pkd', 'w'))"
   ]
  },
  {
   "cell_type": "markdown",
   "metadata": {},
   "source": [
    "To restore the list, we can just load it from the file.  When the notebook is restarted, you can skip the code above and just run this command."
   ]
  },
  {
   "cell_type": "code",
   "execution_count": null,
   "metadata": {
    "collapsed": true
   },
   "outputs": [],
   "source": [
    "link_list = dill.load(open('nysd-links.pkd', 'r'))"
   ]
  },
  {
   "cell_type": "markdown",
   "metadata": {},
   "source": [
    "## Question 1: histogram\n",
    "\n",
    "Get the number of party pages for the 95 months (that is, month-year pair) in the data.  Notice that while the party codes might be written as \"FRIDAY, FEBRUARY 28, 2014\", in this output, you would have to represent the month-year code as \"Feb-2014\".  This can all be done with `strfime` and the [format codes for dates](https://docs.python.org/2/library/datetime.html#strftime-and-strptime-behavior).\n",
    "\n",
    "Plot the histogram for yourself.  Do you see any trends?"
   ]
  },
  {
   "cell_type": "code",
   "execution_count": 8,
   "metadata": {
    "collapsed": true
   },
   "outputs": [],
   "source": [
    "### Solution\n",
    "import requests\n",
    "import dill\n",
    "from bs4 import BeautifulSoup\n",
    "from datetime import datetime\n",
    "from itertools import compress\n",
    "import pandas as pd\n",
    "import numpy as np\n",
    "def get_links():\n",
    "    result = pd.DataFrame(np.random.randn(1415,2), columns = ['website','date'])\n",
    "    for j in range(29):\n",
    "        page = requests.get('http://www.newyorksocialdiary.com/party-pictures?page=%s' % (j), auth=('user', 'pass'))\n",
    "        soup = BeautifulSoup(page.text, \"lxml\")\n",
    "        for i,section in enumerate(soup.findAll(\"span\",{\"class\":\"field-content\"})):\n",
    "            # link = section.find_all(\"a\",text=\"party-pictures\")\n",
    "            # tt = list(link)\n",
    "            # test = section['href']\n",
    "            temp_str = str(section)\n",
    "            index = (100*j+i)/2\n",
    "            if i%2 == 0:\n",
    "                sep = \"\\\">\"\n",
    "                result.iloc[index,0] = temp_str[37:-11].split(sep,1)[0]\n",
    "                # result.iloc[index,0] = temp_str[36:-11]\n",
    "            else:\n",
    "                result.iloc[index,1] = temp_str[28:-7]\n",
    "    return result\n",
    "\n",
    "def histogram():\n",
    "    url_date = get_links()\n",
    "    url_date['month_date'] = pd.to_datetime(url_date.loc[:,'date']).dt.strftime('%b-%Y')\n",
    "    count = url_date.loc[219:,'month_date'].value_counts(sort=False)\n",
    "    l_1 = [x.encode('utf-8') for x in count.index]\n",
    "    l_2 = count.tolist()\n",
    "    test = zip(l_1,l_2)\n",
    "    return test\n"
   ]
  },
  {
   "cell_type": "code",
   "execution_count": 9,
   "metadata": {
    "collapsed": false
   },
   "outputs": [],
   "source": [
    "### Implement: Get the link date pair and date frequency\n",
    "url_date = get_links()\n",
    "count = histogram()"
   ]
  },
  {
   "cell_type": "code",
   "execution_count": 10,
   "metadata": {
    "collapsed": false
   },
   "outputs": [
    {
     "data": {
      "text/plain": [
       "<matplotlib.axes._subplots.AxesSubplot at 0x7fde567b5d90>"
      ]
     },
     "execution_count": 10,
     "metadata": {},
     "output_type": "execute_result"
    },
    {
     "data": {
      "image/png": "[encoded data removed]",
      "text/plain": [
       "<matplotlib.figure.Figure at 0x7fde5696bd90>"
      ]
     },
     "metadata": {},
     "output_type": "display_data"
    }
   ],
   "source": [
    "# Sanity check\n",
    "pd.DataFrame(count).plot()"
   ]
  },
  {
   "cell_type": "code",
   "execution_count": null,
   "metadata": {
    "collapsed": false
   },
   "outputs": [],
   "source": [
    "### Grade\n",
    "'''\n",
    "def histogram():\n",
    "    return [(\"Dec-2014\", 1)] * 95  # Replace with the correct list\n",
    "\n",
    "'''\n",
    "\n",
    "grader.score(question_name='graph__histogram', func=histogram)"
   ]
  },
  {
   "cell_type": "markdown",
   "metadata": {},
   "source": [
    "## Phase Two\n",
    "\n",
    "In this phase, we we concentrate on getting the names out of captions for a given page.  We'll start with [the benefit cocktails and dinner](http://www.newyorksocialdiary.com/party-pictures/2015/celebrating-the-neighborhood) for [Lenox Hill Neighborhood House](http://www.lenoxhill.org/), a neighborhood organization for the East Side.\n",
    "\n",
    "Take a look at that page.  Note that some of the text on the page is captions, but others are descriptions of the event.  Determine how to select only the captions."
   ]
  },
  {
   "cell_type": "code",
   "execution_count": null,
   "metadata": {
    "collapsed": false
   },
   "outputs": [],
   "source": [
    "captions = ..."
   ]
  },
  {
   "cell_type": "markdown",
   "metadata": {},
   "source": [
    "By our count, there are about 110.  But if you're off by a couple, you're probably okay."
   ]
  },
  {
   "cell_type": "code",
   "execution_count": null,
   "metadata": {
    "collapsed": false
   },
   "outputs": [],
   "source": [
    "assert abs(len(captions) - 110) < 5"
   ]
  },
  {
   "cell_type": "markdown",
   "metadata": {},
   "source": [
    "Let's encapsulate this in a function.  As with the links pages, we want to avoid downloading a given page the next time we need to run the notebook.  While we could save the files by hand, as we did before, a checkpointing library like [ediblepickle](https://pypi.python.org/pypi/ediblepickle/1.1.3) can handle this for you.  (Note, though, that you may not want to enable this until you are sure that your function is working.)\n",
    "\n",
    "You should also keep in mind that HTTP requests fail occasionally, for transient reasons.  You should plan how to detect and react to these failures.   The [retrying module](https://pypi.python.org/pypi/retrying) is one way to deal with this."
   ]
  },
  {
   "cell_type": "code",
   "execution_count": null,
   "metadata": {
    "collapsed": false
   },
   "outputs": [],
   "source": [
    "def get_captions(path):\n",
    "    ..."
   ]
  },
  {
   "cell_type": "markdown",
   "metadata": {},
   "source": [
    "This should get the same captions as before."
   ]
  },
  {
   "cell_type": "code",
   "execution_count": null,
   "metadata": {
    "collapsed": false
   },
   "outputs": [],
   "source": [
    "assert captions == get_captions(\"/party-pictures/2015/celebrating-the-neighborhood\")"
   ]
  },
  {
   "cell_type": "markdown",
   "metadata": {},
   "source": [
    "Now that we have some sample captions, let's start parsing names out of those captions.  There are many ways of going about this, and we leave the details up to you.  Some issues to consider:\n",
    "\n",
    "  1. Some captions are not useful: they contain long narrative texts that explain the event.  Try to find some heuristic rules to separate captions that are a list of names from those that are not.  A few heuristics include:\n",
    "    - look for sentences (which have verbs) and as opposed to lists of nouns. For example, [nltk does part of speech tagging](http://www.nltk.org/book/ch05.html) but it is a little slow. There may also be heuristics that accomplish the same thing.\n",
    "    - Similarly, spaCy's [entity recognition](https://spacy.io/docs/usage/entity-recognition) couble be useful here.\n",
    "    - Look for commonly repeated threads (e.g. you might end up picking up the photo credits or people such as \"a friend\").\n",
    "    - Long captions are often not lists of people.  The cutoff is subjective, but for grading purposes, *set that cutoff at 250 characters*.\n",
    "  2. You will want to separate the captions based on various forms of punctuation.  Try using `re.split`, which is more sophisticated than `string.split`. **Note**: The reference solution uses regex exclusively for name parsing.\n",
    "  3. You might find a person named \"ra Lebenthal\".  There is no one by this name.  Can anyone spot what's happening here?\n",
    "  4. This site is pretty formal and likes to say things like \"Mayor Michael Bloomberg\" after his election but \"Michael Bloomberg\" before his election.  Can you find other ('optional') titles that are being used?  They should probably be filtered out because they ultimately refer to the same person: \"Michael Bloomberg.\"\n",
    "  5. There is a special case you might find where couples are written as eg. \"John and Mary Smith\". You will need to write some extra logic to make sure this properly parses to two names: \"John Smith\" and \"Mary Smith\".\n",
    "  6. When parsing names from captions, it can help to look at your output frequently and address the problems that you see coming up, iterating until you have a list that looks reasonable. This is the approach used in the reference solution. Because we can only asymptotically approach perfect identification and entity matching, we have to stop somewhere.\n",
    "  \n",
    "**Questions worth considering:**\n",
    "  1. Who is Patrick McMullan and should he be included in the results? How would you address this?\n",
    "  2. What else could you do to improve the quality of the graph's information?"
   ]
  },
  {
   "cell_type": "markdown",
   "metadata": {},
   "source": [
    "## Question 2: sample_names\n",
    "\n",
    "Once you feel that your algorithm is working well on these captions, parse all of the captions and extract all the names mentioned.  Sort them alphabetically, by first name, and return the first hundred."
   ]
  },
  {
   "cell_type": "code",
   "execution_count": 11,
   "metadata": {
    "collapsed": false
   },
   "outputs": [],
   "source": [
    "### Solution general version\n",
    "import spacy\n",
    "\n",
    "def names(soup):\n",
    "    name_list = []\n",
    "    temp_name = []\n",
    "    for section in soup.findAll(\"div\",{\"class\":\"photocaption\"}):\n",
    "        name = str(section)[41:-6].decode('utf-8').strip()\n",
    "        name_list.append(name)\n",
    "    # print(name_list)\n",
    "    nlp = spacy.load('en')\n",
    "    for i in range(len(name_list)):\n",
    "        doc = nlp(name_list[i])\n",
    "        for ent in doc.ents:\n",
    "            if len(ent.text.split())!=1 and len(ent.text.split())<=3: # this is used to deal with ohn and Mary Smith problem: don't include the single first name one\n",
    "                # Also, in order to get rid of other meaningful short words such as: the city museum of art, we limit the length to be no more than 3\n",
    "                temp_name.append(''.join(ent.text.split('<',1)))\n",
    "    final_name_list = [i.encode('utf-8') for i in temp_name]\n",
    "    final_name_list = list(set(final_name_list))\n",
    "    final_name_list.sort()\n",
    "    return final_name_list[1:101]"
   ]
  },
  {
   "cell_type": "code",
   "execution_count": 12,
   "metadata": {
    "collapsed": true
   },
   "outputs": [],
   "source": [
    "### Solution faster version, decrease the number of for loop and inner for loop\n",
    "def names_fast(soup):\n",
    "    name_list = []\n",
    "    temp_name = []\n",
    "    nlp = spacy.load('en')\n",
    "    for section in soup.findAll(\"div\",{\"class\":\"photocaption\"}):\n",
    "        name = str(section)[41:-6].decode('utf-8').strip()\n",
    "        doc = nlp(name)\n",
    "        for ent in doc.ents:\n",
    "            if len(ent.text.split())!=1 and len(ent.text.split())<=3: # this is used to deal with ohn and Mary Smith problem: don't include the single first name one\n",
    "                # Also, in order to get rid of other meaningful short words such as: the city museum of art, we limit the length to be no more than 3\n",
    "                temp_name.append(''.join(ent.text.split('<',1)).encode('utf-8'))\n",
    "    final_name_list = list(set(temp_name))\n",
    "    final_name_list.sort()\n",
    "    return final_name_list[1:101]"
   ]
  },
  {
   "cell_type": "code",
   "execution_count": 142,
   "metadata": {
    "collapsed": false
   },
   "outputs": [
    {
     "name": "stdout",
     "output_type": "stream",
     "text": [
      "CPU times: user 9.23 s, sys: 448 ms, total: 9.68 s\n",
      "Wall time: 10 s\n"
     ]
    }
   ],
   "source": [
    "%%time\n",
    "### Time for faster version\n",
    "page = requests.get('http://www.newyorksocialdiary.com/party-pictures/2015/celebrating-the-neighborhood', auth=('user', 'pass'))\n",
    "soup = BeautifulSoup(page.text, \"lxml\")\n",
    "name_output_fast = names_fast(soup)\n",
    "# print(page)\n",
    "# print soup.prettify()\n",
    "name_output_fast[0:5]\n"
   ]
  },
  {
   "cell_type": "code",
   "execution_count": 126,
   "metadata": {
    "collapsed": false
   },
   "outputs": [
    {
     "name": "stdout",
     "output_type": "stream",
     "text": [
      "CPU times: user 9.8 s, sys: 428 ms, total: 10.2 s\n",
      "Wall time: 10.5 s\n"
     ]
    }
   ],
   "source": [
    "### Time for general version\n",
    "%%time\n",
    "### Sanity Check\n",
    "page = requests.get('http://www.newyorksocialdiary.com/party-pictures/2015/celebrating-the-neighborhood', auth=('user', 'pass'))\n",
    "soup = BeautifulSoup(page.text, \"lxml\")\n",
    "name_output = names(soup)\n",
    "# print(page)\n",
    "# print soup.prettify()\n",
    "name_output[0:5]\n"
   ]
  },
  {
   "cell_type": "code",
   "execution_count": 143,
   "metadata": {
    "collapsed": false,
    "scrolled": true
   },
   "outputs": [
    {
     "name": "stdout",
     "output_type": "stream",
     "text": [
      "==================\n",
      "Your score:  1.0\n",
      "==================\n"
     ]
    }
   ],
   "source": [
    "### Grade\n",
    "\n",
    "def sample_names():\n",
    "    return name_output_fast\n",
    "\n",
    "grader.score(question_name='graph__sample_names', func=sample_names)"
   ]
  },
  {
   "cell_type": "markdown",
   "metadata": {},
   "source": [
    "Now, run this sort of test on a few other pages.  You will probably find that other pages have a slightly different HTML structure, as well as new captions that trip up your caption parser.  But don't worry if the parser isn't perfect -- just try to get the easy cases."
   ]
  },
  {
   "cell_type": "code",
   "execution_count": 119,
   "metadata": {
    "collapsed": false
   },
   "outputs": [
    {
     "name": "stdout",
     "output_type": "stream",
     "text": [
      "CPU times: user 11 s, sys: 380 ms, total: 11.4 s\n",
      "Wall time: 11.7 s\n"
     ]
    }
   ],
   "source": [
    "%%time\n",
    "### Test on other pages, robustness check\n",
    "page_test = requests.get('http://www.newyorksocialdiary.com/party-pictures/2015/in-the-crowd', auth=('user', 'pass'))\n",
    "soup_test = BeautifulSoup(page_test.text, \"lxml\")\n",
    "name_output_test = names(soup_test)\n",
    "name_output_test[0:5]\n",
    "\n",
    "# soup_test.prettify()"
   ]
  },
  {
   "cell_type": "markdown",
   "metadata": {},
   "source": [
    "## Phase Three\n",
    "\n",
    "Once you are satisfied that your caption scraper and parser are working, run this for all of the pages.  If you haven't implemented some caching of the captions, you probably want to do this first."
   ]
  },
  {
   "cell_type": "code",
   "execution_count": 14,
   "metadata": {
    "collapsed": false
   },
   "outputs": [
    {
     "data": {
      "text/plain": [
       "1193"
      ]
     },
     "execution_count": 14,
     "metadata": {},
     "output_type": "execute_result"
    }
   ],
   "source": [
    "### Get the links for all websites\n",
    "target_url = url_date[222:]\n",
    "target_url[0:5]\n",
    "len(target_url)"
   ]
  },
  {
   "cell_type": "code",
   "execution_count": 15,
   "metadata": {
    "collapsed": false
   },
   "outputs": [],
   "source": [
    "# Scraping all of the pages could take 10 minutes or so.\n",
    "import itertools\n",
    "from itertools import chain\n",
    "### Solution faster version, give the full name pair rather than the top 100\n",
    "def names_pair(soup):\n",
    "    temp_name = []\n",
    "    name_pair = []\n",
    "    nlp = spacy.load('en')\n",
    "    for section in soup.findAll(\"div\",{\"class\":\"photocaption\"}):\n",
    "        name = str(section)[41:-6].decode('utf-8').strip()\n",
    "        doc = nlp(name)\n",
    "        pairs = list(itertools.combinations(map(str,doc.ents), 2)) # make inside is string\n",
    "        name_pair.append(pairs)\n",
    "    return sum(name_pair,[]) # unlist"
   ]
  },
  {
   "cell_type": "code",
   "execution_count": 16,
   "metadata": {
    "collapsed": false
   },
   "outputs": [
    {
     "name": "stdout",
     "output_type": "stream",
     "text": [
      "[('Glenn Adamson', 'Simon Doonan'), ('Glenn Adamson', 'Craig Leavitt'), ('Glenn Adamson', 'Jerome Chazen'), ('Glenn Adamson', 'Andi Potamkin'), ('Glenn Adamson', 'Ralph Pucci'), ('Glenn Adamson', 'Kirsten Bailey'), ('Glenn Adamson', 'Edwin Hathaway'), ('Glenn Adamson', 'Dennis Freedman'), ('Glenn Adamson', \"the Museum of Art and Design's\"), ('Simon Doonan', 'Craig Leavitt')]\n"
     ]
    }
   ],
   "source": [
    "# %%time\n",
    "### Test our fast unsorted name algo is working\n",
    "page = requests.get('http://www.newyorksocialdiary.com/party-pictures/2015/celebrating-the-neighborhood', auth=('user', 'pass'))\n",
    "soup = BeautifulSoup(page.text, \"lxml\")\n",
    "name_pair_list = names_pair(soup)\n",
    "print(name_pair_list[0:10])"
   ]
  },
  {
   "cell_type": "code",
   "execution_count": 22,
   "metadata": {
    "collapsed": false
   },
   "outputs": [
    {
     "name": "stdout",
     "output_type": "stream",
     "text": [
      "CPU times: user 0 ns, sys: 0 ns, total: 0 ns\n",
      "Wall time: 14.1 µs\n"
     ]
    }
   ],
   "source": [
    "%%time\n",
    "### Try to pull name from over 1193 website\n",
    "def get_full_name_list(a):\n",
    "    full_name_list = []\n",
    "    for i in target_url['website'][a[0]:a[1]]:\n",
    "        print('http://www.newyorksocialdiary.com%s' %i)\n",
    "        page = requests.get('http://www.newyorksocialdiary.com%s' %i)\n",
    "        soup = BeautifulSoup(page.text, \"lxml\")\n",
    "        name_list = names_pair(soup)\n",
    "        full_name_list.append(name_list)\n",
    "    return sum(full_name_list,[])"
   ]
  },
  {
   "cell_type": "code",
   "execution_count": 30,
   "metadata": {
    "collapsed": false
   },
   "outputs": [
    {
     "name": "stdout",
     "output_type": "stream",
     "text": [
      "http://www.newyorksocialdiary.com/party-pictures/2014/the-thanksgiving-day-parade-from-the-ground-up\n",
      "http://www.newyorksocialdiary.com/party-pictures/2014/gala-guests\n",
      "http://www.newyorksocialdiary.com/party-pictures/2014/equal-justice\n",
      "http://www.newyorksocialdiary.com/party-pictures/2014/celebrating-the-treasures\n",
      "http://www.newyorksocialdiary.com/party-pictures/2014/associates-and-friends\n",
      "http://www.newyorksocialdiary.com/party-pictures/2014/michaels-25th\n",
      "http://www.newyorksocialdiary.com/party-pictures/2014/new-york-lifelines\n",
      "http://www.newyorksocialdiary.com/party-pictures/2014/legends-and-leaders\n",
      "CPU times: user 1min 31s, sys: 2.52 s, total: 1min 33s\n",
      "Wall time: 1min 34s\n"
     ]
    }
   ],
   "source": [
    "%%time\n",
    "full_name_list_part1 = get_full_name_list((0,8))"
   ]
  },
  {
   "cell_type": "code",
   "execution_count": 31,
   "metadata": {
    "collapsed": false
   },
   "outputs": [
    {
     "name": "stdout",
     "output_type": "stream",
     "text": [
      "http://www.newyorksocialdiary.com/party-pictures/2014/the-thanksgiving-day-parade-from-the-ground-uphttp://www.newyorksocialdiary.com/party-pictures/2014/equal-justice\n",
      "\n",
      "http://www.newyorksocialdiary.com/party-pictures/2014/associates-and-friends\n",
      "http://www.newyorksocialdiary.com/party-pictures/2014/new-york-lifelines\n",
      "http://www.newyorksocialdiary.com/party-pictures/2014/gala-guests\n",
      "http://www.newyorksocialdiary.com/party-pictures/2014/michaels-25th\n",
      "http://www.newyorksocialdiary.com/party-pictures/2014/celebrating-the-treasures\n",
      "http://www.newyorksocialdiary.com/party-pictures/2014/legends-and-leaders\n",
      "CPU times: user 1min 24s, sys: 6.8 s, total: 1min 30s\n",
      "Wall time: 1min 29s\n"
     ]
    }
   ],
   "source": [
    "%%time\n",
    "from multiprocessing.pool import ThreadPool\n",
    "pool = ThreadPool(processes=4)\n",
    "range_ = list(range(2))\n",
    "result = pool.map(get_full_name_list,[(0,25),(25,50),(50,75),(75,100)])"
   ]
  },
  {
   "cell_type": "code",
   "execution_count": 35,
   "metadata": {
    "collapsed": false
   },
   "outputs": [
    {
     "data": {
      "text/plain": [
       "[('Prince Alexander', 'Princess Katherine'),\n",
       " ('Prince Alexander', 'Prince Dmitri'),\n",
       " ('Princess Katherine', 'Prince Dmitri'),\n",
       " ('Cheri Kaufman', 'Sharon Bush'),\n",
       " ('Cheri Kaufman', 'Janna Bullock'),\n",
       " ('Sharon Bush', 'Janna Bullock'),\n",
       " ('David Hyrke', 'Dora Tomanovich'),\n",
       " ('Della Rounick', 'Bill Sclight'),\n",
       " ('Della Rounick', 'Lucia Hwong Gordon'),\n",
       " ('Bill Sclight', 'Lucia Hwong Gordon'),\n",
       " ('Audrey Gruss', 'Susan Gutfreund'),\n",
       " ('Janna Bullock', 'Karen Klopp'),\n",
       " ('Sirio Maccioni', 'Ruth Westheimer'),\n",
       " ('Mush Katkol', 'Sharon Bush'),\n",
       " ('Mush Katkol', 'Brian Murphy'),\n",
       " ('Sharon Bush', 'Brian Murphy'),\n",
       " ('Kamie Lightburn', 'Bill Sclight'),\n",
       " ('Kamie Lightburn', 'Paula Bacchini'),\n",
       " ('Bill Sclight', 'Paula Bacchini'),\n",
       " ('Penelope Collins', 'Christine Triant'),\n",
       " ('Andrew  ', 'Dora Economides'),\n",
       " (\"ZZ Top's\", 'Billy Gibbons'),\n",
       " ('Warren Haynes', 'the Allman Brothers'),\n",
       " ('Steve Daffron', 'Ron Kolber'),\n",
       " ('Steve Daffron', 'Lynette'),\n",
       " ('Steve Daffron', 'Hank Hyatt'),\n",
       " ('Ron Kolber', 'Lynette'),\n",
       " ('Ron Kolber', 'Hank Hyatt'),\n",
       " ('Lynette', 'Hank Hyatt'),\n",
       " ('Marcella de Martin', 'Billy Lerner'),\n",
       " ('Natalie Anise', 'Eddie Trunk'),\n",
       " ('George Chrisafis', 'Costas Kellas'),\n",
       " ('Mike Scottie', 'John Withrow'),\n",
       " ('Fara Hain Zerto', 'Cathy Andersen'),\n",
       " ('Martin Sorrell', 'PBS'),\n",
       " ('Martin Sorrell', 'Charlie Rose'),\n",
       " ('PBS', 'Charlie Rose'),\n",
       " ('Ronald Perelman', 'Charlie Rose'),\n",
       " ('Ronald Perelman', 'Martin Sorrell'),\n",
       " ('Ronald Perelman', 'Robert K. Kraft'),\n",
       " ('Charlie Rose', 'Martin Sorrell'),\n",
       " ('Charlie Rose', 'Robert K. Kraft'),\n",
       " ('Martin Sorrell', 'Robert K. Kraft'),\n",
       " ('Martin Sorrell', 'Israel'),\n",
       " ('Martin Sorrell', 'New York'),\n",
       " ('Martin Sorrell', 'Amb'),\n",
       " ('Israel', 'New York'),\n",
       " ('Israel', 'Amb'),\n",
       " ('New York', 'Amb'),\n",
       " ('Ronald O. Perelman', 'Robert K. Kraft'),\n",
       " ('Ronald O. Perelman', 'Lorraine Bracco'),\n",
       " ('Robert K. Kraft', 'Lorraine Bracco'),\n",
       " ('Don Mattingly', 'Derek Jeter'),\n",
       " ('Don Mattingly', 'Allen Popowitz'),\n",
       " ('Don Mattingly', 'Board Chair'),\n",
       " ('Don Mattingly', 'Jeffrey Loria'),\n",
       " ('Don Mattingly', 'Dinner Co-Chair'),\n",
       " ('Don Mattingly', 'Keith Hernandez'),\n",
       " ('Derek Jeter', 'Allen Popowitz'),\n",
       " ('Derek Jeter', 'Board Chair'),\n",
       " ('Derek Jeter', 'Jeffrey Loria'),\n",
       " ('Derek Jeter', 'Dinner Co-Chair'),\n",
       " ('Derek Jeter', 'Keith Hernandez'),\n",
       " ('Allen Popowitz', 'Board Chair'),\n",
       " ('Allen Popowitz', 'Jeffrey Loria'),\n",
       " ('Allen Popowitz', 'Dinner Co-Chair'),\n",
       " ('Allen Popowitz', 'Keith Hernandez'),\n",
       " ('Board Chair', 'Jeffrey Loria'),\n",
       " ('Board Chair', 'Dinner Co-Chair'),\n",
       " ('Board Chair', 'Keith Hernandez'),\n",
       " ('Jeffrey Loria', 'Dinner Co-Chair'),\n",
       " ('Jeffrey Loria', 'Keith Hernandez'),\n",
       " ('Dinner Co-Chair', 'Keith Hernandez'),\n",
       " ('Allen Popowitz', 'Don Mattingly'),\n",
       " ('Allen Popowitz', 'Dorine Gordon'),\n",
       " ('Allen Popowitz', 'Keith Hernandez'),\n",
       " ('Allen Popowitz', 'Bob Costas'),\n",
       " ('Allen Popowitz', 'Franco Harris'),\n",
       " ('Don Mattingly', 'Dorine Gordon'),\n",
       " ('Don Mattingly', 'Keith Hernandez'),\n",
       " ('Don Mattingly', 'Bob Costas'),\n",
       " ('Don Mattingly', 'Franco Harris'),\n",
       " ('Dorine Gordon', 'Keith Hernandez'),\n",
       " ('Dorine Gordon', 'Bob Costas'),\n",
       " ('Dorine Gordon', 'Franco Harris'),\n",
       " ('Keith Hernandez', 'Bob Costas'),\n",
       " ('Keith Hernandez', 'Franco Harris'),\n",
       " ('Bob Costas', 'Franco Harris'),\n",
       " ('Dorine Gordon', 'Jennifer Steinbrenner Swindal'),\n",
       " ('Dorine Gordon', 'Liz Martin'),\n",
       " ('Jennifer Steinbrenner Swindal', 'Liz Martin'),\n",
       " ('Jeanette', 'Anthony Senerchia'),\n",
       " ('Jeanette', 'Derek Jeter'),\n",
       " ('Jeanette', 'Patrick'),\n",
       " ('Jeanette', 'Jenn Quinn'),\n",
       " ('Anthony Senerchia', 'Derek Jeter'),\n",
       " ('Anthony Senerchia', 'Patrick'),\n",
       " ('Anthony Senerchia', 'Jenn Quinn'),\n",
       " ('Derek Jeter', 'Patrick'),\n",
       " ('Derek Jeter', 'Jenn Quinn'),\n",
       " ('Patrick', 'Jenn Quinn'),\n",
       " ('Kevin Brown Thompson', 'Derek Jeter'),\n",
       " ('Kevin Brown Thompson', 'Eddie Redmayne'),\n",
       " ('Tamsen Fadal', 'Lois Braverman'),\n",
       " ('Tamsen Fadal', 'Suzanne Murphy'),\n",
       " ('Tamsen Fadal', 'Javier Gomez'),\n",
       " ('Tamsen Fadal', 'Martha Fling'),\n",
       " ('Lois Braverman', 'Suzanne Murphy'),\n",
       " ('Lois Braverman', 'Javier Gomez'),\n",
       " ('Lois Braverman', 'Martha Fling'),\n",
       " ('Suzanne Murphy', 'Javier Gomez'),\n",
       " ('Suzanne Murphy', 'Martha Fling'),\n",
       " ('Javier Gomez', 'Martha Fling'),\n",
       " ('Laurie Sprayregen', 'Alice Netter'),\n",
       " ('Laurie Sprayregen', 'James Sprayregen'),\n",
       " ('Alice Netter', 'James Sprayregen'),\n",
       " ('Michele Scheinkman', 'Lois Braverman'),\n",
       " ('Michele Scheinkman', 'Marie Wilson'),\n",
       " ('Lois Braverman', 'Marie Wilson'),\n",
       " ('Arnold Syrop', 'Linda Dishy'),\n",
       " ('Tamsen Fadal', 'Chris Gillespie'),\n",
       " ('Tamsen Fadal', 'Martha Fling'),\n",
       " ('Chris Gillespie', 'Martha Fling'),\n",
       " ('Javier Gomez', 'Camilla Barungi'),\n",
       " ('Valerie', 'Carl Kempner'),\n",
       " ('Kristy Rao', 'Javier Gomez'),\n",
       " ('Lois Braverman', 'Andrew Solomon'),\n",
       " ('Lois Braverman', 'Tamsen Fadal'),\n",
       " ('Andrew Solomon', 'Tamsen Fadal'),\n",
       " ('Pieter Taselaar', 'Amy'),\n",
       " ('Pieter Taselaar', 'Greg Eagen'),\n",
       " ('Pieter Taselaar', 'Nina Taselaar'),\n",
       " ('Amy', 'Greg Eagen'),\n",
       " ('Amy', 'Nina Taselaar'),\n",
       " ('Greg Eagen', 'Nina Taselaar'),\n",
       " ('Silvia Espinal', 'Dorimar Morales'),\n",
       " ('Silvia Espinal', 'Erika Klein'),\n",
       " ('Dorimar Morales', 'Erika Klein'),\n",
       " ('Andrew Malcolm', 'Dan Bena'),\n",
       " ('Bryan R. Murphy', 'Brooke Baran'),\n",
       " ('ANDRUS Director', 'Institutional Advancement Alessandra Rose'),\n",
       " ('ANDRUS Director', 'Gala Co-Chair'),\n",
       " ('ANDRUS Director', 'Jon Dorf'),\n",
       " ('Institutional Advancement Alessandra Rose', 'Gala Co-Chair'),\n",
       " ('Institutional Advancement Alessandra Rose', 'Jon Dorf'),\n",
       " ('Gala Co-Chair', 'Jon Dorf'),\n",
       " ('Community-Based Programs Kerron Norman', 'Bradley'),\n",
       " ('Community-Based Programs Kerron Norman', 'Barbara Baran'),\n",
       " ('Bradley', 'Barbara Baran'),\n",
       " ('Pajama Program Founder', 'Genevieve Piturro'),\n",
       " ('Pajama Program Founder', 'Bryan R. Murphy'),\n",
       " ('Genevieve Piturro', 'Bryan R. Murphy'),\n",
       " ('Bradley', 'Barbara Baran'),\n",
       " ('Bradley', 'Human Resources'),\n",
       " ('Bradley', 'Del Pilar'),\n",
       " ('Barbara Baran', 'Human Resources'),\n",
       " ('Barbara Baran', 'Del Pilar'),\n",
       " ('Human Resources', 'Del Pilar'),\n",
       " ('Brooke Baran', 'Leslie Zeller'),\n",
       " ('Brooke Baran', 'Tyrone Hodge'),\n",
       " ('Brooke Baran', 'Barbara Baran'),\n",
       " ('Leslie Zeller', 'Tyrone Hodge'),\n",
       " ('Leslie Zeller', 'Barbara Baran'),\n",
       " ('Tyrone Hodge', 'Barbara Baran'),\n",
       " (\"Ovarian Cancer Research Fund's\", '20th Anniversary Legends Gala'),\n",
       " (\"Ovarian Cancer Research Fund's\", 'Harry Connick Jr.'),\n",
       " ('20th Anniversary Legends Gala', 'Harry Connick Jr.'),\n",
       " ('Pierce Brosnan', 'Harry Connick Jr.'),\n",
       " ('Pierce Brosnan', 'Harry Connick Jr.'),\n",
       " ('Pierce Brosnan', 'Brooke Goodman Cohen'),\n",
       " ('Pierce Brosnan', 'OCRF Board Members'),\n",
       " ('Harry Connick Jr.', 'Brooke Goodman Cohen'),\n",
       " ('Harry Connick Jr.', 'OCRF Board Members'),\n",
       " ('Brooke Goodman Cohen', 'OCRF Board Members'),\n",
       " ('Chet Burros', 'Claudia Burros'),\n",
       " ('Chet Burros', 'Mara Sandler'),\n",
       " ('Chet Burros', 'Ricky Sandler'),\n",
       " ('Claudia Burros', 'Mara Sandler'),\n",
       " ('Claudia Burros', 'Ricky Sandler'),\n",
       " ('Mara Sandler', 'Ricky Sandler'),\n",
       " ('Chris Salgardo', 'Carol Hamilton'),\n",
       " ('Audra Moran', 'Pierce Brosnan'),\n",
       " ('Audra Moran', 'Brooke Goodman Cohen'),\n",
       " ('Audra Moran', 'Chris Salgardo'),\n",
       " ('Pierce Brosnan', 'Brooke Goodman Cohen'),\n",
       " ('Pierce Brosnan', 'Chris Salgardo'),\n",
       " ('Brooke Goodman Cohen', 'Chris Salgardo'),\n",
       " ('Nick Loeb', 'Kat Cohen'),\n",
       " ('Audra Moran', 'Harry Connick Jr.'),\n",
       " ('Audra Moran', 'Sol Schreiber'),\n",
       " ('Harry Connick Jr.', 'Sol Schreiber'),\n",
       " ('Kat Cohen', 'Dori Cooperman'),\n",
       " ('Harry Connick Jr.', 'Pierce Brosnan'),\n",
       " ('Harry Connick Jr.', 'Chris Salgardo'),\n",
       " ('Pierce Brosnan', 'Chris Salgardo'),\n",
       " ('Sherry Jacobson', 'Harry Connick Jr.'),\n",
       " ('Sherry Jacobson', 'John Hansbury'),\n",
       " ('Sherry Jacobson', 'Brooke Goodman Cohen'),\n",
       " ('Harry Connick Jr.', 'John Hansbury'),\n",
       " ('Harry Connick Jr.', 'Brooke Goodman Cohen'),\n",
       " ('John Hansbury', 'Brooke Goodman Cohen'),\n",
       " ('Ed Labaton', 'Audra Moran'),\n",
       " ('Ed Labaton', 'Sol Schreiber'),\n",
       " ('Audra Moran', 'Sol Schreiber'),\n",
       " ('Catherine Malandrino', 'Kelly Rutherford'),\n",
       " ('Kara Gordon', 'Vita Giordano'),\n",
       " ('Lila Nejad', 'Taryn Manning'),\n",
       " ('Lisa Lampanelli', 'Harry Connick Jr.'),\n",
       " ('Lieba Nesis', 'Joan Jedell'),\n",
       " ('Lieba Nesis', 'David Hryck'),\n",
       " ('Joan Jedell', 'David Hryck'),\n",
       " ('Rob Tilberis', 'Jeanette Chang'),\n",
       " ('Rob Tilberis', 'Chris Tilberis'),\n",
       " ('Jeanette Chang', 'Chris Tilberis'),\n",
       " ('Alison Brod', 'Maneesh Goyal'),\n",
       " ('Liz Margolies', 'Devorah Rose'),\n",
       " ('Fountain House Fall Fete', 'Katie Tozer'),\n",
       " ('Fountain House Fall Fete', 'Jennifer Oken'),\n",
       " ('Fountain House Fall Fete', 'Angela Clofine'),\n",
       " ('Fountain House Fall Fete', 'Jeremy Goldstein'),\n",
       " ('Fountain House Fall Fete', 'Lil Phillips'),\n",
       " ('Fountain House Fall Fete', 'Katie Zorn'),\n",
       " ('Fountain House Fall Fete', 'Byrdie Bell'),\n",
       " ('Fountain House Fall Fete', 'Madeleine'),\n",
       " ('Fountain House Fall Fete', 'Alexandre Desmarais'),\n",
       " ('Fountain House Fall Fete', 'Kathleen'),\n",
       " ('Fountain House Fall Fete', 'Reha Kocatas'),\n",
       " ('Fountain House Fall Fete', 'Katherine Lipton'),\n",
       " ('Fountain House Fall Fete', 'Alex Lipman'),\n",
       " ('Fountain House Fall Fete', 'Sarah Simmons'),\n",
       " ('Katie Tozer', 'Jennifer Oken'),\n",
       " ('Katie Tozer', 'Angela Clofine'),\n",
       " ('Katie Tozer', 'Jeremy Goldstein'),\n",
       " ('Katie Tozer', 'Lil Phillips'),\n",
       " ('Katie Tozer', 'Katie Zorn'),\n",
       " ('Katie Tozer', 'Byrdie Bell'),\n",
       " ('Katie Tozer', 'Madeleine'),\n",
       " ('Katie Tozer', 'Alexandre Desmarais'),\n",
       " ('Katie Tozer', 'Kathleen'),\n",
       " ('Katie Tozer', 'Reha Kocatas'),\n",
       " ('Katie Tozer', 'Katherine Lipton'),\n",
       " ('Katie Tozer', 'Alex Lipman'),\n",
       " ('Katie Tozer', 'Sarah Simmons'),\n",
       " ('Jennifer Oken', 'Angela Clofine'),\n",
       " ('Jennifer Oken', 'Jeremy Goldstein'),\n",
       " ('Jennifer Oken', 'Lil Phillips'),\n",
       " ('Jennifer Oken', 'Katie Zorn'),\n",
       " ('Jennifer Oken', 'Byrdie Bell'),\n",
       " ('Jennifer Oken', 'Madeleine'),\n",
       " ('Jennifer Oken', 'Alexandre Desmarais'),\n",
       " ('Jennifer Oken', 'Kathleen'),\n",
       " ('Jennifer Oken', 'Reha Kocatas'),\n",
       " ('Jennifer Oken', 'Katherine Lipton'),\n",
       " ('Jennifer Oken', 'Alex Lipman'),\n",
       " ('Jennifer Oken', 'Sarah Simmons'),\n",
       " ('Angela Clofine', 'Jeremy Goldstein'),\n",
       " ('Angela Clofine', 'Lil Phillips'),\n",
       " ('Angela Clofine', 'Katie Zorn'),\n",
       " ('Angela Clofine', 'Byrdie Bell'),\n",
       " ('Angela Clofine', 'Madeleine'),\n",
       " ('Angela Clofine', 'Alexandre Desmarais'),\n",
       " ('Angela Clofine', 'Kathleen'),\n",
       " ('Angela Clofine', 'Reha Kocatas'),\n",
       " ('Angela Clofine', 'Katherine Lipton'),\n",
       " ('Angela Clofine', 'Alex Lipman'),\n",
       " ('Angela Clofine', 'Sarah Simmons'),\n",
       " ('Jeremy Goldstein', 'Lil Phillips'),\n",
       " ('Jeremy Goldstein', 'Katie Zorn'),\n",
       " ('Jeremy Goldstein', 'Byrdie Bell'),\n",
       " ('Jeremy Goldstein', 'Madeleine'),\n",
       " ('Jeremy Goldstein', 'Alexandre Desmarais'),\n",
       " ('Jeremy Goldstein', 'Kathleen'),\n",
       " ('Jeremy Goldstein', 'Reha Kocatas'),\n",
       " ('Jeremy Goldstein', 'Katherine Lipton'),\n",
       " ('Jeremy Goldstein', 'Alex Lipman'),\n",
       " ('Jeremy Goldstein', 'Sarah Simmons'),\n",
       " ('Lil Phillips', 'Katie Zorn'),\n",
       " ('Lil Phillips', 'Byrdie Bell'),\n",
       " ('Lil Phillips', 'Madeleine'),\n",
       " ('Lil Phillips', 'Alexandre Desmarais'),\n",
       " ('Lil Phillips', 'Kathleen'),\n",
       " ('Lil Phillips', 'Reha Kocatas'),\n",
       " ('Lil Phillips', 'Katherine Lipton'),\n",
       " ('Lil Phillips', 'Alex Lipman'),\n",
       " ('Lil Phillips', 'Sarah Simmons'),\n",
       " ('Katie Zorn', 'Byrdie Bell'),\n",
       " ('Katie Zorn', 'Madeleine'),\n",
       " ('Katie Zorn', 'Alexandre Desmarais'),\n",
       " ('Katie Zorn', 'Kathleen'),\n",
       " ('Katie Zorn', 'Reha Kocatas'),\n",
       " ('Katie Zorn', 'Katherine Lipton'),\n",
       " ('Katie Zorn', 'Alex Lipman'),\n",
       " ('Katie Zorn', 'Sarah Simmons'),\n",
       " ('Byrdie Bell', 'Madeleine'),\n",
       " ('Byrdie Bell', 'Alexandre Desmarais'),\n",
       " ('Byrdie Bell', 'Kathleen'),\n",
       " ('Byrdie Bell', 'Reha Kocatas'),\n",
       " ('Byrdie Bell', 'Katherine Lipton'),\n",
       " ('Byrdie Bell', 'Alex Lipman'),\n",
       " ('Byrdie Bell', 'Sarah Simmons'),\n",
       " ('Madeleine', 'Alexandre Desmarais'),\n",
       " ('Madeleine', 'Kathleen'),\n",
       " ('Madeleine', 'Reha Kocatas'),\n",
       " ('Madeleine', 'Katherine Lipton'),\n",
       " ('Madeleine', 'Alex Lipman'),\n",
       " ('Madeleine', 'Sarah Simmons'),\n",
       " ('Alexandre Desmarais', 'Kathleen'),\n",
       " ('Alexandre Desmarais', 'Reha Kocatas'),\n",
       " ('Alexandre Desmarais', 'Katherine Lipton'),\n",
       " ('Alexandre Desmarais', 'Alex Lipman'),\n",
       " ('Alexandre Desmarais', 'Sarah Simmons'),\n",
       " ('Kathleen', 'Reha Kocatas'),\n",
       " ('Kathleen', 'Katherine Lipton'),\n",
       " ('Kathleen', 'Alex Lipman'),\n",
       " ('Kathleen', 'Sarah Simmons'),\n",
       " ('Reha Kocatas', 'Katherine Lipton'),\n",
       " ('Reha Kocatas', 'Alex Lipman'),\n",
       " ('Reha Kocatas', 'Sarah Simmons'),\n",
       " ('Katherine Lipton', 'Alex Lipman'),\n",
       " ('Katherine Lipton', 'Sarah Simmons'),\n",
       " ('Alex Lipman', 'Sarah Simmons'),\n",
       " ('Dani Stahl', 'Charlotte Ronson'),\n",
       " ('Dani Stahl', 'Katie Zorn'),\n",
       " ('Dani Stahl', 'Chiara de Rege'),\n",
       " ('Dani Stahl', 'Jennifer Liang'),\n",
       " ('Dani Stahl', 'Hilary Koyfman'),\n",
       " ('Charlotte Ronson', 'Katie Zorn'),\n",
       " ('Charlotte Ronson', 'Chiara de Rege'),\n",
       " ('Charlotte Ronson', 'Jennifer Liang'),\n",
       " ('Charlotte Ronson', 'Hilary Koyfman'),\n",
       " ('Katie Zorn', 'Chiara de Rege'),\n",
       " ('Katie Zorn', 'Jennifer Liang'),\n",
       " ('Katie Zorn', 'Hilary Koyfman'),\n",
       " ('Chiara de Rege', 'Jennifer Liang'),\n",
       " ('Chiara de Rege', 'Hilary Koyfman'),\n",
       " ('Jennifer Liang', 'Hilary Koyfman'),\n",
       " ('Alexis Preston', 'Katie Zorn'),\n",
       " ('Alexis Preston', 'Nicole Veras'),\n",
       " ('Katie Zorn', 'Nicole Veras'),\n",
       " ('Jane Pellietere', 'Kenn Dudek'),\n",
       " ('Jane Pellietere', 'Mary Ingriselli'),\n",
       " ('Kenn Dudek', 'Mary Ingriselli'),\n",
       " ('Ben Howe', 'Lou Howe'),\n",
       " ('Ben Howe', 'Luca Borghese'),\n",
       " ('Lou Howe', 'Luca Borghese'),\n",
       " ('Dick Zorn', 'Ilene Wetson'),\n",
       " ('Bill Murphy', 'Justyna Zajac'),\n",
       " ('Graziano de Boni', 'Valerie de Boni'),\n",
       " ('Graziano de Boni', 'Cliff Brokaw'),\n",
       " ('Graziano de Boni', 'Mark Gilbertson'),\n",
       " ('Valerie de Boni', 'Cliff Brokaw'),\n",
       " ('Valerie de Boni', 'Mark Gilbertson'),\n",
       " ('Cliff Brokaw', 'Mark Gilbertson'),\n",
       " ('Jose Luis Guerra', 'Florence Peyrelongue'),\n",
       " ('Katie Tozer', 'Jack Lynch'),\n",
       " ('Katie Tozer', 'Gillian Boyer'),\n",
       " ('Jack Lynch', 'Gillian Boyer'),\n",
       " ('John Rustum', 'Shannon Henderson'),\n",
       " ('John Rustum', 'Todd Henderson'),\n",
       " ('Shannon Henderson', 'Todd Henderson'),\n",
       " ('Michael Clofine', 'Angela Clofine'),\n",
       " ('Bill Manger', 'Elizabeth Pyne'),\n",
       " ('Dick Zorn', 'Franny Zorn'),\n",
       " ('Dick Zorn', 'Katie Zorn'),\n",
       " ('Dick Zorn', 'Lee Huebner'),\n",
       " ('Franny Zorn', 'Katie Zorn'),\n",
       " ('Franny Zorn', 'Lee Huebner'),\n",
       " ('Katie Zorn', 'Lee Huebner'),\n",
       " ('Jo Garst', 'Tracy Lindwall'),\n",
       " ('Tracey Huff', 'Joseph Brandt'),\n",
       " ('Tracey Huff', 'Carol Brandt'),\n",
       " ('Joseph Brandt', 'Carol Brandt'),\n",
       " ('Elise McLean', 'Megan Henze'),\n",
       " ('Elise McLean', 'Fritz Franz'),\n",
       " ('Elise McLean', 'Chrissy Franz'),\n",
       " ('Megan Henze', 'Fritz Franz'),\n",
       " ('Megan Henze', 'Chrissy Franz'),\n",
       " ('Fritz Franz', 'Chrissy Franz'),\n",
       " ('Nicola White', 'Benjamin Zimbric'),\n",
       " ('Violetta Weddepohl', 'Nick Raynes'),\n",
       " ('Violetta Weddepohl', 'Lil Phillips'),\n",
       " ('Nick Raynes', 'Lil Phillips'),\n",
       " ('Alex Lipman', 'Sarah Simmons'),\n",
       " ('Alex Lipman', 'Brooke Mountain'),\n",
       " ('Alex Lipman', 'Asher Lipman'),\n",
       " ('Sarah Simmons', 'Brooke Mountain'),\n",
       " ('Sarah Simmons', 'Asher Lipman'),\n",
       " ('Brooke Mountain', 'Asher Lipman'),\n",
       " ('Megan Savage', 'Tyler Gaffney'),\n",
       " ('Ali Carter', 'Virginia Tracey'),\n",
       " ('Ali Carter', 'Kate Brecht'),\n",
       " ('Virginia Tracey', 'Kate Brecht'),\n",
       " ('Carrie Howe', 'Lou Howe'),\n",
       " ('Carrie Howe', 'Ellen Howe'),\n",
       " ('Carrie Howe', 'Ben Howe'),\n",
       " ('Lou Howe', 'Ellen Howe'),\n",
       " ('Lou Howe', 'Ben Howe'),\n",
       " ('Ellen Howe', 'Ben Howe'),\n",
       " ('Angela Clofine', 'Paige Hardy'),\n",
       " ('Sloane Mikesell', 'Amanda Schumaker'),\n",
       " ('Sloane Mikesell', 'Jamie Birkenhead'),\n",
       " ('Sloane Mikesell', 'Richard Birkenhead'),\n",
       " ('Amanda Schumaker', 'Jamie Birkenhead'),\n",
       " ('Amanda Schumaker', 'Richard Birkenhead'),\n",
       " ('Jamie Birkenhead', 'Richard Birkenhead'),\n",
       " ('Jonathan Berger', 'Marjaleena Berger'),\n",
       " ('Berna Huebner', 'Shari Lusskin'),\n",
       " ('Berna Huebner', 'MD'),\n",
       " ('Shari Lusskin', 'MD'),\n",
       " ('Warren Tye', 'Giusi Cennamo'),\n",
       " ('Warren Tye', 'Ben Draper'),\n",
       " ('Warren Tye', 'Jessica Caetano'),\n",
       " ('Giusi Cennamo', 'Ben Draper'),\n",
       " ('Giusi Cennamo', 'Jessica Caetano'),\n",
       " ('Ben Draper', 'Jessica Caetano'),\n",
       " ('Elisa Gaede', 'Meagan Cowan-Barnes'),\n",
       " ('Liz Anderson', 'Rema Parachini'),\n",
       " ('Liz Anderson', 'Shannon Henderson'),\n",
       " ('Rema Parachini', 'Shannon Henderson'),\n",
       " ('Ben Howe', 'Helen Pennoyer'),\n",
       " ('Ben Howe', 'Daisy Keevil'),\n",
       " ('Ben Howe', 'Luca Borghese'),\n",
       " ('Helen Pennoyer', 'Daisy Keevil'),\n",
       " ('Helen Pennoyer', 'Luca Borghese'),\n",
       " ('Daisy Keevil', 'Luca Borghese'),\n",
       " ('Alexandra Fisher', 'Phil Fisher'),\n",
       " ('Alexandra Fisher', 'Diane Chachas'),\n",
       " ('Phil Fisher', 'Diane Chachas'),\n",
       " ('Danielle Goldstein', 'Richard Donnell'),\n",
       " ('Danielle Goldstein', 'Leila Feinberg'),\n",
       " ('Richard Donnell', 'Leila Feinberg'),\n",
       " ('Ecaterina Andreev', 'Warren Tye'),\n",
       " ('Ecaterina Andreev', 'Giusi Cennamo'),\n",
       " ('Warren Tye', 'Giusi Cennamo'),\n",
       " ('Katherine Todd', 'Jaimee Zanzinger'),\n",
       " ('Michael Pierson', 'Annette Tapert Allen'),\n",
       " ('Michael Pierson', ' Lou Howe'),\n",
       " ('Annette Tapert Allen', ' Lou Howe'),\n",
       " ('Mark Gilbertson', 'Kate Allen'),\n",
       " ('Kamie Lightburn', 'Scott Anderson'),\n",
       " ('Olda FitzGerald', 'Susan Richardson'),\n",
       " ('Olda FitzGerald', 'Kathrine Richardson'),\n",
       " ('Susan Richardson', 'Kathrine Richardson'),\n",
       " ('Spencer Harper', 'Christina McInerney'),\n",
       " ('Spencer Harper', 'Patrick Guinness'),\n",
       " ('Spencer Harper', 'Paula McDermott'),\n",
       " ('Christina McInerney', 'Patrick Guinness'),\n",
       " ('Christina McInerney', 'Paula McDermott'),\n",
       " ('Patrick Guinness', 'Paula McDermott'),\n",
       " ('Beth Dater', 'Michael Kerrigan'),\n",
       " ('Alexandra Schlesinger', 'Kenneth Jay Lane'),\n",
       " ('Alexandra Schlesinger', 'Olda FitzGerald'),\n",
       " ('Kenneth Jay Lane', 'Olda FitzGerald'),\n",
       " ('Sean Reynolds', 'Paula McDermott'),\n",
       " ('Sean Reynolds', 'Donough Cahill'),\n",
       " ('Sean Reynolds', 'Kyra Cheremeteff'),\n",
       " ('Paula McDermott', 'Donough Cahill'),\n",
       " ('Paula McDermott', 'Kyra Cheremeteff'),\n",
       " ('Donough Cahill', 'Kyra Cheremeteff'),\n",
       " ('Delia Roche-Kelly', 'Jose Aguire'),\n",
       " ('Delia Roche-Kelly', 'Beatriz Aguire'),\n",
       " ('Jose Aguire', 'Beatriz Aguire'),\n",
       " (\"Sheila O'Malley Fuchs\", 'Michael Kerrigan'),\n",
       " (\"Sheila O'Malley Fuchs\", \"Chantal O'Sullivan\"),\n",
       " (\"Sheila O'Malley Fuchs\", 'Kieran McLoughlin'),\n",
       " ('Michael Kerrigan', \"Chantal O'Sullivan\"),\n",
       " ('Michael Kerrigan', 'Kieran McLoughlin'),\n",
       " (\"Chantal O'Sullivan\", 'Kieran McLoughlin'),\n",
       " ('Jill Donoghue', \"Robert O'Byrne\"),\n",
       " ('Bob Dowling', 'Steven Stolman'),\n",
       " ('Bob Dowling', 'Michael Kerrigan'),\n",
       " ('Bob Dowling', 'Rich Wilke'),\n",
       " ('Steven Stolman', 'Michael Kerrigan'),\n",
       " ('Steven Stolman', 'Rich Wilke'),\n",
       " ('Michael Kerrigan', 'Rich Wilke'),\n",
       " ('Fox', 'Fox'),\n",
       " ('James Anderson', 'Ivana Lowell'),\n",
       " ('James Anderson', 'Steven Gambrel'),\n",
       " ('Ivana Lowell', 'Steven Gambrel'),\n",
       " ('Angus Wilke', 'Cynthia Ryan'),\n",
       " ('Christopher Monkhouse', 'William Laffan'),\n",
       " ('Maribeth Welsh', 'Tom Quick'),\n",
       " ('Scott Seydel', 'Pat Mitchell'),\n",
       " ('Scott Seydel', 'Elianne Ramos'),\n",
       " ('Scott Seydel', 'Gloria Steinem'),\n",
       " ('Scott Seydel', 'Sheila Johnson'),\n",
       " ('Scott Seydel', 'Julie Burton'),\n",
       " ('Pat Mitchell', 'Elianne Ramos'),\n",
       " ('Pat Mitchell', 'Gloria Steinem'),\n",
       " ('Pat Mitchell', 'Sheila Johnson'),\n",
       " ('Pat Mitchell', 'Julie Burton'),\n",
       " ('Elianne Ramos', 'Gloria Steinem'),\n",
       " ('Elianne Ramos', 'Sheila Johnson'),\n",
       " ('Elianne Ramos', 'Julie Burton'),\n",
       " ('Gloria Steinem', 'Sheila Johnson'),\n",
       " ('Gloria Steinem', 'Julie Burton'),\n",
       " ('Sheila Johnson', 'Julie Burton'),\n",
       " ('Clive Davis', 'Lesley Gore'),\n",
       " ('David Corn', 'Jessica Valenti'),\n",
       " ('David Corn', 'Elizabeth Plank'),\n",
       " ('David Corn', 'Rachel Sklar'),\n",
       " ('Jessica Valenti', 'Elizabeth Plank'),\n",
       " ('Jessica Valenti', 'Rachel Sklar'),\n",
       " ('Elizabeth Plank', 'Rachel Sklar'),\n",
       " ('Donna Deitch', 'Bonnie Schaefer'),\n",
       " ('Donna Deitch', 'Robin Morgan'),\n",
       " ('Bonnie Schaefer', 'Robin Morgan'),\n",
       " ('Jewelle Bickford', 'Lauren Embrey'),\n",
       " ('Jewelle Bickford', 'Sally Kohn'),\n",
       " ('Lauren Embrey', 'Sally Kohn'),\n",
       " ('Julie Burton', 'Carol Jenkins'),\n",
       " ('Julie Burton', 'Carolyn Maloney'),\n",
       " ('Carol Jenkins', 'Carolyn Maloney'),\n",
       " ('Phil Donahue', 'Gloria Steinem'),\n",
       " ('Phil Donahue', 'Marlo Thomas'),\n",
       " ('Phil Donahue', 'Robin Morgan'),\n",
       " ('Gloria Steinem', 'Marlo Thomas'),\n",
       " ('Gloria Steinem', 'Robin Morgan'),\n",
       " ('Marlo Thomas', 'Robin Morgan'),\n",
       " ('Roger Hickey', 'Gloria Steinem'),\n",
       " ('Roger Hickey', 'David Corn'),\n",
       " ('Roger Hickey', 'Julie Burton'),\n",
       " ('Gloria Steinem', 'David Corn'),\n",
       " ('Gloria Steinem', 'Julie Burton'),\n",
       " ('David Corn', 'Julie Burton'),\n",
       " ('Sady Doyle', 'Elianne Ramos'),\n",
       " ('Sady Doyle', 'Lindy West'),\n",
       " ('Elianne Ramos', 'Lindy West'),\n",
       " ('Steven Swig', 'Mary Swig'),\n",
       " ('Steven Swig', 'Gloria Steinem'),\n",
       " ('Mary Swig', 'Gloria Steinem'),\n",
       " ('Vanessa De Luca', 'Elianne Ramos'),\n",
       " ('Vanessa De Luca', 'Juile Burton'),\n",
       " ('Elianne Ramos', 'Juile Burton'),\n",
       " ('Bob Peterson', 'Katie Couric'),\n",
       " ('Bob Peterson', 'Marlo Thomas'),\n",
       " ('Katie Couric', 'Marlo Thomas'),\n",
       " ('Katie Couric', 'Barbara Walters'),\n",
       " ('Walter Pye', 'Honoree Len McNally'),\n",
       " ('Walter Pye', 'Carter Burden Center'),\n",
       " ('Walter Pye', 'the Aging Executive Director'),\n",
       " ('Walter Pye', 'William J. Dionne'),\n",
       " ('Walter Pye', 'Gala Vice Chair'),\n",
       " ('Walter Pye', 'Susan Burden'),\n",
       " ('Walter Pye', 'Gala Vice'),\n",
       " ('Walter Pye', 'Jeffrey Weber'),\n",
       " ('Walter Pye', 'Honoree Michael P. McLaughlin'),\n",
       " ('Honoree Len McNally', 'Carter Burden Center'),\n",
       " ('Honoree Len McNally', 'the Aging Executive Director'),\n",
       " ('Honoree Len McNally', 'William J. Dionne'),\n",
       " ('Honoree Len McNally', 'Gala Vice Chair'),\n",
       " ('Honoree Len McNally', 'Susan Burden'),\n",
       " ('Honoree Len McNally', 'Gala Vice'),\n",
       " ('Honoree Len McNally', 'Jeffrey Weber'),\n",
       " ('Honoree Len McNally', 'Honoree Michael P. McLaughlin'),\n",
       " ('Carter Burden Center', 'the Aging Executive Director'),\n",
       " ('Carter Burden Center', 'William J. Dionne'),\n",
       " ('Carter Burden Center', 'Gala Vice Chair'),\n",
       " ('Carter Burden Center', 'Susan Burden'),\n",
       " ('Carter Burden Center', 'Gala Vice'),\n",
       " ('Carter Burden Center', 'Jeffrey Weber'),\n",
       " ('Carter Burden Center', 'Honoree Michael P. McLaughlin'),\n",
       " ('the Aging Executive Director', 'William J. Dionne'),\n",
       " ('the Aging Executive Director', 'Gala Vice Chair'),\n",
       " ('the Aging Executive Director', 'Susan Burden'),\n",
       " ('the Aging Executive Director', 'Gala Vice'),\n",
       " ('the Aging Executive Director', 'Jeffrey Weber'),\n",
       " ('the Aging Executive Director', 'Honoree Michael P. McLaughlin'),\n",
       " ('William J. Dionne', 'Gala Vice Chair'),\n",
       " ('William J. Dionne', 'Susan Burden'),\n",
       " ('William J. Dionne', 'Gala Vice'),\n",
       " ('William J. Dionne', 'Jeffrey Weber'),\n",
       " ('William J. Dionne', 'Honoree Michael P. McLaughlin'),\n",
       " ('Gala Vice Chair', 'Susan Burden'),\n",
       " ('Gala Vice Chair', 'Gala Vice'),\n",
       " ('Gala Vice Chair', 'Jeffrey Weber'),\n",
       " ('Gala Vice Chair', 'Honoree Michael P. McLaughlin'),\n",
       " ('Susan Burden', 'Gala Vice'),\n",
       " ('Susan Burden', 'Jeffrey Weber'),\n",
       " ('Susan Burden', 'Honoree Michael P. McLaughlin'),\n",
       " ('Gala Vice', 'Jeffrey Weber'),\n",
       " ('Gala Vice', 'Honoree Michael P. McLaughlin'),\n",
       " ('Jeffrey Weber', 'Honoree Michael P. McLaughlin'),\n",
       " ('Carter Burden Center', 'the Aging Board of Directors'),\n",
       " ('Carter Burden Center', 'Margaret Smith'),\n",
       " ('Carter Burden Center', 'Susan Burden'),\n",
       " ('Carter Burden Center', 'Duane Hampton'),\n",
       " ('Carter Burden Center', 'Patrick Murphy'),\n",
       " ('Carter Burden Center', 'Kathryn Cashman'),\n",
       " ('Carter Burden Center', 'Sally Phipps'),\n",
       " ('Carter Burden Center', 'Paul Powers'),\n",
       " ('Carter Burden Center', 'Beth Reifers'),\n",
       " ('Carter Burden Center', 'David Meneret'),\n",
       " ('Carter Burden Center', 'Mary Connelly'),\n",
       " ('Carter Burden Center', 'Gib Dunham'),\n",
       " ('Carter Burden Center', 'Jeff Weber'),\n",
       " ('Carter Burden Center', \"Lindsay O'Reilly\"),\n",
       " ('the Aging Board of Directors', 'Margaret Smith'),\n",
       " ('the Aging Board of Directors', 'Susan Burden'),\n",
       " ('the Aging Board of Directors', 'Duane Hampton'),\n",
       " ('the Aging Board of Directors', 'Patrick Murphy'),\n",
       " ('the Aging Board of Directors', 'Kathryn Cashman'),\n",
       " ('the Aging Board of Directors', 'Sally Phipps'),\n",
       " ('the Aging Board of Directors', 'Paul Powers'),\n",
       " ('the Aging Board of Directors', 'Beth Reifers'),\n",
       " ('the Aging Board of Directors', 'David Meneret'),\n",
       " ('the Aging Board of Directors', 'Mary Connelly'),\n",
       " ('the Aging Board of Directors', 'Gib Dunham'),\n",
       " ('the Aging Board of Directors', 'Jeff Weber'),\n",
       " ('the Aging Board of Directors', \"Lindsay O'Reilly\"),\n",
       " ('Margaret Smith', 'Susan Burden'),\n",
       " ('Margaret Smith', 'Duane Hampton'),\n",
       " ('Margaret Smith', 'Patrick Murphy'),\n",
       " ('Margaret Smith', 'Kathryn Cashman'),\n",
       " ('Margaret Smith', 'Sally Phipps'),\n",
       " ('Margaret Smith', 'Paul Powers'),\n",
       " ('Margaret Smith', 'Beth Reifers'),\n",
       " ('Margaret Smith', 'David Meneret'),\n",
       " ('Margaret Smith', 'Mary Connelly'),\n",
       " ('Margaret Smith', 'Gib Dunham'),\n",
       " ('Margaret Smith', 'Jeff Weber'),\n",
       " ('Margaret Smith', \"Lindsay O'Reilly\"),\n",
       " ('Susan Burden', 'Duane Hampton'),\n",
       " ('Susan Burden', 'Patrick Murphy'),\n",
       " ('Susan Burden', 'Kathryn Cashman'),\n",
       " ('Susan Burden', 'Sally Phipps'),\n",
       " ('Susan Burden', 'Paul Powers'),\n",
       " ('Susan Burden', 'Beth Reifers'),\n",
       " ('Susan Burden', 'David Meneret'),\n",
       " ('Susan Burden', 'Mary Connelly'),\n",
       " ('Susan Burden', 'Gib Dunham'),\n",
       " ('Susan Burden', 'Jeff Weber'),\n",
       " ('Susan Burden', \"Lindsay O'Reilly\"),\n",
       " ('Duane Hampton', 'Patrick Murphy'),\n",
       " ('Duane Hampton', 'Kathryn Cashman'),\n",
       " ('Duane Hampton', 'Sally Phipps'),\n",
       " ('Duane Hampton', 'Paul Powers'),\n",
       " ('Duane Hampton', 'Beth Reifers'),\n",
       " ('Duane Hampton', 'David Meneret'),\n",
       " ('Duane Hampton', 'Mary Connelly'),\n",
       " ('Duane Hampton', 'Gib Dunham'),\n",
       " ('Duane Hampton', 'Jeff Weber'),\n",
       " ('Duane Hampton', \"Lindsay O'Reilly\"),\n",
       " ('Patrick Murphy', 'Kathryn Cashman'),\n",
       " ('Patrick Murphy', 'Sally Phipps'),\n",
       " ('Patrick Murphy', 'Paul Powers'),\n",
       " ('Patrick Murphy', 'Beth Reifers'),\n",
       " ('Patrick Murphy', 'David Meneret'),\n",
       " ('Patrick Murphy', 'Mary Connelly'),\n",
       " ('Patrick Murphy', 'Gib Dunham'),\n",
       " ('Patrick Murphy', 'Jeff Weber'),\n",
       " ('Patrick Murphy', \"Lindsay O'Reilly\"),\n",
       " ('Kathryn Cashman', 'Sally Phipps'),\n",
       " ('Kathryn Cashman', 'Paul Powers'),\n",
       " ('Kathryn Cashman', 'Beth Reifers'),\n",
       " ('Kathryn Cashman', 'David Meneret'),\n",
       " ('Kathryn Cashman', 'Mary Connelly'),\n",
       " ('Kathryn Cashman', 'Gib Dunham'),\n",
       " ('Kathryn Cashman', 'Jeff Weber'),\n",
       " ('Kathryn Cashman', \"Lindsay O'Reilly\"),\n",
       " ('Sally Phipps', 'Paul Powers'),\n",
       " ('Sally Phipps', 'Beth Reifers'),\n",
       " ('Sally Phipps', 'David Meneret'),\n",
       " ('Sally Phipps', 'Mary Connelly'),\n",
       " ('Sally Phipps', 'Gib Dunham'),\n",
       " ('Sally Phipps', 'Jeff Weber'),\n",
       " ('Sally Phipps', \"Lindsay O'Reilly\"),\n",
       " ('Paul Powers', 'Beth Reifers'),\n",
       " ('Paul Powers', 'David Meneret'),\n",
       " ('Paul Powers', 'Mary Connelly'),\n",
       " ('Paul Powers', 'Gib Dunham'),\n",
       " ('Paul Powers', 'Jeff Weber'),\n",
       " ('Paul Powers', \"Lindsay O'Reilly\"),\n",
       " ('Beth Reifers', 'David Meneret'),\n",
       " ('Beth Reifers', 'Mary Connelly'),\n",
       " ('Beth Reifers', 'Gib Dunham'),\n",
       " ('Beth Reifers', 'Jeff Weber'),\n",
       " ('Beth Reifers', \"Lindsay O'Reilly\"),\n",
       " ('David Meneret', 'Mary Connelly'),\n",
       " ('David Meneret', 'Gib Dunham'),\n",
       " ('David Meneret', 'Jeff Weber'),\n",
       " ('David Meneret', \"Lindsay O'Reilly\"),\n",
       " ('Mary Connelly', 'Gib Dunham'),\n",
       " ('Mary Connelly', 'Jeff Weber'),\n",
       " ('Mary Connelly', \"Lindsay O'Reilly\"),\n",
       " ('Gib Dunham', 'Jeff Weber'),\n",
       " ('Gib Dunham', \"Lindsay O'Reilly\"),\n",
       " ('Jeff Weber', \"Lindsay O'Reilly\"),\n",
       " ('New York', 'David Marcus'),\n",
       " ('New York', 'Eileen Casey'),\n",
       " ('New York', 'Roderick Jenkins'),\n",
       " ('New York', 'Len McNally'),\n",
       " ('New York', 'Pat Jenny'),\n",
       " ('New York', 'Lorie Slutsky'),\n",
       " ('New York', 'Irfan Hassan'),\n",
       " ('David Marcus', 'Eileen Casey'),\n",
       " ('David Marcus', 'Roderick Jenkins'),\n",
       " ('David Marcus', 'Len McNally'),\n",
       " ('David Marcus', 'Pat Jenny'),\n",
       " ('David Marcus', 'Lorie Slutsky'),\n",
       " ('David Marcus', 'Irfan Hassan'),\n",
       " ('Eileen Casey', 'Roderick Jenkins'),\n",
       " ('Eileen Casey', 'Len McNally'),\n",
       " ('Eileen Casey', 'Pat Jenny'),\n",
       " ('Eileen Casey', 'Lorie Slutsky'),\n",
       " ('Eileen Casey', 'Irfan Hassan'),\n",
       " ('Roderick Jenkins', 'Len McNally'),\n",
       " ('Roderick Jenkins', 'Pat Jenny'),\n",
       " ('Roderick Jenkins', 'Lorie Slutsky'),\n",
       " ('Roderick Jenkins', 'Irfan Hassan'),\n",
       " ('Len McNally', 'Pat Jenny'),\n",
       " ('Len McNally', 'Lorie Slutsky'),\n",
       " ('Len McNally', 'Irfan Hassan'),\n",
       " ('Pat Jenny', 'Lorie Slutsky'),\n",
       " ('Pat Jenny', 'Irfan Hassan'),\n",
       " ('Lorie Slutsky', 'Irfan Hassan'),\n",
       " ('Donna Corrado', 'NYC Department'),\n",
       " ('Donna Corrado', 'Caryn Resnick'),\n",
       " ('Donna Corrado', 'NYC Department'),\n",
       " ('NYC Department', 'Caryn Resnick'),\n",
       " ('NYC Department', 'NYC Department'),\n",
       " ('Caryn Resnick', 'NYC Department'),\n",
       " ('Julie', 'David Meneret'),\n",
       " ('David Meneret', 'Erin Shakespeare'),\n",
       " ('David Meneret', 'Honoree Michael McLaughlin'),\n",
       " ('David Meneret', 'Gala Chair'),\n",
       " ('David Meneret', 'Walter Pye'),\n",
       " ('Erin Shakespeare', 'Honoree Michael McLaughlin'),\n",
       " ('Erin Shakespeare', 'Gala Chair'),\n",
       " ('Erin Shakespeare', 'Walter Pye'),\n",
       " ('Honoree Michael McLaughlin', 'Gala Chair'),\n",
       " ('Honoree Michael McLaughlin', 'Walter Pye'),\n",
       " ('Gala Chair', 'Walter Pye'),\n",
       " ('Margaret', 'Ian Smith'),\n",
       " ('Margaret Grioli', 'Macy'),\n",
       " ('Margaret Grioli', 'Susan Burden'),\n",
       " ('Margaret Grioli', 'Gala Vice Chair'),\n",
       " ('Macy', 'Susan Burden'),\n",
       " ('Macy', 'Gala Vice Chair'),\n",
       " ('Susan Burden', 'Gala Vice Chair'),\n",
       " ('Carter Burden Center', 'the Aging Senior Participants'),\n",
       " ('Carter Burden Center', 'Jenny Rodriguez'),\n",
       " ('Carter Burden Center', 'Norma Negron'),\n",
       " ('Carter Burden Center', 'Carol Massa'),\n",
       " ('Carter Burden Center', 'George Davis'),\n",
       " ('Carter Burden Center', 'Sarah Petit'),\n",
       " ('Carter Burden Center', 'Rita Trapner'),\n",
       " ('Carter Burden Center', 'Anne Wild'),\n",
       " ('the Aging Senior Participants', 'Jenny Rodriguez'),\n",
       " ('the Aging Senior Participants', 'Norma Negron'),\n",
       " ('the Aging Senior Participants', 'Carol Massa'),\n",
       " ('the Aging Senior Participants', 'George Davis'),\n",
       " ('the Aging Senior Participants', 'Sarah Petit'),\n",
       " ('the Aging Senior Participants', 'Rita Trapner'),\n",
       " ('the Aging Senior Participants', 'Anne Wild'),\n",
       " ('Jenny Rodriguez', 'Norma Negron'),\n",
       " ('Jenny Rodriguez', 'Carol Massa'),\n",
       " ('Jenny Rodriguez', 'George Davis'),\n",
       " ('Jenny Rodriguez', 'Sarah Petit'),\n",
       " ('Jenny Rodriguez', 'Rita Trapner'),\n",
       " ('Jenny Rodriguez', 'Anne Wild'),\n",
       " ('Norma Negron', 'Carol Massa'),\n",
       " ('Norma Negron', 'George Davis'),\n",
       " ('Norma Negron', 'Sarah Petit'),\n",
       " ('Norma Negron', 'Rita Trapner'),\n",
       " ('Norma Negron', 'Anne Wild'),\n",
       " ('Carol Massa', 'George Davis'),\n",
       " ('Carol Massa', 'Sarah Petit'),\n",
       " ('Carol Massa', 'Rita Trapner'),\n",
       " ('Carol Massa', 'Anne Wild'),\n",
       " ('George Davis', 'Sarah Petit'),\n",
       " ('George Davis', 'Rita Trapner'),\n",
       " ('George Davis', 'Anne Wild'),\n",
       " ('Sarah Petit', 'Rita Trapner'),\n",
       " ('Sarah Petit', 'Anne Wild'),\n",
       " ('Rita Trapner', 'Anne Wild')]"
      ]
     },
     "execution_count": 35,
     "metadata": {},
     "output_type": "execute_result"
    }
   ],
   "source": [
    "result[3]"
   ]
  },
  {
   "cell_type": "code",
   "execution_count": 1,
   "metadata": {
    "collapsed": true
   },
   "outputs": [],
   "source": [
    "a = 1"
   ]
  },
  {
   "cell_type": "markdown",
   "metadata": {},
   "source": [
    "For the remaining analysis, we think of the problem in terms of a\n",
    "[network](http://en.wikipedia.org/wiki/Computer_network) or a\n",
    "[graph](https://en.wikipedia.org/wiki/Graph_%28discrete_mathematics%29).  Any time a pair of people appear in a photo together, that is considered a link.  What we have described is more appropriately called an (undirected)\n",
    "[multigraph](http://en.wikipedia.org/wiki/Multigraph) with no self-loops but this has an obvious analog in terms of an undirected [weighted graph](http://en.wikipedia.org/wiki/Graph_%28mathematics%29#Weighted_graph).  In this problem, we will analyze the social graph of the new york social elite.  We recommend using python's [networkx](https://networkx.github.io/) library."
   ]
  },
  {
   "cell_type": "code",
   "execution_count": 288,
   "metadata": {
    "collapsed": false
   },
   "outputs": [],
   "source": [
    "import itertools  # itertools.combinations may be useful\n",
    "import networkx as nx\n"
   ]
  },
  {
   "cell_type": "code",
   "execution_count": 325,
   "metadata": {
    "collapsed": false
   },
   "outputs": [
    {
     "data": {
      "image/png": "[encoded data removed]",
      "text/plain": [
       "<matplotlib.figure.Figure at 0x7f4c3e749890>"
      ]
     },
     "metadata": {},
     "output_type": "display_data"
    }
   ],
   "source": [
    "### Test use for networkx\n",
    "import networkx as nx\n",
    "import matplotlib.pyplot as plt\n",
    "G=nx.Graph()\n",
    "G.add_edges_from(unlist_full_name_list) # Only accept two edges\n",
    "nx.draw(G)"
   ]
  },
  {
   "cell_type": "code",
   "execution_count": 326,
   "metadata": {
    "collapsed": false
   },
   "outputs": [
    {
     "data": {
      "text/plain": [
       "{'  IDEAL School &amp; Academy': 1,\n",
       " '10th': 1,\n",
       " 'Aaron Malinsky': 3,\n",
       " 'Aaron Tighe': 5,\n",
       " 'Adrianne Silver': 2,\n",
       " 'Agenia Clark': 3,\n",
       " 'Alex Figueroa': 2,\n",
       " 'Alexia Hamm Ryan': 2,\n",
       " 'Ali Sussman': 5,\n",
       " 'Alice Levine': 3,\n",
       " 'Alysse Brennan': 5,\n",
       " 'Amelia Ogunleis': 1,\n",
       " 'Amsale Aberra': 1,\n",
       " 'Amy Cunningham-Bussel': 2,\n",
       " 'Andee Radu': 5,\n",
       " 'Andrea Fahnestock': 1,\n",
       " 'Andrea Klein': 4,\n",
       " 'Andrea Ziegelman': 2,\n",
       " 'Angela Vallot': 2,\n",
       " 'Ann Marie Mirabile': 2,\n",
       " 'Anne Harrison': 1,\n",
       " 'Anne Jameson': 1,\n",
       " 'Anne Lichtblau': 2,\n",
       " 'Anne-Marie Olson Kahn': 5,\n",
       " 'Audra Zuckerman': 5,\n",
       " 'Aziz Friedrich': 5,\n",
       " 'Baird Ryan': 2,\n",
       " 'Barbara Cohen': 4,\n",
       " 'Barbara Loughlin': 2,\n",
       " 'Barbara Murphy': 7,\n",
       " 'Barbara Scott': 3,\n",
       " 'Barri Lieberman': 4,\n",
       " 'Bart Scott': 1,\n",
       " 'Bart Tiernan': 2,\n",
       " 'Ben Malinsky': 3,\n",
       " 'Benjamin Talton': 1,\n",
       " 'Bernard Tyson': 4,\n",
       " 'Beverly Bell': 4,\n",
       " 'Bill': 1,\n",
       " 'Bill Mack': 1,\n",
       " 'Billy Morrissey': 1,\n",
       " 'Bob': 3,\n",
       " 'Bob Greene': 3,\n",
       " 'Bob Mackay': 4,\n",
       " 'Bonnie Williamson': 5,\n",
       " 'Brendan': 1,\n",
       " 'Brittany Brown': 1,\n",
       " 'Bruce Gordon': 2,\n",
       " 'Byron Pitts': 3,\n",
       " 'Carol': 8,\n",
       " 'Carol Sutton Lewis': 1,\n",
       " 'Caroline Gerry': 1,\n",
       " 'Carolyn Malinsky': 3,\n",
       " 'Carter Bays': 1,\n",
       " 'Cass': 1,\n",
       " 'Charles Atkins': 2,\n",
       " 'Charles Holcomb': 1,\n",
       " 'Cheryl Brown Henderson': 2,\n",
       " 'Chris': 3,\n",
       " 'Chris Nottonson': 2,\n",
       " 'Christine': 3,\n",
       " 'Chuck Grodin': 1,\n",
       " 'Clint Finlayson': 3,\n",
       " 'Concetta Bencivenga': 1,\n",
       " 'Craig Thomas': 1,\n",
       " 'Cynthia Conway': 3,\n",
       " 'Cynthia Jay': 5,\n",
       " 'Cyrus Izzo': 3,\n",
       " 'Dan Barry': 7,\n",
       " 'Dan Paduano': 1,\n",
       " 'Dan Shedrick': 1,\n",
       " 'Dana': 1,\n",
       " 'Dana Taylor': 2,\n",
       " 'Dana Winslow': 5,\n",
       " 'Daniel Murphy': 3,\n",
       " 'Daniel Parker': 5,\n",
       " 'Dara Silverman': 3,\n",
       " 'Darren Walker': 1,\n",
       " 'David Blowers': 3,\n",
       " 'David Byrnes': 1,\n",
       " 'David Greenbaum': 3,\n",
       " 'David Hidalgo': 5,\n",
       " 'David Lyden': 1,\n",
       " 'David Reich': 1,\n",
       " 'Deann Murphy': 3,\n",
       " 'Debbie Gelston': 2,\n",
       " 'Debbie Hussey': 2,\n",
       " 'Debby': 1,\n",
       " 'Deborah Kern': 1,\n",
       " 'Deborah Roberts': 10,\n",
       " 'Debra Lee': 6,\n",
       " 'Debra Martin': 2,\n",
       " 'Debra Martin Chase': 1,\n",
       " 'Denise': 2,\n",
       " 'Denise Tyson': 1,\n",
       " 'Dennis Basso': 6,\n",
       " 'Dennis Brownlee': 1,\n",
       " 'Denyse Duval Pugsley': 2,\n",
       " 'Devon Carroll': 3,\n",
       " 'Diahn McGrath': 3,\n",
       " 'Diana Rosario': 5,\n",
       " 'Diane': 7,\n",
       " 'Doug': 3,\n",
       " 'Doug Blonsky': 1,\n",
       " 'Douglas Dieterich': 3,\n",
       " 'Dwight Gooden': 1,\n",
       " 'Dwight Johnson': 3,\n",
       " 'Eby McKay': 2,\n",
       " 'Ed': 3,\n",
       " 'Ed Clarke': 3,\n",
       " 'Eileen Cahill': 3,\n",
       " 'Elizabeth Stribling': 2,\n",
       " 'Emily Franchina': 5,\n",
       " 'Fernanda Kellogg': 2,\n",
       " 'Fiona Rudin': 3,\n",
       " 'Fox': 3,\n",
       " 'Frank Ahimaz': 2,\n",
       " 'Frank Olt': 9,\n",
       " 'Franklin Hill Perrell': 8,\n",
       " 'Fred': 1,\n",
       " 'Fred Feiner': 3,\n",
       " 'Gabriella Morris': 1,\n",
       " 'Geoffrey Canada': 3,\n",
       " 'George Hambrecht': 1,\n",
       " 'George Lichtblau': 2,\n",
       " 'Gerald Adolph': 2,\n",
       " 'Gerald Loughlin': 2,\n",
       " 'Gigi Grimstad': 2,\n",
       " 'Gilbert Ott': 5,\n",
       " 'Gillian': 1,\n",
       " 'Gillian Miniter': 5,\n",
       " 'Ginny Aaron': 3,\n",
       " 'Giulia Caltagirone': 4,\n",
       " 'Glen Weiss': 3,\n",
       " 'Guy Robinson': 2,\n",
       " 'Gwen Adolph': 2,\n",
       " 'Heather Robinson': 4,\n",
       " 'Henry \"Hank\" Aaron': 2,\n",
       " 'Henry Kravis': 2,\n",
       " 'Hilary Oran': 2,\n",
       " 'Hy Chalm\\xc3\\xa9': 5,\n",
       " 'Iffie Okoronkwo Aitkenhead': 3,\n",
       " 'Isabel Kallman': 4,\n",
       " 'JD Chalm\\xc3\\xa9': 5,\n",
       " 'Jack Greenberg': 1,\n",
       " 'Jackie Olt': 4,\n",
       " 'Jacques Busquet': 3,\n",
       " 'Jaime Gleicher': 1,\n",
       " 'James Regan': 3,\n",
       " 'James Scott': 3,\n",
       " 'James Tiberg': 2,\n",
       " 'James Watson': 2,\n",
       " 'Jamie Creel': 1,\n",
       " 'Janai Nelson': 1,\n",
       " 'Jane Rittmaster': 3,\n",
       " 'Jane Whitney': 1,\n",
       " 'Janet Dewart Bell': 2,\n",
       " 'Jared Seligman': 1,\n",
       " 'Jason Adelman': 1,\n",
       " 'Jay Eisenhofer': 1,\n",
       " 'Jeff Tarr': 1,\n",
       " 'Jen Zaleski': 5,\n",
       " 'Jena Silverman': 3,\n",
       " 'Jenny Price': 4,\n",
       " 'Jessica Farrell': 3,\n",
       " 'Jill Ross': 2,\n",
       " 'Jim': 3,\n",
       " 'Jim Large': 5,\n",
       " 'Jimmy Cayne': 2,\n",
       " 'Jimmy Nichols': 4,\n",
       " 'Joan Raines': 3,\n",
       " 'John': 5,\n",
       " 'John Gachot': 3,\n",
       " 'John Hackett': 5,\n",
       " 'John Silverman': 3,\n",
       " 'John Utendahl': 2,\n",
       " 'Jon Batiste': 7,\n",
       " 'Jon Cooper': 3,\n",
       " 'Jon Mechanic': 3,\n",
       " 'Jonathan Soros': 1,\n",
       " 'Jonathan Wehle': 8,\n",
       " 'Jonelle Procope': 1,\n",
       " 'Judith Byrd': 1,\n",
       " 'Judith M. Scheide': 1,\n",
       " 'Judy Angelo': 1,\n",
       " 'Judy Poller': 1,\n",
       " 'Julia Harquail': 5,\n",
       " 'Julie Miller': 3,\n",
       " 'Julie Rinaldini': 5,\n",
       " 'Kamie Lightburn': 3,\n",
       " 'Karen Asprea': 3,\n",
       " 'Kathleen FitzGerald': 1,\n",
       " 'Kathryn Chenault': 1,\n",
       " 'Kelly  ': 1,\n",
       " 'Kelly Mulderry': 2,\n",
       " 'Ken Farrell': 3,\n",
       " 'Kenneth Mehlman': 6,\n",
       " 'Kim Testa': 3,\n",
       " 'Kimberly Tighe': 7,\n",
       " 'Kingsley Woolworth': 3,\n",
       " 'Kiwan Nichols': 4,\n",
       " 'Kurt Henckels': 1,\n",
       " 'L. Stephen Hill': 3,\n",
       " 'Lance Lundeberg': 1,\n",
       " 'Laurie Golub': 1,\n",
       " 'Laurie Robinson Haden': 1,\n",
       " 'Lawrence Smith': 2,\n",
       " 'Les Lieberman': 8,\n",
       " 'Lindsay Macbeth': 5,\n",
       " 'Lisa': 5,\n",
       " 'Lisa Boykin': 2,\n",
       " 'Lisa Ling': 5,\n",
       " 'Lisa Middleton': 3,\n",
       " 'Luann Blowers': 3,\n",
       " 'Luis Rinaldini': 5,\n",
       " 'Lynda': 3,\n",
       " 'Madelaine Cohen': 4,\n",
       " 'Marci Murphy': 2,\n",
       " 'Marcus Miller': 6,\n",
       " 'Margie Burkett': 1,\n",
       " 'Margy Hargrave': 3,\n",
       " 'Marie-Noelle Langan': 1,\n",
       " 'Mark Bessler': 2,\n",
       " 'Mark Brendel': 4,\n",
       " 'Mark Laplander': 1,\n",
       " 'Martin Wenz': 1,\n",
       " 'Mary Ann McLaughlin': 3,\n",
       " 'Mary Ann Tighe': 7,\n",
       " 'MaryAnn': 3,\n",
       " 'Maura Duffy': 1,\n",
       " 'Melanie Carbone': 4,\n",
       " 'Melissa Errico': 2,\n",
       " 'Melissa Greenwald': 1,\n",
       " 'Melissa Pordy': 4,\n",
       " 'Meredith': 5,\n",
       " 'Michael Brodman': 3,\n",
       " 'Michael Cominotto': 2,\n",
       " 'Michael Plackis': 2,\n",
       " 'Michael Schantz': 4,\n",
       " 'Michelle Smith': 6,\n",
       " 'Milo Riverso': 1,\n",
       " 'Mitch Rubin': 6,\n",
       " 'Mitti Liebersohn': 1,\n",
       " 'Nancy': 1,\n",
       " 'Nancy Brown': 4,\n",
       " 'Natalia Bulgari': 2,\n",
       " 'National Equal Justice Award Dinner': 4,\n",
       " 'Nina Muller': 4,\n",
       " 'Nini Tiernan': 2,\n",
       " 'Osceola Brown': 2,\n",
       " 'Pamela Liebman': 1,\n",
       " 'Pat Cayne': 2,\n",
       " 'Pat Travaglianti': 3,\n",
       " 'Patricia Sands': 1,\n",
       " 'Patricia Sorenson': 1,\n",
       " 'Patsy': 1,\n",
       " 'Patti Harris': 2,\n",
       " 'Paul Gachot': 6,\n",
       " 'Paul Vermylen': 3,\n",
       " 'Peggy McCormack': 5,\n",
       " 'Peter': 4,\n",
       " 'Peter Dottino': 1,\n",
       " 'Peter Hurd': 3,\n",
       " 'Peter W. May': 1,\n",
       " 'Peter White': 3,\n",
       " 'Philip Wells': 4,\n",
       " 'Ray Chalm\\xc3\\xa9': 5,\n",
       " 'Ray Mirra': 2,\n",
       " 'Rebecca': 3,\n",
       " 'Richard Gachot': 5,\n",
       " 'Richard Weir': 5,\n",
       " 'Ricki Feiner': 3,\n",
       " 'Rita Roselle': 5,\n",
       " 'Rob Affuso': 1,\n",
       " 'Robert': 3,\n",
       " 'Robert Cooper': 2,\n",
       " 'Robert Knakal': 3,\n",
       " 'Robin Chalm\\xc3\\xa9': 5,\n",
       " 'Ron Goldstein': 3,\n",
       " 'Ron Iervolino': 6,\n",
       " 'Roxanne Donovan': 2,\n",
       " 'Russ Middleton': 3,\n",
       " 'Rusty': 5,\n",
       " 'Samara Heafitz': 1,\n",
       " 'Sammy El-Gamal': 5,\n",
       " 'Sandie Greene': 3,\n",
       " 'Sarah Bay Williams': 6,\n",
       " 'Sarah Boll': 5,\n",
       " 'Sarane Ross': 3,\n",
       " 'Sealy Hopkinson': 2,\n",
       " 'Sharif El-Gamal': 5,\n",
       " 'Sharon Jacob': 4,\n",
       " 'Sharon Teles': 2,\n",
       " 'Sherrilyn Ifill': 9,\n",
       " 'Sig Ackerman': 2,\n",
       " 'Soho Properties': 5,\n",
       " 'Sondra Mack': 2,\n",
       " 'Star Jones': 1,\n",
       " 'Stephanie Schroeder': 3,\n",
       " 'Stephanie Shuman': 5,\n",
       " 'Stephen Jay': 6,\n",
       " 'Stuart Oran': 2,\n",
       " 'Suri Kasirer': 1,\n",
       " 'Susan Fales-Hill': 1,\n",
       " 'Susan Mark': 2,\n",
       " 'Suzanne Cochran': 1,\n",
       " 'Suzi Hill': 3,\n",
       " 'Sylvester Miniter': 1,\n",
       " 'Ted Bahr': 4,\n",
       " 'Ted Moudis': 2,\n",
       " 'Ted Murphy': 2,\n",
       " 'Ted Wells': 4,\n",
       " 'Teresa Martin': 2,\n",
       " 'Tess Silverman': 3,\n",
       " \"The NAACP Legal Defense and Educational Fund's\": 4,\n",
       " 'Thomas': 6,\n",
       " 'Tim Dempsey': 3,\n",
       " 'Todd Hollander': 2,\n",
       " 'Todd Kahn': 5,\n",
       " 'Tom Gold': 1,\n",
       " 'Tom Kempner': 5,\n",
       " 'Tom Murro': 1,\n",
       " 'Tom Scarangello': 3,\n",
       " 'Tommy Craig': 3,\n",
       " 'Tony Schirripa': 1,\n",
       " 'Tonya Lewis Lee': 5,\n",
       " 'Trish Iervolino': 6,\n",
       " 'Tyler Janovitz': 2,\n",
       " 'UALC': 19,\n",
       " 'Vanessa Chalm\\xc3\\xa9': 5,\n",
       " 'Veronica White': 2,\n",
       " 'Vince Tese': 3,\n",
       " 'Vivian Farah': 3,\n",
       " 'William Candelaria': 4,\n",
       " 'William Zeckendorf': 1,\n",
       " 'Yaz Hernandez': 4,\n",
       " 'Yousaf Ali': 3,\n",
       " 'Yvonne': 1,\n",
       " 'annual': 4}"
      ]
     },
     "execution_count": 326,
     "metadata": {},
     "output_type": "execute_result"
    }
   ],
   "source": [
    "G.degree()"
   ]
  },
  {
   "cell_type": "markdown",
   "metadata": {},
   "source": [
    "All in all, you should end up with over 100,000 captions and more than 110,000 names, connected in about 200,000 pairs."
   ]
  },
  {
   "cell_type": "markdown",
   "metadata": {},
   "source": [
    "## Question 3: degree\n",
    "\n",
    "The simplest question to ask is \"who is the most popular\"?  The easiest way to answer this question is to look at how many connections everyone has.  Return the top 100 people and their degree.  Remember that if an edge of the graph has weight 2, it counts for 2 in the degree.\n",
    "\n",
    "**Checkpoint:** Some aggregate stats on the solution\n",
    "\n",
    "    \"count\": 100.0\n",
    "    \"mean\": 189.92\n",
    "    \"std\": 87.8053034454\n",
    "    \"min\": 124.0\n",
    "    \"25%\": 138.0\n",
    "    \"50%\": 157.0\n",
    "    \"75%\": 195.0\n",
    "    \"max\": 666.0"
   ]
  },
  {
   "cell_type": "code",
   "execution_count": null,
   "metadata": {
    "collapsed": false,
    "scrolled": false
   },
   "outputs": [],
   "source": [
    "import heapq  # Heaps are efficient structures for tracking the largest\n",
    "              # elements in a collection.  Use introspection to find the\n",
    "              # function you need.\n",
    "def degree():\n",
    "    return [('Alec Baldwin', 144)] * 100\n",
    "\n",
    "grader.score(question_name='graph__degree', func=degree)"
   ]
  },
  {
   "cell_type": "markdown",
   "metadata": {},
   "source": [
    "## Question 4: pagerank\n",
    "\n",
    "A similar way to determine popularity is to look at their\n",
    "[pagerank](http://en.wikipedia.org/wiki/PageRank).  Pagerank is used for web ranking and was originally\n",
    "[patented](http://patft.uspto.gov/netacgi/nph-Parser?patentnumber=6285999) by Google and is essentially the stationary distribution of a [markov\n",
    "chain](http://en.wikipedia.org/wiki/Markov_chain) implied by the social graph.\n",
    "\n",
    "Use 0.85 as the damping parameter so that there is a 15% chance of jumping to another vertex at random.\n",
    "\n",
    "**Checkpoint:** Some aggregate stats on the solution\n",
    "\n",
    "    \"count\": 100.0\n",
    "    \"mean\": 0.0001841088\n",
    "    \"std\": 0.0000758068\n",
    "    \"min\": 0.0001238355\n",
    "    \"25%\": 0.0001415028\n",
    "    \"50%\": 0.0001616183\n",
    "    \"75%\": 0.0001972663\n",
    "    \"max\": 0.0006085816"
   ]
  },
  {
   "cell_type": "code",
   "execution_count": null,
   "metadata": {
    "collapsed": false
   },
   "outputs": [],
   "source": [
    "def pagerank():\n",
    "    return [('Martha Stewart', 0.00019312108706213307)] * 100\n",
    "\n",
    "grader.score(question_name='graph__pagerank', func=pagerank)"
   ]
  },
  {
   "cell_type": "markdown",
   "metadata": {},
   "source": [
    "## Question 5: best_friends\n",
    "\n",
    "Another interesting question is who tend to co-occur with each other.  Give us the 100 edges with the highest weights.\n",
    "\n",
    "Google these people and see what their connection is.  Can we use this to detect instances of infidelity?\n",
    "\n",
    "**Checkpoint:** Some aggregate stats on the solution\n",
    "\n",
    "    \"count\": 100.0\n",
    "    \"mean\": 25.84\n",
    "    \"std\": 16.0395470855\n",
    "    \"min\": 14.0\n",
    "    \"25%\": 16.0\n",
    "    \"50%\": 19.0\n",
    "    \"75%\": 29.25\n",
    "    \"max\": 109.0"
   ]
  },
  {
   "cell_type": "code",
   "execution_count": null,
   "metadata": {
    "collapsed": false
   },
   "outputs": [],
   "source": [
    "def best_friends():\n",
    "    return [(('Michael Kennedy', 'Eleanora Kennedy'), 41)] * 100\n",
    "\n",
    "grader.score(question_name='graph__best_friends', func=best_friends)"
   ]
  },
  {
   "cell_type": "markdown",
   "metadata": {},
   "source": [
    "*Copyright &copy; 2016 The Data Incubator.  All rights reserved.*"
   ]
  }
 ],
 "metadata": {
  "kernelspec": {
   "display_name": "Python 2",
   "language": "python",
   "name": "python2"
  },
  "language_info": {
   "codemirror_mode": {
    "name": "ipython",
    "version": 2
   },
   "file_extension": ".py",
   "mimetype": "text/x-python",
   "name": "python",
   "nbconvert_exporter": "python",
   "pygments_lexer": "ipython2",
   "version": "2.7.13"
  }
 },
 "nbformat": 4,
 "nbformat_minor": 0
}
