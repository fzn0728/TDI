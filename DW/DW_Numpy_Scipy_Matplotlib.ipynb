{
 "cells": [
  {
   "cell_type": "code",
   "execution_count": 34,
   "metadata": {
    "collapsed": true
   },
   "outputs": [],
   "source": [
    "%matplotlib inline\n",
    "import matplotlib\n",
    "import seaborn as sns\n",
    "matplotlib.rcParams['savefig.dpi'] = 144"
   ]
  },
  {
   "cell_type": "markdown",
   "metadata": {},
   "source": [
    "# NumPy, SciPy, and Matplotlib\n",
    "<!-- requirement: images/Sparse_vs_Dense_Matrices.svg -->\n",
    "<!-- requirement: images/Numpy_Array_Vs_Python_List.svg -->\n",
    "\n",
    "### Goals\n",
    "\n",
    " - What is numpy?: array, ndarray, and some operations\n",
    " - What is scipy?\n",
    " - Intro to matplotlib"
   ]
  },
  {
   "cell_type": "code",
   "execution_count": 2,
   "metadata": {
    "collapsed": false
   },
   "outputs": [],
   "source": [
    "# These are the standard \"qualified\" (as) imports\n",
    "import numpy as np\n",
    "import scipy as sp\n",
    "import matplotlib as mpl\n",
    "import matplotlib.pyplot as plt\n",
    "import seaborn as sns  # makes plots pretty"
   ]
  },
  {
   "cell_type": "markdown",
   "metadata": {},
   "source": [
    "## NumPy\n",
    "\n",
    "If you've ever used MATLAB, you know that writing out loops to add two vectors / find dot products / multiply two matrices / etc. is possible but _very_ slow.  Instead, you should use \"vectorized\" built-in operations that can do the looping in a faster language or even pick a better algorithm.\n",
    "\n",
    "Python is similar.  _Numpy_ is the package that provides the means to do performant numerical calculations in Python.  If you've converted your problem into linear algebra and matrices, then _numpy_ will let you write it to run fast.\n",
    "\n",
    "**Why are Python arrays unsuitable for numerical computation?**\n",
    "\n",
    "There are two basic reasons why Python on its own is insufficient here:\n",
    "  - _Data structure._  A Python list is a complicated thing. Just consider something like:\n",
    "        \n",
    "           x = [1, \"23\", BeautifulSoup(urllib2.urlopen(\"https://www.google.com/#q=4\")), 5]\n",
    "    \n",
    "    where x[0] and x[3] are numbers (of some sort), x[1] is a string, and x[2] is a complicated object.  If you're familiar with a low-level language like C, just imagine how this must be stored in memory: \n",
    "    \n",
    "    > In the typical Python implementation, this might be stored as a linked list of pointers to \"Python object\" data structures which in turn store what class the object is an instance of, a pointer to a dictionary (i.e. hash table) of instance variables, and a pointer to a dictionary of class variables.  This is reasonable for x[2], but for x[0] and x[3]...\n",
    "    \n",
    "  - _Typing and dispatch._  When we write `x[0] + x[3]`, what happens?  You can overload `+` for all sorts of purposes in Python, and the decision of exactly what `+` means happens at run-time by a dictionary lookup.  If you were term-wise adding two arrays, `x` and `y`, then because arrays can contain elements of different types this has to happen _for each term_.\n",
    "\n",
    "**What numpy does for us:**\n",
    "\n",
    "The basic thing that `numpy` does is avoid these two problems by using ordinary C-style arrays of integers, floating point numbers, etc., along with functions that operate on them intelligently. It also gives us C-style higher dimensional arrays.\n",
    "\n",
    "Note that C-style arrays are good for more than just quickly performing operations through Python; they're also good for talking to existing C and Fortran code. This interoperability explains why `numpy` matters to you even if you won't do any matrix computations by hand: many of the libraries that you _will_ want to use will use `numpy` arrays under the hood.\n",
    "\n",
    "![Numpy Array vs. Python List](images/Numpy_Array_Vs_Python_List.svg \"Numpy Array vs. Python List\")\n",
    "[comment]: https://docs.google.com/drawings/d/1qsm90ZnesvtRr0_Y_hpJag5nragWv4fmkmfpBZRbxCQ/edit"
   ]
  },
  {
   "cell_type": "markdown",
   "metadata": {},
   "source": [
    "## Data types (the nouns):\n",
    "\n",
    "### `np.array`\n",
    "This is a C-style array. That is, it is just a big contiguous block of integers (or floats, or... but just one type per array) of fixed length.\n",
    "\n",
    "### `np.ndarray`\n",
    "This is a C-style \"n-D\" array.  That is, it is **also** just a big contiguous block of integers (or...) together with a factorization of its size into \"dimensions\"\n",
    "  \n",
    "  $$       N = n_1 n_2 ... n_d        $$\n",
    "  \n",
    "  In other words the arrays that you might denote [1,2,3,4] and [[1,2],[3,4]] have the same underlying block of values, just with different dimensions: the first one has [4], while the second [2,2].\n",
    "  \n",
    " For an alternate visual: Imagine a grid and numbering it by reading left to right -- next row -- left to right -- next row, etc.   For instance, in C the following bits of code are functionally equivalent\n",
    "  \n",
    "  >        \n",
    "          int chessboard[64];\n",
    "          //Do something\n",
    "          chessboard[8*row + column] += 1;\n",
    "  \n",
    "  and\n",
    "  \n",
    "  >        \n",
    "          int chessboard[8][8];\n",
    "          //Do something\n",
    "          chessboard[row][column] += 1;\n",
    "          \n",
    "  In this case the numbering (i.e. mapping to a single flat list of numbers) goes\n",
    "  >        \n",
    "          0  1  2  3  4  5  6  7\n",
    "          8  9 10 11 ..\n",
    "          16 ..\n",
    "          ..\n"
   ]
  },
  {
   "cell_type": "code",
   "execution_count": 3,
   "metadata": {
    "collapsed": false
   },
   "outputs": [
    {
     "data": {
      "text/plain": [
       "array([[  0.00000000e+000,   1.40041247e-316,   6.91706409e-310],\n",
       "       [  6.91701073e-310,   6.91705823e-310,   0.00000000e+000]])"
      ]
     },
     "execution_count": 3,
     "metadata": {},
     "output_type": "execute_result"
    }
   ],
   "source": [
    "X = np.empty((2,3))  # allocates memory but does not write to it (dangerous)\n",
    "X"
   ]
  },
  {
   "cell_type": "code",
   "execution_count": 4,
   "metadata": {
    "collapsed": false
   },
   "outputs": [
    {
     "data": {
      "text/plain": [
       "array([[ 0.,  0.,  0.],\n",
       "       [ 0.,  0.,  0.]])"
      ]
     },
     "execution_count": 4,
     "metadata": {},
     "output_type": "execute_result"
    }
   ],
   "source": [
    "Y = np.zeros((2,3))  # array of all zeros\n",
    "Y"
   ]
  },
  {
   "cell_type": "code",
   "execution_count": 5,
   "metadata": {
    "collapsed": false
   },
   "outputs": [
    {
     "data": {
      "text/plain": [
       "True"
      ]
     },
     "execution_count": 5,
     "metadata": {},
     "output_type": "execute_result"
    }
   ],
   "source": [
    "X.shape == Y.shape"
   ]
  },
  {
   "cell_type": "code",
   "execution_count": 6,
   "metadata": {
    "collapsed": false
   },
   "outputs": [
    {
     "data": {
      "text/plain": [
       "array([[ 1.,  1.,  1.],\n",
       "       [ 1.,  1.,  1.]])"
      ]
     },
     "execution_count": 6,
     "metadata": {},
     "output_type": "execute_result"
    }
   ],
   "source": [
    "Z = np.ones((2,3))  # array of all ones\n",
    "Z"
   ]
  },
  {
   "cell_type": "code",
   "execution_count": 7,
   "metadata": {
    "collapsed": false
   },
   "outputs": [
    {
     "data": {
      "text/plain": [
       "True"
      ]
     },
     "execution_count": 7,
     "metadata": {},
     "output_type": "execute_result"
    }
   ],
   "source": [
    "Y.shape == Z.shape"
   ]
  },
  {
   "cell_type": "code",
   "execution_count": 8,
   "metadata": {
    "collapsed": true
   },
   "outputs": [],
   "source": [
    "Z2 = np.ones_like(Y)  # array of ones with the shape of Y"
   ]
  },
  {
   "cell_type": "code",
   "execution_count": 9,
   "metadata": {
    "collapsed": false
   },
   "outputs": [
    {
     "data": {
      "text/plain": [
       "array([[ True,  True,  True],\n",
       "       [ True,  True,  True]], dtype=bool)"
      ]
     },
     "execution_count": 9,
     "metadata": {},
     "output_type": "execute_result"
    }
   ],
   "source": [
    "Z == Z2"
   ]
  },
  {
   "cell_type": "code",
   "execution_count": 10,
   "metadata": {
    "collapsed": false
   },
   "outputs": [
    {
     "data": {
      "text/plain": [
       "True"
      ]
     },
     "execution_count": 10,
     "metadata": {},
     "output_type": "execute_result"
    }
   ],
   "source": [
    "np.all(Z == Z2)"
   ]
  },
  {
   "cell_type": "code",
   "execution_count": 11,
   "metadata": {
    "collapsed": false
   },
   "outputs": [
    {
     "data": {
      "text/plain": [
       "True"
      ]
     },
     "execution_count": 11,
     "metadata": {},
     "output_type": "execute_result"
    }
   ],
   "source": [
    "np.all(Z - Z == Y)"
   ]
  },
  {
   "cell_type": "markdown",
   "metadata": {},
   "source": [
    "### `np.matrix`\n",
    "\n",
    "The case of 2D arrays, or \"matrices,\" is given a special wrapper with different operations.  These are slightly different than arrays, which we'll explain later."
   ]
  },
  {
   "cell_type": "code",
   "execution_count": 12,
   "metadata": {
    "collapsed": false
   },
   "outputs": [
    {
     "data": {
      "text/plain": [
       "True"
      ]
     },
     "execution_count": 12,
     "metadata": {},
     "output_type": "execute_result"
    }
   ],
   "source": [
    "x = np.matrix(range(5))\n",
    "y = np.arange(5)\n",
    "np.all(x == y) # thought they are the same, the data type can be different"
   ]
  },
  {
   "cell_type": "code",
   "execution_count": null,
   "metadata": {
    "collapsed": false
   },
   "outputs": [],
   "source": [
    "type(x) is type(y)"
   ]
  },
  {
   "cell_type": "code",
   "execution_count": null,
   "metadata": {
    "collapsed": false
   },
   "outputs": [],
   "source": [
    "import numpy.matlib  # this import is oddly necessary for matrix code to work\n",
    "matrix_I = np.matlib.identity(3)\n",
    "array_I = np.eye(3)\n",
    "\n",
    "np.all(matrix_I == array_I), type(matrix_I) is type(array_I)"
   ]
  },
  {
   "cell_type": "markdown",
   "metadata": {},
   "source": [
    "## Operations (the verbs):\n",
    "\n",
    "In broad types the things we can do are:\n",
    "  - Create arrays.\n",
    "  - Slicing or reshaping: Taking a sub-block of a block of values.  Both slicing and reshaping are  examples of a \"view\" or a \"shallow copy,\" because they do not actually copy the underlying block of data.\n",
    "  - \"Universal functions\": This is numpy's name for functions that are applied term-by-term, like the arithmetic operations or `sin`.\n",
    "  - Linear algebra / matrix operations.\n",
    "  - Mathematical convenience functions: FFT, etc.\n",
    "  \n",
    "Here's a table that shows some example syntax:\n",
    "  \n",
    "   Command  |  Explanation\n",
    "   ---------|--------------\n",
    "  `np.array(python_list[, dtype='int'])` | Convert a Python list to an np array.  The dtype can be one of several things, such as 'int64', 'float32', 'float64', etc.\n",
    "  `np.ndarray(shape=[1,2,3], buffer=an_np_array, dtype='int')`  | Makes a higher dimensional array whose underlying block of data is the given np_array.\n",
    "  `np.arange(-5,5,1)` | Like Python's range, but slightly faster than np.array(range(-5,5,1)).\n",
    "  `+`, `*`, `-`, `/`, `np.sin`, ... | All of the standard numerical and mathematical functions are back.  They always operate term-by-term.  That is, `x+y` is ordinary vector addition but `x*y` is term-wise product (not dot product).\n",
    "   `np.dot(x,y)` or `x.dot(y)` | Inner product (along the last dimension, for n-D arrays).  Note that this includes matrix multiplication for 2-D arrays.\n",
    "   `an_np_array.reshape([1,2,3])`  |  Reshape an np.array or np.ndarray to one with different shape (but of the same size).\n",
    "   \n",
    "All pretty simple!  Let's do a few quick examples."
   ]
  },
  {
   "cell_type": "code",
   "execution_count": 42,
   "metadata": {
    "collapsed": false
   },
   "outputs": [
    {
     "data": {
      "text/plain": [
       "array([-5, -4, -3, -2, -1,  0,  1,  2,  3,  4])"
      ]
     },
     "execution_count": 42,
     "metadata": {},
     "output_type": "execute_result"
    }
   ],
   "source": [
    "x = np.arange(-5, 5, 1)  # Numpy will make intelligent guesses about your intended data type\n",
    "x                        # And will convert between them if needed:"
   ]
  },
  {
   "cell_type": "code",
   "execution_count": 43,
   "metadata": {
    "collapsed": false
   },
   "outputs": [
    {
     "data": {
      "text/plain": [
       "array([1, 2, 3])"
      ]
     },
     "execution_count": 43,
     "metadata": {},
     "output_type": "execute_result"
    }
   ],
   "source": [
    "np.r_[1:4]"
   ]
  },
  {
   "cell_type": "code",
   "execution_count": 44,
   "metadata": {
    "collapsed": false
   },
   "outputs": [
    {
     "data": {
      "text/plain": [
       "array([ 0.95892427,  0.7568025 , -0.14112001, -0.90929743, -0.84147098,\n",
       "        0.        ,  0.84147098,  0.90929743,  0.14112001, -0.7568025 ])"
      ]
     },
     "execution_count": 44,
     "metadata": {},
     "output_type": "execute_result"
    }
   ],
   "source": [
    "y = np.sin(x)\n",
    "y"
   ]
  },
  {
   "cell_type": "code",
   "execution_count": 45,
   "metadata": {
    "collapsed": false
   },
   "outputs": [
    {
     "data": {
      "text/plain": [
       "[<matplotlib.lines.Line2D at 0x7f54b3b5c690>]"
      ]
     },
     "execution_count": 45,
     "metadata": {},
     "output_type": "execute_result"
    },
    {
     "data": {
      "image/png": "[encoded data removed]",
      "text/plain": [
       "<matplotlib.figure.Figure at 0x7f54b6f3d950>"
      ]
     },
     "metadata": {},
     "output_type": "display_data"
    }
   ],
   "source": [
    "plt.plot(x,y)"
   ]
  },
  {
   "cell_type": "code",
   "execution_count": 46,
   "metadata": {
    "collapsed": false
   },
   "outputs": [
    {
     "data": {
      "text/plain": [
       "(dtype('int64'), dtype('float64'))"
      ]
     },
     "execution_count": 46,
     "metadata": {},
     "output_type": "execute_result"
    }
   ],
   "source": [
    "x.dtype, y.dtype"
   ]
  },
  {
   "cell_type": "code",
   "execution_count": 47,
   "metadata": {
    "collapsed": false
   },
   "outputs": [
    {
     "data": {
      "text/plain": [
       "array([-5.        , -3.88888889, -2.77777778, -1.66666667, -0.55555556,\n",
       "        0.55555556,  1.66666667,  2.77777778,  3.88888889,  5.        ])"
      ]
     },
     "execution_count": 47,
     "metadata": {},
     "output_type": "execute_result"
    }
   ],
   "source": [
    "np.linspace(-5, 5, 10)"
   ]
  },
  {
   "cell_type": "code",
   "execution_count": 36,
   "metadata": {
    "collapsed": false
   },
   "outputs": [
    {
     "data": {
      "text/plain": [
       "array([  1.00000000e+00,   3.16227766e+00,   1.00000000e+01,\n",
       "         3.16227766e+01,   1.00000000e+02,   3.16227766e+02,\n",
       "         1.00000000e+03,   3.16227766e+03,   1.00000000e+04])"
      ]
     },
     "execution_count": 36,
     "metadata": {},
     "output_type": "execute_result"
    }
   ],
   "source": [
    "np.logspace(0, 4, 9)"
   ]
  },
  {
   "cell_type": "markdown",
   "metadata": {},
   "source": [
    "Basic math operations:"
   ]
  },
  {
   "cell_type": "code",
   "execution_count": 37,
   "metadata": {
    "collapsed": false
   },
   "outputs": [
    {
     "data": {
      "text/plain": [
       "array([-10.,  -9.,  -8.,  -7.,  -6.,  -5.,  -4.,  -3.,  -2.,  -1.,   0.,\n",
       "         1.,   2.,   3.,   4.,   5.,   6.,   7.,   8.,   9.])"
      ]
     },
     "execution_count": 37,
     "metadata": {},
     "output_type": "execute_result"
    }
   ],
   "source": [
    "2 * x"
   ]
  },
  {
   "cell_type": "code",
   "execution_count": 38,
   "metadata": {
    "collapsed": false
   },
   "outputs": [
    {
     "data": {
      "text/plain": [
       "array([ 25.  ,  20.25,  16.  ,  12.25,   9.  ,   6.25,   4.  ,   2.25,\n",
       "         1.  ,   0.25,   0.  ,   0.25,   1.  ,   2.25,   4.  ,   6.25,\n",
       "         9.  ,  12.25,  16.  ,  20.25])"
      ]
     },
     "execution_count": 38,
     "metadata": {},
     "output_type": "execute_result"
    }
   ],
   "source": [
    "x * x"
   ]
  },
  {
   "cell_type": "code",
   "execution_count": 39,
   "metadata": {
    "collapsed": false
   },
   "outputs": [
    {
     "data": {
      "text/plain": [
       "167.5"
      ]
     },
     "execution_count": 39,
     "metadata": {},
     "output_type": "execute_result"
    }
   ],
   "source": [
    "np.dot(x, x)"
   ]
  },
  {
   "cell_type": "code",
   "execution_count": 40,
   "metadata": {
    "collapsed": false
   },
   "outputs": [
    {
     "data": {
      "text/plain": [
       "167.5"
      ]
     },
     "execution_count": 40,
     "metadata": {},
     "output_type": "execute_result"
    }
   ],
   "source": [
    "x.dot(x)"
   ]
  },
  {
   "cell_type": "code",
   "execution_count": 48,
   "metadata": {
    "collapsed": false
   },
   "outputs": [
    {
     "data": {
      "text/plain": [
       "array([ 5.09112323,  4.07096426,  3.00331731,  2.19700292,  1.30693283,\n",
       "        0.        ,  1.30693283,  2.19700292,  3.00331731,  4.07096426])"
      ]
     },
     "execution_count": 48,
     "metadata": {},
     "output_type": "execute_result"
    }
   ],
   "source": [
    "np.sqrt(x**2 + y**2)"
   ]
  },
  {
   "cell_type": "code",
   "execution_count": 49,
   "metadata": {
    "collapsed": false
   },
   "outputs": [
    {
     "data": {
      "text/plain": [
       "array([[ 25,  20,  15,  10,   5,   0,  -5, -10, -15, -20],\n",
       "       [ 20,  16,  12,   8,   4,   0,  -4,  -8, -12, -16],\n",
       "       [ 15,  12,   9,   6,   3,   0,  -3,  -6,  -9, -12],\n",
       "       [ 10,   8,   6,   4,   2,   0,  -2,  -4,  -6,  -8],\n",
       "       [  5,   4,   3,   2,   1,   0,  -1,  -2,  -3,  -4],\n",
       "       [  0,   0,   0,   0,   0,   0,   0,   0,   0,   0],\n",
       "       [ -5,  -4,  -3,  -2,  -1,   0,   1,   2,   3,   4],\n",
       "       [-10,  -8,  -6,  -4,  -2,   0,   2,   4,   6,   8],\n",
       "       [-15, -12,  -9,  -6,  -3,   0,   3,   6,   9,  12],\n",
       "       [-20, -16, -12,  -8,  -4,   0,   4,   8,  12,  16]])"
      ]
     },
     "execution_count": 49,
     "metadata": {},
     "output_type": "execute_result"
    }
   ],
   "source": [
    "np.outer(x, x)"
   ]
  },
  {
   "cell_type": "code",
   "execution_count": 50,
   "metadata": {
    "collapsed": false
   },
   "outputs": [
    {
     "data": {
      "text/plain": [
       "array([-425, -340, -255, -170,  -85,    0,   85,  170,  255,  340])"
      ]
     },
     "execution_count": 50,
     "metadata": {},
     "output_type": "execute_result"
    }
   ],
   "source": [
    "np.outer(x, x).dot(x)"
   ]
  },
  {
   "cell_type": "markdown",
   "metadata": {},
   "source": [
    "**Question:** How would you multiply two matrices?"
   ]
  },
  {
   "cell_type": "markdown",
   "metadata": {
    "collapsed": false
   },
   "source": [
    "You can do basic stats on ndarrays:"
   ]
  },
  {
   "cell_type": "code",
   "execution_count": null,
   "metadata": {
    "collapsed": false
   },
   "outputs": [],
   "source": [
    "# You can do basic stats on ndarrays:\n",
    "x.mean(), x.std()"
   ]
  },
  {
   "cell_type": "markdown",
   "metadata": {},
   "source": [
    "You can reshape an array, as long as the number of elements remains the same.  Note that the result of a reshape is a view onto the same data.  Changing one will change the other."
   ]
  },
  {
   "cell_type": "code",
   "execution_count": null,
   "metadata": {
    "collapsed": false
   },
   "outputs": [],
   "source": [
    "z = x.reshape(2, 5)\n",
    "z"
   ]
  },
  {
   "cell_type": "code",
   "execution_count": null,
   "metadata": {
    "collapsed": false
   },
   "outputs": [],
   "source": [
    "z[1,1] = 10\n",
    "x"
   ]
  },
  {
   "cell_type": "code",
   "execution_count": null,
   "metadata": {
    "collapsed": false
   },
   "outputs": [],
   "source": [
    "x.reshape(5, -1)"
   ]
  },
  {
   "cell_type": "markdown",
   "metadata": {},
   "source": [
    "You can also create an array of arbitrary shape and type:"
   ]
  },
  {
   "cell_type": "code",
   "execution_count": null,
   "metadata": {
    "collapsed": false
   },
   "outputs": [],
   "source": [
    "np.ndarray(shape=(2,3,3), dtype=int, buffer=np.arange(1,100))"
   ]
  },
  {
   "cell_type": "markdown",
   "metadata": {},
   "source": [
    "### Gotchas\n",
    "\n",
    "1. Matrix multiplication, on arrays, is denoted by `A.dot(B)`.  Transpose is denoted by `A.T`.  Fair enough. \n",
    "2. If `A` is a 1-D array, then we often think of it as a vector.  This will usually give you the right \"linear algebra notation\" answer, e.g. if `M` is a 2-D array of the right size then\n",
    "        A.dot(M)\n",
    "        M.dot(A)\n",
    "   represent the matrix products you think (where `A` is turned into a row or column vector as needed).\n",
    "   \n",
    "   If `A` is a 1-D array, then it is not the case that `A` is always a row (or column) vector -- numpy makes creative guesses about how to interpret it as a higher dimensional array.  For instance: `A.dot(A.T) = A.dot(A) = np.dot(A,A)` is the ordinary scalar dot product.  For the matrix outer product $A^T A$ one must use `np.outer(A)` or _explicitly reshape_ `A` as a column vector, i.e. a 2-D array with just one column:"
   ]
  },
  {
   "cell_type": "code",
   "execution_count": null,
   "metadata": {
    "collapsed": false
   },
   "outputs": [],
   "source": [
    "v = x[:, np.newaxis]\n",
    "np.all(v.dot(v.T) == np.outer(x, x))"
   ]
  },
  {
   "cell_type": "markdown",
   "metadata": {},
   "source": [
    "### Performance of numpy arrays vs. python lists\n",
    "\n",
    "It's much faster to use numpy arrays than python lists."
   ]
  },
  {
   "cell_type": "code",
   "execution_count": 51,
   "metadata": {
    "collapsed": true
   },
   "outputs": [],
   "source": [
    "xl = range(10000)\n",
    "yl = range(10000)\n",
    "xa = np.arange(10000)\n",
    "ya = np.arange(10000)"
   ]
  },
  {
   "cell_type": "code",
   "execution_count": 52,
   "metadata": {
    "collapsed": false,
    "scrolled": true
   },
   "outputs": [
    {
     "name": "stdout",
     "output_type": "stream",
     "text": [
      "3 loops, best of 3: 1.07 ms per loop\n"
     ]
    }
   ],
   "source": [
    "%%timeit -n3\n",
    "\n",
    "[i + j for i, j in zip(xl, yl)]"
   ]
  },
  {
   "cell_type": "code",
   "execution_count": 53,
   "metadata": {
    "collapsed": false
   },
   "outputs": [
    {
     "name": "stdout",
     "output_type": "stream",
     "text": [
      "3 loops, best of 3: 11.4 µs per loop\n"
     ]
    }
   ],
   "source": [
    "%%timeit -n3\n",
    "\n",
    "xa + ya"
   ]
  },
  {
   "cell_type": "markdown",
   "metadata": {},
   "source": [
    "### Array indexing\n",
    "\n",
    "Numpy provides lots of ways to index into lists."
   ]
  },
  {
   "cell_type": "code",
   "execution_count": 56,
   "metadata": {
    "collapsed": false
   },
   "outputs": [
    {
     "data": {
      "text/plain": [
       "3"
      ]
     },
     "execution_count": 56,
     "metadata": {},
     "output_type": "execute_result"
    }
   ],
   "source": [
    "x = np.arange(10)\n",
    "y = x[2:5]  # like python list indexing\n",
    "len(y)"
   ]
  },
  {
   "cell_type": "code",
   "execution_count": 57,
   "metadata": {
    "collapsed": false
   },
   "outputs": [
    {
     "data": {
      "text/plain": [
       "(array([2]), 2)"
      ]
     },
     "execution_count": 57,
     "metadata": {},
     "output_type": "execute_result"
    }
   ],
   "source": [
    "# what's the difference?\n",
    "x[2:3], x[2]"
   ]
  },
  {
   "cell_type": "code",
   "execution_count": 58,
   "metadata": {
    "collapsed": false
   },
   "outputs": [
    {
     "data": {
      "text/plain": [
       "array([1, 3, 5, 7, 9])"
      ]
     },
     "execution_count": 58,
     "metadata": {},
     "output_type": "execute_result"
    }
   ],
   "source": [
    "# select based on a condition\n",
    "x[x % 2 == 1]"
   ]
  },
  {
   "cell_type": "markdown",
   "metadata": {},
   "source": [
    "Numpy allows you to play fast and loose with indexing"
   ]
  },
  {
   "cell_type": "code",
   "execution_count": 59,
   "metadata": {
    "collapsed": false
   },
   "outputs": [
    {
     "name": "stdout",
     "output_type": "stream",
     "text": [
      "[[ 0.  0.  0.  0.]\n",
      " [ 2.  2.  2.  2.]\n",
      " [ 4.  4.  4.  4.]]\n"
     ]
    }
   ],
   "source": [
    "A = np.empty((3,4))\n",
    "\n",
    "# Constant assigned to entire row\n",
    "for i in xrange(A.shape[0]):\n",
    "    A[i] = 2. * i\n",
    "    \n",
    "print A"
   ]
  },
  {
   "cell_type": "markdown",
   "metadata": {},
   "source": [
    "You can also pass in a list (or `np.array`) of indices"
   ]
  },
  {
   "cell_type": "code",
   "execution_count": 60,
   "metadata": {
    "collapsed": false
   },
   "outputs": [
    {
     "data": {
      "text/plain": [
       "array([ 18.,  16.,  14.,  12.,  10.,   8.,   6.,   4.,   2.,   0.])"
      ]
     },
     "execution_count": 60,
     "metadata": {},
     "output_type": "execute_result"
    }
   ],
   "source": [
    "X = 2. * np.arange(10)\n",
    "X[range(9,-1,-1)]  # The reverse of the list"
   ]
  },
  {
   "cell_type": "code",
   "execution_count": 61,
   "metadata": {
    "collapsed": false
   },
   "outputs": [
    {
     "data": {
      "text/plain": [
       "array([ 27.,  24.,  21.,  18.,  15.,  12.,   9.,   6.,   3.,   0.])"
      ]
     },
     "execution_count": 61,
     "metadata": {},
     "output_type": "execute_result"
    }
   ],
   "source": [
    "X[range(9,-1,-1)] = 3. * np.arange(10)   # Assign to the reverse of this list\n",
    "X"
   ]
  },
  {
   "cell_type": "markdown",
   "metadata": {},
   "source": [
    "### Conditional selection and max / min\n",
    "\n",
    "The `np.where` construct allows you to take values from one array when a condition is true and the values from another array when they are false."
   ]
  },
  {
   "cell_type": "code",
   "execution_count": 62,
   "metadata": {
    "collapsed": false
   },
   "outputs": [
    {
     "data": {
      "text/plain": [
       "array([0, 0, 0, 0, 0, 0, 6, 7, 8, 9])"
      ]
     },
     "execution_count": 62,
     "metadata": {},
     "output_type": "execute_result"
    }
   ],
   "source": [
    "x = np.arange(10)\n",
    "np.where(x > 5, x, 0)"
   ]
  },
  {
   "cell_type": "markdown",
   "metadata": {},
   "source": [
    "This can also be done manually, by taking advantage of the fact that `True` and `False` behave like `1` and `0` in math statements in Python."
   ]
  },
  {
   "cell_type": "code",
   "execution_count": 63,
   "metadata": {
    "collapsed": false
   },
   "outputs": [
    {
     "data": {
      "text/plain": [
       "array([0, 0, 0, 0, 0, 0, 6, 7, 8, 9])"
      ]
     },
     "execution_count": 63,
     "metadata": {},
     "output_type": "execute_result"
    }
   ],
   "source": [
    "(x > 5) * x + 0 * (x <= 5)"
   ]
  },
  {
   "cell_type": "markdown",
   "metadata": {},
   "source": [
    "`np.maximum` and `np.minimum` can compare two arrays or an array to a constant."
   ]
  },
  {
   "cell_type": "code",
   "execution_count": 64,
   "metadata": {
    "collapsed": false
   },
   "outputs": [
    {
     "name": "stdout",
     "output_type": "stream",
     "text": [
      "The larger of x and y\n",
      "[9 8 7 6 5 5 6 7 8 9]\n",
      "\n",
      "x capped at 5\n",
      "[0 1 2 3 4 5 5 5 5 5]\n"
     ]
    }
   ],
   "source": [
    "x = np.arange(10)\n",
    "y = np.arange(9, -1, -1)\n",
    "print \"The larger of x and y\"\n",
    "print np.maximum(x, y)\n",
    "print \n",
    "print \"x capped at 5\"\n",
    "print np.minimum(x, 5)"
   ]
  },
  {
   "cell_type": "markdown",
   "metadata": {},
   "source": [
    "### Transpose\n",
    "\n",
    "A numpy array has two methods to transpose a matrix, `.T` and `.swapaxes`"
   ]
  },
  {
   "cell_type": "code",
   "execution_count": 65,
   "metadata": {
    "collapsed": false
   },
   "outputs": [
    {
     "data": {
      "text/plain": [
       "array([[ 0,  6, 12, 18],\n",
       "       [ 1,  7, 13, 19],\n",
       "       [ 2,  8, 14, 20],\n",
       "       [ 3,  9, 15, 21],\n",
       "       [ 4, 10, 16, 22],\n",
       "       [ 5, 11, 17, 23]])"
      ]
     },
     "execution_count": 65,
     "metadata": {},
     "output_type": "execute_result"
    }
   ],
   "source": [
    "A = np.arange(24).reshape(4,6)\n",
    "A.T"
   ]
  },
  {
   "cell_type": "code",
   "execution_count": 66,
   "metadata": {
    "collapsed": false
   },
   "outputs": [
    {
     "data": {
      "text/plain": [
       "True"
      ]
     },
     "execution_count": 66,
     "metadata": {},
     "output_type": "execute_result"
    }
   ],
   "source": [
    "At = A.swapaxes(0,1)\n",
    "np.all(A.T == At)"
   ]
  },
  {
   "cell_type": "markdown",
   "metadata": {},
   "source": [
    "### Matrix manipulations\n",
    "\n",
    "Numpy can do all the basic matrix manipulations from linear algebra."
   ]
  },
  {
   "cell_type": "code",
   "execution_count": 67,
   "metadata": {
    "collapsed": false
   },
   "outputs": [
    {
     "data": {
      "text/plain": [
       "((10,), (10, 1))"
      ]
     },
     "execution_count": 67,
     "metadata": {},
     "output_type": "execute_result"
    }
   ],
   "source": [
    "A = np.arange(10)\n",
    "\n",
    "# note the way you can \"promote\" a vector to a matrix\n",
    "v = A[:, np.newaxis]\n",
    "\n",
    "A.shape, v.shape"
   ]
  },
  {
   "cell_type": "code",
   "execution_count": 68,
   "metadata": {
    "collapsed": false
   },
   "outputs": [
    {
     "data": {
      "text/plain": [
       "(285, 285)"
      ]
     },
     "execution_count": 68,
     "metadata": {},
     "output_type": "execute_result"
    }
   ],
   "source": [
    "A.dot(A.T), A.T.dot(A)"
   ]
  },
  {
   "cell_type": "code",
   "execution_count": 69,
   "metadata": {
    "collapsed": false
   },
   "outputs": [
    {
     "data": {
      "text/plain": [
       "(array([[ 0,  0,  0,  0,  0,  0,  0,  0,  0,  0],\n",
       "        [ 0,  1,  2,  3,  4,  5,  6,  7,  8,  9],\n",
       "        [ 0,  2,  4,  6,  8, 10, 12, 14, 16, 18],\n",
       "        [ 0,  3,  6,  9, 12, 15, 18, 21, 24, 27],\n",
       "        [ 0,  4,  8, 12, 16, 20, 24, 28, 32, 36],\n",
       "        [ 0,  5, 10, 15, 20, 25, 30, 35, 40, 45],\n",
       "        [ 0,  6, 12, 18, 24, 30, 36, 42, 48, 54],\n",
       "        [ 0,  7, 14, 21, 28, 35, 42, 49, 56, 63],\n",
       "        [ 0,  8, 16, 24, 32, 40, 48, 56, 64, 72],\n",
       "        [ 0,  9, 18, 27, 36, 45, 54, 63, 72, 81]]), array([[285]]))"
      ]
     },
     "execution_count": 69,
     "metadata": {},
     "output_type": "execute_result"
    }
   ],
   "source": [
    "v.dot(v.T), v.T.dot(v)"
   ]
  },
  {
   "cell_type": "markdown",
   "metadata": {},
   "source": [
    "### Matrix Inversion\n",
    "\n",
    "While you can invert a 2-D numpy array using `np.linalg.inv`, it is recommended that you use `np.linalg.solve`, which is much more efficient"
   ]
  },
  {
   "cell_type": "code",
   "execution_count": null,
   "metadata": {
    "collapsed": false
   },
   "outputs": [],
   "source": [
    "A = np.array([[3,1], [1,2]])\n",
    "x = np.array([9,8])\n",
    "np.linalg.solve(A, x)"
   ]
  },
  {
   "cell_type": "markdown",
   "metadata": {},
   "source": [
    "### Singular Value Decomposition\n",
    "\n",
    "Finally, you can do the [SVD decomposition](https://en.wikipedia.org/wiki/Singular_value_decomposition) of a 2-D numpy array"
   ]
  },
  {
   "cell_type": "code",
   "execution_count": null,
   "metadata": {
    "collapsed": false
   },
   "outputs": [],
   "source": [
    "A = np.arange(24).reshape(4,6)\n",
    "U, x, V = np.linalg.svd(A)\n",
    "diag = np.zeros((4,6))\n",
    "diag[range(4), range(4)] = x\n",
    "diff = U.dot(diag).dot(V) - A\n",
    "\n",
    "np.abs(diff).max()"
   ]
  },
  {
   "cell_type": "markdown",
   "metadata": {},
   "source": [
    "## Persisting numpy objects\n",
    "\n",
    "You can save numpy objects as using `np.save` and `np.load` functions.  You can also save multiple numpy objects using the `np.savez` function."
   ]
  },
  {
   "cell_type": "code",
   "execution_count": null,
   "metadata": {
    "collapsed": false
   },
   "outputs": [],
   "source": [
    "x = np.arange(10)\n",
    "np.save('/tmp/x.npy', x)\n",
    "del x\n",
    "y = np.load('/tmp/x.npy')\n",
    "np.all(y == np.arange(10))"
   ]
  },
  {
   "cell_type": "markdown",
   "metadata": {},
   "source": [
    "**Exercises:**\n",
    "Write a one-line function, which when given a random `np.array`:\n",
    "1. returns the range (max - min)\n",
    "1. returns the normalized random variable (subtract the mean and divide by standard deviation)\n",
    "1. returns the value closest to the mean\n",
    "\n",
    "Additional exercises:\n",
    "1. Create a $4 \\times 4$ identity matrix.\n",
    "1. Generate the 2D array\n",
    "```\n",
    "1 2 3\n",
    "4 5 6\n",
    "7 8 9\n",
    "```\n",
    "(without typing it out).\n",
    "1. Generate a random $4 \\times 4 \\times 4$ array of Gaussianly distributed numbers.\n",
    "1. Generate `n` evenly spaced intervals between 0 and 1.\n",
    "1. Create an $8 \\times 8$ `np.ndarray` representing a chess board where the red squares are 1 and the white squares are 0.\n",
    "\n",
    "Looking for more?  Check out  the Neophyte, Novice, and  Apprentice levels [here](http://www.loria.fr/~rougier/teaching/numpy.100/).  They get unnecessarily complicated after that."
   ]
  },
  {
   "cell_type": "markdown",
   "metadata": {},
   "source": [
    "## Matplotlib\n",
    "\n",
    "_Matplotlib_ lets you plot things, and _pyplot_ is a layer on top of it to give it a MATLAB-like syntax.  It is covered in more depth in our *visualization* module, but for now we'll just briefly give examples of\n",
    "\n",
    "- Line plots\n",
    "- Bar plots and histograms\n",
    "- Scatter plots"
   ]
  },
  {
   "cell_type": "markdown",
   "metadata": {},
   "source": [
    "### Line plot\n",
    "\n",
    "Matplotlib can do basic X-Y plots if you give it the `x` and `y` data of equal length.  Here is a plot of a few sample paths of Brownian Motion.\n",
    "\n",
    "Notice that calling `plt.plot` multiple results in multiple lines on the same figure.  Call `plt.figure` to create a new figure."
   ]
  },
  {
   "cell_type": "code",
   "execution_count": 73,
   "metadata": {
    "collapsed": false
   },
   "outputs": [
    {
     "data": {
      "image/png": "[encoded data removed]",
      "text/plain": [
       "<matplotlib.figure.Figure at 0x7f54b3ba3dd0>"
      ]
     },
     "metadata": {},
     "output_type": "display_data"
    }
   ],
   "source": [
    "# Line plot example\n",
    "xs = np.random.randn(5, 100)\n",
    "\n",
    "plt.title(\"A few paths of Brownian Motion\")\n",
    "plt.style.use(\"fivethirtyeight\")\n",
    "bms = xs.cumsum(1)\n",
    "for bm in bms:\n",
    "    plt.plot(bm)"
   ]
  },
  {
   "cell_type": "markdown",
   "metadata": {},
   "source": [
    "### Scatter plot\n",
    "\n",
    "Matplotlib can generate 2D scatter plot data."
   ]
  },
  {
   "cell_type": "code",
   "execution_count": 74,
   "metadata": {
    "collapsed": false
   },
   "outputs": [
    {
     "data": {
      "text/plain": [
       "<matplotlib.collections.PathCollection at 0x7f54b38765d0>"
      ]
     },
     "execution_count": 74,
     "metadata": {},
     "output_type": "execute_result"
    },
    {
     "data": {
      "image/png": "[encoded data removed]",
      "text/plain": [
       "<matplotlib.figure.Figure at 0x7f54b3961d10>"
      ]
     },
     "metadata": {},
     "output_type": "display_data"
    }
   ],
   "source": [
    "# Generate randomly sampled dots within the unit circle, with gamma-distributed radius\n",
    "N=250\n",
    "A=20\n",
    "xo,yo = np.random.uniform(low=-1, high=1, size=N), np.random.uniform(low=-1, high=1, size=N)\n",
    "so = A*np.random.gamma(4.5, 1.0, size=N)\n",
    "\n",
    "x = xo[xo**2+yo**2 < 1]\n",
    "y = yo[xo**2+yo**2 < 1]\n",
    "s = so[xo**2+yo**2 < 1]\n",
    "\n",
    "# Scatter plot, with _s_izes and translucent circles\n",
    "plt.scatter(x, y, s=s, alpha=0.5)"
   ]
  },
  {
   "cell_type": "markdown",
   "metadata": {},
   "source": [
    "### Histograms\n",
    "\n",
    "Matplotlib can also plot historgrams from raw count data."
   ]
  },
  {
   "cell_type": "code",
   "execution_count": 76,
   "metadata": {
    "collapsed": false
   },
   "outputs": [
    {
     "data": {
      "text/plain": [
       "<matplotlib.text.Text at 0x7f54b36b64d0>"
      ]
     },
     "execution_count": 76,
     "metadata": {},
     "output_type": "execute_result"
    },
    {
     "data": {
      "image/png": "[encoded data removed]",
      "text/plain": [
       "<matplotlib.figure.Figure at 0x7f54b3993f90>"
      ]
     },
     "metadata": {},
     "output_type": "display_data"
    }
   ],
   "source": [
    "data = np.random.gamma(4.5, 1.0, 10000)\n",
    "plt.hist(data, bins=50)\n",
    "plt.title(\"Gamma(4.5, 1.0) distribution, 10000 samples\")\n",
    "plt.xlabel(\"Value\")\n",
    "plt.ylabel(\"Occurances per 10,000\")\n",
    "# plt.show()"
   ]
  },
  {
   "cell_type": "markdown",
   "metadata": {},
   "source": [
    "### Images\n",
    "\n",
    "Matplotlib can plot arrays as 2D images, using a color map that you specify."
   ]
  },
  {
   "cell_type": "code",
   "execution_count": 77,
   "metadata": {
    "collapsed": false
   },
   "outputs": [
    {
     "data": {
      "text/plain": [
       "<matplotlib.text.Text at 0x7f54b343aa10>"
      ]
     },
     "execution_count": 77,
     "metadata": {},
     "output_type": "execute_result"
    },
    {
     "data": {
      "image/png": "[encoded data removed]",
      "text/plain": [
       "<matplotlib.figure.Figure at 0x7f54b3b97d50>"
      ]
     },
     "metadata": {},
     "output_type": "display_data"
    }
   ],
   "source": [
    "a = np.arange(-4, 4, 0.01)\n",
    "\n",
    "x, y = np.meshgrid(a, a)\n",
    "assert(x.shape == (len(a), len(a)))\n",
    "r = np.sqrt(x ** 2 + y ** 2)\n",
    "plt.imshow(r, cmap=plt.cm.viridis)\n",
    "plt.colorbar()\n",
    "plt.title(\"radius\")\n",
    "plt.xlabel(\"x\")\n",
    "plt.ylabel(\"y\")"
   ]
  },
  {
   "cell_type": "markdown",
   "metadata": {},
   "source": [
    "### Exercises\n",
    "1. Generate an `np.array` of normally distributed samples and plot them using the histogram function.  Overlay with a 2D plot of the standard normal pdf function.  What happens as the number of random samples increases?"
   ]
  },
  {
   "cell_type": "markdown",
   "metadata": {},
   "source": [
    "## SciPy\n",
    "\n",
    "_Scipy_ hooks into efficient implementations (in C and Fortran) of a variety of numerical techniques:\n",
    "\n",
    "- numerical integration \n",
    "- numerical differentiation \n",
    "- optimization and root finding\n",
    "- distributions\n",
    "- sparse linear algebra  <small>(`numpy` is for _dense_ linear algebra)</small>\n",
    "- and more\n",
    "\n",
    "The input / output from these commands often involves numpy arrays."
   ]
  },
  {
   "cell_type": "markdown",
   "metadata": {},
   "source": [
    "### Optimization\n",
    "\n",
    "Scipy can be used for root finding an optimization.  Among the functions supported are are\n",
    "\n",
    "1. [root](http://docs.scipy.org/doc/scipy-0.14.0/reference/generated/scipy.optimize.root.html) which finds the roots of arbitrary python funcitons you pass in\n",
    "1. [linprog](http://docs.scipy.org/doc/scipy/reference/generated/scipy.optimize.linprog.html) which solves linear programming problems subject to equality and inequality constraints.\n",
    "1. [minimize](http://docs.scipy.org/doc/scipy-0.15.1/reference/generated/scipy.optimize.minimize.html) which minimizes arbitrary functions using various methods like Powell, conjugate gradient, BFGS, LBFGSB, Newton CG, etc ..."
   ]
  },
  {
   "cell_type": "markdown",
   "metadata": {},
   "source": [
    "### Root"
   ]
  },
  {
   "cell_type": "code",
   "execution_count": null,
   "metadata": {
    "collapsed": false
   },
   "outputs": [],
   "source": [
    "function = lambda x: x**2 - 2\n",
    "result = sp.optimize.root(function, 4)\n",
    "\n",
    "x = np.arange(-1., 2., .1-1e-9)\n",
    "y = function(x)\n",
    "plt.plot(x, y)\n",
    "plt.plot([result['x']], result['fun'], 'o', markersize=10)"
   ]
  },
  {
   "cell_type": "markdown",
   "metadata": {},
   "source": [
    "### Minimize"
   ]
  },
  {
   "cell_type": "code",
   "execution_count": null,
   "metadata": {
    "collapsed": false
   },
   "outputs": [],
   "source": [
    "function = lambda x: (x-2)**2\n",
    "result = sp.optimize.minimize(function, 4)\n",
    "\n",
    "x = np.arange(-1, 3, .1-1e-9)\n",
    "y = function(x)\n",
    "plt.plot(x, y)\n",
    "plt.plot([result['x']], result['fun'], 'o', markersize=10)"
   ]
  },
  {
   "cell_type": "markdown",
   "metadata": {},
   "source": [
    "### Statistics\n",
    "\n",
    "Numpy and scipy can generate random numbers using functions in the `np.random` namespace.  Numpy arrays also have some built-in statistical methods."
   ]
  },
  {
   "cell_type": "code",
   "execution_count": null,
   "metadata": {
    "collapsed": false
   },
   "outputs": [],
   "source": [
    "x = np.random.randn(100)  # random standard normal of size 100\n",
    "x.mean(), x.std(), x.sum()"
   ]
  },
  {
   "cell_type": "markdown",
   "metadata": {},
   "source": [
    "Numpy also also supports more complex statistical functions."
   ]
  },
  {
   "cell_type": "code",
   "execution_count": null,
   "metadata": {
    "collapsed": false
   },
   "outputs": [],
   "source": [
    "np.percentile(x, 10), np.median(x), np.percentile(x, 90)"
   ]
  },
  {
   "cell_type": "markdown",
   "metadata": {},
   "source": [
    "Scipy has strong support for data from different distributions.  Each distribution is represented by a class\n",
    "\n",
    "It also supports various continuous and discontinuous distributions, such as\n",
    "- [Bernoulli](http://docs.scipy.org/doc/scipy/reference/generated/scipy.stats.bernoulli.html#scipy.stats.bernoulli)\n",
    "- [Beta](http://docs.scipy.org/doc/scipy/reference/generated/scipy.stats.beta.html#scipy.stats.beta)\n",
    "- [Binomial](http://docs.scipy.org/doc/scipy/reference/generated/scipy.stats.binom.html#scipy.stats.binom)\n",
    "- [Cauchy](http://docs.scipy.org/doc/scipy/reference/generated/scipy.stats.cauchy.html#scipy.stats.cauchy)\n",
    "- [Chi-Squared](http://docs.scipy.org/doc/scipy/reference/generated/scipy.stats.chi2.html#scipy.stats.chi2)\n",
    "- [Exponential](http://docs.scipy.org/doc/scipy/reference/generated/scipy.stats.expon.html#scipy.stats.expon)\n",
    "- [Gamma](http://docs.scipy.org/doc/scipy/reference/generated/scipy.stats.gamma.html#scipy.stats.gamma)\n",
    "- [Normal](http://docs.scipy.org/doc/scipy/reference/generated/scipy.stats.norm.html#scipy.stats.norm)\n",
    "- [Poisson](http://docs.scipy.org/doc/scipy/reference/generated/scipy.stats.poisson.html#scipy.stats.poisson)\n",
    "- etc ...\n",
    "\n",
    "which supports several methods, including\n",
    "\n",
    "- [`rvs`](http://docs.scipy.org/doc/scipy/reference/generated/scipy.stats.rv_continuous.rvs.html#scipy.stats.rv_continuous.rvs): generating random variates\n",
    "- [`pdf`](http://docs.scipy.org/doc/scipy/reference/generated/scipy.stats.rv_continuous.pdf.html#scipy.stats.rv_continuous.pdf):  returning the PDF of a distribution\n",
    "- [`logpdf`](http://docs.scipy.org/doc/scipy/reference/generated/scipy.stats.rv_continuous.logpdf.html#scipy.stats.rv_continuous.logpdf): returning the log PDF of a distribution\n",
    "- [`cdf`](http://docs.scipy.org/doc/scipy/reference/generated/scipy.stats.rv_continuous.cdf.html#scipy.stats.rv_continuous.cdf): returning the CDF of a distribution\n",
    "- [`mean`](http://docs.scipy.org/doc/scipy/reference/generated/scipy.stats.rv_continuous.logpdf.html#scipy.stats.rv_continuous.mean): returns the mean\n",
    "- [`var`](http://docs.scipy.org/doc/scipy/reference/generated/scipy.stats.rv_continuous.logpdf.html#scipy.stats.rv_continuous.var): returns the variance\n",
    "- [`std`](http://docs.scipy.org/doc/scipy/reference/generated/scipy.stats.rv_continuous.logpdf.html#scipy.stats.rv_continuous.std): returns the standard deviation\n",
    "- [`moment`](http://docs.scipy.org/doc/scipy/reference/generated/scipy.stats.rv_continuous.moment.html#scipy.stats.rv_continuous.moment): returning the n-th moment\n",
    "- [`stats`](http://docs.scipy.org/doc/scipy/reference/generated/scipy.stats.rv_continuous.stats.html#scipy.stats.rv_continuous.stats): returning various statistics\n",
    "- etc ...\n",
    "\n",
    "which can be instantiated with standardized parameters."
   ]
  },
  {
   "cell_type": "code",
   "execution_count": null,
   "metadata": {
    "collapsed": false
   },
   "outputs": [],
   "source": [
    "cauchies = [(loc, sp.stats.cauchy(loc=loc, scale=1.)) for loc in (-1, 0, 1)]\n",
    "x = np.arange(-3., 3., .05-1e-9)\n",
    "for loc, cauchy in cauchies:\n",
    "    plt.plot(x, cauchy.pdf(x), label=\"loc=%+d\" % loc)\n",
    "plt.legend()\n",
    "plt.title(\"Cauchy PDFs\")"
   ]
  },
  {
   "cell_type": "code",
   "execution_count": null,
   "metadata": {
    "collapsed": false
   },
   "outputs": [],
   "source": [
    "gammas = [(a, sp.stats.gamma(a=a)) for a in range(1,8)]\n",
    "x = np.arange(0., 10., .1-1e-9)\n",
    "for a, gamma in gammas:\n",
    "    plt.plot(x, gamma.cdf(x), label=\"a=%d\" % a)\n",
    "plt.legend(loc='lower right')\n",
    "plt.title(\"Gamma CDFs\")"
   ]
  },
  {
   "cell_type": "markdown",
   "metadata": {},
   "source": [
    "### Sparse Matrices\n",
    "\n",
    "Sparse matrices are great for matrices that are mostly zeros.  There are many formats, which each have different advantages:\n",
    "- [COO](http://docs.scipy.org/doc/scipy/reference/generated/scipy.sparse.coo_matrix.html#scipy.sparse.coo_matrix): this is the easiest class to construct, but bad at computation\n",
    "- [CSC](http://docs.scipy.org/doc/scipy/reference/generated/scipy.sparse.csc_matrix.html#scipy.sparse.csc_matrix): also called column-based, these are good for column-slicing but poor at row slicing.\n",
    "- [CSR](http://docs.scipy.org/doc/scipy/reference/generated/scipy.sparse.csc_matrix.html#scipy.sparse.csc_matrix): also called row-based, these are good for row-slicing but poor at column slicing.\n",
    "- [DIA](http://docs.scipy.org/doc/scipy/reference/generated/scipy.sparse.dia_matrix.html#scipy.sparse.dia_matrix): also called diagonal storage, these are great for diagonal matrices.\n",
    "\n",
    "![Sprase Vs. Dense Matrices](images/Sparse_vs_Dense_Matrices.svg \"Sprase Vs. Dense Matrices\")\n",
    "[comment]: https://docs.google.com/drawings/d/1s9JQVUPO4RJnAFdcWFG-Xxz_-m0oJv7yvvK3EE00SAM/edit"
   ]
  },
  {
   "cell_type": "code",
   "execution_count": null,
   "metadata": {
    "collapsed": false
   },
   "outputs": [],
   "source": [
    "def shift_matrix(n):\n",
    "    matrix = sp.sparse.dia_matrix(((np.ones(n), np.ones(n)), (1,1-n)), shape=(n,n))\n",
    "    return matrix\n",
    "\n",
    "print shift_matrix(4)\n",
    "shift_matrix(4).todense()"
   ]
  },
  {
   "cell_type": "markdown",
   "metadata": {},
   "source": [
    "We can see that dense matrix multiplication is slower than sparse matrix multiplication"
   ]
  },
  {
   "cell_type": "code",
   "execution_count": null,
   "metadata": {
    "collapsed": false
   },
   "outputs": [],
   "source": [
    "N = 1000\n",
    "T = 50\n",
    "m_dense = shift_matrix(N).todense()\n",
    "m_sparse = shift_matrix(N).tocsr()"
   ]
  },
  {
   "cell_type": "code",
   "execution_count": null,
   "metadata": {
    "collapsed": false
   },
   "outputs": [],
   "source": [
    "%%timeit\n",
    "\n",
    "v0 = np.arange(N).reshape((N,1))\n",
    "for _ in xrange(T):\n",
    "    v0 = m_dense * v0"
   ]
  },
  {
   "cell_type": "code",
   "execution_count": null,
   "metadata": {
    "collapsed": false
   },
   "outputs": [],
   "source": [
    "%%timeit\n",
    "\n",
    "v0 = np.arange(N).reshape((N,1))\n",
    "for _ in xrange(T):\n",
    "    v0 = m_sparse * v0"
   ]
  },
  {
   "cell_type": "markdown",
   "metadata": {},
   "source": [
    "**Exercises:**\n",
    "1. Linear regression is a *Least Squares* model because it minimizes the potential function\n",
    "$$ \\sum_i (y_i - (b_0 + b_1 X_{1i} + \\cdots b_p X_{pi}))^2 $$\n",
    "Use the matrix operations provided by numpy and the optimization routines provided by scipy to write your own least-squares routine.  Check the result using `numpy.linalg.lstsq`.\n",
    "\n",
    "1. Generate some noisy data fitting the model $y = e^{-a x} + b + \\epsilon$ where $\\epsilon$ is random Gaussian noise and $a>0$ and $b$ are real numbers.  Use `scipy.optimize.curve_fit` to git the data to the parametric form $f(x) = e^{-a x} + b$ and check that you can recover the values of $a$ and $b$.\n",
    "\n",
    "1. Generate an `np.array` of normally distributed samples and apply the normal cdf to them pointwise (`scipy.stats.norm.cdf`).  Generate the histogram.  Can you figure out what distribution this approaches as the number of samples increases?"
   ]
  },
  {
   "cell_type": "markdown",
   "metadata": {
    "collapsed": false
   },
   "source": [
    "### Exit Tickets\n",
    "1. What do we mean by \"efficient\" implementations of mathematical operations?\n",
    "1. Identify the aspects of Python responsible for its relatively slow performance. What benefits do we get in return?\n",
    "1. Libraries like numpy and scipy offer substantial benefits. What are some of their drawbacks?\n",
    "1. (*extension*) How do you decide when to import functionality and when to implement it yourself?"
   ]
  },
  {
   "cell_type": "markdown",
   "metadata": {},
   "source": [
    "*Copyright &copy; 2015 The Data Incubator.  All rights reserved.*"
   ]
  }
 ],
 "metadata": {
  "kernelspec": {
   "display_name": "Python 2",
   "language": "python",
   "name": "python2"
  },
  "language_info": {
   "codemirror_mode": {
    "name": "ipython",
    "version": 2
   },
   "file_extension": ".py",
   "mimetype": "text/x-python",
   "name": "python",
   "nbconvert_exporter": "python",
   "pygments_lexer": "ipython2",
   "version": "2.7.13"
  }
 },
 "nbformat": 4,
 "nbformat_minor": 0
}
