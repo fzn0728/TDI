{
 "cells": [
  {
   "cell_type": "code",
   "execution_count": 9,
   "metadata": {
    "collapsed": true
   },
   "outputs": [],
   "source": [
    "%matplotlib inline\n",
    "import matplotlib\n",
    "import seaborn as sns\n",
    "matplotlib.rcParams['savefig.dpi'] = 144"
   ]
  },
  {
   "cell_type": "code",
   "execution_count": 10,
   "metadata": {
    "collapsed": false
   },
   "outputs": [],
   "source": [
    "import grader"
   ]
  },
  {
   "cell_type": "markdown",
   "metadata": {},
   "source": [
    "# ML: Predicting Star Ratings\n",
    "\n",
    "Our objective is to predict a new venue's popularity from information available when the venue opens.  We will do this by machine learning from a dataset of venue popularities provided by Yelp.  The dataset contains meta data about the venue (where it is located, the type of food served, etc.).  It also contains a star rating. Note that the venues are not limited to restaurants. This tutorial will walk you through one way to build a machine-learning algorithm.\n",
    "\n",
    "## Metric\n",
    "\n",
    "Your model will be assessed based on the root mean squared error of the number of stars you predict.  There is a reference solution (which should not be too hard to beat).  The reference solution has a score of 1.\n",
    "\n",
    "## Download and parse the incoming data\n",
    "\n",
    "We start by downloading the dataset from Amazon S3:"
   ]
  },
  {
   "cell_type": "code",
   "execution_count": 11,
   "metadata": {
    "collapsed": false
   },
   "outputs": [],
   "source": [
    "!aws s3 sync s3://dataincubator-course/mldata/ . --exclude '*' --include 'yelp_train_academic_dataset_business.json.gz'"
   ]
  },
  {
   "cell_type": "markdown",
   "metadata": {},
   "source": [
    "The training data are a series of JSON objects, in a gzipped file. Python supports gzipped files natively: [gzip.open](https://docs.python.org/2/library/gzip.html) has the same interface as `open`, but handles `.gz` files automatically.\n",
    "\n",
    "The built-in json package has a `loads()` function that converts a JSON string into a Python dictionary.  We could call that once for each row of the file. [ujson](http://docs.micropython.org/en/latest/library/ujson.html) has the same interface as the built-in `json` library, but is *substantially* faster (at the cost of non-robust handling of malformed json).  We will use that inside a list comprehension to get a list of dictionaries:"
   ]
  },
  {
   "cell_type": "code",
   "execution_count": 56,
   "metadata": {
    "collapsed": false
   },
   "outputs": [],
   "source": [
    "import ujson as json\n",
    "import gzip\n",
    "\n",
    "with gzip.open('yelp_train_academic_dataset_business.json.gz') as f:\n",
    "    data = [json.loads(line) for line in f]"
   ]
  },
  {
   "cell_type": "markdown",
   "metadata": {},
   "source": [
    "In Scikit Learn, the labels to be predicted, in this case, the stars, are always kept in a separate data structure than the features.  Let's get in this habit now, by creating a separate list of the ratings:"
   ]
  },
  {
   "cell_type": "code",
   "execution_count": 57,
   "metadata": {
    "collapsed": false
   },
   "outputs": [],
   "source": [
    "star_ratings = [row['stars'] for row in data]\n",
    "# star_ratings\n"
   ]
  },
  {
   "cell_type": "markdown",
   "metadata": {},
   "source": [
    "### Notes:\n",
    "1. [Pandas](http://pandas.pydata.org/) is able to read JSON text directly.  Use the `read_json()` function with the `lines=True` keyword argument.  While the rest of this notebook will assume you are using a list of dictionaries, you can complete it with dataframes, if you so desire.  Some of the example code will need to be modified in this case.\n",
    "\n",
    "2. There are obvious miscodings in the data.  There is no need to try to correct them.\n",
    "\n",
    "## Building models\n",
    "\n",
    "For many of the questions below, you will need to build and train an estimator that predicts the star rating given certain features.  This could be a custom estimator that you built from scratch, but in most cases will be a pipeline containing custom or prebuilt transformers and an existing estimator.  We will give you hints of how to proceed, but the only requirement for you is to produce a model that does as well, or better, than the reference models we created.  You are welcome to do this however you like. The details are up to you.\n",
    "\n",
    "The formats of the input and output to the `fit()` and `predict()` methods are ultimately up to you as well, but we recommend that you deal with lists or arrays, for consistency with the rest of Scikit Learn.  It is also a good idea to take the same type of data for the feature matrix in both `fit()` and `predict()`.  While it is tempting to read the stars from the feature matrix X, you should get in the habit of passing the labels as a separate argument to the `fit()` method.\n",
    "\n",
    "You may find it useful to serialize the trained models to disk.  This will allow to reload it after restarting the Jupyter notebook, without needing to retrain it.  We recommend using the [`dill` library](https://pypi.python.org/pypi/dill) for this (although the [`joblib` library](http://scikit-learn.org/stable/modules/model_persistence.html) also works).  Use\n",
    "```python\n",
    "dill.dump(estimator, open('estimator.dill', 'w'))\n",
    "```\n",
    "to serialize the object `estimator` to the file `estimator.dill`.  If you have trouble with this, try setting the `recurse=True` keyword args in the call of `dill.dump()`.  The estimator can be deserialized by calling\n",
    "```python\n",
    "estimator = dill.load(open('estimator.dill', 'r'))\n",
    "```"
   ]
  },
  {
   "cell_type": "markdown",
   "metadata": {},
   "source": [
    "# Questions\n",
    "\n",
    "Each of the \"model\" questions asks you to create a function that models the number of stars venues will receive.  It will be passed a list of dictionaries.  Each of these will have the same format as the JSON objects you've just read in.  Some of the keys (like the stars!) will have been removed.  This function should return a list of numbers of the same length, indicating the predicted star ratings.\n",
    "\n",
    "This function is passed to the `score()` function, which will receive input from the grader, run your function with that input, report the results back to the grader, and print out the score the grader returned.  Depending on how you constructed your estimator, you may be able to pass the predict method directly to the `score()` function.  If not, you will need to write a small wrapper function to mediate the data types.\n",
    "\n",
    "## city_avg\n",
    "The venues belong to different cities.  You can image that the ratings in some cities are probably higher than others.  We wish to build an estimator to make a prediction based on this, but first we need to work out the average rating for each city.  For this problem, create a list of tuples (city name, star rating), one for each city in the dataset.\n",
    "\n",
    "There are many ways to do this; please feel free to experiment on your own.  If you get stuck, the steps below attempt to guide you through the process.\n",
    "\n",
    "A simple approach is to go through all of the dictionaries in our array, calculating the sum of the star ratings and the number of venues for each city.  At the end, we can just divide the stars by the count to get the average.\n",
    "\n",
    "We could create a separate sum and count variable for each city, but that will get tedious quickly.  A better approach to to create a dictionary for each.  The key will be the city name, and the value the running sum or running count.\n",
    "\n",
    "One slight annoyance of this approach is that we will have to test whether a key exists in the dictionary before adding to the running tally.  The collections module's `defaultdict` class works around this by providing default values for keys that haven't been used.  Thus, if we do"
   ]
  },
  {
   "cell_type": "code",
   "execution_count": 14,
   "metadata": {
    "collapsed": true
   },
   "outputs": [],
   "source": [
    "from collections import defaultdict\n",
    "star_sum = defaultdict(int)\n",
    "count = defaultdict(int)"
   ]
  },
  {
   "cell_type": "code",
   "execution_count": 158,
   "metadata": {
    "collapsed": false
   },
   "outputs": [
    {
     "data": {
      "text/plain": [
       "4"
      ]
     },
     "execution_count": 158,
     "metadata": {},
     "output_type": "execute_result"
    }
   ],
   "source": [
    "n = [1,2,3,4]\n",
    "range(len(n)/2)\n",
    "n[-1]"
   ]
  },
  {
   "cell_type": "markdown",
   "metadata": {},
   "source": [
    "we can increment any key of `stars` or `count` without first worrying whether the key exists.  We need to go through the `data` and `star_ratings` list together, which we can do with the `zip()` function."
   ]
  },
  {
   "cell_type": "code",
   "execution_count": 62,
   "metadata": {
    "collapsed": false
   },
   "outputs": [],
   "source": [
    "for row, stars in zip(data, star_ratings):\n",
    "    star_sum[row['city']] = star_sum[row['city']]+stars\n",
    "    count[row['city']]=count[row['city']]+1\n",
    "    # increment the running sum in star_sum\n",
    "    # increment the running count in count\n",
    "    # print(row['city'])"
   ]
  },
  {
   "cell_type": "code",
   "execution_count": 23,
   "metadata": {
    "collapsed": false
   },
   "outputs": [
    {
     "data": {
      "text/plain": [
       "defaultdict(int,\n",
       "            {u'Ahwatukee': 8,\n",
       "             u'Anthem': 55,\n",
       "             u'Apache Junction': 80,\n",
       "             u'Arcadia': 1,\n",
       "             u'Atlanta': 1,\n",
       "             u'Avondale': 233,\n",
       "             u'Black Canyon City': 1,\n",
       "             u'Bonnyrigg': 2,\n",
       "             u'Boulder City': 22,\n",
       "             u'Buckeye': 71,\n",
       "             u'C Las Vegas': 1,\n",
       "             u'Cambridge': 5,\n",
       "             u'Carefree': 36,\n",
       "             u'Casa Grande': 87,\n",
       "             u'Cave Creek': 131,\n",
       "             u'Centennial Hills': 1,\n",
       "             u'Central City Village': 4,\n",
       "             u'Central Henderson': 1,\n",
       "             u'Chandler': 1468,\n",
       "             u'Chandler-Gilbert': 1,\n",
       "             u'City of Edinburgh': 1,\n",
       "             u'Clark County': 4,\n",
       "             u'Coolidge': 8,\n",
       "             u'Cottage Grove': 9,\n",
       "             u'Cramond': 2,\n",
       "             u'Dalkeith': 3,\n",
       "             u'Dane': 2,\n",
       "             u'De Forest': 6,\n",
       "             u'DeForest': 5,\n",
       "             u'Deforest': 1,\n",
       "             u'Eagan': 1,\n",
       "             u'Edinburgh': 2595,\n",
       "             u'El Mirage': 30,\n",
       "             u'Enterprise': 9,\n",
       "             u'Fitchburg': 82,\n",
       "             u'Florence': 17,\n",
       "             u'Fort Kinnaird': 1,\n",
       "             u'Fort McDowell': 7,\n",
       "             u'Fort Mcdowell': 2,\n",
       "             u'Fountain Hills': 105,\n",
       "             u'Fountain Hls': 1,\n",
       "             u'Gila Bend': 16,\n",
       "             u'Gilbert': 939,\n",
       "             u'Glendale': 1094,\n",
       "             u'Glendale Az': 1,\n",
       "             u'Gold Canyon': 28,\n",
       "             u'Goldfield': 1,\n",
       "             u'Goodyear': 271,\n",
       "             u'Green Valley': 1,\n",
       "             u'Guadalupe': 6,\n",
       "             u'Heidelberg': 1,\n",
       "             u'Henderson': 1740,\n",
       "             u'Henderson ': 1,\n",
       "             u'Henderson (Green  Valley)': 1,\n",
       "             u'Henderson (Stephanie)': 1,\n",
       "             u'Henderson and Las vegas': 1,\n",
       "             u'Higley': 10,\n",
       "             u'Inverkeithing': 1,\n",
       "             u'Juniper Green': 3,\n",
       "             u'Kitchener': 116,\n",
       "             u'Lake Las Vegas': 1,\n",
       "             u'Las Vegas': 10851,\n",
       "             u'Las Vegas ': 5,\n",
       "             u'Las Vegas East': 1,\n",
       "             u'Las Vegas, NV 89147': 1,\n",
       "             u'Lasswade': 3,\n",
       "             u'Laveen': 56,\n",
       "             u'Leith': 1,\n",
       "             u'Litchfield Park': 60,\n",
       "             u'Litchfield Park ': 1,\n",
       "             u'Loanhead': 5,\n",
       "             u'London': 1,\n",
       "             u'Madison': 1465,\n",
       "             u'Maricopa': 75,\n",
       "             u'Mc Farland': 10,\n",
       "             u'McFarland': 5,\n",
       "             u'Mcfarland': 1,\n",
       "             u'Mesa': 1847,\n",
       "             u'Mesa ': 1,\n",
       "             u'Middleton': 135,\n",
       "             u'Midlothian': 3,\n",
       "             u'Monona': 55,\n",
       "             u'Morristown': 3,\n",
       "             u'Musselburgh': 10,\n",
       "             u'N E Las Vegas': 1,\n",
       "             u'N Las Vegas': 8,\n",
       "             u'N W Las Vegas': 1,\n",
       "             u'N. Las Vegas': 2,\n",
       "             u'NELLIS AFB': 1,\n",
       "             u'Nellis AFB': 9,\n",
       "             u'Nellis Afb': 2,\n",
       "             u'Nellis Air Force Base': 1,\n",
       "             u'New River': 6,\n",
       "             u'New Town': 3,\n",
       "             u'New York': 1,\n",
       "             u'Newberry Springs': 1,\n",
       "             u'Newbridge': 1,\n",
       "             u'Newington': 1,\n",
       "             u'North Las Vegas': 463,\n",
       "             u'North Las Vegas ': 1,\n",
       "             u'North Queensferry': 1,\n",
       "             u'North Scottsdale': 1,\n",
       "             u'Old Town': 1,\n",
       "             u'Paradise': 16,\n",
       "             u'Paradise Valley': 71,\n",
       "             u'Penicuik': 1,\n",
       "             u'Peoria': 533,\n",
       "             u'Pheonix': 2,\n",
       "             u'Phoenix': 6715,\n",
       "             u'Phoenix ': 1,\n",
       "             u'Phoenix Sky Harbor Center': 1,\n",
       "             u'Portobello': 2,\n",
       "             u'Queen Creek': 182,\n",
       "             u'Queensferry': 3,\n",
       "             u'Ratho': 1,\n",
       "             u'Rio Verde': 3,\n",
       "             u'Rochester': 1,\n",
       "             u'Roslin': 1,\n",
       "             u'Saguaro Lake': 1,\n",
       "             u'San Tan Valley': 31,\n",
       "             u'Scotland': 1,\n",
       "             u'Scottsdale': 3226,\n",
       "             u'Scottsdale, Phoenix, Chandler, Gilbert': 1,\n",
       "             u'Sedona': 1,\n",
       "             u'South Gyle': 1,\n",
       "             u'South Las Vegas': 1,\n",
       "             u'South Queensferry': 10,\n",
       "             u'Spring Valley': 7,\n",
       "             u'St Clements': 1,\n",
       "             u'St Jacobs': 2,\n",
       "             u'St. Jacobs': 1,\n",
       "             u'Stanfield': 1,\n",
       "             u'Stockbridge': 2,\n",
       "             u'Stoughton': 2,\n",
       "             u'Straiton': 1,\n",
       "             u'Summerlin': 1,\n",
       "             u'Summerlin South': 2,\n",
       "             u'Sun City': 70,\n",
       "             u'Sun City Anthem': 1,\n",
       "             u'Sun City West': 16,\n",
       "             u'Sun Lakes': 9,\n",
       "             u'Sun Prairie': 67,\n",
       "             u'Sunrise': 1,\n",
       "             u'Sunrise Manor': 1,\n",
       "             u'Surprise': 356,\n",
       "             u'Surprise Crossing': 1,\n",
       "             u'Tempe': 1822,\n",
       "             u'Tolleson': 48,\n",
       "             u'Tonopah': 4,\n",
       "             u'Tonto Basin': 3,\n",
       "             u'Tortilla Flat': 3,\n",
       "             u'Trempealeau': 1,\n",
       "             u'Verona': 31,\n",
       "             u'Victoria Park': 1,\n",
       "             u'W Henderson': 1,\n",
       "             u'W Spring Valley': 1,\n",
       "             u'W Summerlin': 1,\n",
       "             u'Waddell': 3,\n",
       "             u'Water of Leith': 1,\n",
       "             u'Waterloo': 147,\n",
       "             u'Waunakee': 21,\n",
       "             u'Whitney': 1,\n",
       "             u'Wickenburg': 45,\n",
       "             u'Windsor': 6,\n",
       "             u'Woolwich': 2,\n",
       "             u'Youngtown': 14,\n",
       "             u'chandler': 1})"
      ]
     },
     "execution_count": 23,
     "metadata": {},
     "output_type": "execute_result"
    }
   ],
   "source": [
    "star_sum['Anthem']\n",
    "count"
   ]
  },
  {
   "cell_type": "markdown",
   "metadata": {},
   "source": [
    "Now we can calculate the average ratings.  Again, a dictionary makes a good container.  (*N.B.* Watch out for Python2's integer division.  Make sure at least one of your values is a float to get floating point division.)"
   ]
  },
  {
   "cell_type": "code",
   "execution_count": 24,
   "metadata": {
    "collapsed": true
   },
   "outputs": [],
   "source": [
    "avg_stars = dict()\n",
    "for city in star_sum:\n",
    "    avg_stars[city]=star_sum[city]/count[city]"
   ]
  },
  {
   "cell_type": "code",
   "execution_count": 67,
   "metadata": {
    "collapsed": false
   },
   "outputs": [
    {
     "data": {
      "text/plain": [
       "[u'Victoria Park',\n",
       " u'Anthem',\n",
       " u'Apache Junction',\n",
       " u'Morristown',\n",
       " u'North Queensferry',\n",
       " u'Paradise',\n",
       " u'Surprise',\n",
       " u'Henderson',\n",
       " u'Higley',\n",
       " u'Rio Verde',\n",
       " u'N. Las Vegas',\n",
       " u'Verona',\n",
       " u'Musselburgh',\n",
       " u'Central Henderson',\n",
       " u'Fort Mcdowell',\n",
       " u'Scottsdale',\n",
       " u'Sun Lakes',\n",
       " u'Whitney',\n",
       " u'Dane',\n",
       " u'Atlanta',\n",
       " u'Fort Kinnaird',\n",
       " u'NELLIS AFB',\n",
       " u'Waterloo',\n",
       " u'South Gyle',\n",
       " u'South Las Vegas',\n",
       " u'Summerlin South',\n",
       " u'DeForest',\n",
       " u'Clark County',\n",
       " u'Gold Canyon',\n",
       " u'Newberry Springs',\n",
       " u'Kitchener',\n",
       " u'Nellis AFB',\n",
       " u'Litchfield Park',\n",
       " u'Tolleson',\n",
       " u'Woolwich',\n",
       " u'St Jacobs',\n",
       " u'London',\n",
       " u'Queensferry',\n",
       " u'Inverkeithing',\n",
       " u'St Clements',\n",
       " u'Sunrise',\n",
       " u'Trempealeau',\n",
       " u'Gila Bend',\n",
       " u'Rochester',\n",
       " u'Maricopa',\n",
       " u'Tonto Basin',\n",
       " u'Goldfield',\n",
       " u'Old Town',\n",
       " u'Loanhead',\n",
       " u'Eagan',\n",
       " u'Midlothian',\n",
       " u'Goodyear',\n",
       " u'Sedona',\n",
       " u'Edinburgh',\n",
       " u'Peoria',\n",
       " u'North Scottsdale',\n",
       " u'Central City Village',\n",
       " u'Sun City Anthem',\n",
       " u'Avondale',\n",
       " u'Mc Farland',\n",
       " u'W Summerlin',\n",
       " u'Arcadia',\n",
       " u'Ahwatukee',\n",
       " u'C Las Vegas',\n",
       " u'Bonnyrigg',\n",
       " u'Cottage Grove',\n",
       " u'Casa Grande',\n",
       " u'Surprise Crossing',\n",
       " u'Centennial Hills',\n",
       " u'City of Edinburgh',\n",
       " u'W Henderson',\n",
       " u'Fitchburg',\n",
       " u'Boulder City',\n",
       " u'Black Canyon City',\n",
       " u'Penicuik',\n",
       " u'Las Vegas East',\n",
       " u'Newington',\n",
       " u'Madison',\n",
       " u'Cambridge',\n",
       " u'Lake Las Vegas',\n",
       " u'Litchfield Park ',\n",
       " u'Windsor',\n",
       " u'Cramond',\n",
       " u'Las Vegas',\n",
       " u'Lasswade',\n",
       " u'Wickenburg',\n",
       " u'Green Valley',\n",
       " u'El Mirage',\n",
       " u'Portobello',\n",
       " u'Phoenix ',\n",
       " u'Scotland',\n",
       " u'Tonopah',\n",
       " u'Guadalupe',\n",
       " u'Gilbert',\n",
       " u'N E Las Vegas',\n",
       " u'North Las Vegas ',\n",
       " u'Mesa ',\n",
       " u'Glendale Az',\n",
       " u'Ratho',\n",
       " u'Henderson (Green  Valley)',\n",
       " u'Stoughton',\n",
       " u'De Forest',\n",
       " u'Queen Creek',\n",
       " u'Henderson and Las vegas',\n",
       " u'McFarland',\n",
       " u'Mesa',\n",
       " u'Waunakee',\n",
       " u'chandler',\n",
       " u'Las Vegas ',\n",
       " u'Scottsdale, Phoenix, Chandler, Gilbert',\n",
       " u'W Spring Valley',\n",
       " u'Mcfarland',\n",
       " u'Enterprise',\n",
       " u'Saguaro Lake',\n",
       " u'Straiton',\n",
       " u'Cave Creek',\n",
       " u'N W Las Vegas',\n",
       " u'Las Vegas, NV 89147',\n",
       " u'Henderson (Stephanie)',\n",
       " u'New York',\n",
       " u'Waddell',\n",
       " u'Buckeye',\n",
       " u'Newbridge',\n",
       " u'Sunrise Manor',\n",
       " u'Florence',\n",
       " u'Spring Valley',\n",
       " u'Juniper Green',\n",
       " u'Coolidge',\n",
       " u'Roslin',\n",
       " u'Sun City West',\n",
       " u'Middleton',\n",
       " u'Fort McDowell',\n",
       " u'Fountain Hls',\n",
       " u'Phoenix Sky Harbor Center',\n",
       " u'Sun Prairie',\n",
       " u'Stockbridge',\n",
       " u'St. Jacobs',\n",
       " u'Heidelberg',\n",
       " u'New Town',\n",
       " u'Laveen',\n",
       " u'Nellis Afb',\n",
       " u'Tempe',\n",
       " u'Deforest',\n",
       " u'Carefree',\n",
       " u'Chandler',\n",
       " u'Leith',\n",
       " u'Dalkeith',\n",
       " u'Tortilla Flat',\n",
       " u'Pheonix',\n",
       " u'New River',\n",
       " u'North Las Vegas',\n",
       " u'Summerlin',\n",
       " u'Fountain Hills',\n",
       " u'N Las Vegas',\n",
       " u'Water of Leith',\n",
       " u'Paradise Valley',\n",
       " u'South Queensferry',\n",
       " u'Glendale',\n",
       " u'Youngtown',\n",
       " u'Nellis Air Force Base',\n",
       " u'Stanfield',\n",
       " u'Phoenix',\n",
       " u'Sun City',\n",
       " u'Henderson ',\n",
       " u'San Tan Valley',\n",
       " u'Chandler-Gilbert',\n",
       " u'Monona']"
      ]
     },
     "execution_count": 67,
     "metadata": {},
     "output_type": "execute_result"
    }
   ],
   "source": [
    "# Test\n",
    "avg_stars.keys()\n"
   ]
  },
  {
   "cell_type": "markdown",
   "metadata": {},
   "source": [
    "There should be 167 different cities:"
   ]
  },
  {
   "cell_type": "code",
   "execution_count": 25,
   "metadata": {
    "collapsed": true
   },
   "outputs": [],
   "source": [
    "assert len(avg_stars) == 167"
   ]
  },
  {
   "cell_type": "markdown",
   "metadata": {},
   "source": [
    "We can get that list of tuples from the `.items()` method."
   ]
  },
  {
   "cell_type": "code",
   "execution_count": 29,
   "metadata": {
    "collapsed": false
   },
   "outputs": [
    {
     "name": "stdout",
     "output_type": "stream",
     "text": [
      "==================\n",
      "Your score:  1.0\n",
      "==================\n"
     ]
    }
   ],
   "source": [
    "grader.score('ml__city_avg', lambda: avg_stars.items())"
   ]
  },
  {
   "cell_type": "markdown",
   "metadata": {},
   "source": [
    "## city_model\n",
    "Now, let's build a custom estimator that will make a prediction based solely on the city of a venue.  It is tempting to hard-code the answers from the previous section into this model, but we're going to resist and do things properly.\n",
    "\n",
    "This custom estimator will have a `.fit()` method.  It will receive `data` as its argument `X` and `star_ratings` as `y`, and should repeat the calculation of the previous problem there.  Then the `.predict()` method can look up the average rating for the city of each record it receives."
   ]
  },
  {
   "cell_type": "code",
   "execution_count": 87,
   "metadata": {
    "collapsed": true
   },
   "outputs": [],
   "source": [
    "from sklearn import base\n",
    "import numpy as np\n",
    "class CityEstimator(base.BaseEstimator, base.RegressorMixin):\n",
    "    \n",
    "    def __init__(self):\n",
    "        self.avg_stars = dict()\n",
    "    \n",
    "    def fit(self, X, y):\n",
    "        star_sum = defaultdict(int)\n",
    "        count = defaultdict(int)\n",
    "        # First step\n",
    "        for row, stars in zip(X, y):\n",
    "            star_sum[row['city']] = star_sum[row['city']]+stars\n",
    "            count[row['city']]=count[row['city']]+1\n",
    "        # Second step \n",
    "        avg_starsX = dict()\n",
    "        for city in star_sum:\n",
    "            avg_stars[city]=star_sum[city]/count[city] \n",
    "        # Store the average rating per city in self.avg_stars\n",
    "        self.avg_stars = avg_stars\n",
    "        return self\n",
    "    \n",
    "    def predict(self, X):\n",
    "        result = list()\n",
    "        for row in X:\n",
    "            if row['city'] in avg_stars.keys():\n",
    "                result.append(avg_stars[row['city']])\n",
    "            else:\n",
    "                result.append(np.mean(avg_stars.values())) # replace with average if no city at training dataset\n",
    "        return result"
   ]
  },
  {
   "cell_type": "markdown",
   "metadata": {},
   "source": [
    "Now we can create an instance of our estimator and train it."
   ]
  },
  {
   "cell_type": "code",
   "execution_count": 88,
   "metadata": {
    "collapsed": false
   },
   "outputs": [
    {
     "data": {
      "text/plain": [
       "CityEstimator()"
      ]
     },
     "execution_count": 88,
     "metadata": {},
     "output_type": "execute_result"
    }
   ],
   "source": [
    "city_est = CityEstimator()\n",
    "city_est.fit(data, star_ratings)"
   ]
  },
  {
   "cell_type": "markdown",
   "metadata": {},
   "source": [
    "And let's see if it works."
   ]
  },
  {
   "cell_type": "code",
   "execution_count": 89,
   "metadata": {
    "collapsed": false
   },
   "outputs": [
    {
     "data": {
      "text/plain": [
       "[3.6702903946388683, 3.75, 3.75, 3.75, 3.75]"
      ]
     },
     "execution_count": 89,
     "metadata": {},
     "output_type": "execute_result"
    }
   ],
   "source": [
    "city_est.predict(data[:5])"
   ]
  },
  {
   "cell_type": "markdown",
   "metadata": {},
   "source": [
    "There is a problem, however.  What happens if we're asked to estimate the rating of a venue in a city that's not in our training set?"
   ]
  },
  {
   "cell_type": "code",
   "execution_count": 90,
   "metadata": {
    "collapsed": false
   },
   "outputs": [
    {
     "data": {
      "text/plain": [
       "[3.7127593360958091]"
      ]
     },
     "execution_count": 90,
     "metadata": {},
     "output_type": "execute_result"
    }
   ],
   "source": [
    "city_est.predict([{'city': 'Timbuktu'}])"
   ]
  },
  {
   "cell_type": "markdown",
   "metadata": {},
   "source": [
    "Solve this problem before submitting to the grader."
   ]
  },
  {
   "cell_type": "code",
   "execution_count": 91,
   "metadata": {
    "collapsed": false
   },
   "outputs": [
    {
     "name": "stdout",
     "output_type": "stream",
     "text": [
      "==================\n",
      "Your score:  0.999991973274\n",
      "==================\n"
     ]
    }
   ],
   "source": [
    "grader.score('ml__city_model', city_est.predict)"
   ]
  },
  {
   "cell_type": "markdown",
   "metadata": {},
   "source": [
    "## lat_long_model\n",
    "You can imagine that a city-based model might not be sufficiently fine-grained. For example, we know that some neighborhoods are trendier than others.  Use the latitude and longitude of a venue as features that help you understand neighborhood dynamics.\n",
    "\n",
    "Instead of writing a custom estimator, we'll use one of the built-in estimators in Scikit Learn.  Since these estimators won't know what to do with a list of dictionaries, we'll build a `ColumnSelectTransformer` that will return an array containing selected keys of our feature matrix.  While it is tempting to hard-code the latitude and longitude in here, this transformer will be more useful in the future if we write it to work on an arbitrary list of columns."
   ]
  },
  {
   "cell_type": "code",
   "execution_count": 148,
   "metadata": {
    "collapsed": false
   },
   "outputs": [],
   "source": [
    "class ColumnSelectTransformer(base.BaseEstimator, base.TransformerMixin):\n",
    "    \n",
    "    def __init__(self, col_names):\n",
    "        self.col_names = col_names  # We will need these in transform()\n",
    "    \n",
    "    def fit(self, X, y=None):\n",
    "        # This transformer doesn't need to learn anything about the data,\n",
    "        # so it can just return self without any further processing\n",
    "        return self\n",
    "    \n",
    "    def transform(self, X):\n",
    "        result = [[ele['latitude'], ele['longitude']] for ele in X]\n",
    "        # Return an array with the same number of rows as X and one\n",
    "        # column for each in self.col_names\n",
    "        return result"
   ]
  },
  {
   "cell_type": "markdown",
   "metadata": {},
   "source": [
    "Let's test it on a single row, just as a sanity check:"
   ]
  },
  {
   "cell_type": "code",
   "execution_count": 159,
   "metadata": {
    "collapsed": false
   },
   "outputs": [],
   "source": [
    "cst = ColumnSelectTransformer(['latitude', 'longitude'])\n",
    "assert (cst.fit_transform(data[:1]) == [[data[0]['latitude'], data[0]['longitude']]])\n",
    "\n",
    "# print(cst.fit_transform(data[:1]))\n",
    "# rint(cst.fit_transform(data[:1]))\n",
    "# print([[data[0]['latitude'], data[0]['longitude']]])\n",
    "# data[1]['latitude']"
   ]
  },
  {
   "cell_type": "code",
   "execution_count": 162,
   "metadata": {
    "collapsed": false
   },
   "outputs": [
    {
     "data": {
      "text/plain": [
       "[[33.499313, -111.983758],\n",
       " [43.238893, -89.335844],\n",
       " [43.252267, -89.353437],\n",
       " [43.251045, -89.374983],\n",
       " [43.2408748, -89.3437217],\n",
       " [42.9685074, -89.3229199],\n",
       " [43.0303561, -89.2985442],\n",
       " [43.014093, -89.294175],\n",
       " [43.017124, -89.299119],\n",
       " [43.017701, -89.303789],\n",
       " [43.015931, -89.285206],\n",
       " [43.0131557, -89.3021641],\n",
       " [43.014164, -89.288567],\n",
       " [43.0179387, -89.2986278],\n",
       " [43.093265, -89.4918],\n",
       " [43.090642, -89.485169],\n",
       " [43.0910607, -89.4874867],\n",
       " [43.1101571, -89.5264281],\n",
       " [43.077415, -89.527273],\n",
       " [43.096271, -89.516038],\n",
       " [43.1030719, -89.4860822],\n",
       " [43.1003841, -89.4862189],\n",
       " [43.0954975, -89.5235246],\n",
       " [43.0929029, -89.5277025],\n",
       " [43.091816, -89.52845],\n",
       " [43.096359, -89.513737],\n",
       " [43.107227, -89.496995],\n",
       " [43.1014598, -89.5111616],\n",
       " [43.075345267736, -89.528480180844],\n",
       " [43.1036633, -89.4864907]]"
      ]
     },
     "execution_count": 162,
     "metadata": {},
     "output_type": "execute_result"
    }
   ],
   "source": [
    "cst.fit_transform(data[:30])"
   ]
  },
  {
   "cell_type": "markdown",
   "metadata": {},
   "source": [
    "Now, let's feed the output of the transformer in to a `sklearn.neighbors.KNeighborsRegressor`.  As a sanity check, we'll test it with the first 5 rows.  To truly judge the performance, we'd need to make a test/train split."
   ]
  },
  {
   "cell_type": "code",
   "execution_count": 169,
   "metadata": {
    "collapsed": false
   },
   "outputs": [
    {
     "data": {
      "text/plain": [
       "array([ 4. ,  4.2,  4. ,  3.8,  4.2,  2.2,  3.7,  3.8,  3.9,  3.5,  4.2,\n",
       "        3.1,  4.2,  3.9,  3.9])"
      ]
     },
     "execution_count": 169,
     "metadata": {},
     "output_type": "execute_result"
    }
   ],
   "source": [
    "from sklearn.neighbors import KNeighborsRegressor\n",
    "\n",
    "data_transform = cst.fit_transform(data)\n",
    "knn = KNeighborsRegressor(n_neighbors=5)\n",
    "knn.fit(data_transform, star_ratings)\n",
    "test_data = data[:15]\n",
    "test_data_transform = cst.transform(test_data)\n",
    "knn.predict(test_data_transform)"
   ]
  },
  {
   "cell_type": "markdown",
   "metadata": {},
   "source": [
    "Instead of doing this by hand, let's make a pipeline.  Remember that a pipeline is made with a list of (name, transformer-or-estimator) tuples. "
   ]
  },
  {
   "cell_type": "code",
   "execution_count": 172,
   "metadata": {
    "collapsed": false
   },
   "outputs": [],
   "source": [
    "from sklearn.pipeline import Pipeline\n",
    "\n",
    "pipe = Pipeline([\n",
    "    ('transform',ColumnSelectTransformer(['latitude', 'longitude'])),\n",
    "    ('KNR',KNeighborsRegressor())\n",
    "        # ColumnSelectTransformer\n",
    "        # KNeighborsRegressor\n",
    "    ])"
   ]
  },
  {
   "cell_type": "markdown",
   "metadata": {},
   "source": [
    "This should work the same way."
   ]
  },
  {
   "cell_type": "code",
   "execution_count": 173,
   "metadata": {
    "collapsed": false
   },
   "outputs": [
    {
     "data": {
      "text/plain": [
       "array([ 4. ,  4.2,  4. ,  3.8,  4.2,  2.2,  3.7,  3.8,  3.9,  3.5,  4.2,\n",
       "        3.1,  4.2,  3.9,  3.9])"
      ]
     },
     "execution_count": 173,
     "metadata": {},
     "output_type": "execute_result"
    }
   ],
   "source": [
    "pipe.fit(data, star_ratings)\n",
    "pipe.predict(test_data)\n"
   ]
  },
  {
   "cell_type": "markdown",
   "metadata": {},
   "source": [
    "The `KNeighborsRegressor` takes the `n_neighbors` hyperparameter, which tells it how many nearest neighbors to average together when making a prediction.  There is no reason to believe that 5 is the optimum value.  Determine a better value of this hyperparameter.   There are several ways to do this:\n",
    "\n",
    "1. Use [train_test_split](http://scikit-learn.org/stable/modules/generated/sklearn.model_selection.train_test_split.html#sklearn.model_selection.train_test_split) to split your data in to a training set and a test set.  Score the performance on the test set.  After finding the best hyperparameter, retrain the model on the full data at that hyperparameter value.\n",
    "\n",
    "2. Use [cross_val_score](http://scikit-learn.org/stable/modules/generated/sklearn.model_selection.cross_val_score.html#sklearn.model_selection.cross_val_score) to return cross-validation scores on your data for various values of the hyperparameter.  Choose the best one, and retrain the model on the full data.\n",
    "\n",
    "3. Use [GridSearchCV](http://scikit-learn.org/stable/modules/generated/sklearn.model_selection.GridSearchCV.html#sklearn.model_selection.GridSearchCV) to do the splitting, training, and grading automatically.  `GridSearchCV` takes an estimator and acts as an estimator.  You can either give it the `KNeighborsRegressor` directly and put it in a pipeline, or you can pass the whole pipeline into the `GridSearchCV`.  In the latter case, remember that the hyperparameter `param` of an estimator named `est` in a pipeline becomes a hyperparameter of the pipeline with name `est__param`.\n",
    "\n",
    "No matter which you choose, you should consider whether the data need to be shuffled.  The default k-folds split doesn't shuffle.  This is fine, if the data are already random.  The code below will plot a rolling mean of the star ratings.  Do you need to shuffle the data?"
   ]
  },
  {
   "cell_type": "code",
   "execution_count": null,
   "metadata": {
    "collapsed": true
   },
   "outputs": [],
   "source": [
    "from sklearn.model_selection import train_test_split\n"
   ]
  },
  {
   "cell_type": "code",
   "execution_count": 174,
   "metadata": {
    "collapsed": false
   },
   "outputs": [
    {
     "name": "stderr",
     "output_type": "stream",
     "text": [
      "/opt/conda/lib/python2.7/site-packages/ipykernel/__main__.py:4: FutureWarning: pd.rolling_mean is deprecated for Series and will be removed in a future version, replace with \n",
      "\tSeries.rolling(window=1000,center=False).mean()\n"
     ]
    },
    {
     "data": {
      "text/plain": [
       "[<matplotlib.lines.Line2D at 0x7fb0ed1eb050>]"
      ]
     },
     "execution_count": 174,
     "metadata": {},
     "output_type": "execute_result"
    },
    {
     "data": {
      "image/png": "[encoded data removed]",
      "text/plain": [
       "<matplotlib.figure.Figure at 0x7fb0ecbdb8d0>"
      ]
     },
     "metadata": {},
     "output_type": "display_data"
    }
   ],
   "source": [
    "from pandas import rolling_mean, Series\n",
    "import matplotlib.pyplot as plt\n",
    "\n",
    "plt.plot(rolling_mean(Series(star_ratings), 1000))"
   ]
  },
  {
   "cell_type": "markdown",
   "metadata": {},
   "source": [
    "Once you've found a good value of `n_neighbors`, submit the model to the grader.  (*N.B.* \"Good\" is a relative measure here.  The reference solution has a r-squared value of only 0.02.  There is just rather little signal available for modeling.)"
   ]
  },
  {
   "cell_type": "code",
   "execution_count": null,
   "metadata": {
    "collapsed": false,
    "scrolled": true
   },
   "outputs": [],
   "source": []
  },
  {
   "cell_type": "code",
   "execution_count": 175,
   "metadata": {
    "collapsed": false
   },
   "outputs": [
    {
     "ename": "NameError",
     "evalue": "name 'lat_long_est' is not defined",
     "output_type": "error",
     "traceback": [
      "\u001b[0;31m---------------------------------------------------------------------------\u001b[0m",
      "\u001b[0;31mNameError\u001b[0m                                 Traceback (most recent call last)",
      "\u001b[0;32m<ipython-input-175-7ae9dc8a17d2>\u001b[0m in \u001b[0;36m<module>\u001b[0;34m()\u001b[0m\n\u001b[0;32m----> 1\u001b[0;31m \u001b[0mgrader\u001b[0m\u001b[0;34m.\u001b[0m\u001b[0mscore\u001b[0m\u001b[0;34m(\u001b[0m\u001b[0;34m'ml__lat_long_model'\u001b[0m\u001b[0;34m,\u001b[0m \u001b[0mlat_long_est\u001b[0m\u001b[0;34m.\u001b[0m\u001b[0mpredict\u001b[0m\u001b[0;34m)\u001b[0m  \u001b[0;31m# Edit to appropriate name\u001b[0m\u001b[0;34m\u001b[0m\u001b[0m\n\u001b[0m",
      "\u001b[0;31mNameError\u001b[0m: name 'lat_long_est' is not defined"
     ]
    }
   ],
   "source": [
    "grader.score('ml__lat_long_model', lat_long_est.predict)  # Edit to appropriate name"
   ]
  },
  {
   "cell_type": "markdown",
   "metadata": {},
   "source": [
    "*Item for thought:* Why do we choose a non-linear model for this estimator?\n",
    "\n",
    "*Extension:* Use a `sklearn.ensemble.RandomForestRegressor`, which is a more powerful non-linear model.  Can you get better performance with this than with the `KNeighborsRegressor`?"
   ]
  },
  {
   "cell_type": "markdown",
   "metadata": {},
   "source": [
    "## category_model\n",
    "While location is important, we could also try seeing how predictive the\n",
    "venue's category is.  Build an estimator that considers only the categories.\n",
    "\n",
    "The categories come as a list of strings, but the built-in estimators all need numeric input.  The standard way to deal with categorical features is **one-hot encoding**, also known as dummy variables.  In this approach, each category gets its own column in the feature matrix.  If the row has a given category, that column gets filled with a 1.  Otherwise, it is 0.\n",
    "\n",
    "The `ColumnSelectTransformer` from the previous question can be used to extract the categories column as a list of strings.  Scikit Learn provides [DictVectorizer](http://scikit-learn.org/stable/modules/generated/sklearn.feature_extraction.DictVectorizer.html#sklearn.feature_extraction.DictVectorizer), which takes in a list of dictionaries.  It creates a column in the output matrix for each key in the dictionary and fills it with the value associated with it.  Missing keys are filled with zeros.  Therefore, we need only build a transformer that takes a list strings to a dictionary with keys given by those strings and values one."
   ]
  },
  {
   "cell_type": "code",
   "execution_count": null,
   "metadata": {
    "collapsed": false,
    "scrolled": true
   },
   "outputs": [],
   "source": [
    "class DictEncoder(base.BaseEstimator, base.TransformerMixin):\n",
    "    \n",
    "    def fit(self, X, y=None):\n",
    "        return self\n",
    "    \n",
    "    def transform(self, X):\n",
    "        # X will come in as a list of lists of lists.  Return a list of\n",
    "        # dictionaries corresponding to those inner lists."
   ]
  },
  {
   "cell_type": "markdown",
   "metadata": {},
   "source": [
    "That should allow this to pass:"
   ]
  },
  {
   "cell_type": "code",
   "execution_count": null,
   "metadata": {
    "collapsed": true
   },
   "outputs": [],
   "source": [
    "assert (DictEncoder().fit_transform([[['a']], [['b', 'c']]])\n",
    "        == [{'a': 1}, {'b': 1, 'c': 1}])"
   ]
  },
  {
   "cell_type": "markdown",
   "metadata": {},
   "source": [
    "Set up a pipeline with your `ColumnSelectTransformer`, your `DictEncoder`, the `DictVectorizer`, and a regularized linear model, like `Ridge`, as the estimator.  This model will have a large number of features, one for each category, so there is a significant danger of overfitting.  Use cross validation to choose the best regularization parameter."
   ]
  },
  {
   "cell_type": "code",
   "execution_count": null,
   "metadata": {
    "collapsed": false
   },
   "outputs": [],
   "source": []
  },
  {
   "cell_type": "code",
   "execution_count": null,
   "metadata": {
    "collapsed": false
   },
   "outputs": [],
   "source": [
    "grader.score('ml__category_model', category_est.predict)  # Edit to appropriate name"
   ]
  },
  {
   "cell_type": "markdown",
   "metadata": {},
   "source": [
    "*Extension:* Some categories (e.g. Restaurants) are not very specific.  Others (Japanese sushi) are much more so.  One way to deal with this is with an measure call term-frequency-inverse-document-frequency (TF-IDF).  Add in a `sklearn.feature_extraction.text.TfidfTransformer` between the `DictVectorizer` and the linear model, and see if that improves performance.\n",
    "\n",
    "*Extension:* Can you beat the performance of the linear estimator with a\n",
    "non-linear model?"
   ]
  },
  {
   "cell_type": "markdown",
   "metadata": {},
   "source": [
    "## attribute_model\n",
    "There is even more information in the attributes for each venue.  Let's build an estimator based on these.\n",
    "\n",
    "Venues attributes may be nested:\n",
    "```\n",
    "{\n",
    "  'Attire': 'casual',\n",
    "  'Accepts Credit Cards': True,\n",
    "  'Ambiance': {'casual': False, 'classy': False}\n",
    "}\n",
    "```\n",
    "We wish to encode them with one-hot encoding.  The `DictVectorizer` can do this, but only once we've flattened the dictionary to a single level, like so:\n",
    "```\n",
    "{\n",
    "  'Attire_casual' : 1,\n",
    "  'Accepts Credit Cards': 1,\n",
    "  'Ambiance_casual': 0,\n",
    "  'Ambiance_classy': 0\n",
    "}\n",
    "```\n",
    "\n",
    "Build a custom transformer that flattens the attributes dictionary.  Place this in a pipeline with a `DictVectorizer` and a regressor.\n",
    "\n",
    "You may find it difficult to find a single regressor that does well enough.  A common solution is to use a linear model to fit the linear part of some data, and use a non-linear model to fit the residual that the linear model can't fit.  Build a residual estimator that takes as an argument two other estimators.  It should use the first to fit the raw data and the second to fit the residuals of the first."
   ]
  },
  {
   "cell_type": "code",
   "execution_count": null,
   "metadata": {
    "collapsed": false
   },
   "outputs": [],
   "source": []
  },
  {
   "cell_type": "code",
   "execution_count": null,
   "metadata": {
    "collapsed": false
   },
   "outputs": [],
   "source": [
    "grader.score('ml__attribute_model', attribute_est.predict)  # Edit to appropriate name"
   ]
  },
  {
   "cell_type": "markdown",
   "metadata": {},
   "source": [
    "## full_model\n",
    "So far we have only built models based on individual features.  Now we will build an ensemble regressor that averages together the estimates of the four previous regressors.\n",
    "\n",
    "In order to use the existing models as input to an estimator, we will have to turn them into transformers.  (A pipeline can contain at most a single estimator.)  Build a custom `ModelTransformer` class that takes an estimator as an argument.  When `fit()` is called, the estimator should be fit.  When `transform()` is called, the estimator's `predict()` method should be called, and its results returned.\n",
    "\n",
    "Note that the output of the `transform()` method should be a 2-D array with a single column, in order for it to work well with the Scikit Learn pipeline.  If you're using Numpy arrays, you can use `.reshape(-1, 1)` to create a column vector.  If you are just using Python lists, you will want a list of lists of single elements."
   ]
  },
  {
   "cell_type": "code",
   "execution_count": null,
   "metadata": {
    "collapsed": true
   },
   "outputs": [],
   "source": [
    "class EstimatorTransformer(base.BaseEstimator, base.TransformerMixin):\n",
    "    \n",
    "    def __init__(self, estimator):\n",
    "        # What needs to be done here?\n",
    "    \n",
    "    def fit(self, X, y):\n",
    "        # Fit the stored estimator.\n",
    "        # Question: what should be returned?\n",
    "    \n",
    "    def transform(self, X):\n",
    "        # Use predict on the stored estimator as a \"transformation\".\n",
    "        # Be sure to return a 2-D array."
   ]
  },
  {
   "cell_type": "markdown",
   "metadata": {},
   "source": [
    "This should work as follows:"
   ]
  },
  {
   "cell_type": "code",
   "execution_count": null,
   "metadata": {
    "collapsed": false
   },
   "outputs": [],
   "source": [
    "city_trans = EstimatorTransformer(city_est)\n",
    "city_trans.fit(data, star_ratings)\n",
    "assert ([r[0] for r in city_trans.transform(data[:5])]\n",
    "        == city_est.predict(data[:5]))"
   ]
  },
  {
   "cell_type": "markdown",
   "metadata": {},
   "source": [
    "Create an instance of `ModelTransformer` for each of the previous four models. Combine these together in a single feature matrix with a\n",
    "[FeatureUnion](http://scikit-learn.org/stable/modules/generated/sklearn.pipeline.FeatureUnion.html#sklearn.pipeline.FeatureUnion)."
   ]
  },
  {
   "cell_type": "code",
   "execution_count": null,
   "metadata": {
    "collapsed": true
   },
   "outputs": [],
   "source": [
    "from sklearn.pipeline import FeatureUnion\n",
    "\n",
    "union = FeatureUnion([\n",
    "        # FeatureUnions use the same syntax as Pipelines\n",
    "    ])"
   ]
  },
  {
   "cell_type": "markdown",
   "metadata": {},
   "source": [
    "This should return a feature matrix with four columns."
   ]
  },
  {
   "cell_type": "code",
   "execution_count": null,
   "metadata": {
    "collapsed": true
   },
   "outputs": [],
   "source": [
    "union.fit(data, star_ratings)\n",
    "trans_data = union.transform(data[:10])\n",
    "assert trans_data.shape == (10, 4)"
   ]
  },
  {
   "cell_type": "markdown",
   "metadata": {},
   "source": [
    "Finally, use a pipeline to combine the feature union with a linear regression (or another model) to weight the predictions."
   ]
  },
  {
   "cell_type": "code",
   "execution_count": null,
   "metadata": {
    "collapsed": false,
    "scrolled": true
   },
   "outputs": [],
   "source": []
  },
  {
   "cell_type": "code",
   "execution_count": null,
   "metadata": {
    "collapsed": false
   },
   "outputs": [],
   "source": [
    "grader.score('ml__full_model', full_est.predict)  # Edit to appropriate name"
   ]
  },
  {
   "cell_type": "markdown",
   "metadata": {},
   "source": [
    "*Extension:* By combining our models with a linear model, we will be unable to notice any correlation between features.  We don't expect all attributes to have the same effect on all venues.  For example, \"Ambiance: divey\" might be a bad indicator for a restaurant but a good one for a bar.  Nonlinear models can pick up on this interaction.  Replace the linear model combining the predictions with a nonlinear one like [RandomForestRegressor](http://scikit-learn.org/stable/modules/generated/sklearn.ensemble.RandomForestRegressor.html#sklearn.ensemble.RandomForestRegressor).  Better yet, use the nonlinear model to fit the residuals of the linear model.\n",
    "\n",
    "The score for this question is just a ratio of the score of your model to the score of a reference solution.  Can you beat the reference solution and get a score greater than 1.0?"
   ]
  },
  {
   "cell_type": "markdown",
   "metadata": {},
   "source": [
    "*Copyright &copy; 2016 The Data Incubator.  All rights reserved.*"
   ]
  }
 ],
 "metadata": {
  "kernelspec": {
   "display_name": "Python 2",
   "language": "python",
   "name": "python2"
  },
  "language_info": {
   "codemirror_mode": {
    "name": "ipython",
    "version": 2
   },
   "file_extension": ".py",
   "mimetype": "text/x-python",
   "name": "python",
   "nbconvert_exporter": "python",
   "pygments_lexer": "ipython2",
   "version": "2.7.13"
  }
 },
 "nbformat": 4,
 "nbformat_minor": 0
}
