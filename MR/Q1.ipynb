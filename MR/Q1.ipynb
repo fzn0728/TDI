{
 "cells": [
  {
   "cell_type": "code",
   "execution_count": null,
   "metadata": {
    "collapsed": true
   },
   "outputs": [],
   "source": [
    "#!/bin/python\n",
    "'''\n",
    "Adapted from https://github.com/Yelp/mrjob\n",
    "'''\n",
    "\n",
    "from mrjob.job import MRJob\n",
    "import re\n",
    "import heapq\n",
    "\n",
    "WORD_RE = re.compile(r\"[\\w']+\")\n",
    "\n",
    "class FirstStep(MRJob):\n",
    "    def mapper(self, _, line):  \n",
    "        for word in WORD_RE.findall(line):\n",
    "            yield (word.lower(), 1)   \n",
    "    \n",
    "    def combiner(self, word, counts): \n",
    "        yield (word, sum(counts))\n",
    "    \n",
    "    def reducer(self, word, counts):  # each reducer get a bunch of tuples that may contain duplicated keys \n",
    "        yield (word, sum(counts))\n",
    "\n",
    "\n",
    "class SecondStep(MRJob):\n",
    "\n",
    "    def reducer_init(self):\n",
    "        self.top=[]\n",
    "    def reducer(self, word, ncount):\n",
    "        heapq.heappush(self.top, (-sum(ncount), word)) #  Or keeping only a heap with 100 and pop\n",
    "  \n",
    "    def reducer_final(self):\n",
    "        for i in range(100):\n",
    "            ncount, word= heapq.heappop(self.top)\n",
    "                yield word, -ncount\n",
    "\n",
    "class SteppedJob(MRJob):\n",
    "'''  \n",
    "A two-step job that first runs FirstStep’s MR and then SecondStep’s MR\n",
    "'''\n",
    "\n",
    "\n",
    "  def steps(self):\n",
    "    return FirstStep().steps() + SecondStep().steps()\n",
    "\n",
    "if __name__ == '__main__':\n",
    "    SteppedJob.run()"
   ]
  }
 ],
 "metadata": {
  "kernelspec": {
   "display_name": "Python 2",
   "language": "python",
   "name": "python2"
  },
  "language_info": {
   "codemirror_mode": {
    "name": "ipython",
    "version": 2
   },
   "file_extension": ".py",
   "mimetype": "text/x-python",
   "name": "python",
   "nbconvert_exporter": "python",
   "pygments_lexer": "ipython2",
   "version": "2.7.13"
  }
 },
 "nbformat": 4,
 "nbformat_minor": 2
}
